{
 "cells": [
  {
   "cell_type": "markdown",
   "metadata": {},
   "source": [
    "# Profitable App Profiles for the App Store and Google Play Store\n",
    "\n",
    "For this project, we are going to pretend that we are working as a data scientist for a company that builds Android and iOS apps. The company builds only free apps and apps that are directed toward an English-speaking audience.\n",
    "\n",
    "\n",
    "Since our company builds only apps that are free to download and install, our main source of revenue depends on in-app ads. Consequently, this means that our revenue for any given app is mostly influenced by the number of users.\n",
    "\n",
    "\n",
    "Our goal for this project is to analyze data to help our imagined developers understand what kinds of apps are likely to attract more users.\n"
   ]
  },
  {
   "cell_type": "markdown",
   "metadata": {},
   "source": [
    "## Opening and Exploring the Data\n",
    "\n",
    "For our purpose of the exercise, we are going to analyze data from two data sets that could be found on the internet.\n",
    "\n",
    "A data set that contains data about approximately ten thousand Android apps from the Google Play, you can find on this link - https://bit.ly/2sXyzPt.\n",
    "\n",
    "A data set that contains data about approximately seven thousand iOS apps from the App Store, you can find on this link - https://bit.ly/2LIiuDO.\n",
    "\n",
    "Let's start by opening the two data sets and then continue with exploring the data."
   ]
  },
  {
   "cell_type": "code",
   "execution_count": 1,
   "metadata": {
    "collapsed": true
   },
   "outputs": [],
   "source": [
    "from csv import reader\n",
    "\n",
    "# Informations about Google Play Store\n",
    "opened_googleplay_file = open('googleplaystore.csv')\n",
    "read_googleplay_file = reader(opened_googleplay_file)\n",
    "googleplay_dataset = list(read_googleplay_file)\n",
    "android_header = googleplay_dataset[0]\n",
    "android_apps = googleplay_dataset[1:]\n",
    "\n",
    "# Informations about Apple Store\n",
    "opened_applestore_file = open('AppleStore.csv')\n",
    "read_applestore_file = reader(opened_applestore_file)\n",
    "applestore_dataset = list(read_applestore_file)\n",
    "iOS_header = applestore_dataset[0]\n",
    "iOS_apps = applestore_dataset[1:]"
   ]
  },
  {
   "cell_type": "markdown",
   "metadata": {},
   "source": [
    "To make it easier to explore the two data sets, we'll first write a function named explore_data() that we can use to explore rows repeatedly and in a more readable way. We'll also add an option for our function to show the number of rows and columns for any data set. "
   ]
  },
  {
   "cell_type": "code",
   "execution_count": 2,
   "metadata": {
    "collapsed": false
   },
   "outputs": [
    {
     "name": "stdout",
     "output_type": "stream",
     "text": [
      "['Photo Editor & Candy Camera & Grid & ScrapBook', 'ART_AND_DESIGN', '4.1', '159', '19M', '10,000+', 'Free', '0', 'Everyone', 'Art & Design', 'January 7, 2018', '1.0.0', '4.0.3 and up']\n",
      "\n",
      "\n",
      "Number of rows:  10841\n",
      "Number of columns:  13\n",
      "['Coloring book moana', 'ART_AND_DESIGN', '3.9', '967', '14M', '500,000+', 'Free', '0', 'Everyone', 'Art & Design;Pretend Play', 'January 15, 2018', '2.0.0', '4.0.3 and up']\n",
      "\n",
      "\n",
      "Number of rows:  10841\n",
      "Number of columns:  13\n",
      "['U Launcher Lite – FREE Live Cool Themes, Hide Apps', 'ART_AND_DESIGN', '4.7', '87510', '8.7M', '5,000,000+', 'Free', '0', 'Everyone', 'Art & Design', 'August 1, 2018', '1.2.4', '4.0.3 and up']\n",
      "\n",
      "\n",
      "Number of rows:  10841\n",
      "Number of columns:  13\n",
      "['284882215', 'Facebook', '389879808', 'USD', '0.0', '2974676', '212', '3.5', '3.5', '95.0', '4+', 'Social Networking', '37', '1', '29', '1']\n",
      "\n",
      "\n",
      "Number of rows:  7197\n",
      "Number of columns:  16\n",
      "['389801252', 'Instagram', '113954816', 'USD', '0.0', '2161558', '1289', '4.5', '4.0', '10.23', '12+', 'Photo & Video', '37', '0', '29', '1']\n",
      "\n",
      "\n",
      "Number of rows:  7197\n",
      "Number of columns:  16\n",
      "['529479190', 'Clash of Clans', '116476928', 'USD', '0.0', '2130805', '579', '4.5', '4.5', '9.24.12', '9+', 'Games', '38', '5', '18', '1']\n",
      "\n",
      "\n",
      "Number of rows:  7197\n",
      "Number of columns:  16\n",
      "\n",
      "\n",
      "Name of columns for Android apps:  ['App', 'Category', 'Rating', 'Reviews', 'Size', 'Installs', 'Type', 'Price', 'Content Rating', 'Genres', 'Last Updated', 'Current Ver', 'Android Ver']\n",
      "\n",
      "\n",
      "Name of columns for iOS apps:  ['id', 'track_name', 'size_bytes', 'currency', 'price', 'rating_count_tot', 'rating_count_ver', 'user_rating', 'user_rating_ver', 'ver', 'cont_rating', 'prime_genre', 'sup_devices.num', 'ipadSc_urls.num', 'lang.num', 'vpp_lic']\n"
     ]
    }
   ],
   "source": [
    "def explore_data(dataset, start, end, rows_and_columns = False):\n",
    "    dataset_slice = dataset[start:end]\n",
    "    for row in dataset_slice:\n",
    "        print(row)\n",
    "        print('\\n') # this add empty row after each row\n",
    "        \n",
    "        if rows_and_columns:\n",
    "            print('Number of rows: ', len(dataset))\n",
    "            print('Number of columns: ', len(dataset[0]))\n",
    "            \n",
    "explore_data(android_apps, 0, 3, rows_and_columns = True)\n",
    "explore_data(iOS_apps, 0, 3, rows_and_columns = True)\n",
    "\n",
    "print('\\n')\n",
    "print('Name of columns for Android apps: ', android_header)\n",
    "print('\\n')\n",
    "print('Name of columns for iOS apps: ', iOS_header)\n",
    "\n",
    "    "
   ]
  },
  {
   "cell_type": "markdown",
   "metadata": {},
   "source": [
    "In the output above, we see that the number of rows and columns, which include information about Android apps is 10841 and 13. The number of rows and columns for iOS apps is 7197 and 16.\n",
    "\n",
    "We also see names of columns. Names of columns which gives us information about Android apps are: 'App', 'Category', 'Rating', 'Reviews', 'Size', 'Installs', 'Type', 'Price', 'Content Rating', 'Genres', 'Last Updated', 'Current Ver', 'Android Ver'.\n",
    "\n",
    "Names of columns which gives us information about iOS apps are: 'id', 'track_name', 'size_bytes', 'currency', 'price', 'rating_count_tot', 'rating_count_ver', 'user_rating', 'user_rating_ver', 'ver', 'cont_rating', 'prime_genre', 'sup_devices.num', 'ipadSc_urls.num', 'lang.num', 'vpp_lic'.\n",
    "\n",
    "Since some of the column names are unclear, you can see the meaning of their names on the links mentioned above.\n",
    "\n",
    "Column names that could help us with our futher analyses are: 'App', 'Category', 'Rating', 'Size', 'Installs', 'Type', 'Content Rating', 'Genres', 'Current Ver', 'Android Ver'.\n",
    "\n",
    "The column names of iOS apps statistic that could help us are: 'track_name', 'size_bytes', 'currency', 'rating_count_tot', 'rating_count_ver', 'user_rating', 'user_rating_ver', 'ver', 'cont_rating', 'prime_genre', 'sup_devices.num', 'vpp_lic'."
   ]
  },
  {
   "cell_type": "markdown",
   "metadata": {},
   "source": [
    "## Data Cleaning\n",
    "\n",
    "In the previous step, we opened and briefly explored our data sets. Now, we need to make sure that data we are going to analyze is accurate - that we don't have inaccurate and duplicate data. \n",
    "\n",
    "The Google Play data set has a discussion section, in which we can see that a certain row has an error - https://bit.ly/2YJtRAO.\n",
    "\n",
    "The App Store data set also has a discussion section in which we can see if there are any reports of wrong data - https://bit.ly/2YPG47a. \n",
    "\n",
    "Below we are going to print and delete incorrect data. "
   ]
  },
  {
   "cell_type": "markdown",
   "metadata": {},
   "source": [
    "### Deleting Wrong Data"
   ]
  },
  {
   "cell_type": "code",
   "execution_count": 3,
   "metadata": {
    "collapsed": false
   },
   "outputs": [
    {
     "name": "stdout",
     "output_type": "stream",
     "text": [
      "['Life Made WI-Fi Touchscreen Photo Frame', '1.9', '19', '3.0M', '1,000+', 'Free', '0', 'Everyone', '', 'February 11, 2018', '1.0.19', '4.0 and up']\n",
      "\n",
      "\n",
      "['App', 'Category', 'Rating', 'Reviews', 'Size', 'Installs', 'Type', 'Price', 'Content Rating', 'Genres', 'Last Updated', 'Current Ver', 'Android Ver']\n",
      "\n",
      "\n",
      "['Photo Editor & Candy Camera & Grid & ScrapBook', 'ART_AND_DESIGN', '4.1', '159', '19M', '10,000+', 'Free', '0', 'Everyone', 'Art & Design', 'January 7, 2018', '1.0.0', '4.0.3 and up']\n"
     ]
    }
   ],
   "source": [
    "#Google Play \n",
    "print(android_apps[10472])\n",
    "print('\\n')\n",
    "print(android_header)\n",
    "print('\\n')\n",
    "print(android_apps[0])"
   ]
  },
  {
   "cell_type": "markdown",
   "metadata": {},
   "source": [
    "In the previous output, we see that 10472 row is incorrect because it doesn't contain category information. Due to incomplete information, we are going to delete this row. \n",
    "\n",
    "In the discussion section for the App Store, we don't find incorrect data."
   ]
  },
  {
   "cell_type": "code",
   "execution_count": 4,
   "metadata": {
    "collapsed": false
   },
   "outputs": [
    {
     "name": "stdout",
     "output_type": "stream",
     "text": [
      "10841\n",
      "10840\n"
     ]
    }
   ],
   "source": [
    "#Google Play\n",
    "print(len(android_apps))\n",
    "del android_apps[10472] #don't run this more than once\n",
    "print(len(android_apps))"
   ]
  },
  {
   "cell_type": "markdown",
   "metadata": {},
   "source": [
    "### Removing Duplicate Entries\n",
    "\n",
    "#### Part One\n",
    "\n",
    "In the discussion section for the Google Play data set, we see that we have some duplicate data. This data should be deleted. For instance, the app Instagram has four entries:"
   ]
  },
  {
   "cell_type": "code",
   "execution_count": 5,
   "metadata": {
    "collapsed": false
   },
   "outputs": [
    {
     "name": "stdout",
     "output_type": "stream",
     "text": [
      "['Instagram', 'SOCIAL', '4.5', '66577313', 'Varies with device', '1,000,000,000+', 'Free', '0', 'Teen', 'Social', 'July 31, 2018', 'Varies with device', 'Varies with device']\n",
      "['Instagram', 'SOCIAL', '4.5', '66577446', 'Varies with device', '1,000,000,000+', 'Free', '0', 'Teen', 'Social', 'July 31, 2018', 'Varies with device', 'Varies with device']\n",
      "['Instagram', 'SOCIAL', '4.5', '66577313', 'Varies with device', '1,000,000,000+', 'Free', '0', 'Teen', 'Social', 'July 31, 2018', 'Varies with device', 'Varies with device']\n",
      "['Instagram', 'SOCIAL', '4.5', '66509917', 'Varies with device', '1,000,000,000+', 'Free', '0', 'Teen', 'Social', 'July 31, 2018', 'Varies with device', 'Varies with device']\n"
     ]
    }
   ],
   "source": [
    "for app in android_apps:\n",
    "    name = app[0]\n",
    "    if name == 'Instagram':\n",
    "        print(app)\n",
    "        \n",
    "    "
   ]
  },
  {
   "cell_type": "markdown",
   "metadata": {},
   "source": [
    "If we examine these rows, we'll see that the main difference happens in the fourth position of each row, which corresponds to the number of reviews. The different numbers show the data was collected at different times. The higher the number of reviews is, the more recent the data should be. We can use this information to build a dictionary in which we are going to set the highest number of reviews for each app. \n",
    " \n",
    "But before we do that, let's see how much duplicate data we have:"
   ]
  },
  {
   "cell_type": "code",
   "execution_count": 6,
   "metadata": {
    "collapsed": false
   },
   "outputs": [
    {
     "name": "stdout",
     "output_type": "stream",
     "text": [
      "Number of duplicate apps:  1181\n",
      "\n",
      "\n",
      "Number of unique apps:  9659\n",
      "\n",
      "\n",
      "Examples of duplicate apps:  ['Quick PDF Scanner + OCR FREE', 'Box', 'Google My Business', 'ZOOM Cloud Meetings', 'join.me - Simple Meetings', 'Box', 'Zenefits', 'Google Ads', 'Google My Business', 'Slack', 'FreshBooks Classic', 'Insightly CRM', 'QuickBooks Accounting: Invoicing & Expenses', 'HipChat - Chat Built for Teams', 'Xero Accounting Software']\n"
     ]
    }
   ],
   "source": [
    "duplicate_apps = []\n",
    "unique_apps = []\n",
    "\n",
    "for app in android_apps:\n",
    "    name = app[0]\n",
    "    if name in unique_apps:\n",
    "        duplicate_apps.append(name)\n",
    "    else:\n",
    "        unique_apps.append(name)\n",
    "            \n",
    "print('Number of duplicate apps: ', len(duplicate_apps))\n",
    "print('\\n')\n",
    "print('Number of unique apps: ', len(unique_apps))\n",
    "print('\\n')\n",
    "print('Examples of duplicate apps: ', duplicate_apps[:15])"
   ]
  },
  {
   "cell_type": "markdown",
   "metadata": {},
   "source": [
    "In the output below we see that numbers of duplicate and unique apps are 1181 and 9659. \n",
    "\n",
    "Now, let's create the dictionary. \n",
    "To do that, we will:\n",
    "\n",
    "- Create a dictionary where each key is a unique app name, and the value is the highest number of reviews of that app."
   ]
  },
  {
   "cell_type": "markdown",
   "metadata": {},
   "source": [
    "#### Part Two"
   ]
  },
  {
   "cell_type": "code",
   "execution_count": 7,
   "metadata": {
    "collapsed": false
   },
   "outputs": [
    {
     "name": "stdout",
     "output_type": "stream",
     "text": [
      "{'Timehop': '161610', 'Your Freedom VPN Client': '74497', 'Color by Number - Draw Sandbox Pixel Art': '10247', 'Whoscall - Caller ID & Block': '552635', 'Naruto Shippuden - Watch Free!': '141515', 'ClanPlay: Community and Tools for Gamers': '34443', 'Chictopia': '360', 'Smart-AC Universal Remote Free': '3270', 'FC Parking': '0', 'Who Viewed My FB Profile': '121', 'Official NBSTSA CSFA Exam Prep': '137', 'CI SA': '0', 'Trazado de tuberia El Tubero': '313', 'Best Park in the Universe': '3904', \"Cook 'n Learn Smart Kitchen\": '205', 'Whist - Tinnitus Relief': '12', 'My Boy! Free - GBA Emulator': '531074', 'Eh Amego!': '13388', 'Droid Zap by Motorola': '2093', 'NPR One': '13217', 'Talking Tom & Ben News': '1131937', 'BD Data Plan (3G & 4G)': '10341', 'IRIS : Customer Service - DZ Algeria': '57', 'Scout GPS Navigation & Meet Up': '120373', 'FM News': '46', 'Words With Friends – Play Free': '711719', 'EZ Cleaner - Booster Optimizer': '6801', 'Car Race by Fun Games For Free': '54221', 'Orbitz - Hotels, Flights & Package Deals': '33256', 'LightInTheBox Online Shopping': '41986', 'My Vodafone (GR)': '12667', 'Public Digital Library': '2087', 'Basketball Dynasty Manager 16': '426', 'Learn To Draw Glow Flower': '7320', 'Al jazeera TV': '9952', 'FOX NOW - On Demand & Live TV': '60841', '2 Amateur ham radio CW Morse code practice keys TX': '6', 'Axe Spinner': '2', 'PTA Content Master': '64', 'Adivina el cantante de Trap y Reggaeton': '1914', 'Sya9a Maroc - FR': '38', 'Medical terms (OFFLINE)': '104', 'Sweet Camera': '71898', 'Mu Mobile BR': '43', 'ASUS Sound Recorder': '34126', 'Fever': '20611', 'DV ASSIST': '1', 'tournaments and more.aj.2': '0', 'Five Tries At Love Dating Sim': '37165', 'S’more - Earn Cash Rewards': '15097', 'FP NFC Rewrite': '17', 'Canvas FL': '36', 'Co-op Credit Union on the Go': '5', 'HESI A2 Pocket Prep': '2108', 'Virtual Walkie Talkie': '21785', 'Onet - news, weather, sport': '13950', 'Asana: organize team projects': '20815', 'Live Hold’em Pro Poker - Free Casino Games': '1123190', 'Used car is the first car - used car purchase, used car quotation, dealer information to': '5097', 'DP & Status for Whatsapp 2018': '293', 'Inf VPN - Global Proxy & Unlimited Free WIFI VPN': '61445', 'All Maths Formulas': '2709', 'News :DW Bangali': '1', 'Trinity Church Deltona, FL': '33', 'Nursing Care Plan NANDA Tables': '4', 'Find Real Love — YouLove Premium Dating': '212626', 'Q Call': '20', 'Free Fur All – We Bare Bears': '256916', 'Photo Lab Picture Editor: face effects, art frames': '1536512', 'FEABIE: Feedees, BBW, BHM & FA': '1212', 'EW Manager': '0', 'A-Z Screen Recorder -': '17', 'Minwa HA ( C.B )': '0', 'Aproveita DF': '0', 'myAir™ for Air10™ by ResMed': '236', 'Home Remedies for Bacterial Infections': '0', 'BX Thailand - Crypto Tracking & Analyse Bitcoin': '2', 'Magazine Luiza Online Shopping': '109124', 'Mortgage by Zillow: Calculator & Rates': '4435', 'Pregnancy Tracker': '2681', 'BGKontakti Vienna BG Kontakti': '111', 'Univision Deportes: Liga MX, MLS, Fútbol En Vivo': '75566', 'My Class Schedule: Timetable': '9348', 'Santa Fe Map and Walks': '2', 'Аim Training for CS': '2328', 'Flights': '18039', '25 Mins Ako ay may lobo Etc Pinoy Kid Song Offline': '0', 'PAC-MAN Pop': '24877', 'Local weather Forecast': '5482', 'Ovia Fertility Tracker & Ovulation Calculator': '53747', 'Renesas PMA': '0', 'EHiN-FH conferenceapp': '5', 'The Vietnam Story - Fun Stories': '438', 'SK Bosnia Online EU Teplice': '2', 'Evolution: Battle for Utopia': '246705', 'Gps Route Finder': '652', 'EZ LED': '19', 'Premier League - Official App': '63782', 'BH Rocking': '13', 'Breathing Zone': '319', 'CK-12 Physics Simulations': '30', 'BT Speed': '3', 'Translate: text & voice translator': '122010', 'I AM RICH PRO PLUS': '36', 'EF English Live Business': '496', 'EU VAT Checker': '7', 'OnePlus Launcher': '24215', 'Mix Tank – Tank Mixing Ag App': '64', 'Channel U': '34', 'Ultimate Public Campgrounds (Over 37,100 in US&CA)': '213', 'Sic Bo Rave': '164', 'CL 2ne1 Wallpaper KPOP UHD Fans': '1', 'BN Pro PercentXL-b Neon HD Txt': '45', 'Ultrasound A-Z': '112', 'FO SODEXO': '0', 'Power BI Ultimate Orientation': '12', 'Voyance du pyromancien': '22', 'Jabong Online Shopping App': '367290', 'My Chakra Meditation': '7586', 'DICT.fr Mobile': '20', 'AE Lucky Fishing': '18277', 'Mercato foot by Maxifoot': '697', 'Download Manager - File & Video': '8780', 'PlusOne': '0', 'Choice Hotels': '17915', 'theCut': '499', 'Screen Off and Lock': '172990', 'MasterDT': '24', 'Talkatone: Free Texts, Calls & Phone Number': '132015', 'iMediaShare – Photos & Music': '104551', 'DB Manager': '3', 'FN pistol model 1903 explained': '1', 'AutoScout24 - used car finder': '186648', 'ARK: Survival Evolved': '51523', 'DP and Status for WhatsApp 2018': '787', 'News-Journal-Daytona Beach, FL': '76', 'BG Advisor™': '7', 'The Maner': '53015', 'Forgotten Hill: Puppeteer': '2917', 'BaBe Lite - Read Quota Saving News': '9548', 'Animal Jam - Play Wild!': '361970', 'Police Lights, Sirens & Follow Me': '737', 'Bu Hangi Film ?': '3', 'Speech Therapy: F': '1', 'GF - BF Chat Stories - Hindi English Convesation': '32', 'Pistachio Launcher for Android P 9.0': '0', 'VAT Checker for EU company': '78', 'SK Enca Direct Malls - Used Cars Search': '1379', 'Baby ABC in box! Kids alphabet games for toddlers!': '9652', 'Batman: Gotham’s Most Wanted!': '16190', 'Hamilton — The Official App': '1575', 'Wallpapers CZ 75 85': '0', 'Lettre de motivation et CV': '979', 'BV Link': '10', 'Twitter': '11667403', 'WE': '18818', 'FO AIRBUS TLSE': '4', 'Codes for GTA San Andreas': '12414', 'BC Wildfire': '27', 'Easy DIY CD Craft Ideas': '7', 'Survival Prison Escape v2: Free Action Game': '44027', 'Savory - Deals,Freebies,Sales': '2375', 'AlReader -any text book reader': '90468', 'Bar-B-Q Rib House': '2', 'EC Taximeter': '162', 'Differential Dx Free': '238', 'BN Pro ArialXL-b HD Text': '24', 'EZ Bluetooth': '789', 'Home workouts - fat burning, abs, legs, arms,chest': '4848', 'MapQuest: Directions, Maps, GPS & Navigation': '53481', 'Monster High™ Minis Mania': '19170', 'Cardi B HD Wallpapers Lock Screen': '2', 'Bita and the Animals - Pelos Ares': '1160', 'CF Themis': '0', 'Sniper Gun Shot 3D: Impossible Missions': '20', 'Mobile Doc Scanner (MDScan) Lite': '46505', 'CS16Client': '8668', 'eBoox: book reader fb2 epub zip': '21336', 'iPair-Meet, Chat, Dating': '182986', 'What Am I? - Brain Teasers': '4537', 'Cathy AH': '0', 'Lavender Emoji Keyboard Theme': '12008', 'Evolution CP & IV Calculator for pokemon': '9465', 'AG Drive 3D': '164', 'Millionaire : Who want to be?': '4396', 'EZ Clock & Weather Widget': '6849', 'Ad Detect Plugin - Handy Tool': '5107', '7 Day Food Journal Challenge': '3346', 'Electricity Bill Calculator BD': '247', 'Fishing Brain & Boating Maps Marine': '3', 'Kids A-Z': '26426', 'Phonto - Text on Photos': '307453', 'TN EC Online New': '7', 'The Report, Fox, Breitbart - Conservative News': '2090', 'Luffs': '487', 'AE Bubble:Offline Bubble Games': '6973', 'Ceasa CE': '0', 'GoPlus Cam': '3484', 'Periscope - Live Video': '479939', 'Dropbox': '1861310', 'Gravidez ao Vivo': '61', 'Bike Unchained': '83545', 'Microsoft To-Do: List, Task & Reminder': '14432', 'Project Fi by Google': '7342', 'Ak-47 Wallpapers 2018': '7', 'Timely Alarm Clock': '258717', 'Call Blocker - Blacklist, SMS Blocker': '30350', 'AC DC Power Monitor': '1', 'Self-help Anxiety Management': '2894', 'ES File Explorer & File Manager 2018': '24', 'Ay Vamos - PJ. Balvin - Piano': '0', 'Mail1Click - Secure Mail': '255', 'MMX Hill Dash 2 – Offroad Truck, Car & Bike Racing': '41975', 'Deportivo Toluca FC': '2317', 'I AM RICH': '1455', 'Au-allstar for KR': '2433', 'iTranslate Translator & Dictionary': '201718', 'BP Tracker': '12', '[root] Pry-Fi': '6736', 'SkyTest BU/GU Lite': '28', 'Chess of Blades (Demo)': '45', 'Draft Simulator for FUT 18': '162933', 'Middlesbrough FC Official': '152', 'Adventure Time Run': '24628', 'Ec Solutions Mobile': '0', 'beIN SPORTS TR': '135763', 'Blibli.com Online Shopping': '171584', 'AK-47 3D': '91', 'AK Blackjack': '4', 'Top Puzzles Volvo FH Trucks': '4', 'CY:ME - real time gps tracker': '8', \"ROMWE - Women's Fashion\": '135043', 'Masha and the Bear: Evolution': '2062', 'Florida Storms': '116', 'Whataburger': '5093', 'EF Coach': '17', 'Speed Boat Racing': '2487', 'Mirror': '367505', 'ABCmouse.com': '50887', 'chat saudi arabia': '11', 'T-shirt design - Snaptee': '29756', 'PagesJaunes - local search': '43935', 'CB Frequencies': '5', 'Learn Bulgarian Free': '3049', 'Theme for Galaxy Note FE': '3', 'ES File Explorer & Manager, Locker Xplorer 2018': '11', 'BM Interventi': '2', 'Anger of stick 5 : zombie': '549039', 'I will return his eggs': '91', 'Lollipop Keyboard L Pro': '5525', 'Facebook': '78158306', 'FANDOM: Arrow and The Flash': '3935', 'FX LITE BO': '73', 'No.Diamond – Colors by Number': '9016', 'Endless Ducker': '8193', 'Ay Up': '11', 'LIVE VIDEO TALK': '478', 'Virtual Brain Surgery Simulator : Kid ER Emergency': '20', 'MyPlate Calorie Tracker': '24094', 'Stack Jump': '118253', 'Maleficent Free Fall': '450013', 'mobileRx Pharmacy': '124', 'Safest Call Blocker': '27540', 'ESPN': '521140', 'Image 2 Wallpaper': '81668', 'My Recipes Cookbook : RecetteTek': '11707', 'Retrica': '6120977', 'ZALORA Fashion Shopping': '142512', 'Learning English for children': '67', 'Égalité et Réconciliation': '58', 'Samsung Max - Data Savings & Privacy Protection': '330468', 'AJ Rafael Music Lessons': '1', 'Fu*** Weather (Funny Weather)': '20001', 'Sweet Snap Lite - live filter, Selfie photo editor': '3116', 'Navy Federal Credit Union': '43313', 'WFVS 2018 | WhatApp Full Video Status & Downloader': '596', 'IRS W-9 form': '492', 'Scale Models DB': '9', 'Adhenarcos - Coupe Adhemar EY 2018': '0', 'A&E - Watch Full Episodes of TV Shows': '29708', 'Neon-R (Red)': '25', 'Pixel art pro-Sand box,paint by number,number draw': '2442', 'S S9 Launcher - Galaxy S8/S9 Launcher, theme, cool': '22503', 'Mermaids': '14286', 'BH Bikes GPS Locator': '0', 'Instachat 😜': '80987', 'Builder Craft: House Building & Exploration': '20807', 'Hallmark Channel Everywhere': '6784', 'Best CG Backgrounds': '8', 'Block Survival Craft:The Story': '7046', 'Muslim Pro - Prayer Times, Azan, Quran & Qibla': '1133393', 'nds4droid': '107778', 'Hertfordshire FA': '0', 'Chat With Artificial Intelligence': '32', 'Call Free – Free Call': '30209', 'lesparticuliers.fr': '96', 'Manga Net – Best Online Manga Reader': '1010', 'Florida Statutes (FL Code)': '5', 'RollerCoaster Tycoon® Classic': '10795', 'DM הפקות': '2', 'Clumsy Santa ER Surgery': '214', 'Esporte Interativo Plus': '27179', 'DN eAvis': '61', 'Z War-Zombie Modern Combat': '62301', 'CA DMV': '5463', 'Zocdoc: Find Doctors & Book Appointments': '6099', 'Quran Khmer Offline AY': '41', 'Google Earth': '2339098', 'Explore British Columbia - BC Travel Guide': '7', '10 Minutes a Day Times Tables': '681', 'CJ IT ApS': '0', 'Hypocam': '12572', 'Resume ( CV Editor )': '416', 'Twice: Buy, Sell Clothing': '1558', 'Gems or jewels ?': '171448', 'INTERKINOIS.CD': '1', 'Truck Transport Raw Material': '632', 'Christian Questions Podcast': '222', 'Phone X Launcher, OS 11 iLauncher & Control Center': '54063', 'BD Online News': '30', 'Tap The Easter Egg!': '111', 'FC Barcelona Fantasy Manager: Real football mobile': '15221', 'BV MAAp': '9', 'Video Downloader': '59089', 'HTC Speak': '6145', 'U - Webinars, Meetings & Messenger': '6601', 'Star Wars™: Galaxy of Heroes': '1461698', 'WAH 247': '0', 'VSCO': '753115', 'Dubai Racing': '16237', 'BN Inscript Improved Input keyboard': '0', 'A hundred': '236', 'DW Spectrum™ IPVMS Mobile': '44', 'English Grammar Test': '4075', 'Theme Android P Design for LG V30': '35', 'AV High School District': '91', 'Filters for B Live': '2280', 'My EZ-Link Mobile': '3187', 'Money Manager Expense & Budget': '134564', 'Ex Explorer : Dual view exproler / file manager': '361', 'Equestria Girl Snapchat Addict': '20', 'EY-Parthenon': '1', 'The Sims™ Mobile': '559597', 'CityMaps2Go Plan Trips Travel Guide Offline Maps': '64713', 'Magana Jari ce Littafi Na Uku : Part 3 of 3': '65', 'Programi podrške EU': '0', 'Spacecraft AR': '83', 'Motocross Beach Jumping 3D': '105954', 'The Visitor': '39895', 'Match™ Dating - Meet Singles': '76646', 'Mobile CS': '13', 'Cheating Tom 3 - Genius School': '90415', 'Electric Car Taxi Driver: NY City Cab Taxi Games': '5886', 'ReadyOp DT': '8', 'Secrets of beauty, youth and health': '77', 'Dance School Stories - Dance Dreams Come True': '91171', 'Door Lock Screen': '5413', 'Morse Trainer for Ham Radio': '265', 'FO RCBT': '5', 'USB BT Wi-Fi Color Terminal Modem': '0', 'Om Waleed Sweets': '556', 'AK-47 Assult Rifle: Gun Shooting Simulator Game': '1', 'EF Financial Control Free': '58', 'QR Scanner & Barcode Scanner 2018': '8226', 'REI – Shop Outdoor Gear': '3878', 'Simple Gallery': '28030', 'Next Launcher 3D Theme Hit-G': '59', 'Websites.co.in Instant Website': '327', 'Easy Hair Style Design': '601', 'Kung Fu Do Fighting': '271214', 'Flipped Out! - Powerpuff Girls': '412', 'Basket Manager 2018 Free': '1520', 'Cloud of Books': '1862', 'F-Secure AV Test': '1250', 'All Language Translator Free': '30105', 'free video calls and chat': '594728', 'CF Appreciation': '11', 'Meme Creator': '38769', 'Calculator Fn': '9', '乗換NAVITIME\\u3000Timetable & Route Search in Japan Tokyo': '50459', 'ClanManagerTT2': '55', 'Invasion: Defend EU': '7', 'FP Connect': '0', 'EZ Usenet for Easynews®': '244', 'Drugs.com Medication Guide': '15875', 'Wallpaper': '69488', 'CK Multimedia - Gaming Accessories': '10', 'Ability DS UNO': '3', 'Microsoft Outlook': '3252896', 'Lollipop Launcher Plus': '131', 'Find Fast Food': '272', 'K-Spapp, the K-Space app': '39', 'Tiny Scanner Pro: PDF Doc Scan': '10295', 'BankMobile Vibe App': '14627', 'End Anxiety Pro - Stress, Panic Attack Help': '33', 'PGA TOUR': '11151', 'B Tiff Viewer': '283', 'Tribeca Shortlist - Handpicked Movies': '801', 'Dr. Panda Hospital': '1091', 'Google app for Android TV': '66', 'Rhythm Patrol': '4207', 'Navy Gunner Shoot War 3D': '103199', 'Will it Crush?': '25825', 'BT (Usage Interne)': '3', 'Offroad Pickup Truck S': '5178', 'AZ PLAYER HD': '24', 'Sports Alerts - NFL edition': '11549', 'Associated Credit Union Mobile': '3290', 'Hustle Castle: Fantasy Kingdom': '584126', 'Word Search multilingual': '32849', 'CA Mobile OTP': '688', 'File Ex - ES File Explorer': '24', 'Edmodo': '200214', 'AE Basketball': '8100', 'FORD V SERIES CALC - NO LIMIT': '2', 'Latest Emmanuella Comedy Video': '60', 'BG Metro - Red voznje': '89', \"Igitabo cy'Indirimbo\": '93', 'JavaScript Editor CR': '114', 'ci': '1691', 'Free Poker Games : Downtown Casino - Texas Holdem': '2032', 'Q': '69126', 'AZ Screen Recorder - No Root': '751911', 'EF English Live for tablets': '1242', 'Video Player All Format': '259003', 'Kik': '2451136', 'Partymasters - Fun Idle Game': '541144', 'Ocala Star Banner, FL': '75', 'DU Flashlight - Brightest LED & Flashlight Free': '73821', 'ASCP® CG Exam Flashcards 2018': '0', 'Wi u Emulator': '468', 'Youboox - Livres, BD et magazines': '4071', 'Miss FQ': '0', 'myLPG.eu': '556', 'Blood Pressure Log - MyDiary': '8348', 'The X-Files: Deep State - Hidden Object Adventure': '22018', 'Spot On Period, Birth Control, & Cycle Tracker': '4102', 'Little Magnet BT': '3703', 'Fotor Photo Editor - Photo Collage & Photo Effects': '597068', 'ViettelPost express delivery': '1225', 'Sat-Fi Voice': '37', 'Masha and The Bear Puzzle Game': '13330', 'T map (te map, T map, navigation)': '15681', 'Photo Editor - BPhoto': '42', 'Amazon FreeTime – Kids’ Videos, Books, & TV shows': '2715', 'Easy Origami Ideas': '1015', 'Offroad Oil Tanker Driver Transport Truck 2019': '542', 'OfferUp - Buy. Sell. Offer Up': '591312', 'Hamburg Transit - Offline HVV DB times and plans': '9', 'USMLE Step 2 CK Cards Lite': '28', 'Piano Free - Keyboard with Magic Tiles Music Games': '785622', 'CJ DVD Rentals': '5', 'BV Taxi Sudan': '8', 'Super Resume Builder Pro, CV': '244', 'РееI Smart Remote MP3 CD Player': '27', 'MapleStory M': '31538', 'IDM Internet Download Manager': '1322', 'DK Browser': '1', 'DS Connector 2.0': '5', 'Bounce Classic': '38297', 'What U See': '712', 'Stickers for Facebook': '11066', 'Paprika Recipe Manager': '1268', 'Battery HD Pro': '17861', 'BANGLA TV 3G/4G': '142', 'Loreal - BA Makeup': '8', 'Pocket Lab Values': '214', 'Audiowalk EB': '0', 'Gear.Club - True Racing': '140658', 'King Burger Dash': '445', 'Newegg Mobile': '35497', 'Verizon Cloud': '185632', 'Google Pay': '348132', 'Trine 2: Complete Story': '252', 'FQ Load Board for Transporters': '0', 'Microsoft News': '31504', 'FB Photographie': '37', 'DC Metro Transit - Free': '6895', 'Santa Fe App': '196', 'CS Customizer': '25', 'GialloZafferano: Recipes': '30224', 'Super AR': '410', 'Xray Scanner Prank': '355837', 'Berner Zeitung': '736', 'Red River CU': '343', 'Tiny Flashlight + LED': '4254879', 'Tinnitus Alleviator': '82', 'San Andreas Crime City Gangster 3D': '9403', 'DV Youth': '5', 'C W Browser': '14', 'eBiblio': '2907', 'AJ Concept Group App': '0', 'Wallpapers HD': '484981', 'FR Forms': '0', 'Next Launcher 3D Theme Hit-B': '83', 'CMB Free Dating App': '48845', 'iProperty Malaysia': '809', 'Fossil Q': '6627', 'CI Remote for Go': '20', 'CX-OF': '18', 'Pixel Z Gunner 3D - Battle Survival Fps': '11408', 'B.T.': '636', 'First Hawaiian Bank Mobile': '232', 'Bejeweled Classic': '203101', 'DM Adventure': '0', 'Series Valley of the Wolves full of part': '731', 'EU Council': '7', 'APagri CD': '5', 'Draw.ly - Color by Number Pixel Art Coloring': '18616', 'Kiosko BS': '55', 'News 5 Cleveland': '1032', 'Thuglife Video Maker': '38824', 'FD VR Store -VR Games and Apps': '105', 'FO PSA Sept-Fons': '2', 'Dr.Dice - Sic bo analyzer': '2', 'Offroad Outlaws': '29168', 'iScore5 AP Psych': '10', 'FC Porto': '15883', 'Deep Breathe BP': '26', 'LEGO ® Batman: Beyond Gotham': '10758', 'CT Neck': '7', 'Freedom CU': '117', 'Draw A Stickman': '29265', 'Volume Control Ex': '5', 'pCloud: Free Cloud Storage': '16149', 'War Z 2': '97071', 'Clash Royale': '23136735', 'Ruler(cm, inch)': '2889', 'Cargo de Praça PM DF': '0', \"Ludo - Don't get angry\": '131', 'Egg: clicker': '40678', 'Rose Gold DW Watch Theme': '1', 'AE 3D Moto 3': '2588', 'Period Tracker, Pregnancy Calculator & Calendar 🌸': '0', 'SignEasy | Sign and Fill PDF and other Documents': '8978', 'Cardio Z': '24', 'EP Horlogerie': '18', 'BV Mobile Apps': '3', 'ZenUI Dialer & Contacts': '437674', 'Calorie Counter & Diet Tracker': '32606', 'VetCode': '28', 'Ringtone Maker': '495905', 'Sonic 4™ Episode I': '8014', 'Allrecipes Dinner Spinner': '61881', 'MI-BP': '1', 'Health and Nutrition Guide': '7895', 'Auto Dslr Photo Effect : Auto Focus Effect': '6', 'ClearCareGo Caregiver': '1746', 'Ag PhD Soybean Diseases': '0', 'FarmersOnly Dating': '1146', 'Google PDF Viewer': '226456', 'Urban Limo Taxi Simulator': '824', 'Bank Of Cyprus': '1514', 'myMail – Email for Hotmail, Gmail and Outlook Mail': '305218', 'あなカレ【BL】無料ゲーム': '6073', 'Kanji test · Han search Kanji training (free version)': '6736', 'I LOVE PASTA': '83875', 'BT Messenger': '97', 'Pixelmania - Color by number & create pixel art': '3588', 'Soccer 2018': '172373', 'Standoff 2': '299046', 'Build.com - Shop Home Improvement & Expert Advice': '118', 'CF Church': '1', 'Paper flowers instructions': '167', 'FE IP': '3', 'Live Weather & Daily Local Weather Forecast': '13426', 'All of the parking lot - National Park application (parking lot search / parking sharing / discount payment)': '1754', 'Texas Holdem & Omaha Poker: Pokerist': '187200', 'Wallpapers FN SCAR H': '4', 'Helix': '2454', 'E.F.JUVENTUD MADRID': '3', 'Myntra Online Shopping App': '1315242', 'FILL EC': '13', 'Do Not Crash': '56664', 'DB LINK RGB': '7', 'Google Assistant Go': '315', 'Solitaire TriPeaks': '446434', 'S Player - Lightest and Most Powerful Video Player': '14224', 'Elif Ba - Learn The Holy Quran': '1491', 'DWWW 774 Ultimate AM Radio': '327', 'Resume Builder - Curriculum Vitae & Resume Maker': '12', 'Mappy - Plan, route comparison, GPS': '15922', 'Champions and Challengers - Adventure Time': '51973', 'Travelmoji': '13', 'HD Wallpaper - Toyota FJ Cruiser': '2', 'Keyboard Theme Dusk BK Purple': '248', 'Essential Anatomy 3': '1533', 'Al-Quran (Free)': '218451', 'Talking Angela': '1828284', 'Vegetable Fun': '3182', 'Wish - Shopping Made Fun': '6212081', 'PUBG MOBILE': '3716278', 'Jumia online shopping': '162655', 'Zoopla Property Search UK - Home to buy & rent': '21195', 'ec-Work': '3', 'Cut the Rope FULL FREE': '2123793', 'Lottery Results: Florida': '582', 'CE SmartApp.com': '0', 'English Hindi Dictionary': '384368', 'Weapons simulator AK-47': '21', 'Cyprus Bus Companion': '112', 'FP Opgaver': '9', 'WalletHub - Free Credit Score, Report & Monitoring': '1311', 'realcommercial.com.au': '128', 'DS Flashlight': '127', 'BI Mobile': '337', 'DS-20000S': '12', 'AE Archer': '8638', 'Offline English Dictionary': '860', 'Live Weather Pro': '892', 'Deep Sleep Battery Saver Pro': '1417', 'BA4You': '87', 'Camera for Android': '240475', \"Picktrainer: India's largest photo contest app\": '1065', 'ODTMobile v4': '3', 'FO Interim': '1', 'Everlance: Free Mileage Log': '7514', 'GPS.AZ': '30', 'Acupuncture Assistant': '492', 'CI View': '2', 'Star Girl - Fashion, Makeup & Dress Up': '556929', 'Big Hunter': '245455', 'PlayMotiv dn edition': '0', 'EO': '0', 'IKO': '167168', 'CM Secure Browser (Authorized)': '1147', 'Konferencija.eu': '3', 'BR': '859', 'Waterfall Live Wallpaper': '112977', 'CK Eorzea Timepiece': '8', 'AV-IPTV': '43', 'Chilindo': '18364', 'Asha Ek Hope - ALS/ MND': '2', '[substratum] Vacuum: P': '230', 'Math Solver': '2250', 'Graphing Calculator': '12388', 'Live Girls Talk - Free Video Chat': '125', 'Filters for Selfie': '8572', 'Quake & Volcanoes: 3D Globe of Volcanic Eruptions': '663', 'CX watcher': '4', 'Dr. Panda Ice Cream Truck Free': '23022', 'Police Car Driver': '83671', 'Barbie Magical Fashion': '328619', 'Citation du Jour - Motivation': '321', 'Cinemark Theatres': '21867', 'The Emirates App': '22776', 'HD Themes Toyota Cruiser70': '0', '6 Pack Promise - Ultimate Abs': '18921', '2-Player Co-op Zombie Shoot': '33', 'The Wall Street Journal: Business & Market News': '40975', 'Delivery yogi.': '90042', 'Dominos Game ✔️': '2903', 'HOLLA Live: Meet New People via Random Video Chat': '216513', 'Google Classroom': '69498', 'cx-33wifi': '63', 'N1.RU - Real estate: apartments, new buildings, lodging': '7619', 'Ek Maratha': '725', 'eBay: Buy & Sell this Summer - Discover Deals Now!': '2788923', 'Eventbrite - Discover popular events & nearby fun': '63773', 'Drugs Dz - Algeria': '187', 'Smart Keyboard Trial': '65597', 'BU Bus Tracker': '57', 'CG Prints': '1', 'Photo Effects Pro': '1494491', 'CP Ready': '56', 'DW - Breaking World News': '17671', 'Web Browser & Fast Explorer': '54768', 'Super Dr. Parking 3D': '4518', 'EO Events': '0', 'Tablet Reminder': '4', 'Defender': '152395', 'My Handbook : EE, EC, EI, E&T, EEE, EECS': '3776', 'Diario Financiero': '30', 'News: DW Español': '25', 'CN TV Canal 3 - Cable Netword': '5', 'Kids Photo Frames': '15700', 'Calm - Meditate, Sleep, Relax': '111455', 'EU Exit poll': '10', 'Tropical Beach Live Wallpaper': '11343', 'Plants vs. Zombies™ Heroes': '379415', 'SecondSecret ‐「恋を読む」BLノベルゲーム‐': '1563', 'BJ Bridge Acol Beginner 2018': '11', 'My Dressing - Fashion closet': '12452', 'Amtrak': '16815', 'B.GOOD': '155', 'EO Bijbel Open': '102', 'Train driving simulator': '91645', 'Banking Calculator': '3704', 'Heart Surgery Doctor - ER Emergency Game': '2510', 'P Icon Pack for Pixel': '38', 'BeSoccer - Soccer Live Score': '152780', 'Sleep as Android Garmin Addon': '114', 'Santa Fe Thrive': '2', 'FJ Toolkit': '1', 'The dollar in mexico': '4254', 'BS Meter (Ad Supported)': '14', 'BNCR Token Celular': '913', 'Shoot Bubble - Fruit Splash': '29445', 'Sworkit: Workouts & Fitness Plans': '109756', 'Battlelands Royale': '105620', 'Tic Tac CK': '3', 'Black Classic DW Watch Theme': '1', 'YAKALA AY': '0', 'SuperPhoto - Effects & Filters': '43296', 'The Video Messenger App': '1200', 'Dagens Nyheter': '2055', 'Eg Call': '91', 'Swift for Facebook Lite': '9562', \"Kinot Tisha'a Be'av - Ashkenaz\": '82', 'Hotwire Hotel & Car Rental App': '10323', 'myvi by': '122', 'Oxford Dictionary of English : Free': '364452', 'BT Communicator': '32', 'Lock Screen Phone X Style OS 11': '1166', 'MyRadar NOAA Weather Radar': '178934', 'RAM Cleanup Ad-Free Option': '457', 'TV+': '98509', 'Earn to Die 2': '1327269', 'Power Pop Bubbles': '104303', 'Ray Financial Calculator Pro': '67', 'Anime Expo 2018': '54', 'Udacity - Lifelong Learning': '22384', 'BK Traffic Control cum Chart': '549', 'Recettes Faciles et Rapides': '95', 'CB Heroes': '5', 'CK Pharmacies': '3', 'V for Vampire - Free': '2772', 'BN MALLORCA Radio': '23', 'German Listening': '18298', 'Bubble Shooter DX': '636', 'Sygic Car Navigation': '162049', 'Mobile Kick': '111809', 'BG LINKED (BGLINKED)': '22', 'tTorrent - ad free': '2976', 'To-Do List Widget': '7801', 'amazer - Global Kpop Video Community': '1215', 'OrthoFlow': '0', 'Car Driving Simulator Drift': '19816', 'Learn German: Die Bienenretter': '25', 'Long Realty AZ Home Search': '132', 'AX Selfie': '10', 'Tunnel Town': '74744', 'DF-CAM': '2', 'EP Home Energy Hub': '4', 'FNH Payment Info': '0', 'AutoScout24 Switzerland – Find your new car': '13372', 'Analog and Digital Clock AW-7PRO': '4', 'Casa CF': '12', 'Learn programming': '12733', 'Night: DU Launcher Theme': '1419', 'DIY Garden Ideas': '3309', 'Dr. Panda Farm': '265', 'Bike Racing 3D': '951435', 'Garena Free Fire': '5534114', 'PIP-Camera FN Photo Effect': '8', 'CI Crew': '1', 'HD Video Downloader : 2018 Best video mate': '430643', 'Pixel Oreo/P Dark White AMOLED UI - Icon Pack': '18', 'Bu the Baby Bunny - Cute pet care game': '37122', 'Gaydorado': '8419', 'CoinMarketApp - CryptoCurrency Portfolio, News,ICO': '20535', 'Monica Toy TV': '6188', 'Summer Madness': '4', 'Recipe Keeper': '1962', 'NATIVE ENTERTAINMENT MAGAZINE - ISSUE # 1': '0', 'WKBW 7 Eyewitness News': '509', 'Empires and Allies': '398746', 'Kids Educational :All in One': '1455', 'Invoice 2go — Professional Invoices and Estimates': '16422', 'BF CG Abstract Pictures': '6', 'Lifetime - Watch Full Episodes & Original Movies': '35931', 'Makeup Photo Editor: Makeup Camera & Makeup Editor': '10525', 'Messenger': '68025', 'DH Karaoke': '8', 'Rider': '655145', 'CL 2NE1 Wallpaper KPOP Fans HD': '7', 'The Tribez: Build a Village': '1852384', 'The Walking Dead: Our World': '22435', 'Color by Number: Pixel Art': '12034', 'BSC IT': '847', 'Q-Tech Companion App': '17', 'Angry Birds Space HD': '43645', 'Ei Somoy & Dainik Sangbad & Statesman (PDF)': '4', 'Technutri - calorie counter, diet and carb tracker': '70416', 'Zoho Reports - Mobile BI': '45', 'CL Strength': '3', 'Dual N-Back - Brain game': '817', 'Wallpapers DAF CF 85 Trucks': '0', 'Meme Generator': '3771', \"Fill 'er Up\": '58', 'K-Otic Universe': '55', 'SCRABBLE': '172281', 'Fast Download Manager': '18478', 'bq magazine': '2', 'Green Build - An unofficial Travis CI client': '7', 'Create My App': '0', 'Advanced EX for KIA': '257', 'Tozer Devotional -Series 1': '5', 'DB HOME': '5', 'MOTOBAZAR EU': '1', 'X-Wing Squadron Builder': '5898', 'weather - weather forecast': '11118', 'BN Mi Banco': '597', 'Ao Oni2': '21223', 'Minecraft': '2376564', 'Sago Mini Babies': '253', 'EC SPORTS': '1', 'Aj Di Awaaz': '9', \"Kids Fang - Infant Videos, Children's Songs, Fairy Tales, Lullaby Collections\": '349', 'All-in-One Mahjong 3 FREE': '566', 'BK Travel Solutions': '1', 'Doctor Games For Girls - Hospital ER': '51', 'Technology CM Locker Theme': '10093', 'Town of Princeton, BC': '4', 'Flipkart Online Shopping App': '6012719', 'High Blood Pressure Symptoms': '531', 'FotMob - Live Soccer Scores': '410395', 'Rail Planner Eurail/Interrail': '3596', 'Archery Physics Objects Destruction Apple shooter': '6026', 'O-Star': '59', 'BZ Fingers': '15', 'EC MANAGER': '2', 'uCiC- Videos and Photos on demand': '2052', 'News.aw': '1', 'CF-Bench Pro': '159', 'Geo Tracker - GPS tracker': '42849', 'NissanConnect® EV & Services': '853', 'ixigo Cabs-Compare & Book Taxi': '11838', 'EG-Boost': '25', 'DS photo': '7335', 'Smart Launcher Pro 3': '40704', 'New Launcher 2018': '142393', 'Manga AZ - Manga Comic Reader': '126', 'Cheap hotel deals and discounts — Hotellook': '7153', 'CR Best Decks': '34', 'CV Builder': '203', 'Magical Insta DP': '2', 'Real Sheet ∞: Pathfinder + DT': '2', 'Cardiac diagnosis (heart rate, arrhythmia)': '8', 'ChangeDA - Cours du DZD sur le marché parallèle': '188', 'Google Keep': '691474', 'Bono’s Pit Bar-B-Q': '3', 'CP Installer App': '4', 'Trauma CT Head Rules': '2', 'Fitness & Bodybuilding': '95201', 'CB Pay': '198', 'CompactiMa EC pH Calibration': '0', 'Monefy - Money Manager': '111254', 'ZombieVital DG': '10', 'Bluetooth Auto Connect': '20829', 'LightMeter (noAds)': '617', 'World Series of Poker – WSOP Free Texas Holdem': '910051', 'BG-FLEET': '0', 'DZ Blagues': '580', 'FrostWire: Torrent Downloader & Music Player': '253207', 'Facial Wrinkle Reduction': '184', 'Virtual Eye AI': '26', 'DZ-JOKER': '6', 'Microsoft Power BI–Business data analytics': '1819', 'Chess School for Beginners': '879', 'Robin - DC Movie Collection': '1', 'Fists For Fighting (Fx3)': '138739', 'Apple Daily Apple News': '41490', 'UK Girls Mobile Numbers': '1', 'Epson iProjection': '3930', 'ER Blood Draw Doctor & Surgeon': '154', 'DC-014': '3', 'FAST EO': '1', 'Smokes Guide for CS:GO': '445', 'swissinfo.ch': '271', 'HD Themes Toyota Cruiser 60': '0', 'Jurassic Life: T Rex Simulator': '1088', 'Atlan3D Navigation: Korea navigator': '22063', 'Co-op Taxi': '168', 'Theme eXp - Black Z Light': '29540', 'Beauty Camera - Selfie Camera': '113715', 'DSLR camera - Auto Focus and Blur Professional': '30', 'HTC Calendar': '6949', 'Blur Image Background': '129272', 'Tv Br News': '4', 'Text SMS': '349384', 'Doctor Finder CY': '57', 'Toyota Cruisers & Trucks Mag': '10', 'Waiting For U Launcher Theme': '5599', 'Vote for': '193381', 'Gnoche entertainment news · sports news is also free': '54256', 'Wipe out': '30', 'Swamp Attack': '2119235', 'NTES': '165299', 'Results for FL Lottery (Florida)': '1', 'Proverbes du monde': '38', 'Go Go Coupons - Free Coupon and Discount': '4', 'Speed Racing Ultimate 2': '66894', 'Six Packs for Man–Body Building with No Equipment': '2880', 'League of Stickman 2018- Ninja Arena PVP(Dreamsky)': '32496', 'RetroSelfie - Selfie Editor': '106080', 'LIKE – Magic Video Maker & Community': '921868', 'Video Downloader - for Instagram Repost App': '332623', 'RD/FD Calculator': '92', 'Advanced EX for HYUNDAI': '168', 'Down Dog: Great Yoga Anywhere': '28945', 'AX!OM': '5', 'Weather 14 Days': '279917', 'Calculator Plus Free': '679912', 'Real DJ Simulator': '68664', 'DreamMapper': '10710', 'SpeedApp EV': '0', 'CR Magazine': '1', 'TANGEDCO Mobile App (Official)': '2915', 'Habbo - Virtual World': '159398', 'Sokoban Land DX': '46', 'ExtendedCare Virtual Care Room': '0', 'Real AI': '949', 'Wi-Fi Rabbit Unlock Key': '142', 'Samsung Notes': '15368', \"Sketch 'n' go\": '3965', 'Injustice 2': '504765', 'CI Dictionary': '31', 'MARVEL Contest of Champions': '2468915', 'Homeopathic Medicine Finder': '10', 'FIFA 16 Soccer': '820577', 'Indeed Job Search': '674730', 'Insta Square Profile DP': '42', 'AntennaPict β': '15439', 'DMC ER Now': '6', 'Official Madhuban Murli': '301', 'The Great Wobo Escape Ep.1': '11', 'EY Staff ENTERTAINER': '218', 'Roman Clock AW-7': '52', 'Hactar Go': '97', 'Casino X - Free Online Slots': '30515', 'Sound Recorder: Recorder & Voice Changer Free': '14552', 'QRZ Assistant': '1044', 'Kovax Europe B.V.': '17', 'Call of Duty:Black Ops Zombies': '13004', 'My Diet Diary Calorie Counter': '18539', 'CT Scan Cross Sectional Anatomy': '10', 'aa': '886418', 'PLANK!': '7196', 'Lie Detector Test Prank': '222308', 'OWLIE BOO': '834', 'FK Senica': '0', 'Augment - 3D Augmented Reality': '25195', 'Club': '3786', 'TNEB Bill Online Payment (Tamil)': '7', 'Info BMKG': '21404', 'Wide address pocket prep': '513', 'Alabama Ag Credit Ag Banking': '0', 'Moco - Chat, Meet People': '313769', 'Castle Clash: Epic Empire ES': '584070', 'CA UIM Mobile': '54', 'Weather Data CH': '15', 'Sight Words Pre-K to Grade-3': '1185', 'Ovia Parenting & Baby Development Tracker': '6185', 'HOW TO WRITE A CV': '489', 'Mingle - Online Dating App to Chat & Meet People': '15081', 'Florida Beach Wallpapers HD': '3', 'CR Fans: Mazos, Clanes y Grupos': '219', 'CE on the go': '79', 'EX File Explorer File Manage Pro': '1', 'Yahoo! Weather for SH Forecast for understanding the approach of rain clouds Free': '7457', 'Counter Online FPS Game': '41089', 'Moto Rider': '115176', 'BG TV Program': '1', 'BZ Conferencing': '7', 'PPCNP-BC Pocket Prep': '3', 'All Video Downloader 2018': '7557', 'Space Shooter : Galaxy Attack': '169661', 'HD VideoDownlaoder For Fb : XXVideo Downloader': '61', 'Valencia CF Wallpapers 4 Fans': '4', 'Township': '4451317', 'Pony Friends \\U0001f984 - Beepzz racing game for kids': '114', 'ER Surgery Simulator': '19601', 'BW-IVMS': '0', 'FR Roster': '174', 'FilterGrid - Cam&Photo Editor': '126338', '2019 Tricks Es File Explores': '4', 'CJ Fallon eBook Reader': '76', 'I am Rich Person': '134', 'Bowers & Wilkins DB Subwoofers': '21', 'CR -Call Recorder': '4', 'Dating App, Flirt & Chat : W-Match': '175722', 'MealLogger-Photo Food Journal': '217', 'File Viewer for Android': '7063', 'Restaurant Finder': '12564', 'FE Electric & Comp Engineering': '2', 'ICQ — Video Calls & Chat Messenger': '697939', 'PIP Selfie Camera Photo Editor': '156322', 'Chrome Canary (Unstable)': '21866', 'Hitman Sniper': '408292', 'SoloLearn: Learn to Code for Free': '256079', 'Calorie Counter - MyFitnessPal': '1873523', 'CG Freelancer': '10', 'Tencent Video - Supporting the whole network': '13205', 'Race Manager FP': '196', 'E2CR CL': '0', 'How do I take care of my child?': '190', 'Cardinal Quest 2': '19207', 'Wonder5 Masters R': '1655', 'DT Fieldlink': '2', 'SnakeBite911 ER': '1', 'URBANO V 02 instruction manual': '114', 'FK': '1517', 'Free Dating App - YoCutie - Flirt, Chat & Meet': '97699', 'CF SHOP!': '88', 'Theme Android P Black for LG G7 & V35': '5', 'Pro App for Craigslist': '5618', 'EP Search and Find': '20', 'ep-liggare - Elektronisk personalliggare': '0', 'Cymath - Math Problem Solver': '10159', 'CYANOGEN. Rent, buy an apartment, a room, a cottage 3+': '37711', 'Ramfer - CNC Lathe G-code Tool': '5', 'BS Films': '1', 'ZenUI Safeguard': '100', 'BU HANGİ ŞARKI ? - 2018': '4', 'Canva: Poster, banner, card maker & graphic design': '174531', 'BK Manager': '19', 'Larry H Miller Automotive': '67', 'Smokes for CS:GO': '3253', 'FL Lottery Results': '1481', 'iTooch Mathématiques CP': '1018', 'Word Hunt': '59', 'CD View': '0', 'World Racers family board game': '4', 'I am Dentist - Save my Teeth': '7443', 'FD Fotografia': '2', 'I am rich(premium)': '472', \"Children's Stories 2018 - The Lion Come Lion\": '39', 'Offroad Pickup Truck R': '6367', 'DV Lottery Photo': '23', 'G-Force Driving Assistant': '10', 'BluTV': '28835', 'FP BW LCD View': '16', 'Burner - Free Phone Number': '14873', 'COMSATS BOOK STORE FOR BS(CS)': '15', 'Mehmet Emin Ay İlahileri': '0', 'Q downloader : download your social media videos': '41', 'FA Player Essentials': '7', 'Daily DM': '51', 'F-Secure Freedome for Business': '183', 'DZ Urgences': '16', 'Paramedic Protocol Provider': '171', 'EMT Tutor NREMT-B Study Guide': '625', 'Moco+ - Chat, Meet People': '1546', 'Pink Roses Live Wallpaper': '33074', 'YouNow: Live Stream Video Chat': '309872', 'Monster Fishing 2018': '32881', 'Gametime - Tickets to Sports, Concerts, Theater': '8800', 'Contacts': '66602', 'SAY-U': '1011', 'Virtual DJ Mixer': '2013', 'FB Live': '27', 'Johns Hopkins Guides ABX...': '73', 'DW Maps': '35', 'Diamond Engagement Rings': '0', 'DS-11 form': '3', 'I am Nose Doctor -Save my Nose': '3133', 'Multicraft Miner Exploration': '14563', 'fi': '691', 'Toy Battle Z': '133', 'Sleep as Android Gear Addon': '961', 'dk Verk': '9', 'Black People Meet Singles Date': '10212', 'Inch/cm/Foot Conversion': '319', 'BW-Joseki': '705', 'Photo Editor by BeFunky': '192851', 'OST)': '4444', 'DW Event': '9', 'Barcode Scanner': '3945', 'CheckPoints 🏆 Rewards App': '23187', 'EO.TRADE - Coin sale': '95', 'Zombie Tsunami': '4921451', 'Au Rubis les bijoutiers': '0', 'Artificial intelligence': '3', 'Trucker Path – Truck Stops & Weigh Stations': '38375', 'EZ Switch Widget': '2412', 'PopStar': '13', 'FL Drone 2': '41', 'Adobe Acrobat Reader': '3016305', 'DF Night Selfies': '194', 'Expense IQ Money Manager': '21570', 'Crusaders Quest': '475020', \"CJ's Tire & Automotive\": '5', 'Q Operator': '60', 'Soccer Manager 2018': '63779', 'Poly Art: Paint by Sticker, Color by Number Puzzle': '2100', 'EZ-VPNGate': '36', 'Pregnant Mom Surgery Newborn Twins Baby Birth Care': '95', 'Jobs in Canada - Emplois au Canada': '2', 'DuraSpeed': '5431', 'Text Me: Text Free, Call Free, Second Phone Number': '344921', 'easyFocus': '3396', 'Fantasy Football Manager (FPL)': '63650', 'Manage My Pain Pro': '726', 'Offroad Car Q': '24668', 'Hipmunk Hotels & Flights': '16734', 'Relax with Andrew Johnson Lite': '2885', 'Penny Finder': '470', 'To Do List': '253155', 'Photo Collage Editor': '1028637', 'Selfie Camera Photo Editor & Filter & Sticker': '187', 'Truyện Vui Tý Quậy': '144', 'Johor DT Lock Screen': '13', 'i am EB': '1', 'OkCupid Dating': '285838', 'HD Widgets': '58617', '감성학원 BL 첫사랑': '190', 'KMTV 3 News Now': '265', \"CJ'S TIRE AND AUTO INC.\": '5', 'J - Style Pro': '74', 'EO RAIPUR': '1', 'CB News': '7', 'ES Dark Theme for free': '7851', 'Legend - Animate Text in Video': '228737', 'Dubsmash': '1971777', 'The Q - Live Trivia Game Network': '1486', 'Ivanti AE Agent': '1', 'Fandango Movies - Times + Tickets': '243747', 'HD Themes Toyota Cruiser 80': '2', 'BBC Sport': '18679', 'Leo and Tig': '47644', 'Music Collector Inventory Organizer UPC Discogs': '155', 'bp e-store': '52', 'Radiology CT Anatomy': '345', 'HTC Sense Input - CZ': '87', 'METEO FRANCE': '100994', 'Barca News - FC Barcelona, World Foot & Transfers': '160', 'Microsoft PowerPoint': '618798', \"BJ's Wholesale Club\": '4099', 'All Video Downloader': '165723', 'Educational Games for Kids': '7050', 'Floor Plan Creator': '36639', 'Run R Script - Online Statistical Data Analysis': '8', 'ROBLOX': '4450890', 'Xbox': '556659', 'Quik – Free Video Editor for photos, clips, music': '696665', 'Bokeh (Background defocus)': '50109', 'CF Townsville': '4', 'D.C. Driving/Walking Tours': '0', 'Alarm Clock Free': '59973', 'Learn R Programming Full': '11', 'Bi-Tank Ads Free': '0', 'AI Draw | Art Filter for Selfie': '20', 'Bootable Methods(USB-CD-DVD)': '37', 'Deck Builder & Analyzer for CR': '52', 'A/C Universal Remote Control': '3263', 'Squadron - Bullet Hell Shooter': '177542', 'Chinese Chess ( Xiangqi Free )': '963', 'PayPal': '659760', 'DM Screen': '283', 'BIGO LIVE - Live Stream': '2349421', 'FE EN ACCIÓN RADIO': '1', 'AO-EVENT': '0', 'Japanese / English one-shop search dictionary - Free Japanese - English - Japanese dictionary application': '61', 'Airplane Fly Hawaii': '83427', 'Chelsea FC Official Keyboard': '91397', 'FAV KWGT': '88', 'Best Western To Go': '2719', 'Deck Analyzer for CR': '2630', 'BJ’s Mobile App': '4722', 'CQ Mobile': '36', 'Jigsaw Puzzles Bus Scania BF': '3', 'Radio Belo Horizonte': '0', 'DEER HUNTER 2018': '955656', 'ch-mm Dict': '0', 'Horror Hospital': '63986', 'Five Nights at Neighbor House': '2180', 'BG MUSIC PLAYER - MUSIC PLAYER': '0', 'Khan Academy': '85375', 'Tour BD (Bahir Dar Map)': '49', 'Free Dating App - Meet Local Singles - Flirt Chat': '825', 'Sic Bo Online! Free Casino': '488', 'Ap Video Downloader for fb New 2018': '676', 'DW Cleaner': '7', 'Star Wars™: Force Arena': '228130', 'CPU-Z': '295430', 'Download Blazer': '34612', 'App Lock: Locker w/ fingerprint, Parental Control': '37607', 'Golden HoYeah Slots - Real Casino Slots': '201537', \"pixiv comic - everyone's manga app\": '18814', 'BW Taxi': '67', 'G-SHOCK+': '4710', 'AH Kollection for KLWP': '644', 'DHV accountancy BV': '0', 'eG Monitor': '8', 'Tester EP': '9', 'Soldiers of Glory: Modern War': '64815', 'Phone Clean Best Speed Booster': '81502', 'Stolica.bg': '1', 'Digital TV': '5241', 'Color by Number – New Coloring Book': '142308', 'Gold Teeth Photo Editor': '1022', 'DS finder': '2596', 'Time Planner - Schedule, To-Do List, Time Tracker': '2537', 'energyly (TNEB,BESCOM,MH,DL..)': '627', 'FREE LIVE TALK': '776', 'A-Z Punjabi Songs & Music Videos 2018': '367', 'CM Security Open VPN - Free, fast unlimited proxy': '85496', 'DC N COMPANY ENTERTAINMENT RADIO!': '22', 'PulsePoint AED': '330', 'Navmii GPS USA (Navfree)': '5960', 'EmuBox - Fast Retro Emulator': '1576', 'SweetRing - Meet, Match, Date': '51698', 'Domofond Real Estate. Buy, rent an apartment.': '39123', 'Ai La Trieu Phu - ALTP Free': '776', 'Theme for New Android P': '13', 'CV Templates 2018': '13', 'The translator': '23805', 'DP Editor': '18', 'Stick War: Legacy': '811040', 'Babbel – Learn Spanish': '54798', 'Bing Ads': '1828', 'Foot Mercato: transfers, results, news, live': '39878', 'FP Legacy': '3', 'GATE CS Engineering 2019 Exam Prep App': '162', 'Fernanfloo': '526595', 'Sync for reddit': '62740', 'Interpret Chest X-Ray With 100 Cases': '5', 'Soul Knight': '292164', 'Bx Access 4d': '1', 'Gyft - Mobile Gift Card Wallet': '9701', 'Field Goal Tournament': '2980', 'HPlus': '1786', 'Benefits of olive oil with garlic': '25', 'NB|AZ Business Mobile Banking': '44', 'Büfe BU': '14', 'Blood Pressure Monitor': '17', 'Contacts+': '190613', 'BW App': '48', 'Daily Yoga - Yoga Fitness Plans': '70769', 'All States Ag Parts': '68', 'Coupe Adhémar EY 2017': '6', 'Patchcord.ca Inc. App Launcher': '0', 'Q Quiz SK': '159', 'Paris ci la Sortie du Métro': '453', 'ASUS PixelMaster Camera': '626366', 'ES Task Manager (Task Killer )': '171771', 'Online Kerala EB Bill Pay': '37', 'Online Girls Chat': '5323', 'WowBox': '101957', 'MARVEL Future Fight': '2354042', 'CY Security Antivirus Cleaner': '75140', 'Map Coordinates': '16657', '30-Day Ab Challenge Tracker': '224', 'GetThemAll Any File Downloader': '91186', 'Car Parking Nissan GT-R R35 Simulator': '513', 'BQ Services': '5004', 'Antillean Gold Telegram (original version)': '2939', 'Racing Moto': '697805', 'E.G. Chess Free': '505', 'BM Tahmin: Ücretsiz İddaa Tahminleri': '7', 'Thai Sic Bo': '14283', 'MultiPicture Live Wallpaper dn': '505', 'Meet – Talk to Strangers Using Random Video Chat': '60562', 'Rosetta Stone: Learn to Speak & Read New Languages': '172508', 'AF Comics Reader - Free': '5', 'Farsi Keyboard': '9716', 'Length Converter: convert mm,cm,m, feet,yard,mile': '76', 'My CookBook (Recipe Manager)': '22071', 'Chat Kids - Chat Room For Kids': '6', 'Design innovation CD Cassette': '5', 'Victoria, BC | Tour City': '20', 'AE Video Poker': '721', 'Manicure - nail design': '119', 'Mobile FC': '5015', '3D Tennis': '1008012', 'FK Utenis Utena': '0', 'EO SouthAsia': '8', 'Leica Q': '133', 'DroidAdmin for Android - Advice': '811', 'Toy Pop Cubes': '5761', 'Vonage Mobile® Call Video Text': '29208', 'The wall': '35563', 'På sporet ABC (BM)': '2', 'Bg+ Call Blocker': '80', 'Nike Training Club - Workouts & Fitness Plans': '251618', 'Dr. D. Y. Patil Vidyapeeth GBS': '3', 'Stock Quote': '4344', 'loans.com.au Smart Money': '30', 'Mail.Ru - Email App': '837842', 'FD VR - Virtual Reality Camera': '1007', 'EV Bon Dictionary': '11', 'Telegram': '3128611', 'Desperate Housewives: The Game': '10440', 'Trinomial Factoring Wizard': '22', 'Turbo Downloader': '23348', 'Pencil Photo Sketch-Sketching Drawing Photo Editor': '16523', 'AQ Guards': '0', 'BW t&t': '2', 'BL ONLINE PERSONAL TRAINING': '0', 'Abs, Core & Back Workout Challenge': '3908', 'Android P Stock Wallpapers': '16', 'Lerni. Learn languages.': '3847', 'Devise Dz': '26', 'Where Am I At?': '39', 'Easy Installer - Apps On SD': '23055', 'Kitchen Stories - Recipes & Cooking': '22015', 'Fast News': '84957', 'MDLIVE: Talk to a Doctor 24/7': '650', 'Magnum 3.0 Gun Custom SImulator': '16815', 'AC CE BJT Actorial': '1', 'Profile pictures for WhatsApp': '10786', 'HD Themes Toyota Cruiser 200': '3', 'Shortcuts for After Effects': '464', '¿Es Vegan?': '438', 'Thistletown CI': '1', 'Reminder': '7074', 'LifePoint Church - FL': '1', 'Unseen - No Last Seen': '103909', 'Furrion ES Control': '26', '8 Ball Pool': '14201891', 'Citi Mobile®': '78306', 'Real time Weather Forecast': '4184', 'Hay Day': '10053186', 'ES-1': '6', 'Shopfully - Weekly Ads & Deals': '279428', 'Fox Business': '2594', 'EG Groups': '0', '4K Wallpapers and Ultra HD Backgrounds': '7583', 'Ai illustrator viewer': '486', 'Free Books - Spirit Fanfiction and Stories': '116507', 'Video Player All Format for Android': '3930', 'Mini Motor Racing WRT': '107497', 'Learn To Draw Kawaii Characters': '55', 'All-in-One Mahjong 3': '38', 'Stack It AR': '1363', 'Bo Aung Din': '110', 'Cricbuzz - Live Cricket Scores & News': '838765', 'Masha and the Bear: House Cleaning Games for Girls': '43852', 'Ag Trucking Mobile App': '0', 'iWnn IME for Nexus': '2394', 'Toca Life: City': '31100', 'Coloring book moana': '974', 'The Legacy (Full)': '144', 'SQLite DB Reader': '301', 'Yuzu eReader': '250', 'CK Employee Portal': '7', 'Miraculous Ladybug & Cat Noir - The Official Game': '185382', 'Direct Express®': '6156', 'Angry Birds Classic': '5566908', 'SW-100.tch by Callstel': '1926', 'Upohar BD': '9', \"Girls' Frontline\": '2055', 'Calorie Counter by FatSecret': '229214', 'Freeform – Stream Full Episodes, Movies, & Live TV': '29229', 'DM for IG 😘 - Image & Video Saver for Instagram': '55', 'Nature Sounds': '28588', 'Good room network fast rent': '2758', 'DG Cars': '122', 'CW Beacon for Ham Radio': '10', 'Jungle Monkey Run': '54082', 'Ez Mirror Match': '3344', 'EMT Study - NREMT Test Prep': '35', 'Huji Cam': '40289', 'Soccer Star 2018 Top Leagues · MLS Soccer Games': '652940', 'Sir C J New Primary School': '3', 'PCOS Guide - Fight PCOS naturally': '0', 'Black & White Camera - Lovely BW': '329', 'S Launcher Pro for Galaxy': '47', 'Adobe Photoshop Fix': '28390', 'SimCity BuildIt': '4218587', 'Schengen/EU App': '24', \"Drag'n'Boom\": '133180', 'Candy Camera - selfie, beauty camera, photo editor': '3368705', 'C Programming - Learn Code, Theory & Discuss': '2751', 'Flag of European Union': '36', 'Röhrich Werner Soundboard': '2249', 'Dog Licks Screen Wallpaper': '63624', 'CARS.bg': '276', 'APUS Launcher - Theme, Wallpaper, Hide Apps': '5783441', 'Yahoo! transit guide free timetable, operation information, transfer search': '104800', 'AppLock': '4931562', 'Numerica CU': '472', 'ABC Kids - Tracing & Phonics': '36606', 'Extreme X Ray Robot Stunts': '10806', 'Funny Ringtones': '7146', 'Karta GPS - Offline Navigation': '53562', 'Free Dating App & Flirt Chat - Cheers': '667', 'Network Signal Info': '33926', 'TN Patta Citta & EC': '48', 'Truck Simulator DT 3D': '110', 'C++ Tutorials': '358', 'RETRO Shocked DW-6000': '13', 'App Seguridad AV Villas': '251', 'Hungry Shark Evolution': '6074627', 'Curriculum vitae App CV Builder Free Resume Maker': '4571', 'CM Locker - Security Lockscreen': '3090727', 'Video Downloader for Facebook': '894435', '101 C Programming Problems': '498', 'TFO BZ Lessons': '75', 'True Contact - Real Caller ID': '32283', 'EY Digital Direct': '0', 'Galaxian(FC)': '2', 'FK Atlantas': '2', 'SPG: Starwood Hotels & Resorts': '8258', 'the Egg - crack the egg': '211', 'Team CF': '0', 'Wallpapers Truck DAF CF': '19', \"I'm Rich/Eu sou Rico/أنا غني/我很有錢\": '0', 'Command & Conquer: Rivals': '0', 'J. Cole Albums (2007-2017)': '7', 'X Launcher Pro: PhoneX Theme, OS11 Control Center': '801', 'LiveMe - Video chat, new friends, and make money': '457197', 'Quiz for Clash Royale™': '3788', 'F-Gas Solutions': '127', 'HHS': '0', 'EY India Tax Insights': '87', 'BSPlayer ARMv7 VFP CPU support': '9966', 'Moto LED for Moto X & E [Root]': '4082', 'AJ Styles HD Wallpapers': '48', 'Expedia Hotels, Flights & Car Rental Travel Deals': '136633', 'AX Battery Saver': '4546', 'YAZIO Calorie Counter, Nutrition Diary & Diet Plan': '117176', 'BL Flowers Digital': '21', 'CD Supply': '0', 'Best CG views': '4', 'Terminal Emulator for Android': '113951', 'M Notifier for M Launcher': '2803', 'AC Freedom': '537', 'Be like Bill Generator': '67', 'CB Martial Arts': '0', 'Barcelona FC Noticias Live': '2', 'Nusenda CU– Mobile Banking': '805', 'M Theme - Dark Green Icon Pack': '202', 'Ultimate BlackJack 3D FREE': '1686', 'Download Manager': '79132', 'Anno: Build an Empire': '33944', 'Zumper - Apartment Rental Finder': '11200', 'Safety stepping stone': '4212', 'RULES OF SURVIVAL': '1343866', 'Keypad Lock Screen': '428581', 'World Webcams': '7896', 'CNBC: Breaking Business News & Live Market Data': '24666', 'Who Viewed My Facebook Profile - Stalkers Visitors': '273244', 'The J-Notes: Jazz News': '7', 'Piczle Lines DX': '281', 'Mirror Camera (Mirror + Selfie Camera)': '9315', 'FL House': '29', 'Bike Mayhem Free': '331692', 'Aquarium Co-Op Podcast': '206', 'Chat For Strangers - Video Chat': '622', 'BatControl Pro': '83', 'Future Cloud': '1075', 'Home Decoration Game': '17543', 'Pacific Navy Fighter C.E. (AS)': '11379', 'AC Remote for Samsung - NOW FREE': '566', 'Hausa Radio': '3375', 'Bubble Witch 3 Saga': '1732263', 'Paramedic Pocket Prep': '460', \"Don't Starve: Shipwrecked\": '1468', 'RC City Police Heavy Traffic Racer': '3250', 'ET Telecom from Economic Times': '273', 'DN Snacks': '0', 'CINEMA.BH': '11', 'SonicCloud: Hearing App': '15', 'CJ Auto école': '0', 'Crack the blue angry birds egg': '85', 'Me-eh': '13', 'Mobizen Screen Recorder for LG - Record, Capture': '58820', 'Monument Valley 2': '9394', 'News Minecraft.fr': '881', 'G-Playlists': '53', 'Firefox Focus: The privacy browser': '36981', 'FK CLASSIC FOR YOU': '1', '3D Color by Number with Voxels': '5481', \"I'm Rich - Trump Edition\": '275', 'Lottery Driver- Florida Result': '70', 'Paint Splash!': '2206', 'FieldBi FR Offline': '2', 'Florida - Pocket Brainbook': '7', 'BD Online Passport Application': '12', 'LTC AS Legal': '6', 'Find My Friends': '305367', 'Quizlet: Learn Languages & Vocab with Flashcards': '211856', 'Cardboard': '130287', 'BM Box': '28', 'Finger Scanner Gestures': '2531', 'On a Bu Pour Vous OBPV': '0', 'FB Advanced Search': '2', 'Diabetes Testing': '1', 'BS Play': '56', 'CG Smart': '2', 'Fever Care': '19', 'MBTA GPS - Track the T': '82', 'CCleaner': '885187', 'Soy Luna - Top Music And Lyrics': '1', 'Photo Editor Selfie Camera Filter & Mirror Image': '527248', '50 Healthy Slow Cooker Recipes': '196', 'War Robots': '3073251', 'Forgotten Hill: Fall': '1063', 'Download Facebook Photo Albums': '3840', 'How do I care about my child?': '34', 'DG Screen Recorder': '12', 'Apartments.com Rental Search': '22584', 'CG Creative Sets: 2D/3D Artist': '117', 'Zenith Bank Mobile App': '7215', 'DT-CAM': '6', 'Soccer Clubs Logo Quiz': '21661', 'Remind: School Communication': '108613', 'Stats CR Clan for Clash Royale': '16', 'Wifi Action Camera': '118', 'CareZone': '27524', 'DT Smart': '39', 'Ayyush wih wih new without Net': '912', \"Assassin's Creed Identity\": '42529', 'eBoox new: Reader for fb2 epub zip books': '2739', 'Fast Motorcycle Driver 2016': '28151', 'Smart Launcher 5': '512106', '5 Minute Veterinary Consult: Canine & Feline': '17', 'Color Quartets': '42', 'How to sew & make the easiest pattern': '110', 'Comedy Central': '22378', 'FK Sloboda Tuzla': '0', 'Sleeping Delivery': '19640', 'Alarm Clock: Stopwatch & Timer': '870928', 'Dog Sim Online: Raise a Family': '94989', 'NCAA Sports': '4272', 'Novinky.cz': '2375', 'CD View Lite': '2', 'Avatar Musik': '159063', 'HTC Service—Video Player': '6449', 'Where to travel - ticket. hotel. train ticket. car ticket. travel. tickets': '5112', 'All Email Providers': '20901', 'Blood Pressure - Stay Healthy': '7', 'Cloud Print': '282460', 'AF-STROKE (FREE)': '93', 'Messenger for SMS': '125257', 'W Pro - Weather Forecast & Animated Weather Maps': '11', 'Lark - 24/7 Health Coach': '3405', 'Weather From DMI/YR': '2143', 'Photo Editor-': '68071', 'ASRA Coags': '15', 'Transit: Real-Time Transit App': '43269', 'DS Speedometer & Odometer': '22382', 'A Manual of Acupuncture': '214', 'FXNOW: Movies, Shows & Live TV': '31552', 'ABS Workout - Belly workout, 30 days AB': '5103', 'Amber Weather': '260137', 'Home Security Camera WardenCam - reuse old phones': '43847', 'W - Weather Forecast & Animated Radar Maps': '29', 'MagicLight BT': '135', 'EB Scanner': '9', 'American Sniper City Fight Shooting Assassin': '395', 'CY Spray nozzle': '0', 'Peak – Brain Games & Training': '272321', 'EZ-SEE': '71', 'Calls Blacklist - Call Blocker': '457283', 'Bitcoin BX Thailand PRO': '21', 'Learn C# - .Net - C Sharp Programming Tutorial App': '1320', 'Calculator CM': '8', 'THAI DICT 2018': '29855', 'Fire Emblem Heroes': '407694', 'BX Mobile TMC for SAP B1': '3', 'm:go BiH': '559', 'CN Superstar Soccer: Goal!!!': '3863', 'Magoosh GMAT Prep & Practice': '1058', 'Google Trips - Travel Planner': '26871', 'Ex Service Taxis': '15', 'AE Roundy POP': '5262', 'Water Drink Reminder': '524299', 'L.A. Crime Stories Mad City Crime': '30008', 'MyMo by GSB': '21996', 'Block Puzzle Classic Legend !': '17044', 'Profile Pictures - Best DP Status': '131', 'Advanced EX for NISSAN': '164', 'AndroZip™ FREE File Manager': '277794', 'Millionaire Quiz Free: Be Rich': '66033', 'DK Pittsburgh Sports': '556', 'Prosperity': '16', 'CG Job Alerts': '116', 'Mobizen Screen Recorder for SAMSUNG': '953894', 'Multiling O Keyboard + emoji': '30443', 'Ham DX Cluster & Spots Finder': '115', 'X-VPN - Free Unlimited VPN Proxy': '40617', 'Agar.io': '3816799', 'Drug Calculator': '0', 'CB Land': '0', 'Easy Resume Builder, Resume help, Curriculum vitae': '996', 'GO Keyboard - Cute Emojis, Themes and GIFs': '4594198', 'mail.co.uk Mail': '21', 'ew-Magazin': '2', 'Dr.Web Security Space': '594406', 'MLB Perfect Inning 2018': '42767', 'My G:': '96', 'Photo BG Changer': '11', 'R Programing Offline Tutorial': '4', 'FC Bayern Munich': '37140', 'Light Meter - EV': '26', 'Funny Jokes and Stories 2018': '21', 'Freedom Christian BF': '0', \"Family Guy- Another Freakin' Mobile Game\": '221691', 'Weather BZ': '8433', 'HTC Lock Screen': '28250', 'Android-P Mono Grey EMUI 8/5 Theme': '61', 'Tassa.fi Finland': '346', 'PBA® Bowling Challenge': '242096', 'Downloader plus for FB': '4', 'Easy Makeup Tutorials': '7287', 'Theme For Techno Camon CX': '42', \"Dr. Panda's Swimming Pool\": '2311', 'Hesab.af - Send money in Afghanistan': '51', '2Date Dating App, Love and matching': '41605', 'B-Grade Renegade': '24', 'Guns Royale - Multiplayer Blocky Battle Royale': '19070', 'Inbox.eu': '98', 'DN Calculators': '12', 'FD Calculator | Term Deposit | Fixed Deposit': '12', 'My Dy Dice - 3D Dice Roller': '9', 'Learn Italian with MosaLingua': '1719', 'Club Penguin Island': '107441', 'BL Driver': '230', 'FINAL FANTASY BRAVE EXVIUS': '745684', 'LactMed': '573', 'ColorSnap® Visualizer': '3280', 'BU Alsace': '3', 'Cycling - Bike Tracker': '9116', 'My MLS App': '1213', 'BD Fishpedia': '123', 'EB-Chat – For my Events': '2', 'Absolute RC Heli Simulator': '654', 'Downers Grove AH': '0', 'U-Dictionary: Best English Learning Dictionary': '166886', 'Tophatter - 90 Second Auctions': '105773', 'DV Portfolio': '0', 'CG Samanya Gyan': '145', \"The Zueira's Voice\": '136540', 'EW Login': '0', 'Frim: get new friends on local chat rooms': '88486', 'Eurostat Country Profiles': '87', 'Web Browser & Explorer': '36901', 'Ae Allah na Dai (Rasa)': '263', 'B & W Filter for Photo Editor Pro': '65', 'bm Wallet': '196', 'The CW': '288209', 'Delivery trough - delivery trough delivery trough': '58316', 'Sports Lite': '16', 'POCKET ATLAS OF CT HEAD': '22', 'Comics Reader': '4496', 'File Manager by Xiaomi: release file storage space': '337532', 'Cricket Visual Voicemail': '13698', 'High School Simulator 2017': '123136', 'Profile Pictures and DP for Whatsapp': '48', '20WPM Amateur ham radio Koch CW Morse code trainer': '12', 'Slot Machines by IGG': '267229', 'IKORO FH App Rosenheim': '22', 'BT One Voice mobile access': '32', 'Free intellectual training game application |': '5741', 'Aldiko Book Reader': '210534', 'Out of Bounds BH Demo': '3', 'First Credit Union (AZ) Mobile': '100', 'QuickBooks Self-Employed:Mileage Tracker and Taxes': '15141', 'Storm Shield': '2000', 'My BF App': '141', 'Hello Kitty Lunchbox': '51838', 'Skylink Live TV CZ': '2802', 'Tamilnadu Electricity Info': '216', 'BU Beauty Rooms': '1', 'Pregnancy Tracker & Countdown to Baby Due Date': '658087', 'Eshopcy.com.cy': '182', 'Cardi B Piano Game': '50', 'Realtor.com Real Estate: Homes for Sale and Rent': '162243', 'Popsicle Launcher for Android P 9.0 launcher': '0', 'Frases Cristianas de Esperanza y Fe': '2', 'Unicorn Photo': '3362', 'Teen Titans GO Figure!': '1985', 'Es-Bg Offline Voice Translator': '1', 'EM Launcher Pro': '35', 'Add-On: bq (c)': '17', 'My Cycles Period and Ovulation': '26652', 'Disney Crossy Road': '514088', 'Florida Offline Road Map': '144', 'Princess Closet : Otome games free dating sim': '29495', 'Wheelie Challenge': '137338', 'DR CONTROL': '267', 'E-Book Read - Read Book for free': '1857', 'mysms SMS Text Messaging Sync': '37320', 'Plan B': '19', 'Kurio - Read the Latest News': '40167', 'Web Browser for Android': '55110', 'AJ렌터카 법인 카셰어링': '0', 'Theme for Galaxy Note FE Launcher | Live Wallpaper': '2', 'Talking Tom Gold Run': '2698889', 'Urban Outfitters': '4158', \"autolina.ch has over 120'000 cars on offer.\": '25', 'DX Simulation Belt for Build henshin': '182', 'Trulia Rent Apartments & Homes': '71421', 'Motorola Spotlight Player™': '22508', 'Easy Healthy Recipes': '278', 'R Language Reference Guide': '54', 'Bike Rivals': '212067', 'BlackCam Pro - B&W Camera': '1376', 'Fraction Calculator Plus Free': '148506', 'AP English Language: Practice Tests and Flashcards': '19', 'Ebates: Cash Back, Coupons, Rewards & Savings': '37253', 'ViewRanger - Hike, Ride or Walk': '34356', 'Fr Lupupa Sermons': '19', 'Drawing Clothes Fashion Ideas': '117', 'MeetMe: Chat & Meet New People': '1259894', 'DQSalmaan - A fan made App': '707', 'Picai - Smart AI Camera': '529', 'Top Popular Ringtones 2018 Free 🔥': '7396', 'NBC Sports': '78442', 'SPARK - Live random video chat & meet new people': '79658', 'Deck Shop for Clash Royale': '2167', 'VTB-Online': '138371', 'BS CS IT & SE': '9', 'Power Spheres by BoBoiBoy': '70903', 'ZAK DW': '0', 'ER': '2', 'Video Downloader for FB': '53', 'FaFaFa™ Gold Casino: Free slot machines': '11051', 'C Pattern Programs Free': '4115', 'Dexcom G6': '45', 'AE Coin Mania : Arcade Fun': '30002', 'Beach Head Shooting Assault': '555', 'B-Messenger Video Chat': '12495', 'Caf - My Account': '18961', 'DreamStream By EL AL': '595', 'Postmates Food Delivery: Order Eats & Alcohol': '22875', '3G to 4G Converter - Simulator': '268', 'Knife Hit': '462614', 'CG - Chemistry free': '7', 'Police Detector (Speed Camera Radar)': '3574', 'Aster DM Healthcare': '32', 'Aegis BT': '16', 'Cartoon Wars: Blade': '165656', '4 in a Row': '4257', 'Cathay Pacific': '4069', 'Propel BI APP': '3', 'Carrier Landings Pro': '5969', 'Everbridge': '497', 'Viki: Asian TV Dramas & Movies': '407719', 'DX Simulation for OOO Dx Belt': '67', 'Harris J Lyrics': '36', 'Kenny e o Cupcake': '0', 'Bg TV Online': '50', 'du app': '7578', 'Myanmar 2D/3D': '822', 'Camera360 Lite - Selfie Camera': '221878', 'Asylum Night Shift - Five Nights Survival': '59223', 'Bill Miller Bar-B-Q Store Ops': '0', 'V380s': '1919', 'Home Decor Showpiece Art making: Medium Difficulty': '273', 'DN Radio FM': '0', 'Organizer': '936', '[adult swim]': '21433', 'Change photo background': '28660', 'AEE AP': '4', 'Lite for Facebook Messenger': '76498', 'Google Play Books': '1433233', 'Putzmeister Experts': '21', 'Ay Hasnain k Nana Milad Naat': '72', 'Space Z 🌏 🚀Icon Pack Theme': '201', 'Pistolet FN 1906 expliqué': '0', 'Heroes Arena': '336386', 'Ev Dizayn': '30', 'BBW Dating & Curvy Singles Chat- LargeFriends': '218', 'Fuelio: Gas log & costs': '65786', 'Easy Language Translator': '191621', 'textPlus: Free Text & Calls': '382121', 'CG FM': '2', 'Bacterial Vaginosis Symptoms & Treatment': '0', \"BD Hospital's\": '12', 'Poop Tracker - Toilet Log': '622', 'Mupen64Plus AE (N64 Emulator)': '4569', 'Forgotten Hill Mementoes': '2027', 'No Pimple - Fun games': '24091', 'BN Pro White HD Text': '120', 'Wallpapers Mercedes Benz CL': '2', 'Florida Tides & Weather': '30', 'ProGrade BT': '0', 'Super Hero M Craft Run': '303', 'Faustop Sounds': '1677', 'SW-DB': '954', 'TomTom GPS Navigation Traffic': '132792', 'Couch to 10K Running Trainer': '10445', 'Armani Exchange Connected': '305', 'Spider grinder in screen funny': '956', 'BN Pro LcdD Legacy Text': '71', '\"i DT\" Fútbol. Todos Somos Técnicos.': '27', 'CSHS BX': '0', 'EC-HRV test': '9', 'NoBuffDating - Free Dating App': '1939', 'QuickPic - Photo Gallery with Google Drive Support': '847159', \"Favorite children's songs\": '39', 'Ag Valley Cooperative': '6', 'Epocrates Plus': '23889', 'Police Field Interview FI Card': '112', 'Br. Parking - Busy road Parking 3D 2018': '41', 'F-1 watchface by Delta': '0', 'Background Changer & Eraser': '2076', 'Flud (Ad free)': '5639', 'Flowers Live Wallpaper': '118459', 'Of the wall Arapaho bk': '0', 'BF Browser by Betfilter - Stop Gambling Today!': '39', 'Keyboard for Sony Xperia J': '797', 'Guide to Nikon Df': '1', 'Notepad & To do list': '226295', 'Quiz&Learn Python': '304', 'My Tamagotchi Forever': '28735', 'Real City Car Driver': '413609', 'The TK-App - everything under control': '8642', 'Magic Tiles - Blackpink Edition (K-Pop)': '4304', 'Warfarin Dose Calculator': '0', 'ProconLegis-DF': '2', 'camera zoom moon': '1213', 'Yoga Studio: Mind & Body': '5499', 'DX': '6697', 'DN Events': '4', 'Little Panda Run': '3235', 'search.ch': '11514', 'Scanner Radio - Fire and Police Scanner': '175509', 'DG Smart life': '14', 'AL.com: Alabama Football News': '459', 'U-48 Submarine Commander Free': '4575', 'Wallpapers DH 4K': '23', \"Hacker's Keyboard\": '41418', \"Yoong: Kick 'Em Up!\": '7107', 'Nike+ Run Club': '708753', 'Phogy, 3D Camera': '35725', 'AE Checkout Plugin': '208', 'My OldBoy! Free - GBC Emulator': '51787', 'Sport Car Simulator': '48731', 'TV Local El Salvador': '323', 'Aunjai i lert u': '1140', 'LINE I Love Coffee': '250257', 'Gay Sugar Daddy Dating & Hookup – Sudy Gay': '2212', 'BQ-መጽሐፍ ቅዱሳዊ ጥያቄዎች': '191', 'Mobills: Budget Planner': '161440', 'DV 2019 Entry Guide': '92', 'comico Popular Original Cartoon Updated Everyday Comico': '93965', 'Hymnes et Louanges': '1877', 'AJ Orange Icon Pack': '0', 'Kiosque CD': '0', 'Google Play Games': '7168735', 'Pet Beauty Salon': '20292', 'DN': '78', 'H TV': '103078', 'Eye Transplant : ER Emergency Hospital': '1938', 'Mukwonago AH': '1', 'SNOW - AR Camera': '1017237', 'Art Pixel Coloring. Color by Number.': '992', 'EU FP7 Adventure': '2', 'Google Voice': '171052', 'DG Card': '0', 'CheapTickets – Hotels, Flights & Travel Deals': '6925', 'SmartNews: Breaking News Headlines': '233305', 'Little Fire Station': '3762', 'DU Recorder – Screen Recorder, Video Editor, Live': '2588730', 'Dialer theme Droid L': '1734', 'CATS: Crash Arena Turbo Stars': '1559650', 'CF Chat: Connecting Friends': '5', 'Catalyst AZ': '12', 'MLB TAP SPORTS BASEBALL 2018': '32506', 'Lufthansa': '14544', 'Wemep - Special price representative (special / shopping / shopping app / coupon / shipping)': '178497', 'A-J Media Vault': '1', \"Let's Learn Alif Ba Ta\": '32', 'Basketball FRVR - Shoot the Hoop and Slam Dunk!': '4076', 'Bacterial Vaginosis Treatment': '0', 'AG Track': '12', 'E W Bookkeeping & Accountancy': '1', 'CI CAFETERIAS UBER': '0', 'WISE- MOBILE PORTAL': '3', 'Become a Job - Find a job or advertise': '6903', 'Santa Fe Espresso & News': '0', 'BN Pro LcdD-b HD Text': '131', 'Strava.cz': '2221', 'Morse Code Reader': '1436', \"Jimbo's Pit Bar B-Q\": '3', 'Tarascon Pharmacopoeia': '275', 'My Calendar - Period Tracker': '156410', 'CZ-45 pistol explained': '1', 'Bleacher Report: sports news, scores, & highlights': '122283', 'K PLUS': '124424', 'Puzzle Kids - Animals Shapes and Jigsaw Puzzles': '1109', 'Moneycontrol – Stocks, Sensex, Mutual Funds, IPO': '281635', 'AC Remote for O General - NOW FREE': '274', 'ScorePal': '1439', 'Sci Fi Sounds': '4', 'FK Jablonec': '2', 'Chicago Tribune': '1380', 'PDD-UA': '736', 'CB SMART LIFE': '30', 'Device Help': '28860', 'FD VR Music Videos - MTV Pop and Rap in 360': '15', 'Avenger Legends': '3715', 'Sarajevo Film Festival - Official': '6', 'Prestige AH': '2', 'Ag Guardian': '1', 'QST': '706', 'FK Sarajevo': '6', 'Treadmill Workouts Free (P)': '10', 'ZOMBIE RIPPER': '16073', 'Fidget Spinner': '307398', 'DC Trails-Hop On Hop Off Tours': '16', 'KVAD Camera +: Selfie, Photo Filter, Grids': '23440', 'FG Autumn Photo Puzzle': '0', \"Dr. Seuss's ABC\": '429', 'Cerebral Palsy': '38', 'Dream League Soccer 2018': '9883806', 'Kids Videos': '559', 'L.O.L. Surprise Ball Pop': '10088', 'BC Wildflowers': '7', 'KFC CZ': '1189', 'Prime Key for Nougat Launcher& O Launcher &KitKat': '324', 'Find Dining Restaurant Finder': '427', 'Rabo Banking': '31906', 'Stock Trainer: Virtual Trading (Stock Markets)': '42809', 'Financial Times': '27104', 'Family Album Mitene: Private Photo & Video Sharing': '34336', 'White Noise for Baby': '717', 'Flipboard: News For Our Time': '1284018', 'ABC15 Arizona': '1820', 'daily News': '26411', 'Weather Live': '76593', 'AQ SMS Notify': '0', '2RedBeans': '337', 'Delta Dental': '914', 'English-Myanmar Dictionary': '8788', 'Chinese Chess / Co Tuong': '6947', 'StirFry Stunts - We Bare Bears': '121533', 'Sad Poetry Photo Frames 2018': '176', 'Connect.ae - Local Search UAE': '194', 'New 2018 Keyboard': '298321', 'BM CRM': '0', 'Ag Tools': '2', 'Borneo Bible, BM Bible': '659', 'Au Pair': '58', 'MakeMyTrip-Flight Hotel Bus Cab IRCTC Rail Booking': '599872', 'MyRadar NOAA Weather Radar Ad Free': '3005', 'Gardenscapes': '4129665', 'Blood Pressure - Heartcare': '70', 'Bridge Constructor Stunts FREE': '36151', 'DM Magazine': '0', 'AP App for Android™': '188', 'iCam - Webcam Video Streaming': '770', 'BayPort CU Mobile Banking': '2374', 'CONTRACT KILLER: ZOMBIES': '144545', 'CAM5678 Video Chat': '0', 'Samsung+': '82145', 'Colorful Glitter Neon Butterfly Keyboard Theme': '2056', 'Svenska Dagbladet': '820', 'Movie DB': '10', 'YourTube Video Views BG': '8', 'EZ Thanks': '116', 'Sugar Daddies Dating App': '53', 'Block Craft 3D: Building Simulator Games For Free': '946926', 'V-CUBE Seminar Mobile': '542', 'EG Way Life': '0', 'Limbo PC Emulator QEMU ARM x86': '13005', 'Gangster Town: Vice District': '65146', 'Pzizz - Sleep, Nap, Focus': '5521', 'Rockmaraton Info': '49', 'CF': '2', 'Water Surfer Floating BMX Bicycle Rider Racing': '551', 'Taco Bell': '28140', 'Toy Attack': '3878', 'WedMeGood - Wedding Planner': '1658', 'Football Manager Mobile 2018': '11460', 'DS router': '253', 'EF Calculator': '19', 'K-@ Mail - Email App': '1760', 'VITAS Hospice Referral App for Healthcare Pros': '27', 'Camping and Co - Camping in Europe': '19', \"Lep's World 3 🍀🍀🍀\": '771001', 'my4D': '573', 'AppLock - Fingerprint Unlock': '112482', 'Android TV Remote Service': '1', 'Masha and Bear: Cooking Dash': '151374', 'EC Apps List': '2', 'kicker football news': '56270', 'F&M Bank - EZ Banking': '49', 'FO AIRBUS Nantes': '0', 'PixelDot - Color by Number Sandbox Pixel Art': '16041', 'Sweet mi - unlimited hunnam hunting blind date': '6191', 'LH Housing Promotion Notice': '160', 'Sky Streaker - Gumball': '37513', 'Charlotte County, FL': '10', 'The Ah Yeah! Button': '30', 'DV Statistics': '6', 'Army of Heroes': '85015', 'CL Pro Client for Craigslist': '48', 'HACH Cares': '0', 'Pocket SAT Math': '430', 'Real Madrid App': '161423', 'm-Faisaa': '142', 'mobLee Events': '11', 'Adult Dating - AdultFinder': '1601', 'Extreme Car Driving Simulator': '2251012', 'CSCS BG (в български)': '7', 'Events High - Meet Your City!': '3200', 'Eh Plus English Application': '1', 'DS-Students': '5', 'Keeper: Free Password Manager & Secure Vault': '74146', 'Canvas Student': '42828', 'DG ग्राम / Digital Gram Panchayat': '53', 'Skin Care and Natural Beauty': '654', 'DS Thermometer': '631', 'Ultimate Quiz for CS:GO - Skins | Cases | Players': '2526', 'Waterfall Photo Frames': '10349', 'AP Statistics Prep: Practice Tests and Flashcards': '19', 'Spectrum TV': '46618', 'FERZU - Furries Social Network': '1576', 'Cafe.ba': '677', 'Step By Step Hairstyles For Women': '66', 'Little Big City 2': '344383', 'LOL Pics (Funny Pictures)': '67554', 'Headspace: Meditation & Mindfulness': '77563', 'FP Charging Daydream': '96', 'FG SPINNER': '2', \"4-T's Bar-BQ & Catering\": '0', 'Motorola Camera': '219745', 'The Simpsons™: Tapped Out': '636995', 'Socle Commun BO du 23-04-2015': '4', 'CX Monthly Tech News': '2', 'Hilltop AH': '0', 'GPS Speedometer - Trip Meter - Altimeter': '32225', 'B': '800', 'Cinematic Cinematic': '37000', 'Gangster Town': '74842', 'Pink Guy - Ey B0ss': '13', 'CircleCI Viewer': '16', 'FP Markets': '1', 'Marble Woka Woka 2018 - Bubble Shooter Match 3': '155186', 'Assault Line CS Online Fps Go': '52163', 'Free GPS Navigation': '618562', 'converter video to mp3': '783', 'Chess for Kids - Play & Learn': '3234', 'BT App': '24', 'Logo Maker - Small Business': '450', 'Maps & GPS Navigation — OsmAnd': '60838', 'FanDuel: Daily Fantasy Sports': '29673', 'Deposit Calculator FD & RD': '18', 'Horoscopes – Daily Zodiac Horoscope and Astrology': '161143', 'Credit Sesame': '25166', 'How Do I Look': '3032', 'The Championships, Wimbledon 2018': '24082', 'Builder (by Engineer.ai)': '8', 'Silent Camera [High Quality]': '47090', 'Gâteau au yaourt': '38', 'Polaris Office for LG': '30847', 'Oxford A-Z of English Usage': '5300', 'Abs Workout - Burn Belly Fat with No Equipment': '69279', 'Resume Builder Free, CV Maker & Resume Templates': '20921', 'Screen Lock': '68309', 'Yidio: TV Show & Movie Guide': '27424', 'dy n fly': '1', 'P Launcher for Android™ 9.0': '35', 'Puzzles Volvo FH 16 Trucks': '10', 'SAT Vocabulary': '642', 'Google Primer': '62272', 'Sounds for Toddlers FREE': '6190', 'Ready4 GMAT (Prep4 GMAT)': '18372', 'Street Skater 3D': '120852', 'Display Phone Screen On TV': '9895', 'Saunders Comprehensive Review NCLEX-PN Examination': '3', 'A+ Gallery - Photos & Videos': '223941', 'XE Currency Pro': '1090', 'Drive 4x4 Luxury SUV Jeep': '2183', 'Axxess Updater': '56', 'Moony Lab - Print Photos, Books & Magnets ™': '1320', 'Speed Test - WiFi / Cellular speed test': '24226', 'AF Link': '210', 'Been Together (Ad) - D-day': '95736', 'PowerDirector Video Editor App: 4K, Slow Mo & More': '714665', 'EU Economy': '47', 'English Dictionary - Offline': '341234', 'AT&T Visual Voicemail': '13761', 'Snowboard Racing Free Fun Game': '4552', 'Adblock Browser for Android': '121113', 'Bloons TD 5': '190086', 'BURST Professionals': '11', 'Fruit Block - Puzzle Legend': '125647', 'Keepsafe Photo Vault: Hide Private Photos & Videos': '1656808', 'Skill Tree - BL Pre Sequel': '855', 'Face Filter, Selfie Editor - Sweet Camera': '142758', 'Geeks Dating': '0', 'United Airlines': '30447', 'Citizens Bank - CB Mobile': '6', 'Read- Latest News, Information, Gossip and Politics': '185058', 'CZ-70 (CZ-50) pistol explained': '2', 'qEG APP / Química EG SRL': '0', 'Maps, GPS Navigation & Directions, Street View': '207440', 'Age of Procreation DX': '1894', 'Reisedealz.eu': '0', 'BZ Delivery': '1', 'Hilverda De Boer B.V. App': '5', 'Painting By Numbers': '213', 'Universal AC Remote Control Simulator': '119', 'Super ball DZ': '24', 'Zara': '95905', 'DMV Permit Practice Test 2018 Edition': '6090', 'Egg Baby': '351607', 'Smartshading AI': '0', 'Lotte Home Shopping LOTTE Homeshopping': '8820', 'Best DP and Status (Daily Updates Photos)': '3003', 'TCF National Conference': '1', 'DC Public Library': '20', 'Evie Launcher': '139258', 'ClickMeeting Webinars': '5211', 'Talkie Pro - Wi-Fi Calling, Chats, File Sharing': '201', 'Bu Hangi Uygulama ?': '1', 'Ancestry': '64513', 'Geometry Dash SubZero': '260527', 'Android P | Xperia™ Theme 4800+ icons': '29', 'ao': '14145', 'Crayola Color Blaster': '17', '3DAnimeGirl DX DreamPortrait KAWAII Girl DressUp': '449', 'Power Plug EV charger': '13', 'Color Road': '84911', 'Dy So Exam': '6', 'Top Mercato: football news': '16016', 'CT Head Basic Interpretation': '1', 'Cheapflights – Flight Search': '47780', 'Bed Time Fan - White Noise Sleep Sounds': '10097', 'Caller ID +': '9498', 'Calculator ++': '33509', 'XE Currency': '77585', '2GIS: directory & navigator': '768833', 'TN Electricity (TNEB)': '73', 'Students.ch': '5', 'AÖF Ev İdaresi 1. Sınıf': '2', 'Cameringo+ Filters Camera': '28107', 'Vimeo': '85578', 'SCI-FI UI': '15', \"Boys Photo Editor - Six Pack & Men's Suit\": '654', 'Diamond Zipper Lock Screen': '71688', 'NHL': '68935', 'Android P Launcher 9.0 launcher': '164', 'Free TV series': '400', 'Farm Fruit Pop: Party Time': '9305', 'Vip视频免费看-BT磁力搜索': '20', 'CQ: Lost In Transmission': '4', 'justWink Greeting Cards': '69177', 'Lapse It • Time Lapse • Pro': '12865', 'Photo Mixer': '55427', 'Ab Workouts - Ab Generator': '21', 'Download free book with green book': '4478', 'CN Resident': '1', 'bz Baselland E-Paper': '69', 'BL-ED: From BLUE to RED': '3', 'Etsy: Handmade & Vintage Goods': '95520', 'Explore Sedona & Northern AZ': '43', 'AW Radio': '1', 'Sudy – Meet Elite & Rich Single': '17268', 'EZ Inspections': '160', 'Ustream': '93638', 'Stop Smoking - EasyQuit free': '39068', 'AV Phonetics': '259', 'Zombie Hunter: Post Apocalypse Survival Games': '327599', 'Themes Volvo FH Trucks': '14', 'Dentist Surgery ER Emergency Doctor Hospital Games': '2580', 'ExDialer - Dialer & Contacts': '125232', 'EV Real Estate Search': '88', 'Monster Park AR - Jurassic Dinosaurs in Real World': '128', 'Mizanul-Hikmət 2-ci cild': '16', 'Educators CU Mobile Banking': '1992', 'CB Register': '1', 'MagiMobile – Mighty Magiswords': '120035', 'ePazar.bg': '28', 'Annonces.ci': '14', 'Bullshite!': '48', 'DX Simulation for X-aid Dx Belt': '35', 'CV-RECORD Pro': '42', 'Google News': '878065', 'BW-DGS plugin': '70', 'Fun Kid Racing': '79667', 'Keller Williams Real Estate': '13213', 'BD All Sim Offer': '197', 'TV Guide BR Gold': '544', 'FastMeet: Chat, Dating, Love': '22545', 'DV KING': '2', 'Files Go by Google: Free up space on your phone': '315585', 'DF Coaching': '1', 'DP and Status Images | All Latest Status 2018': '25', 'Satellite Director': '45610', 'Dr. Panda Café Freemium': '11788', 'K-9 Material (unofficial)': '64', 'X-plore File Manager': '168487', 'Control Center iOS 11 - Phone X Control Panel': '1925', 'Panera Bread': '10225', 'T-Mobile in': '3856', 'BS Calendar / Patro / पात्रो': '218', 'CARDI B WALLPAPERS': '8', 'REDCap Mobile App': '56', 'C by GE': '686', 'M star Dialer': '400', 'New 2018 Weather App & Widget': '2332', 'Get SMART ER/LA Opioids': '0', '058.ba': '27', 'Blue CareOnDemand': '163', 'EU CBRNE Glossary': '3', 'Real Basketball': '1605267', 'm.ride - your motorcycle app': '189', 'Resume Builder Free, 5 Minute CV Maker & Templates': '72202', 'BF at Sea Refueled': '1849', 'MX Player Codec (ARMv7)': '332083', 'EW Widgets for Zooper': '5', 'GALAK-Z: Variant Mobile': '145', 'Community by C Space': '707', 'Jingdong - pick good things, go to Jingdong': '9189', 'Learn Quran with Elif Ba': '3', 'Easy and quick desserts': '1398', '¡Ay Caramba!': '0', 'D Day World War II Commando Survival Shooting': '951', 'Ba Zi Fortune': '592', 'Monster Ride Pro': '1', 'Cx Wize': '3', 'Kay AH GA': '0', 'MedM Blood Pressure': '255', 'Huntington Mobile': '11264', 'Power Rangers Dino Charge': '194969', 'MBU DX Cluster': '5', 'Onefootball - Soccer Scores': '911995', 'Where is my Train : Indian Railway & PNR Status': '620534', 'Baby Monitor': '5343', 'Ad Removal: thereisonlywe': '16', 'My Little Pony Celebration': '63192', 'Create A Superhero HD': '8642', 'New Wallpapers Toyota FJ Cruiser Theme': '1', 'Baskin-Robbins': '1103', 'Florida Today': '202', 'Goal Meter: Goal Tracker, Habit Changer,To-Do List': '7969', 'CF PD': '4', 'Sword Art Online: Integral Factor': '45359', 'db.Mobil App': '23', 'ei': '2', 'CJ Infinity': '0', 'UNO ™ & Friends': '1728557', 'Anime X Wallpaper': '32613', 'Pool Billiards Classic - bi a': '5644', 'Acorns - Invest Spare Change': '45962', 'Bengali Newspaper - The first L.': '11908', 'Skip-Bo™': '33661', \"Don't touch my phone\": '21943', 'Popsicle Sticks and Similar DIY Craft Ideas': '26', \"Baldur's Gate II\": '5442', \"Davis's Drug Guide\": '272', 'Digital FM Brasília DF': '5', 'WIFI WPS WPA TESTER': '352097', 'Dance Magic Fashion Style Games': '2533', 'Blood Pressure Log - bpresso.com': '5661', 'StarTimes - Live International Champions Cup': '17682', 'Nurse Grid': '1686', 'Broken Screen Prank': '23682', 'Virtual lover': '45771', \"Mama Lala 's song\": '102', 'Azpen eReader': '156', 'FN pistol Model 1906 explained': '1', \"I Can't Wake Up! Alarm Clock\": '70404', 'BR Series': '1016', 'Euro Truck Driver (Simulator)': '860078', 'cx-32wifi': '62', 'Ultimate DM': '0', 'Saiyan Z: Super SSJ Ultimate Combat': '306', 'AK-47 Assault Rifle': '165', 'YouTube Gaming': '130549', 'DRAGON QUEST VIII': '7812', 'WiseBanyan - Invest For Free': '257', 'ChatBolo - AI Chatbot Online': '1407', 'Dr. Truck Driver : Real Truck Simulator 3D': '1626', 'EasyLive - FB Live Helper': '6', 'White Sound Pro': '16570', 'CR Tracker for Chests': '6', 'Super Cars Wallpapers And Backgrounds': '197', 'R Instructor': '135', 'Advanced EX for MITSUBISHI': '33', 'PicsArt Photo Studio: Collage Maker & Pic Editor': '7594559', 'Contractor City Construction - Heavy Logistics': '31', 'Beauty Idol: Fashion Queen': '128367', 'Cute Images for Whatsapp': '634', 'DSLR Camera Hd Ultra Professional': '4410', 'AE Jewels 2: Island Adventures': '652', 'AC Remote for Sharp - NOW FREE': '332', 'Bible du Semeur-BDS (French)': '313', 'Wedding Planner by WeddingWire - Venues, Checklist': '3788', 'CG Shikshak': '211', 'Gold Quote - Gold.fr': '96', 'FK Željezničar': '1420', 'Access Point Proximity': '5', 'RetroArch': '21423', 'Blamburger - Clarence': '30444', 'Netflix': '5456708', 'CW BLE Peripheral Simulator': '2', 'Halalguur': '6', 'AE Angry Chef': '533', 'Airplane Pilot Car Transporter': '182363', 'J Alvarej Moji': '2', 'CB STARS': '1', 'JW Library': '922752', 'Zello PTT Walkie Talkie': '695613', 'Comics': '45651', 'Bitcoin Bx (Thailand)': '101', 'Seven - 7 Minute Workout Training Challenge': '75571', 'CQ-Mobile': '10', 'Pregnant Mom ER Emergency Doctor Hospital Games': '325', 'My EF Center': '89', 'I am Rich!': '93', 'ChopAssistant': '455', 'Au Weather Free': '1185', 'Live Talk - Free Text and Video Chat': '185', \"Five Nights at Freddy's 2 Demo\": '1503544', 'AT&T FamilyMap®': '21592', 'Lyra Virtual Assistant': '41624', 'Endurance Lifestyle': '7', 'Dr. Parking 4': '475369', 'Garden Fever - Free!': '13253', 'Extreme Motorbike Jump 3D': '94308', 'Free VIN Report for Used Cars': '2431', 'Recipes and tips for losing weight': '35', 'ChargeHub - Find EV & Tesla Charging Stations': '796', 'Ei Samay - Bengali News Paper': '20620', 'Fast Secure VPN': '56848', 'Jarvis artificial intelligent': '253', '3G DZ Configuration': '488', 'Shadowverse CCG': '47340', 'Offroad 4x4 Car Driving': '26224', 'Instacart: Grocery Delivery': '17071', 'ES Holo Theme for Pro': '4737', 'AP Math & Computer Science': '37', 'Baby Connect (activity log)': '8343', \"Fun Texas Hold'em Poker\": '32831', 'AP Flashcards': '88', 'DT Driving Test Theory': '477', 'EX File Explorer File Manager': '4660', 'Call of Mini™ Zombies 2': '248417', 'Check DB Benchmark': '0', 'DM security - Dragon Mobile': '27', 'News Dz': '3', 'Free Florida DMV Test 2018': '665', 'Axe Man': '53', \"WSVN • South Florida's Source for Weather\": '7', '¡Ay Metro!': '489', 'Imperium CF': '9', 'AE Air Hockey': '926', 'BD Radio TV Free List': '539', 'Theme Android P Black design for LG V30': '8', 'CD Live - Club del Deportista': '8', 'MediBeat for AW - Android (1)': '2', 'Clash Soundboard For CR & COC': '13', 'Poshmark - Buy & Sell Fashion': '46153', 'MobilePatrol Public Safety App': '22695', 'AT&T Messages for Tablet': '3044', 'postit.bm': '1', \"fred's Pharmacy\": '315', 'WIZARD Card Game': '48', 'Alabama DMV Permit Test - AL': '218', 'Driving Cars Simulator Citroen': '3', 'FO OP St-Nazaire': '1', 'NEXTCHARGE - Charging Stations': '891', 'EF Forms': '2', 'Adguard Content Blocker': '14491', 'Apps for SportsBєtting.ag - Bitcoin Welcome here!': '0', 'CK Life': '3', 'Q-slope': '2', 'Florida HSMV Driver License': '14', 'Imgur: Find funny GIFs, memes & watch viral videos': '160164', 'Pretty Makeup, Beauty Photo Editor & Snappy Camera': '26361', 'Bonza Poly Art - Tenkyu Animal Jam for Kids': '22', 'Dino T-Rex': '69115', '漫咖 Comics - Manga,Novel and Stories': '12088', 'C BOOK-C PROGRAMS': '138', 'Ei Electronics AudioLINK': '59', 'O Launcher': '2059', 'Super School: Educational Kids Games & Rhymes': '1791', 'Modlitební knížka CZ': '4', 'Photo Editor Pro': '1871421', 'BH Cosmetics': '2', 'Teeny Titans - Teen Titans Go!': '20463', 'My EF': '4114', 'CK FFXIV Companion': '1364', 'Wolfify - Be a Werewolf': '6760', 'Dirt Trackin Sprint Cars': '499', 'Pharmacie de Garde CI et Prix': '2599', 'EW Handbook': '1', 'DEER HUNTER CLASSIC': '3941129', 'Modern Counter Terrorist FPS Shoot': '795', 'Victoria EC': '5', 'Goal Live Scores': '232423', 'MyScript Calculator': '342336', 'BJ card game blackjack': '3', 'The Escapists': '7412', 'EBookDroid - PDF & DJVU Reader': '75951', 'Virtual Mom Surgery Doctor : ER Emergency Hospital': '1130', '30 Day Fitness Challenge - Workout at Home': '471036', 'Free Resume Builder – CV Maker': '25', 'BD Earn Pro': '540', 'FP Runner': '38', 'Alarm Clock Plus★': '155693', 'StudyLock - Education First': '27', \"Hands 'n Guns Simulator\": '19727', 'Mobilight-BM': '6', 'Goibibo - Flight Hotel Bus Car IRCTC Booking App': '459851', 'X Launcher Prime: With OS Style Theme & No Ads': '149', 'HTC Sense Input - FR': '885', 'OMD Protocols': '0', 'BURGER KING® Puerto Rico': '2448', 'AF Legendary 2017': '0', 'EyeEm - Camera & Photo Filter': '215343', 'True Skateboarding Ride Skateboard Game Freestyle': '8175', 'Ek IRA': '0', 'CamScanner (License)': '26358', 'DreamWorks Friends': '1042', 'KeePass DX Pro': '0', 'Al-Quran Ahmad Saud Offline': '7116', 'Summoners War': '2045554', 'GPS Speedometer, Distance Meter': '16094', 'JOBS.bg': '1630', 'OffRoad US Army Train Driving Simulator': '1216', 'Hypertension Hi blood pressure': '292', 'Resume Builder and CV maker app': '2303', 'Five nights at Minecraft': '9335', 'retteMi.ch': '31', 'Voice changer with effects': '1260903', 'Sandbox Number Coloring Book Art - Color By Number': '14356', 'Lunar Calendar Lite': '2954', 'San Andreas Crime Stories': '162530', 'News: RFI Hausa': '10', 'My BP Lab': '186', 'Comunidad De Fe Minitries': '19', 'Goody.ba': '303', 'BW Ultra': '0', 'GO Launcher - 3D parallax Themes & HD Wallpapers': '7464996', 'Best Wallpapers QHD': '294701', 'AE Bulletins': '14', 'Thomas & Friends: Go Go Thomas': '175625', 'OpenTable: Restaurants Near Me': '90242', '104 Looking for a job - looking for a job, looking for a job, looking for a part-time job, health checkup, resume, treatment room': '74359', 'MazeMilitia Classic Multiplayer Shooting Game': '1294', 'Little Caesars': '1726', 'Bacteria Vaginosis': '4015', 'OSRAM BT Control': '2', 'Gun Simulator - Gun Games': '134', 'Replika': '45458', 'AC Remote for LG - NOW FREE': '1041', 'Mat|r viewer': '5', 'Ant Smasher by Best Cool & Fun Games': '1185148', 'Dungeon Rush': '28633', 'BG Future School': '16', 'CV Formats 2018': '374', 'Service Disabler': '534', 'DW Streaming': '0', 'Temple Run': '4000433', 'Crazy Freekick': '47688', 'Chart - Myanmar Keyboard': '39364', 'Lie Detector': '306', 'Stash: Invest. Learn. Save.': '11919', 'LightMeter Free': '5485', 'DK Virtual Reality': '42', 'F.A Sumon songs': '6', 'Shoot Strike War Fire': '82827', 'Speak quietly: Autism, CP': '6', '23rd QM BDE EO': '0', 'Evolution CP': '13', 'DS Tower Defence': '768', 'CP evolution calculator Pokemo': '78', 'Love Collage - Photo Editor': '251686', 'King of B.S.': '4', 'Family Dollar': '2588', 'Birds Sounds Ringtones & Wallpapers': '5073', 'FD Interest Calculator': '17', 'AP Physics 1 Prep: Practice Tests and Flashcards': '29', 'Friendly for Facebook': '42621', 'Remote for Panasonic TV+BD+AVR': '533', 'Stranger Chat & Date': '3414', 'BG TV App': '6', 'Hair Salon - Fun Games': '484226', 'EG Retail': '29', 'Agoda – Hotel Booking Deals': '263525', 'RightNow English Conversation': '5118', 'Voice Lock Screen': '6667', 'Dr. Shogi': '19291', 'Font Studio- Photo Texts Image': '197295', 'AK-47: Simulator and Shooting': '345', 'City Taxi Driver sim 2016: Cab simulator Game-s': '16111', 'Surah Al-Waqiah': '1201', 'EI国际': '15', 'CM Launcher 3D - Theme, Wallpapers, Efficient': '6702776', 'Hlášenírozhlasu.cz': '0', 'bigbasket - online grocery': '216741', 'AppLock - Fingerprint': '745245', 'MLB Ballpark': '5511', 'La citadelle du musulman': '314', 'EO Guide': '15', 'EB Annual Meetings': '11', '4 x4 Offroad SUV 3D Truck Simulator Driving 2017': '32', 'Virtual Dice EX': '40', 'dt.se': '124', 'E.G. Chess': '56', 'EB Remote Deposit': '0', \"Ladies' Ab Workout FREE\": '12906', 'CM Security Lite - Antivirus': '262076', 'Filmi Gaane': '572', 'TAXI DRIVER': '7203', 'Test Application DT 02': '0', 'BC Hospital Wait Times': '8', 'Learn the letters and words': '31', 'Retro Clock Widget': '86743', 'Cnady Selfie : You Can Dy Snap Camera': '8', 'Just A Regular Arcade': '40847', 'Left vs Right: Brain Training': '75719', 'Love Fonts for FlipFont': '28694', 'Krazy Coupon Lady': '10318', 'MD PAWS AH': '0', 'SNCF': '15750', 'ShopSavvy Barcode & QR Scanner': '110425', 'Learn to code with el Chavo': '5933', 'Alabama Gameday Live': '19', 'Dollhouse Decorating Games': '18968', \"Please, Don't Touch Anything\": '1771', 'Sweet Snap - live filter, Selfie photo edit': '123029', 'Add-On: bq (b)': '9', 'eCooltra: scooter sharing. Share electric scooters': '2822', 'Daily Murli Saar Widget': '308', 'KakaoTalk: Free Calls & Text': '2546549', '[Sub/EMUI] P Pro - EMUI 8.1/8.0/5.X Theme': '13', 'Just She - Top Lesbian Dating': '954', 'Programming Hub, Learn to code': '55704', 'Super Mario Run': '1221896', 'Egg for Pou': '59096', 'Chat Rooms, Avatars, Date - Galaxy': '135420', 'Google Street View': '2129707', 'BT Remote (SPP) for Bluetooth': '36', 'Dashboard AE': '0', 'AG Contacts, Lite edition': '185', 'Woodman Deluxe': '82', 'Experience BA': '6', 'Last Empire - War Z: Strategy': '853495', 'Sverige Tidningar': '905', 'All Type DP': '1853', '211:CK Lite': '3', 'Map My Ride GPS Cycling Riding': '106547', 'Chest Opener for CR - The Circle Game': '68', 'Digital Clock AW-7': '484', 'BC Navigator': '21', 'X Home Bar - Free': '4210', 'Google': '8033493', 'My Oasis - Calming and Relaxing Idle Clicker Game': '106750', 'EJ Trívia Game': '1', 'Learn English from Persian: Persian to English': '423', 'USMLE Step 2 CK Flashcards': '1', 'Radio FG Paris Underground': '3', 'Simple Neon Blue Future Tech Keyboard Theme': '51145', 'The Maze Runner': '428268', 'F*ck This Game': '8', 'FJ WiFi HDD': '40', 'GlassesOff': '1288', 'AG Subway Simulator Mobile': '623', 'Get Over Your Ex': '10', 'AV HD Video Player': '6', 'Online Girls Chat Group': '5', 'Relax Melodies P: Sleep Sounds': '19543', 'KakaoMap - Map / Navigation': '76779', 'Eternal life': '26', 'EI Mobile': '4231', 'Shooter Sniper CS - FPS Games': '14823', 'Wedding LookBook by The Knot': '3448', 'Marítimo EC': '1', 'Hospitalist Handbook': '12', \"Driver Permit Test Prep DC DMV Driver's License Ed\": '78', 'PixelLab - Text on pictures': '108002', 'Kromium BW Theme for NEXT': '1098', 'AB Click2Shop': '454', 'Pureness Pacify (Android P) - Theme for Xperia™': '0', 'Australia Newspapers - AU News Apps': '48', 'EMT-B Pocket Prep': '2951', 'Anatomy & Physiology Vocabulary Exam Review App': '1', 'Garden Photo Frames - Garden Photo Editor': '1864', 'SnpCupid Dating': '1093', 'UniFi': '11018', 'R-net for Android': '48', 'SPEED L': '85', 'Viber Messenger': '11335481', 'Vintage Flower CM Locker Theme': '2910', 'Cy-Fair Christian Church': '2', 'Play Tube': '15874', 'Human Dx': '6', 'HD Video Player (wmv,avi,mp4,flv,av,mpg,mkv)2017': '171', 'Fix Error Google Playstore': '18', 'Safeway': '33572', 'SuperVPN Free VPN Client': '576454', 'MOD Black for BM': '2', 'MY GULFPORT FL': '0', 'Solitaire+': '11235', 'ES Audio Player ( Shortcut )': '1236', 'KTB Netbank': '42644', 'CE AH VLJ': '1', 'R Programming Solution': '169', 'Golfshot Plus: Golf GPS': '3387', 'Rock n Roll Music Quiz Game': '80', 'Bk Bee Sales Manager': '0', 'Adult Dirty Emojis': '80', 'Fingerprint Quick Action': '8484', 'VCalendar - VenkatRama and Co': '87', 'PES CLUB MANAGER': '783025', 'funny Image Comments for FB': '19', 'Peggle Blast': '166251', 'Moonlight GO Weather EX': '11510', 'iBP Blood Pressure': '578', 'Pediatric Nursing': '14', 'DataCamp - Learn R, Python & SQL': '944', 'DW Contacts Wear': '37', 'RISK: Global Domination': '68559', 'VitusVet: Pet Health Care App': '3052', 'Recipes Pastries and homemade pies More than 500 recipes for pastries': '14065', 'Pdf Book Download - Read Pdf Book': '1322', 'Shopping List S PRO': '14', 'FG. Chic - House Lounge Musique - Radios de France': '1', 'AJ Nails Supply': '1', 'ABG Master': '2', 'Stocks, Forex, Bitcoin, Ethereum: Portfolio & News': '157505', 'XDV': '6827', 'Tapas – Comics, Novels, and Stories': '29839', 'Art of F J Taylor': '2', 'Traffic Info and Traffic Alert': '695', 'CG Vidhansabha Chunav 2018': '0', 'Tennis Champion 3D - Online Sports Game': '170973', 'The Great Wobo Escape Ep. 1': '5449', 'Flippy Campus - Buy & sell on campus at a discount': '889', 'Arogyam EH': '18', 'VK': '5793284', 'Campervan.Guide Pro': '238', 'AI Image Recognizer (beta)': '0', 'Football Live Scores': '107724', 'AP Chemistry Prep: Practice Tests and Flashcards': '55', 'RIDE ZERO': '8778', 'EP Mobil': '3', 'DS file': '10676', 'DF Tracker': '2', 'DU CS Lectures - Learn to Code for Free': '16', 'DQT GPS': '3', 'Q-See QC View': '657', 'Discípulos em BH': '24', 'Weather': '18773', 'Mobile Security: Antivirus, Web Scan & App Lock': '574719', 'Eh Volevi!': '1619', 'Lose Belly Fat-Home Abs Fitness Workout': '199', 'DF Wall Plus – Droid Firewall': '9', 'Add-On: Alcatel (h)': '107', 'Elim AG': '7', 'Offroad Car H': '1960', 'Learn SAP BW on HANA': '0', 'SDV Cam': '67', 'AcDisplay': '66473', 'F-Secure Mobile Security': '13096', 'Life market': '30834', 'du View': '935', 'Jazz Wi-Fi': '49', 'BJ-UFO': '226', 'Real Estate by Movoto': '3114', 'British Airways': '25740', \"Read Unlimitedly! Kids'n Books\": '7462', '50000 Free eBooks & Free AudioBooks': '52312', 'GATE Syllabus for EC 2018 & Notifications': '23', 'MyASUS - Service Center': '380837', 'AB Screen Recorder': '533', 'Hotstar': '4885646', 'FP Live': '0', 'Glowing Flowers Live Wallpaper': '66730', 'EB Demo for Android': '0', 'Bw Events': '16', 'Vietnam Today - Read online newspapers, the hottest news 24h': '21147', \"DH Texas Poker - Texas Hold'em\": '562345', 'Wheretoget: Shop in style': '6808', 'JuiceNet - Smart EV Charging': '106', 'RetailMeNot - Coupons, Deals & Discount Shopping': '210208', 'SnipSnap Coupon App': '9975', 'BL Holo Theme': '18', 'Dete.bg': '0', 'HD Themes Toyota Cruiser 70': '86', 'EY Events': '31', 'Dolphins Live Wallpaper': '25807', 'EZ-ELD Driver App (Free)': '83', 'bacterial vaginosis': '0', \"Al'Quran Bahasa Indonesia PRO\": '1340', 'OK K.O.! Lakewood Plaza Turbo': '76608', 'Draw In': '46416', 'EY TaxLaw NL': '9', 'NAVITIME Bus Transit JAPAN': '6939', 'Wall Decorating Ideas': '6631', 'Talkray - Free Calls & Texts': '244863', 'TRANSFORMERS: Forged to Fight': '291941', 'Banjo': '58341', 'Dating Tips For Men': '0', 'Fertilizer Removal By Crop': '295', 'Q Actions - Digital Assistant': '0', 'EFAmbassador': '5', 'EZ Screenshot': '55', 'MangaToon - Comics updated Daily': '834', 'CityBus Lviv': '534', 'Diabetes:M': '15545', 'Deus Ex GO': '9699', 'Cisco Webex Teams': '1661', 'Vpn Hosts (ad blocker & no root & support ipv6 )': '319', 'Cy-Fair Houston Chamber': '0', 'The Secret Daily Teachings': '206', 'Bloomberg: Market & Financial News': '61692', 'Restaurantführer Südbaden': '46', 'Run Sausage Run!': '276105', 'Cv maker / Job cv maker': '14', 'CM Apps': '3341', 'Sword of Chaos - Lame du Chaos': '23599', 'Noticias FC Barcelona': '4', 'Bad Piggies HD': '764967', 'Sticker Camera - Selfie Filters, Beauty Camera': '2277', 'WSVN - 7 News Miami': '3320', 'Critical Ops': '1397944', 'Guns of Glory': '120592', 'Love Balls': '360630', 'WhatsApp Business': '137144', 'Emoji keyboard - Cute Emoticons, GIF, Stickers': '1107320', 'The Artificial Intelligence Project (A.I. Chat)': '76', 'Basketball Stars': '867920', 'BG Products': '4', 'Office Bike Racing Simulator': '21149', 'FJ Drive: Mercedes-Benz Lease': '107', 'Safe Santa Fe': '2', 'BU Study': '7', 'Lezhin Comics - Daily Releases': '28447', 'Kroger': '38961', 'Downloader & Private Browser': '1072565', 'NARUTO X BORUTO NINJA VOLTAGE': '267395', 'Words With Friends Classic': '1704112', 'Sephora: Skin Care, Beauty Makeup & Fragrance Shop': '26834', 'Uber Eats: Local Food Delivery': '333208', 'Slack': '51510', 'Project Grand Auto Town Sandbox Beta': '7885', 'KDRAMA Amino for K-Drama Fans': '4046', 'Dr. Oetker recipe ideas': '8509', 'Journal Club: Medicine': '216', 'CU SoCal Mobile Banking': '253', 'Free Slideshow Maker & Video Editor': '162564', 'My CookBook Pro (Ad Free)': '2129', 'B-17 Flying Fortress WWII LWP': '7', \"Fantastic Chefs: Match 'n Cook\": '8600', 'Basket Manager 2017 Pro': '163', 'Goodbox - Mega App': '3429', 'AP Themes for Kustom/KLWP': '5', 'Space X: Sky Wars of Air Force': '10748', 'Pou': '10486018', 'Turo - Better Than Car Rental': '14114', 'EMI, FD, RD - Bank Calculator': '42', 'Castle Defense 2': '35172', 'FK Mladá Boleslav': '0', 'U-Scan': '784', 'FE Other Disciplines Engineering Exam Prep': '0', 'DV-2019 PHOTO TOOL': '21', 'CM AppLock': '843', \"BJ's Community SoundBoard\": '0', 'BTK-FH Online Campus': '1', 'Child Growth Tracking': '498', 'Chinese Chess 3D Online (Xiangqi, 象棋, co tuong)': '23', 'Learn English with El Chavo.': '6133', 'Photo Editor Collage Maker Pro': '1519671', 'Dots puzzle': '179', 'AS Guía de las Ligas 2017-2018': '4374', 'AZ Screen Recorder pro': '60', 'AJ Bell Youinvest': '135', 'DZ sim': '417', 'Ramdor DM Mobile': '1', 'EF Mentor: Sounds': '19', 'Super Jim Jump - pixel 3d': '10460', 'Have your say on Europe': '19', 'Avokiddo Emotions': '73', 'Villarreal CF Wallpapers 4 Fans': '2', 'Girls Live Talk - Free Text and Video Chat': '6', 'Ticketmaster Event Tickets': '40113', 'I Am Rich Premium': '1867', 'Mosaic puzzles': '1595', 'Google Assistant': '58675', 'BH Online': '0', 'Remote EX for NISSAN': '223', 'Sanu Ek Pal Chain - Raid': '1', 'BI SmartLINK': '16', '2000 AD Comics and Judge Dredd': '705', 'Inwestor mobile': '124', 'CX-10WiFi': '1419', 'CQ Ukraine': '0', '360-M Flight': '84', 'Automatic Call Recorder': '1648515', 'Learn C [NEW]': '349', 'Weapon AK-74 Live Wallpaper': '25', 'Eddsworld Amino': '3071', 'X your Ex - Break Up Treatment': '32', 'ai.Bot Box': '0', 'Championat': '36490', 'US Stock Market': '1922', 'Jigsaw Puzzles FN FAL Light Automatic Rifle': '0', 'Pedi STAT': '129', 'Channel 19': '916', 'EU Brazil Green Business Forum': '0', 'Speed Car CM Locker Theme': '7519', 'FA Part 1 & 2 Past Papers Solved Free – Offline': '46', 'BSPlayer': '4585', 'Pistolet CZ-70 CZ-50 expliqué': '0', 'ReactNative BG Geolocation': '5', 'How well do you know me?': '1290', 'Fancy Widgets': '37237', 'Ham Radio Prefixes': '218', 'Autool BT-BOX': '4', 'Secret Codes For Android': '6060', 'FC Barcelona Official App': '92522', 'Ad Block REMOVER - NEED ROOT': '999', 'LinkedIn': '1225367', 'DM Tracker': '11', '3D DJ – DJ Mixer 2018': '6333', \"Where's My Water?\": '188740', 'StrongLifts 5x5 Workout Gym Log & Personal Trainer': '66791', 'Professional AV Solution & Products information': '24', 'Pain Tracker & Diary': '3', 'Guide for DB Xenoverse': '459', 'AQ Service': '4', 'AG Subway Simulator Pro': '0', 'Skype - free IM & video calls': '10484169', '7 Cups: Anxiety & Stress Chat': '13799', 'Best Wallpapers Backgrounds(100,000+ 4K HD)': '3596', 'SUDOKU': '923', 'BZ Zombie VR': '12', 'Microsoft Excel': '1079616', 'Kick Axe Bx': '0', 'AJ Percent Off Calculator': '134', '25WPM Amateur ham radio Koch CW Morse code trainer': '0', 'RoutePlan.cz': '6', 'Ad Blocker Turbo - Adblocker Browser': '107', 'Bridge Constructor Playground FREE': '137377', 'Video Wallpaper Show': '0', 'Sticky Note + : Sync Notes': '21507', 'SYFY': '3069', 'VideoShow-Video Editor, Video Maker, Beauty Camera': '4016834', 'EF Events': '7', '[Substratum] K-Manager for K-Klock': '14', 'Police VAZ LADA Simulator': '3502', 'Cheats for GTA V': '450', 'BT Church': '26', 'Thumbnail Maker': '26252', 'Downtown Mafia: Gang Wars (Mobster Game) Free': '69013', 'Multiple Sclerosis Dx & Mgmt.': '131', 'PixBox Coloring - Color by number Sandbox': '12293', 'Carnivores: Dinosaur Hunter': '62636', 'CZ File Manager': '876', 'Gold Wallpapers': '43', 'Sweet Baby Girl Newborn Baby': '36028', 'Remote Control For All AC - Universal Remote': '166', 'Alizay, pirate girl': '197', 'Name Art Photo Editor - Focus n Filters': '8788', 'Fo Fo Fish': '5', 'Gun Disassembly 2': '26347', 'Chest Simulator for Clash Royale': '4756', 'Target - now with Cartwheel': '68406', 'Sharaf DG': '7006', 'BD Briight: Your Diabetes Personal Assistant': '17', \"BS Detector - Diss 'n' Gauges\": '0', 'Poke Genie - Safe IV Calculator': '92958', 'B-Dubs®': '3042', 'Circle ratio': '10562', 'weight conversion calculator': '807', 'ibis Paint X': '224399', 'BC Lotto Check': '10', 'Overstock – Home Decor, Furniture Shopping': '25719', 'Omlet Chat': '40751', 'Freeland AH': '0', 'Crazy Bike attack Racing New: motorcycle racing': '20364', 'BV Teknisk App': '0', 'eharmony - Online Dating App': '31320', 'GS SHOP': '44255', \"We're Working Out - Al Kavadlo\": '979', 'WiFi FPV': '316', 'CL 2ne1 Wallpaper KPOP HD Best': '3', 'Pocket Prefix Plus': '192', 'CE Map - Interactive Conan Exiles Map': '62', 'autoricardo.ch – vehicles': '1045', 'Cougar Dating Life : Date Older Women Sugar Mummy': '1645', 'Flippy Axe : Flip The Knife & Axe Simulator': '7', 'Alif Ba Ta Bullseye': '1', 'Avast Mobile Security 2018 - Antivirus & App Lock': '5180480', 'DT NO.I': '44', 'R Studio': '23', 'Phone Tracker : Family Locator': '231446', 'AF Our Time to Shine': '0', 'Memory Helper - To do list, Notepad, Notes, Memo': '7566', 'P XPERIA Theme™ | INDIGO - Design For SONY 🎨': '12', 'X-ray scanner simulator': '1616', 'X Construction': '18612', 'Weather Forecast Pro': '14051', 'PS4 Second Screen': '11773', 'S Photo Editor - Collage Maker , Photo Collage': '972574', 'Tencent News': '7006', 'El Nueve': '221', 'Au Bon Pain': '70', 'Happy Street': '110877', 'BRL AG': '0', 'DRAGON QUEST IV': '1647', 'Cordova BG Geolocation': '4', 'Do It Later: Tasks & To-Dos': '123412', 'Transformers Rescue Bots: Disaster Dash': '19245', 'Fahrschule DW': '5', 'Battery Notifier BT Free': '21979', 'DT': '0', 'Learn SAP BW': '2', \"CN Sayin' - Cartoon Network\": '85', 'ESLock File Recovery Lite': '460', 'Lennox iComfort Wi-Fi': '552', 'df': '4', 'Toronto Dating': '0', 'dz press': '30', 'Narcos: Cartel Wars': '244797', 'cx advance call blocker': '3', 'MLP Colouring Adventures': '7379', 'Zynga Poker – Texas Holdem': '1986068', 'Star Chart': '128808', 'ek tuhi': '316', 'DT Health': '1', 'GGDE: Prevent & Beat Depression Symptoms': '2', 'SUMMER SONIC app': '4', 'Advanced EX for RENAULT': '130', 'BEYBLADE BURST app': '216849', 'Florida 511': '148', 'HTC Sense Input': '17030', 'e-Docente EI/anos iniciais EF': '2', 'Zona Azul Digital Fácil SP CET - OFFICIAL São Paulo': '7880', 'Vikings Stickman Axe Fighting': '924', 'Walking: Pedometer diet': '1861', 'Sugar Mommas Dating And Single Search': '1972', 'Choices: Stories You Play': '807338', 'Car Driving Theory Test BC': '0', 'A-Y Collection': '2', 'Mini DAYZ: Zombie Survival': '94661', 'LabCorp | Patient': '27', 'DREAM-e: Dream Analysis A.I.': '89', 'HD Movie Video Player': '18699', 'Little Lovely Dentist': '17786', 'BV Productions': '0', 'FOX': '197774', 'Weather forecast': '159455', 'MadLipz': '171017', 'BJ-DRONE': '1', '1st Fed CI Mobile Banking': '0', 'Hello English: Learn English': '750321', 'BZ-Smart': '828', 'Modern Counter Terror Attack – Shooting Game': '340', 'Papumba Academy - Fun Learning For Kids': '496', 'Ear Agent: Super Hearing': '42329', 'CL Keyboard - Myanmar Keyboard (No Ads)': '24', 'Papyrus Ex': '1092', 'cronometra-br': '0', 'Alex & Co Quiz': '9', 'PhotoGrid: Video & Pic Collage Maker, Photo Editor': '7529865', 'Alerte au gogol': '14', 'BW-Go': '265', 'Best Browser BD social networking': '6', 'FE Connect': '24', 'Materialistic P Wallpapers': '24', 'P Icon Pack': '0', 'ASUS Quick Memo': '23089', 'DK Eyewitness Audio Walks': '9', '3D DJ – Music Mixer with Virtual DJ': '796', 'Lazionews.eu': '25', 'FreedomPop Messaging Phone/SIM': '9894', 'U-Craft Mobile': '11404', 'AppClose - The #1 FREE Co-Parenting App': '159', 'U LIVE – Video Chat & Stream': '67611', 'Facetune - For Free': '49553', 'MegaFon Dashboard': '99559', 'Experian - Free Credit Report': '23130', 'App for Craigslist Pro - Buy & Sell Postings': '707', 'Q Wunder': '156', 'Bullet - FN Theme': '143', 'Google Allo': '347086', 'Wifi Connect Library': '58055', 'Guide for IMS DB': '0', 'Orbita AI — Exciting mobile puzzles & riddles': '116973', 'Genius Scan - PDF Scanner': '42492', 'Text free - Free Text + Call': '315441', 'Free Book Reader': '1680', 'Curso Básico y Avanzado la Fe de Jesús Audio-Texto': '0', 'Get Free V-bucks_fortnite Hints': '1997', 'The Washington Post Classic': '23158', 'Weather by eltiempo.es': '67854', 'Dragonplay™ Poker Texas Holdem': '197979', 'Download Video Free': '39682', 'Credit Karma': '706618', 'Common Core': '835', 'ER Emergency Hospital - Brain, Knee, Eye Surgery': '25', 'Free phone calls, free texting SMS on free number': '412888', 'AK-47 Simulation and Info': '2', 'BH Mail': '7', 'Mobitee GPS Golf Free': '1904', 'Doctr – ER wait times in Canada': '980', 'GPS Status & Toolbox': '149723', 'Paraglider Dashboard': '549', 'VPN - Fast, Secure & Unlimited WiFi with VyprVPN': '40676', 'EY Forensics': '7', 'Hush - Beauty for Everyone': '18900', 'Esto Es Guerra TVN': '1303', 'Lalafo Pulsuz Elanlar': '61392', 'OneTouch Reveal': '6266', 'Destiny Ninja Shall we date otome games love story': '13079', 'Master E.K': '90', 'Reload: The Z-Team': '1655', 'BZ Bingo': '1', 'Flybook': '1778', 'MiniMovie - Free Video and Slideshow Editor': '504823', 'Invasive Alien Species Europe': '13', 'kick the buddy': '294', 'Chess PRO Free': '1123', 'Azulones Getafe CF Fans': '4', 'Vuze Torrent Downloader': '24565', 'Wells Fargo Mobile': '250719', 'BJ Strategy Tester': '1', 'OfficeSuite Pro + PDF (Trial)': '88073', 'EO GSEA': '1', \"Bloglovin'\": '8936', 'Super Slime Simulator - Satisfying Slime App': '53652', 'Flickr': '251951', 'Mindvalley U Tallinn 2018': '1', 'CallApp: Caller ID, Blocker & Phone Call Recorder': '483782', 'Masha and the Bear': '15105', 'GoodRx Drug Prices and Coupons': '59158', 'AU Results - AU COE Corner': '664', 'WeatherClear - Ad-free Weather, Minute forecast': '3252', 'BT Master': '0', \"be'ah\": '5', 'Police Car Driving Sim': '72522', 'Sports Car Driving Simulator 2018': '2178', 'Zetup, print in one click': '40', 'Flashlight Free w/ compass': '75', 'Railroad Radio Vancouver BC': '4', 'MARVEL Strike Force': '166312', 'FG Radio - Radios de France': '0', 'Android Messages': '781810', 'dk': '5', 'Unstoppaball DX': '5', 'Q Mobile Banking': '460', 'The real aquarium - HD': '100130', 'TeamWard – live help for LoL': '3136', 'P-Home for KLWP': '4', 'AfterFocus': '165224', 'EB-Link': '6', 'BPme - Mobile Fuel Payment & BP Driver Rewards app': '69', 'Gun Builder ELITE': '88941', 'Br Shafi': '1288', 'AdWords Express': '7149', 'PPS Online': '37', 'FANDOM for: DC': '6715', 'Hisnul Al Muslim - Hisn Invocations & Adhkaar': '3234', 'ER Doctor Kids Emergency Room': '4798', 'AliExpress - Smarter Shopping, Better Living': '5917485', 'Robinhood - Investing, No Fees': '57493', 'Barista Coffee Dictionary A-Z': '127', 'Wi-Fi Master': '3673', 'WDAMAGE: Car Crash Engine': '47386', 'AE GTO Racing': '6988', \"People's Bank\": '10697', 'Relax Ocean ~ Nature Sounds': '9464', 'Fr Agnel Pune': '80', 'Peppa Pig: Party Time': '52', 'AJ Tracey Music and Lyrics': '0', 'Shoot Hunter-Gun Killer': '320334', 'Photo Collage - InstaMag': '542561', 'Skype for Business for Android': '78172', 'South Florida MLS': '133', 'Universal Kids': '1968', 'Seznam.cz': '46702', 'Vargo Anesthesia Mega App': '92', 'Grand Bat Superhero Flying Assault Rescue Mission': '1094', 'Barisal University App-BU Face': '100', 'AU Students Zone (Result 2016)': '97', 'U.S.A DV Lottery Process': '8', 'Axe Champ Hit': '1', 'BL Mobile Banking': '23', 'Vaniday - Beauty Booking App': '1067', 'Galaxy Defense': '78142', '20 minutes (CH)': '4379', 'Orfox: Tor Browser for Android': '44233', 'sugar, sugar': '1405', 'easyJet: Travel App': '134895', 'allhomes.com.au': '874', 'Call of Mini™ Dino Hunter': '326042', 'Mental Hospital:EB 2 Lite': '5341', 'WhatsCall Free Global Phone Call App & Cheap Calls': '1130966', 'AzadBazar.af': '3', \"Shaggy's DM Assistant\": '0', 'Ghost Hunting camera': '3048', 'Casual Dating & Adult Singles - Joyride': '61637', 'Rolling Sky': '1117212', 'Toilet Ek Prem Katha Songs Lyrics in Hindi': '3', 'FD Community FCU Mobile': '175', 'Bubble Shooter Genies': '26985', 'EI HabitTracker': '2', 'Free Meditation - Take a Break': '1608', 'CB TV': '2', 'Snaappy – 3D fun AR core communication platform': '16801', 'Geocaching®': '62616', 'BH INVEST': '7', 'Snes9x EX+': '70351', 'ORLANDO FLORIDA MAP': '3', 'Bubble': '31621', 'BK Shivani Videos': '29', 'Climatempo Lite - 15 day weather forecast': '634', '4K Ultra Camera': '382', 'Wordscapes': '230849', 'G-Pix [Android P] EMUI 8/5 THEME': '720', 'NCLEX-RN Q&A FLASH CARDS - FA Davis': '2', 'Weight Loss Running by Verv': '27396', 'Modern Combat 5: eSports FPS': '2903386', 'AfreecaTV': '381023', 'Ruler cm': '661', 'Solitaire!': '403911', 'Girly Wallpapers Backgrounds': '13565', 'BU Bookstore': '2', \"It's open.\": '1528', 'Hot Bhojpuri Video songs': '28892', 'The PCH App': '234971', 'Dots & Co: A Puzzle Adventure': '81001', 'Inputting Plus: Ctrl + Z/F/C/V': '1117', 'hellofood - Food Delivery': '43614', 'Hurdlr: Track Mileage, Expenses, and Log Receipts': '3596', 'R Programming Tutorial': '5', 'ei Calc': '2', 'Do Not Disturb! 2 - Challenge Your Prank Skills!': '34417', \"Chuck E.'s Skate Universe\": '94910', 'NEW Theme for Phone X': '8642', 'Truck Car Navi by Navitime Large size car, traffic jam, traffic closure, live camera, typhoon / precipitation map': '3682', 'Poop FR': '6', 'bm offers': '320', 'ba': '1734', 'BA Pro Financial Calculator': '36', 'CZ-27 pistol explained': '1', \"BC's Pizza\": '113', 'Live Golf Scores - US & European Golf': '798', 'iHunter BC': '55', 'Used Cars Mexico': '190', 'Rewards': '57', 'Dt Tracking': '4', 'ByssWeather for Wear OS': '19666', 'NAVITIME - Map & Transfer Navi': '41225', 'DK Readers': '30', 'Status For WhatsApp DP - pro': '49', 'BAR-B-Q Recipes': '0', 'FQ - Football Quiz': '1', 'DrivingTest': '975', \"Texas Hold'em Poker\": '12846', 'Skater Boy': '1167143', 'Dr B R Ambedkar (Jai Bhim)': '2068', 'F': '6', \"I'm Ping Pong King :)\": '29864', '100000+ Messages - DP, Status, Jokes & GIF 2018': '121', 'Driving n Parking School 2017': '15', 'True Skate': '129409', 'Boxed Wholesale': '6380', 'Baby Panda Learns Shapes': '3789', 'R-TYPE II': '5682', 'dt Pro': '4', 'Soundtrack Attack': '96045', 'GolfNow: Tee Time Deals at Golf Courses, Golf GPS': '26102', 'BF 3d Wallpapers': '256', 'Loop - Habit Tracker': '17955', 'ABAI CE Scanner': '0', 'Happy Birthday Songs Offline': '464', 'BH Challenge - Museum of the Jewish People': '12', 'EY Oil & Gas': '20', 'Xperia Link™': '45487', 'HD Themes Toyota Cruiser 100VX': '2', 'Resume Maker / CV creator & Templates': '54', 'Beauty and the Beast': '70883', 'CO CASE Events': '0', 'McClatchy DC Bureau': '80', 'C Functions': '55', 'Resume Free': '27820', 'Learn C Programming (Examples) (OFFLINE)': '43', 'Download Instant DP (Full HD)': '1283', 'DH Pineapple Poker OFC': '1878', 'Pepsi Cards DC': '1', 'CCHT PREP': '25', 'Rized ‼️ Color By Number & Pixel Coloring Book': '1279', 'Birthdays & Other Events': '456', 'Pixyfy: coloring by number coloring book': '22290', 'Kicker U Lite': '438', 'Vira.cz Widget': '86', 'Google Now Launcher': '857215', 'Ultimate Chest Tracker': '40328', 'BV Frankfurt inside': '3', 'Housing-Real Estate & Property': '28301', 'Tamago Tap Clicker Egg': '209', 'Tomo A.i. Pet Chat Bot': '40', 'Retro Camera': '125616', 'X Home Bar - Home Bar Gesture Pro': '88', 'FH CODE': '13', 'FeaturePoints: Free Gift Cards': '121321', 'Brainf*ck Interpreter': '24', 'Cold Spirits': '363', 'Kids Educational Game 3 Free': '24936', 'Magic Tiles - TWICE Edition (K-Pop)': '2351', 'stranger chat - anonymous chat': '13204', 'NOOK: Read eBooks & Magazines': '155466', 'Migraine, Headache Diary HeadApp Pro': '156', 'Moana Island Life': '15246', 'Slice: Package Tracker': '16966', 'BC Connect': '11', 'Babbel – Learn Languages': '267787', 'MyQuest for Patients': '3803', 'Amazing CG Backgrounds': '34', 'Checkers ✔️': '3617', 'CQ SIGNAL PRO 5': '0', 'BN Pro BlueICS HD Text': '174', 'B&M Stores': '192', 'Battleheart Legacy': '7420', 'BMH-BJ Congregation': '0', 'BG Cable TV': '5', 'El Laberinto del Demonio 2': '3654', 'WPTV 5 West Palm Beach': '1093', 'EJ Ecuador': '9', 'EZ Notes Lite': '69', 'DSLR Blur Camera Auto Focus': '75', 'Night Photo Frame': '4400', 'Hinge: Dating & Relationships': '7779', 'Korean English Translator': '634', 'ReDNAKET DB Normalization Tool': '0', 'My Wild Pet: Online Animal Sim': '26916', 'Ac remote control': '822', 'T-Mobile SyncUP DRIVE': '1981', 'My Chakra Meditation 2': '1288', 'EI App 1': '0', 'Walmart': '441473', 'Next Island: Dino Village': '29', 'Listen and learn English in seven days': '1516', 'A. O. Smith': '32', 'Free & Premium VPN - FinchVPN': '19096', 'Remote For Pioneer AV Receivers and Blu-Ray': '150', 'Range Master: Sniper Academy': '91935', \"Pharmacy CI - Pharmacies de garde Côte d'Ivoire\": '5509', 'Analog Clock AW-7': '2158', 'Survival: Prison Escape': '127810', 'Fan App for Portsmouth FC': '53', 'Bible Quizzer - The App for Bible Quizzers': '0', 'Easy V-Bux free': '856', 'Supply Travis-CI POC': '0', 'AirAsia': '98585', 'FAHREDDİN er-RÂZİ TEFSİRİ': '9', 'Sisense Mobile BI': '23', 'Cutie Cubies': '6356', \"Bo's School Day\": '10', 'Coupang': '308234', 'BZ Dealer': '5', 'Pic Collage - Photo Editor': '1451000', 'Coursera: Online courses': '90481', 'Theme for Tecno Camon CX / C8': '147', 'DV Lottery Simulator': '13', 'A/C Air Conditioner Remote': '7816', 'A & B Taxi': '41', 'Cyprus CU Mobile Banking': '295', 'Le Monde, the continuous news': '83558', 'Easy and Fast Recipes': '95', 'CD Events': '1', 'Selfie DV': '29', 'Duolingo: Learn Languages Free': '6297590', 'Custos F.O.': '0', 'Bacterial Vaginosis': '1', 'ESS Mobile for AE': '63', 'Lyrics of Ek Paheli Leela': '4', 'Paw Patrol by ShuffleCards': '3484', 'Il Coccodrillo Come Fa': '17', 'My Telcel': '45838', 'RandoChat - Chat roulette': '11806', 'EZ-Placard - Free Placard Calculator': '7', \"Oddworld: New 'n' Tasty\": '1475', 'Mitchell AH': '0', 'BZ Reminder PRO': '726', 'BC browser': '1', 'Sandbox Art-Sandbox Color by Number Coloring Pages': '12784', 'Solitaire': '685', 'Find Lover': '21', 'Microsoft Launcher': '649568', 'AV MAX': '9', 'AccuWeather: Daily Forecast & Live Weather Reports': '2053404', 'Block Gun 3D: Call of Destiny': '31883', 'Moon+ Reader': '233757', 'MeAuDote - An act of love that saves a life': '250', 'G Cloud Backup': '267189', 'Ulysse Speedometer': '40211', 'Weather & Radar Pro - Ad-Free': '25243', 'Lippincott Nursing Advisor': '343', 'Bleacher Report Live': '232', 'CG Jobs': '8', 'AE Master Moto': '17876', 'Montessori Preschool': '237', 'Where Am I?': '1313', 'BGKontakti London BG Kontakti': '4', 'CJ - BR MEMES': '109', 'BibleRead En Cy Zh Yue': '0', 'Ringtones & Wallpapers for Me': '89342', 'Profile w/o crop for Telegram': '348', 'Butterfly Pixel Art - coloring by number': '769', 'Apex Launcher': '266434', 'eHub': '6969', 'AH Alarm Panel': '7', 'EP Church Annapolis': '2', 'S Pen Keeper': '560', 'FL SW Fishing Regulations': '60', 'Writing Wizard Premium - Handwriting': '89', 'DK 15 Minute Language Course': '21', 'Truth or Dare Pro': '0', 'Virtual Mother Surgery Doctor : Emergency Hospital': '70', 'Blender BG - Photo Blend With Background': '0', 'WebCams': '3963', 'NBA': '108318', 'CHOSEN - EV Smart Charger': '1', 'FE CPS': '62', 'Hotels Combined - Cheap deals': '17202', 'Capitalnews.com.cy': '0', 'Texas Bar-B-Q Rewards': '0', 'FREE CHATS C.L.': '4', 'Placement Tips for BE (CE/IT)': '7', 'Z Camera - Photo Editor, Beauty Selfie, Collage': '1075277', 'Flashlight & LED Torch': '111507', 'TwitCasting Live': '14835', 'Citibanamex Movil': '52306', 'Old: CL-150': '120', 'Opera Mini - fast web browser': '5150801', 'Steam: Rails to Riches': '214', 'AR Toybox - Augmented Reality Demos': '20', 'Color By Numbers - Art Game for Kids and Adults': '305', 'Ay Yıldız Keyboard': '26', 'Airbnb': '359560', 'Roland DG Mobile Panel': '27', 'GO Keyboard - Emoticon keyboard, Free Theme, GIF': '2591941', '/u/app': '573', 'BT One Voice anywhere': '80', 'Doctors Care': '0', 'AO Player': '9', 'gardening ideas flower diy': '0', 'CG Yojna & Jansampark': '54', 'SIM Card Info': '4234', 'Truecaller: Caller ID, SMS spam blocking & Dialer': '7820775', 'Moovit: Bus Time & Train Time Live Info': '617477', 'Online TV CZ/SK PRO': '167', 'OpenGL ES Extensions - The OpenGL Utility': '513', \"Bo's Matching Game\": '3', 'SKIN BK': '0', 'Ankle Surgery ER Emergency': '10449', 'T-Mobile® FamilyMode™': '103', 'Curriculum Vitae': '3757', 'Autoroute.EU': '10', 'DS note': '2046', 'J. Cole Rapper Wallpaper HD': '8', 'Calvin Klein – US Store': '221', 'DIY CD Craft Ideas': '5', 'sABN': '2287', 'Be My Princess 2': '2806', 'Exiled Kingdoms RPG': '49210', 'Advanced Comprehension Therapy': '3', 'SleepyTime: Bedtime Calculator': '19621', 'Libre Scan (Diabetes:M addon)': '102', 'Gboard - the Google Keyboard': '1859115', 'CINE BR': '23', 'Speed Cameras Radar': '18710', \"McDonald's\": '145646', 'chat dz': '8', 'DN.VR': '29', 'Officiel du SCRABBLE LAROUSSE': '116', 'DM for WhatsApp': '25', 'FD e-paper': '183', 'Differential Equations Steps': '1185', 'Speed Reading': '10611', 'DS cloud': '4908', 'M-Files': '236', 'Ring': '517', 'Resume Builder / CV Maker & Templates': '25', 'U.S. Bank': '70782', 'DB Sound Meter: Measure Noise Level- Decibel Meter': '824', 'BN Pro Play HD Text': '63', 'Baby Tiger Care - My Cute Virtual Pet Friend': '432', 'Learn DS [BETA]': '9', 'DF SmartPlus': '0', 'NETGEAR WiFi Analytics': '9496', 'Virtual Families 2': '636228', 'Story Time FD': '2', 'Woody Puzzle': '21262', 'Dr. Booster - Boost Game Speed': '138872', 'Q-Ticketing': '114', 'Moto File Manager': '38679', 'Drawing for Kids Learning Games for Toddlers age 3': '29436', 'Comunidad BH': '23', 'Al Quran Indonesia': '445756', 'Evolution Marketing CR': '14', 'Couple - Relationship App': '33249', 'Shopee: No.1 Online Shopping': '608753', 'Skype Lite - Free Video Call & Chat': '33053', 'CASHIER': '335738', 'AW - Le News di AndroidWorld': '2808', 'Best Car Wallpapers': '994', 'Labs on Demand': '1', 'Calculator - unit converter': '287250', 'Complete Anatomy for Android': '90', 'icon wallpaper dressup💞CocoPPa': '595120', '乐屋网: Buying a house, selling a house, renting a house': '2248', 'Dating.dk': '2111', 'HR Team CQ Region Ed Qld': '0', 'Herpes Positive Singles Dating': '198', '► MultiCraft ― Free Miner! 👍': '1305050', 'Yandex.Weather': '309617', 'Ah! Monster': '1998', 'The Bump Pregnancy Tracker': '20301', 'Adult Color By Number Book: Number Coloring Pages': '2231', 'Sync.ME – Caller ID & Block': '205739', \"R. Lee Ermey's Official Sound\": '1696', 'Baby Game Animal Jam Free': '9', 'CT Scan Viewer 3D': '6', 'The CW TV app': '24', 'Tamilnadu EB Online Payment': '155', 'BN Pro BlueICS-b HD Text': '78', 'BK Dinos': '30', 'World Cup 2018': '4011', 'Download Manager for Android': '420518', 'Fooducate Healthy Weight Loss & Calorie Counter': '14402', 'Dino Defends king 3 – Dinosaur T rex Hunter Games': '182', 'Arab Halls - For Wedding & Events': '28', 'Lineage 2: Revolution': '187972', 'AU Call Blocker - Block Unwanted Calls Texts 2018': '16', 'AX Watch for WatchMaker': '2', \"Guns'n'Glory WW2 Premium\": '4656', 'Grenade Practice for CS:GO': '431', 'SA HLA BU': '119', 'DNS Changer - BEST (Gprs/Edge/3G/H/H+/4G)': '123', 'AQ Dentals': '0', 'Khrifa Hla Bu (Solfa)': '0', 'Theme for Samsung Galaxy Note FE': '52', 'EF English Live for phone': '2210', 'ES Holo Theme': '11449', 'Podcast Republic - Podcast Player & Radio Player': '66978', 'BackCountry Navigator TOPO GPS PRO': '6230', 'Angry Birds Star Wars': '1218055', 'BioLife Plasma Services': '250', 'Brightest Flashlight Free ®': '1335799', 'Score! Hero': '5419676', 'StudentLife.com.cy': '17', 'Meditation Studio': '1026', 'Platincoin Wallet - PLC Group AG': '375', 'Apartment List: Housing, Apt, and Property Rentals': '8481', 'CU of Colorado Mobile Banking': '347', 'edp re:dy smarthome': '30', 'FR Calculator': '7', 'The FP Shield': '0', 'Empire Z: Endless War': '367951', 'SEEK Job Search': '14955', 'BW Wallpaper': '4', 'Girls Nancy Ajram Without Net': '2639', 'DM Tuning': '64', 'BC Hockey': '20', 'SeatGeek – Tickets to Sports, Concerts, Broadway': '15558', 'CL Notifier': '36', 'Fever Meter': '26', 'MyMTN': '8550', 'PokeType - Dex': '36813', 'Waplog - Free Chat, Dating App, Meet Singles': '522018', 'GMAT Question Bank': '240', '3D Metal Piano Keys Keyboard Theme': '467', 'Super Hearing Secret Voices Recorder PRO': '3', 'Content Transfer': '19302', 'ACE Elite': '2898', 'Bhunaksha CG': '67', 'Free Dating App & Flirt Chat - Match with Singles': '172460', 'Little Pets Animal Guardians': '18893', 'KeePass DX': '0', 'ActionDirector Video Editor - Edit Videos Fast': '74531', 'U + professional baseball': '2486', 'Phoenix and Arizona Cameras': '134', 'Sin City Crime Simulator V - Gangster': '2113', 'F-Stop Gallery': '12726', 'Free Sports TV': '1802', 'IP address BW': '7', 'WRLP CB Repeater': '14', 'Al Quran MP3 - Quran Reading®': '47463', 'Home Scouting® MLS Mobile': '1533', 'Evil Apples: A Dirty Card Game': '137696', 'Motorola Assist': '37333', 'Air Traffic': '14110', 'Clear': '24151', 'BM Pharmacy': '42', 'Adobe Photoshop Express:Photo Editor Collage Maker': '914917', 'Pic Stitch - #1 Collage Maker': '15426', 'Google Docs': '815981', 'Signal Spy - Monitor Signal Strength & Data Usage': '875', 'Toys Defense: Horror Land': '168', 'Ek Onkar Mantras': '82', 'Living Smart Home': '39189', 'O Multiple - App Cloner, Duals APP, tarallel': '145', 'Tamago egg': '49', 'Allsetra B.V.': '15', 'My Effectiveness: To do, Tasks': '14089', 'Fuzzy Numbers: Pre-K Number Foundation': '21', 'Chat Click - Dating Search': '4', 'Hopeless Land: Fight for Survival': '250197', 'Hidden Objects Treasure Hunt Adventure Games': '275', 'Alpha Bank CY': '39', 'AP Stamps and Registration': '82', 'Unclouded - Cloud Manager': '6850', 'X-WOLF': '4878', 'Ninesky Browser': '42925', 'Fish|Hunt FL': '853', 'Official NBSTSA CST Exam Prep': '2159', 'Real Tractor Farming': '1598', 'Eversense': '3', 'Ninja FN Button': '12', 'junainfo.dy.fi': '8', 'Camera360: Selfie Photo Editor with Funny Sticker': '4865132', 'ING Banking': '39041', 'Free antivirus and VPN': '27749', 'Mirror’s Edge™ Companion': '1995', 'Pekalongan CJ': '0', 'Fast Tract Diet': '35', 'Farming Simulator 16': '32812', 'J-Stars Victory VS Guide': '609', 'CTRL-F - Search the real world': '607', 'Preschool All-In-One': '9019', 'Camera FV-5 Lite': '130081', 'USA TODAY': '49259', 'Exposure Ed': '2', 'Gold Butterfly Keyboard Theme': '10054', 'BP Fitness Lead Scanner': '0', 'FI CFL': '112', 'DW Timer': '9', \"AEMET's time\": '15966', 'CP Smart Check List': '1', 'slither.io': '5235294', 'CF Climb': '2', 'Love Dance': '29462', 'AV Pro Voice Changer': '174', 'Video Editor': '159622', 'Dr. Parker : Real car parking simulation': '15829', 'ooVoo Video Calls, Messaging & Stories': '1157004', 'Paint Hit': '37023', 'C Programs Handbook': '459', 'W Box VMS': '105', 'Football-CB GO Clock Theme': '26', 'VMAX IP Plus Mobile Client': '9', 'Children Educational Game Full': '30', 'GMAT Math Flashcards': '1769', 'Swift Dark CM / CM13 Theme': '1500', 'Car G-Force Meter': '184', 'DRAGON BALL Z DOKKAN BATTLE': '650114', 'Plants vs. Zombies™ Watch Face': '33178', 'Patience Words': '31', 'Cartoon Network App': '119202', 'CV S ( CV Editor - Resume )': '3972', 'Bejeweled Blitz': '222664', 'Norwegian For Kids & Babies F': '0', 'Sweet Selfie Beauty Camera': '601', 'GEM™': '6', 'Job Korea - Career Jobs': '10600', 'New Ringtones 2018': '3781', 'Verdad o Reto': '826', 'Rope Hero: Vice Town': '452589', 'Tigo Money El Salvador': '4642', 'Save.ca': '2094', 'Helping BD': '15', 'DT Manager': '9', 'HCP Anywhere': '114', 'ai robot keyboard': '1891', 'One Today by Google': '2586', 'Fame Boom for Real Followers, Likes': '896118', 'Call Blocker & Blacklist': '6', 'Planet of Cubes Survival Craft': '475944', 'Ah! Bird': '1689', 'EJ.by': '10', 'Be the Manager 2018 - Football Strategy': '7557', 'CT Prepares': '13', 'EV Calculator': '85', 'Start Meeting': '308', 'AC remote control mobile': '3043', 'AE Manager': '0', 'Feed Baby - Baby Tracker': '76795', 'Decibel X PRO - Sound Meter dBA, Noise Detector': '60', 'Death Dragon Knights RPG': '11179', 'BN Pro Black Text on White': '53', 'Mayo Clinic': '2218', 'Business Dictionary': '5988', 'Mobile CS:GO': '1015', 'Crossy Road': '4230886', 'DM Accounting and Payroll': '0', 'Univision Deportes: Liga MX, MLS, Fútbol Live': '75545', 'Revista BS': '10', 'Word Search Tab 1 FR': '0', 'Home Workout for Men - Bodybuilding': '12705', 'Cerulean Heart': '2683', 'ES Remote': '707', 'Bee Mobile EG': '883', 'Card Wars Kingdom': '920571', 'Advanced Warfare Guns': '2079', 'Real estate court auction information site - Hyundai court auction': '10', 'Buff Thun - Daily Free Webtoon / Comics / Web Fiction / Mini Game': '9952', 'Background Eraser': '267378', 'studentsLife by FH Kärnten': '108', 'VPN Free - Betternet Hotspot VPN & Private Browser': '801054', 'FirstCry Baby & Kids Shopping, Fashion & Parenting': '41074', 'Morse Notifier Free': '79', 'La Fe de Jesús': '10', 'Easy Realistic Drawing Tutorial': '223', 'EY Africa': '0', 'Resume & CV Creator by Desygner': '48', 'DW Mobile': '33', 'Airport + Flight Tracker Radar': '6762', 'DV-LOTTERY 2019 REGISTRATION': '97', 'DRAGON QUEST II': '2576', 'Do I Snore or Grind': '2295', 'EF Summits': '0', 'Escaping the Prison': '419375', 'Family GPS tracker KidControl + GPS by SMS Locator': '57146', 'ES Anywhere': '10', 'Notepad': '80581', \"Lead'er\": '54', 'Armored Warfare: Assault': '7718', 'iGun Pro -The Original Gun App': '249308', 'Elkhart County 4-H Fair': '38', 'Brain Waves - Binaural Beats': '5038', 'CT Cervical Spine': '5', 'EF Utilities': '0', 'Colorfit - Drawing & Coloring': '20260', 'EY Conferences': '1', 'GLASS GO Launcher EX Theme': '18280', 'BM Assets': '6', 'HD Themes Toyota Cruiser 50': '1', 'Z Ringtones PREMIUM 2018': '10158', 'The Florida Trail Guide': '100', 'Rossmann PL': '15867', 'BG TV Stations': '0', 'FE Mobile': '2', 'van Gennip Textiles BV': '1', 'EGW Writings 2': '6547', 'BA Status': '0', 'Dialysis of Drugs': '92', 'Smart File Manager': '17415', 'Solar CT PV System Power': '315', 'Alarm.fo – choose your info': '19', \"The first year of a baby's life\": '7505', 'EW Gate': '0', 'Break the Egg': '366', 'Countries of the European Union (Quiz)': '11', 'ricardo.ch': '13232', 'Nights at Cube Pizzeria 3D – 3': '15875', 'Injustice: Gods Among Us': '2440877', 'AP Mobile': '117', 'Ag-Power': '0', 'EP Lab Digest': '11', 'Car Crash III Beam DH Real Damage Simulator 2018': '151', 'CB Radio Chat - for friends!': '17998', 'EP Joaillerie': '54', 'Period Tracker - Period Calendar Ovulation Tracker': '4559407', 'Sermon on Proverbs CH Spurgeon': '35', 'BET NOW - Watch Shows': '14807', 'Unlimited Group Links - Whatsapp, FB, Telegram': '44', 'Ouedkniss': '10355', 'Pu - Cute giant panda bear, baby pet care game': '22167', 'CT CONNECT': '2', 'Hangouts Dialer - Call Phones': '122512', 'Mini DV': '12', 'Goldstar: Live Event Tickets': '1953', 'Extreme Racing 2 - Real driving RC cars game!': '4207', 'Telemundo Deportes - Live': '36255', 'Bar BQ Tonight Dublin': '0', 'myNaida CI': '64', 'Freecell CY': '387', 'EA Plus': '12', 'EU in the World': '8', 'Wanelo Shopping': '94205', 'Survival Forest : Survivor Home Builder': '9389', 'Simply Yoga - Fitness Trainer for Workouts & Poses': '6826', 'Meditation Music - Relax, Yoga': '48226', 'Foursquare Swarm: Check In': '421800', 'EVENTOS DF': '0', 'FreedomPop Friends for Free Data': '58', 'VRV: Anime, game videos & more': '15254', '591 housing transactions - renting houses, middle-class houses, new cases, real-time registration, villas through the sky, apartment suites, MRT, buying a house selling prices, housing mortgages': '24977', 'Pixxy KWGT': '60', \"We learn children's verses in kindergarten\": '3248', 'Moot Peru 2018': '13', 'Familial Hypercholesterolaemia Handbook': '2', 'Bike Race - Bike Blast Rush': '83891', 'HipChat - beta version': '1035', 'BF Frontline City': '29798', '4 in a row': '47698', 'U-Disco': '906', 'E-cigarette for free': '1354', 'Might & Magic: Elemental Guardians': '32551', 'Minion Rush: Despicable Me Official Game': '10216997', 'DS - xR': '2', 'BZ Berner Zeitung E-Paper': '4', 'Money Manager Ex for Android': '2695', 'CV Builder for Smart Resumes': '22', 'HTC File Manager': '13500', 'Chest Tracker for Clash Royale': '77717', 'İşCep': '381788', 'Little Magnet BT Pro': '251', 'EF Go Ahead Tour Companion': '23', 'Bubble Bird Rescue': '70753', 'Modern Sniper Strike: Best Commando Action 2k18': '164', 'DU Browser Mini(Small&Fast)': '20941', 'MobileBiz Co - Cloud Invoice': '373', 'HSPA+ Tweaker (3G booster)': '99290', 'Remote CT - Smart Remote': '3988', 'Brightest Flashlight - LED Light': '876866', 'Dezeen Magazine RSS Reader': '350', 'Abs Workout - 30 Days Fitness App for Six Pack Abs': '299', 'BG Remover & Eraser Pro': '4', 'AW Screen Recorder No Root': '1659', 'Santa Fe New Mexican e-Edition': '25', 'BU Mobile': '472', 'bz Basel News': '23', 'Pixlr – Free Photo Editor': '1163232', 'PriorityONE Credit Union of Fl': '178', 'Al Mayadeen': '13620', 'DX Alert': '27', 'Let us C - Example Programs': '36', 'FUN Keyboard – Emoji Keyboard, Sticker,Theme & GIF': '12089', \"Eat'n Park\": '292', 'BT Panorama': '34', 'BBC Media Player': '87384', 'Friend Find: free chat + flirt dating app': '23', 'Intellijoy Early Learning Academy': '160', \"Five Nights at Freddy's 2\": '73919', 'Square Analog Clock AW-7': '294', 'Princess Adventures Puzzles': '382', 'MARCA - Diario Líder Deportivo': '76340', 'Pistolet FN GP35 expliqué': '2', 'Type S LED': '628', \"Five Nights at Freddy's 3 Demo\": '1041836', 'Fodbold DK Pro': '315', 'Any.do: To-do list, Calendar, Reminders & Planner': '298854', 'Permit Test CO Colorado DMV': '41', 'AL.com': '803', 'NCLEX Multi-topic Nursing Exam Review-Quiz & notes': '1', 'Yes319 real price login query': '12', 'SHOWTIME': '12398', 'Fantasy Football & NFL News': '2943', 'Dr. Panda Town': '36578', 'AP Installer': '23', 'CV maker for Job Applications and Resume Maker': '75', 'FL Tax-Verify': '17', 'QR Droid': '349151', 'Betterment': '3780', 'Cooking Fever': '3198176', 'CP Dialer': '64', 'My FR App': '2', 'Web Browser': '10965', 'SCS eC': '7', 'DIY Recycled CD Wall Art': '3', 'Disney Magic Kingdoms: Build Your Own Magical Park': '472584', 'ES Classic Theme': '20865', \"Snoopy's Town Tale - City Building Simulator\": '47031', 'EB Experience': '0', 'AQ Coach': '0', 'Red Embrace (BL/Yaoi Game)': '616', 'CA Clarity Mobile Time Manager': '104', 'Electrician Calculator Pro': '47', 'CG - Conference Call Add-On': '6', 'Micro.bg Cloud POS System': '6', 'CI Time': '4', 'Arcraft - AR Sandbox': '469', 'Unicorn Pokez - Color By Number': '516', 'HTC Sense Input - FA': '1420', 'Black Survival': '48451', 'AS - Diario online deportivo. Fútbol, motor y más': '0', 'CZ-38 (vz 38) pistol explained': '0', 'AnatomyMapp': '80', 'Monster High™': '66661', 'DB Navigator': '119685', 'Traffic signs BD': '7', 'Pocket RxTx Free': '4513', 'Fanfic-FR': '52', 'Q Alerts: QAnon Drop Notifications, Research +++': '143', 'Super Flashlight + LED': '54207', '3D Blue Glass Water Keyboard Theme': '62209', 'D.L. Evans Bank Mobile Banking': '85', 'Post Bank': '60449', 'Wherever BQ': '7', 'KLM - Royal Dutch Airlines': '7705', '14thStreetVet': '0', 'BD Provider App': '45', 'STARDOM: THE A-LIST': '152658', 'EC Sampler': '0', 'Running & Jogging': '6238', 'NEMA ei': '4', 'SleepCloud Backup for Sleep as Android': '2563', 'Word Search Games in english': '63186', 'Advanced Download Manager Holo': '16192', 'Yahoo Finance': '135952', 'D-H Pharmacy': '6', 'Superhero Doctor 2 -ER Surgery': '39647', 'Travis CU': '207', 'Masha and the Bear - Hair Salon and MakeUp Games': '1', 'Text on Photo - Fonteee': '13880', 'Cardinal Glennon ER Reference': '19', 'Inventory & Barcode scanner & WIFI scanner': '1880', 'DC Universe Quiz': '11', 'Nextdoor - Local neighborhood news & classifieds': '51504', 'RUN JUMP RUN-fun games for free': '661', 'Penny Puss': '19', 'McDelivery Cyprus': '60', 'In to cm': '0', '591 Housing Trading - Hong Kong': '3522', 'Puffin Browser Pro': '18247', 'AJ Reminders': '0', 'My magenta': '42370', 'EJ Insight': '33', 'No Crop & Square for Instagram': '819774', 'CF cal': '123', 'Lesbian Chat & Dating - SPICY': '63765', 'Aaj Bangla: ei samay er khobor': '34', 'Offline: English to Tagalog Dictionary': '967', 'Insave-Download for Instagram': '46242', 'VMate': '192677', 'Cook Baked Lasagna': '56259', 'TripAdvisor Hotels Flights Restaurants Attractions': '1162838', 'A-Z App Store': '2728', 'cloudLibrary': '10774', 'BD Sports Box & TV': '5', 'Carousell: Snap-Sell, Chat-Buy': '125783', 'PixPanda - Color by Number Pixel Art Coloring Book': '55723', 'Bitmoji – Your Personal Emoji': '2312084', 'CB Fit': '1', 'Recipes for hair and face tried': '1203', 'Dating Network': '187', 'Caller ID & Call Block - DU Caller': '93930', 'Learn Morse Code - G0HYN Learn Morse': '27', 'EY Digital Tax AR': '2', 'Theme for Iphone X Plus': '126', 'Ski Safari: Adventure Time': '48754', 'HTC Gallery': '45744', 'K.MOJI': '16', 'Bike Race Free - Top Motorcycle Racing Games': '2586261', 'Telemundo Deportes - En Vivo': '36255', 'News by The Times of India Newspaper - Latest News': '522205', 'Mini Golf King - Multiplayer Game': '531458', 'Bitcoin Ticker Widget': '25744', 'Helper for Clash Royale (All-in-1)': '6078', 'Train Sim Pro': '1763', 'BBC Persian | BBC Farsi News': '978', 'FoothillsVet': '2', 'Sago Mini Hat Maker': '11', 'Nursing Central': '168', 'Sufara.ba': '285', 'American Airlines': '16980', 'FK Crvena zvezda': '1211', 'NewTek NDI': '77', 'Modern Action Commando 3D': '492', 'AX-PIC Pedidos': '1', 'Cy-Fair VFD EMS Protocols': '2', 'C I Patel School': '101', 'Diabetes, Blood Pressure, Health Tracker App': '309', 'Be A Legend: Soccer': '85763', 'PBS KIDS Games': '12919', 'Add Text To Photo': '21578', 'Seamless Food Delivery/Takeout': '35218', 'AP Mobile - Breaking News': '76677', 'EMI/FD/RD/PV/IRR/BEP/EOQ Calc': '58', 'King of Math': '766', 'R Programming Language (Paperset 1) MCQ Quiz': '1', 'Install images with music to make video without Net - 2018': '1070', 'Baby Panda Care': '108795', 'Blood pressure': '2256', 'French Chat Room': '24', 'The FN \"Baby\" pistol explained': '1', 'Next Gen Science Standards': '206', 'RoboPad': '41', 'Gang Wars of San Andreas': '9898', 'GastroHunter.EU': '1', 'Fast Notes FJ': '12', 'ez Share Android app': '1461', 'One Launcher': '26601', 'FollowMeter for Instagram': '90082', 'Lords Mobile: Battle of the Empires - Strategy RPG': '3057481', 'Coloring Book for Me & Mandala': '401211', 'AE Order': '19', 'Hangman': '23302', 'i am rich': '213', 'Bi en Línea': '5055', 'Healthy Relationships Guide': '0', 'letgo: Buy & Sell Used Stuff, Cars & Real Estate': '973270', 'Explora con el Chavo': '0', 'EyPools': '2', 'Google+': '4831125', 'OnePlus Icon Pack': '440', 'Tools & Mi Band': '15753', 'AU Spark': '681', 'AC Remote for Haier - NOW FREE': '336', 'ES-IPTV': '944', 'PlayKids - Educational cartoons and games for kids': '182173', 'Santa Fe Indian Market': '4', 'Transformers Rescue Bots: Hero Adventures': '41273', 'Calculator with Percent (Free)': '48211', 'GoPro (formerly Capture)': '157506', 'Ah Bailar': '10', 'Blood Donor': '4476', 'bi-Cube Mobile Token': '5', 'CIA - Caller ID & Call Blocker': '60308', 'Zapya - File Transfer, Sharing': '387958', 'NFL': '459797', 'Blood Pressure(BP) Diary': '3596', 'CL Clock': '7', 'F-O-Meter': '0', 'Barcelona Live - Goal Score & News for Barca Fans': '38', 'AG EMS Tour': '3', 'Cops N Robbers - FPS Mini Game': '156862', 'Who am I? (Biblical)': '5849', 'Pregnant Emergency Surgery': '127229', 'AJ Jump: Animal Jam Kangaroos!': '2975', 'Cheap Flights & Hotels momondo': '42546', 'Boyaa Poker (En) – Social Texas Hold’em': '71468', 'Card Creator for CR': '117850', 'BZ Langenthaler Tagblatt E-Paper': '0', 'Speedometer with G-FORCE meter': '415', 'CI Stream': '0', 'Punjab Online - Land Records • EB Bill Pay • RC/DL': '16', 'BK murli today (Mobile Murli) - Gyan': '100', 'EW MOTION THERAPY': '0', 'ACCEPT CE MARKING': '0', 'Learn R Programming Free EBook': '1', 'JONACK (D Story Teller)': '152', 'J. Polep Plus Mobile': '0', 'Random Chat App with Strangers': '2', 'Draw N Guess Multiplayer': '29505', 'Typical EA Game': '33', 'signály.cz': '38', 'News360: Personalized News': '30722', 'USPS MOBILE®': '16589', 'Meet With Strangers: Video Chat & Dating': '2', 'File Explorer': '979', 'FN FAL rifle explained': '1', 'EY GlobalOne': '11', 'BU Dental GoGoldman': '0', 'CB Edits PNG & CB Backgrounds': '17', 'Creative CD Letter Holder': '0', 'S-Home DK': '4', 'CA Auth ID': '39', 'Claus Paws AH': '1', 'Girls Hairstyles': '3595', 'BG BRIDAL GALLERY': '17', 'EB-TV': '6', 'Free CW TN Videos 2018': '0', 'Sin City Hero : Crime Simulator of Vegas': '3371', 'Professor Online SEDUC-CE': '188', 'eu sou franky': '195', \"Hey That's Pretty Good!\": '222', 'InstaCam - Camera for Selfie': '15098', 'AC Remote Control Simulator': '353', 'Latest Barcelona News 24h': '104', 'The Coupons App': '181990', 'AO/OTA Fracture Classification': '25', 'Top Novini BG': '2', 'Learn R Programming': '0', 'EdiRange': '736', 'GRE Prep & Practice by Magoosh': '3963', 'CJ VLC HD Remote (+ Stream)': '4074', 'FL Racing Manager 2018 Pro': '340', 'Motorbike Driving Simulator 3D': '178723', 'Yahoo Mail – Stay Organized': '4188345', 'The Weather Network': '135337', 'Fake Chat (Direct Message)': '5985', 'Evasion.bz': '8', 'Going Abroad': '606', 'FunForMobile Ringtones & Chat': '68358', 'Blur Image Background Editor (Blur Photo Editor)': '62421', 'Dog Run - Pet Dog Simulator': '48701', 'Ultimate Background Eraser': '14453', 'Yandex.Trains': '56471', 'FH Calculator': '9', 'DAILY: Free Classifieds App for Android': '5025', 'Video Downloader For FB: Save FB Videos 2018': '434', 'Best Friends Dress Up & Makeup': '7664', 'Relax Melodies: Sleep Sounds': '233243', 'FK Vardar': '2', 'e-DN - den digitala tidningen från Dagens Nyheter': '160', 'CJ Fitness': '221', 'AK-47 sounds': '7', 'TeachersPayTeachers': '828', 'Photo Warp': '353342', 'Dp For FB': '12', 'BLK - Swipe. Match. Chat.': '2067', 'Cystic Fibrosis Symptoms, Doctors & Treatments': '6', 'Zenefits': '296', 'The Walking Zombie: Dead City': '58575', 'LG AV REMOTE': '2420', 'CM S Pen Add-on(ROOT)': '373', 'quran-DZ': '0', 'ES File Explorer File Manager': '5383985', 'Burrito Bash – We Bare Bears': '10776', 'CT Pulmonary Angiography': '0', 'DU Cleaner – Memory cleaner & clean phone cache': '465831', 'Flashlight HD LED': '618918', 'DS Barometer - Altimeter and Weather Information': '2962', 'VPlayer': '5639', 'CV (Curriculum Vitae / Resume) Maker': '4', 'Blackjack Verite Drills': '17', 'U-Report': '241', 'Mobile Bancomer': '278082', 'Note Everything': '57033', 'US 115th CD': '0', \"JackThreads: Men's Shopping\": '13085', 'TI-Nspire CX Calculator Manual': '11', 'Ferguson AH': '0', 'Flat Pack': '862', 'Pacify Exceed (Android P) - Theme for Xperia™': '5', 'Facebook Ads Manager': '19051', 'Companion for Fortnite & Fortnite Battle Royale': '2736', 'AZ Lottery Players Club': '97', 'SnakeBite911 FR': '1', 'Gymnastics Superstar - Spin your way to gold!': '305765', 'I Love U Theme&Emoji Keyboard': '655', 'Wallpaper.cz': '7', 'Ra Ga Ba': '2', 'EP': '3', 'Eu Sou Rico': '0', 'G Cloud Apps Backup Key * root': '1034', 'Sexy Hot Detector Prank': '17067', 'Photo Editor': '42079', 'Ultimate DC Challenge': '937', 'Feel Performer': '62', 'Qatar Airways': '11182', 'CM FILE MANAGER HD': '144879', 'Awake Dating': '2', 'CS go bomb simulator': '7', 'My Virtual Boyfriend': '105', 'EC Designer 2.0': '0', 'ac remote control': '9514', 'CF Etowah': '0', 'Age of Conquest: N. America': '659', 'Monster Truck Driver & Racing': '765', 'CI Screwed - Icon Pack': '19', 'H-Kakashi - theme Xperia™': '621', 'AQ Ria Retail': '4', 'InstaBeauty -Makeup Selfie Cam': '654419', 'Barcelona Live 2018—Goals & News for Barca FC Fans': '342', 'The EO Bar': '416', 'Bird - Enjoy The Ride': '2649', 'Familyfirst Messenger': '1', \"Band O'Clock\": '1140', 'Tuberculose Dz': '26', 'My Budget Book': '19784', 'Romance et Mystères au Lycée': '350', 'B&H Photo Video Pro Audio': '17180', 'SnowMobile Parking Adventure': '12257', 'Can I pack that? - DG App': '58', 'BLACKJACK!': '524467', 'Adobe Premiere Clip': '39495', 'AP Psychology Prep: Practice Tests and Flashcards': '242', 'La Liga - Spanish Soccer League Official': '180938', 'Whisper': '205803', \"Bo's Dinnertime Story\": '6', 'Somos CG': '2', 'Mapy.cz - Cycling & Hiking offline maps': '56443', 'ODTMobile': '15', 'Brave Browser: Fast AdBlocker': '40241', 'V.360° Camera': '582', '21-Day Meditation Experience': '11506', 'English Audio Books - Librivox': '10773', 'Day R Premium': '51068', 'Super Jabber Jump 3': '34494', 'HTC Sense Input-AR': '1420', 'EF Smart English for Phone': '208', 'Underdog FC': '216', 'Citymapper - Transit Navigation': '65448', 'Clinic Doctor EHr': '2', 'Bm': '1', 'DB Event App': '37', 'PRO MX MOTOCROSS 2': '25275', 'XML Editor CR': '47', 'FR: My Famous Lover': '185', 'Free TV Shows App:News, TV Series, Episode, Movies': '29706', 'WeChat': '5387631', 'Yoriza Pension - travel, lodging, pension, camping, caravan, pool villas accommodation discount': '17882', 'Basket Manager 2016 Pro': '117', 'Weather Crave': '133338', 'New York Mysteries (Full)': '514', \"Game for KIDS: KIDS match'em\": '7006', 'iCard BD Plus': '2', 'MbH BP': '9', 'VR AG Racing for Cardboard': '13', 'Night Camera Blur Effect': '100', 'BL!TZ - Endless': '21', 'Calendars (En, Bn, Ar)': '27', 'TO-FU Oh!SUSHI': '59917', 'diep.io': '347883', 'Axxess AX-DSP': '17', 'Stocks: Realtime Quotes Charts': '16808', 'A/C REFRIGERANT CAPACITY': '84', 'EO Hub': '0', 'Golden Launcher': '32794', \"Shop 'n Save\": '620', 'EP FCU': '2', 'AB Anywhere Mobile Banking': '3', 'AQ: First Contact': '0', 'Weaphones™ Gun Sim Free Vol 1': '598975', 'Burger King Foot Lettuce': '150', 'Free Dating & Flirt Chat - Choice of Love': '42197', 'Ovia Pregnancy Tracker & Baby Countdown Calendar': '102858', 'Cute Pet Puppies': '10447', 'Ay Yıldız Analog Saat': '37', 'Ba dum tss - Rimshot widget': '690', 'Free DS Emulator': '22896', 'Philips Hue': '10006', 'Posta App': '8', 'Bf Light': '6', 'EP Coding': '0', 'Account Class-12 Solutions (D K Goel) Vol-1': '708', 'DS cam': '3227', 'EZ TV Player': '51', 'EP Mobile': '267', 'Earth & Moon in HD Gyro 3D Parallax Live Wallpaper': '66321', 'PhotoWonder: Pro Beauty Photo Editor Collage Maker': '852649', 'Topbuzz: Breaking News, Videos & Funny GIFs': '175110', 'Yanosik: \"antyradar\", traffic jams, navigation, camera': '102248', 'Camera ZOOM FX - FREE': '88860', 'Wallpapers FN Herstal FNP 9': '0', \"BU Students' Rep. Council\": '38', 'foodpanda - Local Food Delivery': '292969', 'Video Download For FB': '444', 'NUsport': '1391', 'CB Underground': '3', 'BH Recepti': '3', 'Facejjang': '100179', 'DT CLOTHINGS': '1', 'Ultimate Notepad': '10643', 'B y H Niños ES': '53', 'BP Assist': '0', 'Employ Florida Mobile': '97', 'Adblock Plus for Samsung Internet - Browse safe.': '8769', 'Synology Drive': '368', 'Curriculum Vitae - Resume CV': '80', 'Angry Birds Epic RPG': '2634605', 'Be My Love Animated Keyboard': '838', 'WAH AH': '0', 'reality.cz': '1372', \"HANGAME Casino - Baccarat & Texas Hold'em\": '8608', 'Dr. Sudoku': '2310', 'Bedroom Decorating Ideas': '2382', 'Superheroes Wallpapers | 4K Backgrounds': '7699', 'SDA Collegiate Quarterly': '8', 'CT MyChiroTown Mobile': '40', 'eP Scanner': '0', 'PASS by KT (formerly KT certified)': '7869', 'Zapzapmath: K-6 Math Games': '1065', 'DV - Digito Verificador': '2', 'EduNAV.BH': '3', 'Consultar Infracciones de Transito DF y Mexico': '0', 'Starfall Free & Member': '19720', 'Phoenix - Facebook & Messenger': '9606', 'USA Singles Meet, Match and Date Free - Date': '5084', 'Runner 3d like': '559', 'DV-4036 by Somikon': '17', 'Dictionary': '264260', 'Justice League Action Run': '22333', 'CB Mobile': '3', 'I Screen Dialer': '8137', 'BN Pro ArialXL-b Neon HD Text': '66', 'Mediabox CY': '0', 'Jiji.ng': '25714', 'HD Themes Toyota Cruiser 40': '2', 'Should I Answer?': '237468', 'Map My Hike GPS Hiking': '12858', 'Yandex.Disk': '115072', 'S Note': '12435', 'JOANN - Crafts & Coupons': '34802', 'Armed Cam Gun Pack': '1012', 'Oración CX': '103', 'GoBank': '5950', 'Daily Workouts - Exercise Fitness Routine Trainer': '134195', 'Kids Craft Ideas': '99', 'R-TYPE': '7687', \"Connect'Em Halloween\": '6673', 'AP Government Review': '3', 'VictronConnect': '400', 'E-Z App™ Train Control': '33', 'Sports Tracker Running Cycling': '190247', 'H-Connect': '50', 'All Language Translator': '29944', 'EC Reps': '1', 'Shred! Downhill Mountainbiking': '41683', 'C.P. CERVANTES (TOBARRA)': '0', 'Pokémon TV': '117461', 'TNEB': '1777', 'Fortune City - A Finance App': '49275', 'Alarm Clock': '114788', 'Speech Therapy: CH': '0', 'All-night drugstore CI & Price': '0', 'Smash Hit': '4147718', '30 Day Ab Challenge': '1886', 'InterracialCupid - Interracial Dating App': '212', 'Does not Commute': '154108', 'Story Saver for Instagram': '41331', 'Q MINDshare Mobile': '24', 'Temple Run 2': '8119154', 'Chat Mexico: meet people, flirt and friendship': '8', 'BlueDV AMBE': '0', 'DELISH KITCHEN - FREE recipe movies make food fun and easy!': '32997', 'Mobile Security & Antivirus': '564759', 'We Heart It': '637309', 'X-Plane 10 Flight Simulator': '63197', 'AP Art History Flashcards': '1', 'My AEK - Official ΑΕΚ FC app': '3346', 'EA SPORTS™ FIFA 18 Companion': '282727', 'CK-12: Practice Math & Science': '562', 'HTC Social Plugin - Facebook': '13223', 'Results for DC Lottery': '160', 'CALIOPE EU: Air Quality': '21', 'El Laberinto del Demonio 3D': '20421', 'City Driving Jeep Mania: Parking Passion 2018': '36', 'Dp For Whatsapp': '39', 'Galaxy Gift': '95557', 'CF Calculator': '25', 'EBook For SAP BW ON HANA Learning Free': '0', 'Meitu – Beauty Cam, Easy Photo Editor': '462702', 'Roulette Advisor LITE': '41', 'AJ Rafael Music Lyrics': '0', 'SD card backup': '142', 'Account Manager': '76604', 'Showtime Anytime': '18523', 'Pick Your Part Garage': '142', 'Agent HQ for The Division': '1060', \"What's Your CS:GO rank?\": '278', 'The Ledger - Lakeland, Florida': '89', 'CG - Calendars Add-On': '49', 'Jigsaw Puzzles Volvo FH Truck Game': '4', 'Resources For Virtual DJ': '21095', 'DRC Sim - Wii U Gamepad': '210', 'Snapfish': '32398', 'US Mission - buy gourmet movie KTV': '6554', 'Tutorials for SAP BW Offline': '1', 'PLMGSS FR': '0', 'Florida Blue': '499', 'Binaural Beats Meditation': '411', 'Camera MX - Free Photo & Video Camera': '244371', 'Udemy - Online Courses': '99020', 'BN Pro Solid Battery-White': '7', 'Ultimate Ab & Core Workouts': '55571', 'ES Material Theme for Pro': '14428', 'Auto DM for Twitter 🔥': '44', 'Glow Hockey': '1703479', 'World of Warriors: Duel': '25952', \"Guns'n'Glory Premium\": '3570', '💘 WhatsLov: Smileys of love, stickers and GIF': '22098', 'Inches to cm conversion': '29', 'EK Bailey Preaching Conference': '3', 'Ríos de Fe': '141', 'Emmabodafestivalen': '12', 'Ninja Turtles: Legends': '344283', 'Watch AW-7': '249', 'Fishdom': '2158580', 'Merck CE': '2', 'Pulse Nabd - World News, Urgent': '357944', 'ZUL - Rotativo Digital BH': '29', 'Happify': '1812', 'To-do list': '688', 'My Style CM 13 Theme': '314', \"Rope'n'Fly 3 - Dusk Till Dawn\": '166033', 'Apartments & Rentals - Zillow': '27387', 'Caprock Santa Fe Credit Union': '0', 'Tattoodo - Find your next tattoo': '7457', 'Scanning body and undressing people': '1012', 'SpongeBob Diner Dash': '576210', 'Ascape VR: 360° Virtual Travel': '890', 'LC-DB': '1', 'Create apps fast with beautiful design and no code': '23729', 'CR Family': '10', 'Baby Name Together': '464', 'Motocross Fun Simulator': '22570', 'Rush': '260651', 'Control Center iOS 11 - Phone X notifications': '514', 'Add Watermark Free': '18325', 'Beard Live Camera Photo Editor': '900', 'MHD F-Series': '73', 'T-Mobile Visual Voicemail': '41502', 'Cookpad - FREE recipe search makes fun cooking · musical making!': '64784', 'BK Chat': '6', 'Learn CW': '0', 'BJ Adams': '1', 'TNEB Reading': '28', 'Ringtones Of Ek Onkar': '6', 'Twilight: Blue light filter': '318134', 'Capital Bk Mobile Business Dep': '1', 'Al Quran (Tafsir & by Word)': '57400', 'TryDate - Free Online Dating App, Chat Meet Adults': '7888', 'CG Sanyukt Bharti Pariksha 2018': '14', 'Fields of Battle': '71476', 'F-Secure KEY Password manager': '2588', 'CG Wizard': '6', 'Dynamics AX': '244', 'CG Backgrounds': '8', 'Vector': '3058687', 'BQ Wings': '1', 'Pocket Heroes': '96658', 'Evolve CP Calc. for PokemonGo': '116', 'Snag - Jobs Hiring Now': '32584', 'Private Dating, Hide App- Blue for PrivacyHider': '0', 'FD VR - Virtual App Launcher': '1463', 'Ej-buy': '2', 'Jagobd - Bangla TV(Official)': '39109', 'Period Tracker': '325738', 'theScore esports': '16257', 'Führerschein Klasse CE, LKW 2018': '57', 'Alphabet \"H\" Passcode Lock Screen': '2', 'Buzz Launcher-Smart&Free Theme': '251616', 'Dr. B.R.Ambedkar': '1902', 'Talking Tom Bubble Shooter': '687136', 'Sweden Newspapers': '0', 'CL Mobile - Classifieds for Craigslist': '27275', 'CK Call NEW': '0', 'Castle Clash: RPG War and Strategy FR': '376223', 'NOOK Audiobooks': '2539', 'WomanLog Calendar': '121838', 'Fitbit': '357417', 'BuzzFeed: News, Tasty, Quizzes': '131028', 'AP Calculus BC Practice Test': '4', 'DV 2018 Winners Guide': '11', 'Cures A-Z': '265', 'Counter Terrorist Gun Strike CS: Special Forces': '211', 'Lightning Web Browser': '12578', 'Pokémon GO': '10424925', 'AXE.IO - Brutal Survival Battleground': '3845', 'Cut the Rope GOLD': '61264', 'Mirror Photo:Editor Collage (HD)': '373606', 'CASE K-12 Math English Science': '60', 'CH Kadels': '36', 'CI Attendance': '0', 'Banco Sabadell App. Your mobile bank': '25205', 'Free Messages, Video, Chat,Text for Messenger Plus': '6086', 'Brexit EU': '7', 'Rabbithole': '3347', 'DV Web Design Tips': '1', 'CD Library': '44', 'Dash Quest Heroes': '8432', 'ARY NEWS': '2959', \"Kinot & Eichah for Tisha B'Av\": '98', 'Bangla Calendar 1425: (EN-BN-AR) Holiday': '31', \"Dr. Doug's Tips\": '22', 'BkEmu - BK-0010/11M emulator': '222', 'Cube BR LWP simple': '19', 'IFTTT': '117255', 'Numbers Into Words': '457', 'Governor of Poker 2 - OFFLINE POKER GAME': '246538', 'BL 女性向け恋愛ゲーム◆ごくメン': '1901', 'Co-Optima Mobile': '218', 'Groupon - Shop Deals, Discounts & Coupons': '1371082', 'EV Stations Hawaii': '7', 'Water Droplets Keyboard Theme': '398', 'English words application mikan': '9888', 'FML F*ck my life + widget': '1415', 'LOBSTR - go on a lunch date': '101', 'Pushbullet - SMS on PC': '176873', 'Undead Assault': '4704', 'Kingdom in Chaos': '5623', 'Galactic Core Free Wallpaper': '69417', 'Brit + Co': '987', 'Apartment Decorating Ideas': '1478', 'Christian Dating For Free App': '8723', 'Puck AI Personal Assistant Robot': '22', 'Quiz CS:GO players': '460', 'LC-DB-LITE': '0', 'Bu Hangi Oyun ?': '2', 'Intra- and extra-EU trade data': '1', 'System Update Free': '3068', 'Just Dance Now': '794058', 'Flight Simulator: Fly Plane 3D': '660613', 'AC REMOTE UNIVERSAL-PRO': '402', 'EC Games Datecs': '76', 'CURSUM B': '30', 'FlashLight F.Light': '3943', 'Modern Strike Online': '834117', 'FilmoraGo - Free Video Editor': '238459', 'BURGER KING® App': '41747', 'Ethical Hacking': '128', 'Free games: Masha and the Bear': '34514', 'AW Connect': '0', 'DC Legends: Battle for Justice': '355613', 'MIUI Style GO Weather EX': '2115', 'Soo Co-op Mobile Banking': '159', 'Cut Out : Background Eraser and background changer': '7118', 'AK Lodi Films': '23', 'Plants vs. Zombies™ 2': '567632', 'Checkers': '375996', 'Nights at Cube Pizzeria 3D – 2': '47151', 'The Room: Old Sins': '21119', 'V BTS Wallpaper': '127', 'Nights at Slender Pizzeria 3D': '2628', 'Book store': '22486', 'Droidbug BusyBox Advance PRO': '2', 'Deck Advisor for CR': '37975', 'AQ Math Facts': '1', \"Vikings: an Archer's Journey\": '10256', 'Learn to Read with Tommy Turtle': '20763', 'The Grand Bike V': '3478', 'BV Bombers': '0', 'Philips IQon Spectral CT Fundamentals.': '2', 'Bubbu – My Virtual Pet': '394842', 'Bestie - Camera360 Selfie': '512996', 'BN Más Cerca de Usted': '8185', 'Atlanta United FC': '215', 'Free Resume App': '15830', 'World History Quick e-Book': '1657', 'Compas BP Store': '0', 'Ay Peruk': '0', 'Preferences Manager and SQLite DB Viewer': '13', 'EY Football': '0', 'Be like Me - Hay Nhu Toi': '44', 'Navigation Plus': '928', 'HomeWork': '16195', 'Add-On: bq (a)': '26', 'BJ Bridge Pro 2018': '17', 'Webmail web mobile app': '395', \"Cook'n Recipe App\": '552', 'Live chat - free video chat': '1', 'Modern: DU Launcher Theme': '868', 'Chime - Mobile Banking': '5928', 'BeyondPod Podcast Manager': '32121', 'DP Maker': '784', 'Plants vs. Zombies FREE': '4067651', 'Collage&Add Stickers papelook': '32896', 'ER Hospital Simulator': '286', 'DF Squid': '1', 'Photo Editor & Candy Camera & Grid & ScrapBook': '159', 'Ako ay may lobo Pinoy Kid Song Offline': '0', 'W Box VMS HD': '24', 'Best Blood Type AB: Food Diet & Personality': '3', 'Ek Bander Ne Kholi Dukan': '10', 'Baby puzzles': '11950', \"LIFULL HOME'S\": '7573', 'iLauncher OS 12 Pro - Phone X': '3', 'Every disease has a drug without internet': '44', 'FK Radnicki Nis': '1', 'AudioBT: BT audio GPS/SMS/Text': '198', 'UNICORN - Color By Number & Pixel Art Coloring': '8264', 'Word Crossy - A crossword game': '240416', 'Scratch-Off Guide for FL Lotto': '25', 'VZ Navigator': '16101', 'MoodSpace': '503', 'Portable Wi-Fi hotspot': '138129', 'Swahili Radio': '171', 'Messages, Text and Video Chat for Messenger': '49580', 'DL Image Manager': '2', 'FIFA - Tournaments, Soccer News & Live Scores': '342912', 'RMEduS - 음성인식을 활용한 R 프로그래밍 실습 시스템': '4', 'Racing CX': '4', 'Maps - Navigate & Explore': '9235373', 'Code': '239242', 'Red Bull TV: Live Sports, Music & Entertainment': '42069', 'Forgotten Hill: Surgery': '2431', 'Z Champions': '96028', 'EZ Receipts': '2187', 'Live Tennis Rankings / LTR': '1660', 'AP ENPS Mobile': '22', 'Fat No More - Be the Biggest Loser in the Gym!': '48545', 'DG Xplained': '1', 'Movement BE': '20', 'R Programming': '2', 'HD Camera Pro for Android': '49211', 'U Assist - Screen Mirroring & Sharing App': '198', 'Hello Face': '0', 'Zombie Hunter King': '10538', 'TouchPal Keyboard - Fun Emoji & Android Keyboard': '615381', 'Blendr - Chat, Flirt & Meet': '28671', 'Phonics Puzzles': '4', 'C Prowess': '306', 'Real Football': '585564', 'Even - organize your money, get paid early': '12304', 'Axe': '18', 'File Browser by Astro (File Manager)': '609182', 'NCAA March Madness Live': '34123', 'ZArchiver Donate': '1721', 'Angry Shark 2016': '73185', 'DT-VR': '25', 'Step Counter - Pedometer Free & Calorie Counter': '117925', 'Free Z Glass GO Keyboard Theme': '71829', 'EB-Banking (ersetzt)': '24', 'Tubi TV - Free Movies & TV': '296829', 'Johny Johny Yes Papa Nursery Rhyme - offline Video': '806', 'K-App Mitarbeiter Galeria Kaufhof': '0', 'BM SPM Practice': '6', 'Laugh Out Loud by Kevin Hart': '1856', 'Glitch Fixers: Powerpuff Girls': '39698', 'Flag Of European Union LWP': '88', 'AT&T Smart Wi-Fi': '18513', 'The DG Buddy': '3', 'YAY - TBH': '2520', 'CV Maker Pro': '113', 'Carpooling FH Hagenberg': '0', 'Fifth Edition DM Tools': '942', 'Mobi Calculator free & AD free!': '77311', 'Alfred Home Security Camera': '103305', 'Draw Something Classic': '1092106', 'Mico- Stranger Chat Random video Chat, Live, Meet': '624557', 'BL Essentials BW Icon Pack': '17', 'AE + Aerie: Jeans, Dresses, Swimsuits & Bralettes': '20476', 'Amazon Drive': '18669', 'Quran Juz-30 - Mahad al Zahra': '2654', 'Sweet Selfie - selfie camera, beauty cam, photo edit': '1159058', 'Reksio cz. 1': '0', 'Cytus': '541732', 'Themes DAF CF 85': '3', 'Share Music & Transfer Files - Xender': '1280423', 'Moto Fighter 3D': '85410', 'Free Coupons for Burger King': '17', 'I AM C.T.': '28', 'Aurum Blade EX': '28151', 'D+H Reaction Wall': '0', 'Selfie Camera - Photo Editor & Filter & Sticker': '401820', 'ai.type keyboard Plus + Emoji': '57076', 'Faketalk - Chatbot': '63056', 'Golf Channel': '19230', 'Northern Lights FREE (Aurora)': '12180', 'MileIQ - Free Mileage Tracker for Business': '46106', 'O-Level Past Papers & Solution (up to 2017)': '589', 'Kick the Buddy': '1004709', 'Dulquer Salmaan HD Wallpapers': '1', 'SAMURAI vs ZOMBIES DEFENSE': '407788', 'NPR News': '24790', 'DRAGON BALL LEGENDS': '338742', 'Wi-Fi Auto-connect': '15036', \"💎 I'm rich\": '718', 'K-@ Mail Pro - Email App': '1603', 'Block Puzzle - Wood Legend': '318867', 'Development of the child up to a year': '1413', 'Билеты ПДД CD 2019 PRO': '21', 'Cyprus Police': '226', 'BD Simplist Through Their Eyes': '1', 'DX Simulation for Decade Henshin Belt 2018': '23', 'High Blood Pressure': '4', 'Hidden Object Florida Vacation Adventure Fun Game': '126', 'Sugar Daddy Dating App': '277', 'Samsung SMART CAMERA App': '34753', 'NDS-controller': '35', 'BH by Kinomap': '141', 'B. R. Ambedkar Jayanti SMS': '0', 'K keyboard - Myanmar': '1955', 'Critical Strike CS: Counter Terrorist Online FPS': '22773', 'following': '1', 'Account Class-12 Solutions (D K Goel) Vol-2': '124', 'Hill Climb Racing': '8923847', 'Shoulder Surgery ER Emergency Doctor Game': '55', \"Connect'Em\": '49381', 'DIRECTV Remote App': '480', 'Modern Counter Global Strike 3D': '297', 'CD Carpe Diem App': '17', 'Korean Dungeon: K-Word 1000': '703', 'Jobs in Alabama - Jobs in Alba': '11622', 'Rate Guide Bill Letter': '17368', 'CARDIAC CT TECHNIQUE': '6', 'Shopkins World!': '169609', 'CQ': '7', 'Self Healing': '14394', 'Centimeter Ruler': '16', 'CB Outdoors': '5', 'Counter Deck Calculator for CR': '3446', 'Stop, Breathe & Think: Meditation & Mindfulness': '8576', 'F Length Sim (no Ads)': '0', 'IV Calc CP Calculator Toolkit': '242', 'Tsuro - The Game of the Path': '2195', 'CA Mobile Authenticator': '9', 'Beautiful Design Birthday Cake': '665', 'AG Subway Simulator Lite': '6738', 'Next Launcher 3D Theme Stun-BW': '2839', 'BG video - floating video - background video': '64', 'Air Conditioner Maintenance': '11', 'Turnotronik CL': '1', 'Bubble Bo-Bo': '65', 'Smashy Road: Arena': '45558', 'Weight Loss Tracker - RecStyle': '20547', 'Nougat Android 7 Launcher : AW': '0', 'EatStreet Food Delivery App': '7690', 'BTS J-Hope Wallpaper KPOP Fans HD': '98', 'BSPlayer FREE': '138337', 'Learn Basic C - For Beginners': '27', 'Resume / CV': '125', 'CS & IT Interview Questions': '43', 'Bank of Brazil': '1336246', 'K-Rain BL': '9', \"Ghosts'n Goblins MOBILE\": '466', 'BM Wallet': '798', 'Remote For ATT U-verse TV - NOW FREE': '20', 'WPBS-DT': '3', 'ADMIRALTY H-Note': '176', 'Natural recipes for your beauty': '1150', \"Arby's\": '194', 'BP and Sugar Test Prank': '7808', 'Equestria Girls': '392819', 'virtual lover 3D': '5195', 'Cardio Journal — Blood Pressure Log': '3320', 'TIMBER AD FILTER - Very useful ad block app': '1343', 'Ah! Cutie': '536', \"Stick 'Em Up 2 Starter Edition\": '2102', \"PlayTexas Hold'em Poker Free\": '3543', 'I Creative Idea': '353', 'My Boo - Your Virtual Pet Game': '899748', 'Comptia A+ 220-901 & 220-902': '174', 'Fortune Quest: Savior': '135', 'Rent.com Apartment Homes': '7508', 'G-Switch': '4116', 'Ambulance Simulator 3D': '29415', 'CG Fit Scale': '13', 'CPlus for Craigslist - Officially Licensed': '8096', 'Daily Mail Online': '56807', 'detikcom - Latest & Most Complete News': '190888', 'FreshBooks Classic': '1802', 'Masterchef Cooking Games: Fun Restaurant & Kitchen': '1036', 'Golf GPS by SwingxSwing': '37167', 'PDF Reader – PDF Editor 2018': '1648', 'EY Team Connect': '0', 'Advanced calculator fx 991 es plus & 991 ms plus': '7252', 'Manga - read Thai translation': '302', 'Arabic Chat - Chat': '162', 'DB for Hustle Castle': '21', 'Fart sound pranks': '283823', 'Talking Ginger': '1752017', 'FBReader: Favorite Book Reader': '203130', 'BX Memo': '131', 'The Lost Lands:DH Lite': '1130', 'Egg, Inc.': '580160', 'Puffin for Facebook': '10743', 'FG On-The-Go': '55', 'EZ App Installer': '533', \"Alto's Adventure\": '515657', 'auto Call Recorder 2018': '929', 'Pastry & Cooking (Without Net)': '6118', 'Ba Cristi': '196', 'Uber Driver': '1254730', 'English Grammar Complete Handbook': '1435', 'Commission Manager': '12', 'GRE® Flashcards by Kaplan': '316', 'Fancy': '39735', 'LEDSHOWTW': '5', 'Lego Ninjago Wallpaper': '2', 'BF Beautiful Nature': '5', 'KPOP Amino for K-Pop Entertainment': '19047', 'Body Scanner xray Real Camera Prank Entertaintment': '17', 'Adventure Quest World Mobile Quiz': '28', 'Jaylex': '0', 'Fr Agnel Ambarnath': '117', 'LINE: Free Calls & Messages': '10790289', 'Cristiano Ronaldo Wallpaper': '1733', 'MinT BI': '0', 'BaBe + - Indonesian News': '42624', 'BK Murli Offline April 2017': '33', 'DW Audio': '38', 'Ek Kahani Aisi Bhi Season 3 - The Horror Story': '1', 'Calorie Counter - Macros': '3061', 'DC Metro Transit': '339', 'DM Transfers Dalaman Transfers': '51', 'Guns - Shot Sounds': '29544', 'Tri-Ag (WV) FCU': '0', 'DM Me - Chat': '90', 'Puffin Web Browser': '541661', 'Dive-Store.ch': '0', 'VOLT DROP CALCULATOR BS 7671': '71', 'Zagat': '2528', 'CritDice - Dice Roller': '2910', 'BxPort - Bitcoin Bx (Thailand)': '4', 'Portes du Soleil': '500', 'TN Patta, Chitta, EC': '633', 'Mental Hospital V': '2460', 'Rockstars of Ooo': '642', 'Tiny Call Confirm': '22782', 'MSN Money- Stock Quotes & News': '78361', 'CA Laws 2018 (California Laws and Codes)': '56', \"Lock 'n' Roll Pro - Ad Free\": '169', 'РИА Новости': '44274', 'Sweet Fruit Candy': '197540', 'Smoke Effect Name Art Maker-Avatar Text Art Editor': '1961', 'Freeletics: Personal Trainer & Fitness Workouts': '130104', 'Doctor Kids': '200450', 'Branch': '69973', 'DX Simulation for Kabuto Henshin Belt 2018': '14', 'Tokyo Ghoul: Dark War': '25094', 'Beach Shoot Em Up: Head Hunter': '1218', 'Pineapple Pen': '157264', 'Ginger Keyboard - Emoji, GIFs, Themes & Games': '162831', 'AH Connect (Adventist Health)': '5', 'Black Commando | Special Ops | FPS Shooting': '1167', 'Love Images': '16404', 'TouchPal Keyboard for vivo': '357', 'Happy Fruits Bomb - Cube Blast': '2150', 'Blood Pressure Info': '174423', 'Funny Quotes Free': '23666', 'EP Cook Book': '0', 'Active Soccer 2 DX': '28', 'Cool Popular Ringtones 2018 🔥': '60170', 'CB SmartCAR Monitor': '1', 'English in a Month Free': '6577', 'GANMA! - All original stories free of charge for all original comics': '57106', 'Toughest Game Ever 2': '293086', 'Gate Of Death Ep: 1': '7', 'Nightenfell: Shared AR': '20', 'CR & CoC Private Server - Clash Barbarians PRO': '167974', 'Starg - Gay, Same Sex, Bi': '66', 'G-SHOCK Connected': '543', 'Courier Journal': '254', 'CIRCLE K': '9140', 'C Offline Tutorial': '88', 'BD Bank Interest': '289', 'Sprig by CO-OP': '252', 'Wetter by t-online.de': '24349', 'MouseMingle': '3', 'Backgrounds (HD Wallpapers)': '202474', \"McDonald's - McDonald's Japan\": '109784', 'DF-Server Mobile': '17', 'trip.bg': '103', 'Learn languages, grammar & vocabulary with Memrise': '1107948', 'Florida Driver License Test': '65', 'AR Tank Battle': '153', 'PLAYzone.cz': '14', 'Real Car Dr Parking Master: Parking Games 2018': '3345', 'YouCut - Video Editor & Video Maker, No Watermark': '98819', 'Ever After High™ Charmed Style': '44062', 'Morse Player Free': '268', 'Basket Manager 2016 Free': '1879', \"f'east\": '38', 'ER Neck Surgery: Hospital Christmas Emergency': '11', 'Lose Weight in 30 Days': '220125', 'United Ag Cooperative': '0', 'Tank Stars': '174755', 'Sun & Moon AR Locator': '115', \"Cy's Elma Pharmacy\": '0', 'DM TrackMan': '10', 'DStv Now': '34923', 'ear super hearing': '0', 'InBrowser - Incognito Browsing': '27156', 'Ag PhD Planting Population Calculator': '0', 'Instant DP Downloader for Instagram': '38', 'ABC – Live TV & Full Episodes': '50428', 'MARCA - Sports Leader Diary': '76346', \"Job'Of - Emploi au Cameroun\": '294', 'Earth to Luna! Watch and Play': '10753', 'Ez Texting': '49', 'TNEB Bill Checker / TNEB Bill Status': '2', 'N Files - File Manager & Explorer': '369', 'Themes Volvo FH 16 Trucks': '38', 'Kicker U': '124', 'O Céu e o Inferno': '14', 'Anatomy Learning - 3D Atlas': '72167', 'Critical Care Paramedic Review': '17', 'Disaster Will Strike': '14692', 'Elemental Galaxy Dx - Match3': '127', 'Barca News - app for Barcelona FC Fans': '207', 'Hostelworld: Hostels & Cheap Hotels Travel App': '17878', 'EH!': '10', 'Calendar Widget Month + Agenda': '60840', 'City Builder 2016: County Mall': '41693', 'US Open Tennis Championships 2018': '9971', 'PIP Camera - PIP Collage Maker': '158', 'U-Haul': '852', 'Master of Eternity(MOE)': '5829', 'An Elite Warrior Ex': '15', 'VUE: video editor & camcorder': '38630', 'CX-10DS': '12', 'Barry EC': '14', 'E.W. James & Sons': '2', 'KAYAK Flights, Hotels & Cars': '216388', 'Education First FCU Mobile': '204', 'A+ Mobile': '730', 'Disney Magic Timer by Oral-B': '31061', 'PES 2018 PRO EVOLUTION SOCCER': '1721943', 'DU Collage Maker - Photo Collage & Grid & Layout': '4595', 'To Do Reminder with Alarm': '72161', 'Casual Sic Bo (骰寶)': '3', 'DT Baby Cam': '10', 'Droid PRoCon BF3': '412', 'EU-Schwerbehinderung': '3', 'Photo Compress 2.0 - Ad Free': '6267', 'CBS Sports Fantasy': '43611', 'Migraine Buddy - The Migraine and Headache tracker': '26862', '[BN] Blitz': '4', 'FL Racing Manager 2015 Pro': '656', 'CX-WiFi720P': '47', 'Dungeon Hunter 5 – Action RPG': '720685', 'DV Lottery Photo Tool': '223', 'UC Browser - Fast Download Private & Secure': '17714850', 'CM Launcher 3D Pro💎': '23802', 'Bee.Bo': '11', 'Arrow.io': '343263', 'GO SMS Pro Z Glass Theme EX': '24198', 'DM - The Offical Messaging App': '0', 'Last Day on Earth: Survival': '2311785', 'EZ TAG Express': '86', 'El Nuevo Día': '8011', 'OfficeSuite : Free Office + PDF Editor': '1002861', 'Cy-Ranch': '27', 'FindShip': '23279', 'Kymco AK 550': '47', 'Lazada - Online Shopping & Deals': '1573054', 'CT POSITIONING': '18', 'Santa Fe Sentry': '0', 'Gunship III Vietnam People AF': '726', 'Open Heart Surgery Hospital ER: Crazy Doctor Sim': '7', 'E!': '740', 'EasyNote Notepad | To Do List': '15618', 'Pill Identifier and Drug list': '488', 'Baby Monitor AV': '1434', 'SCB EASY': '112656', 'Remix Second Hand': '867', 'NOOK App for NOOK Devices': '19090', 'Südtirol2Go': '555', 'K-9 Mail': '88427', 'Ultra CE calculator': '28', 'BG Monitor Diabetes': '643', 'amm dz': '0', 'Video Maker with Photo and Music': '4871', 'MAIN': '7081', 'SkyLove – Dating and chat': '69', 'Hospital ER Emergency Heart Surgery: Doctor Games': '1652', 'Mango Languages: Lovable Language Courses': '4815', 'BBC News': '296781', 'Solitaire: Decked Out Ad Free': '37302', 'CAPTCHA Pack for Sleep as Android': '448', 'Clean Master Lite - For Low-End Phone': '2246379', 'Multi Surgery Hospital Pro: Virtual Doctor ER Game': '23', 'Monastery of El Escorial': '12', 'Hunt Buddy BC': '172', 'Jabbla BT': '3', 'BA 3 Banjarmasin': '2', 'Free english course': '142632', 'Fertility Friend Ovulation App': '12955', 'Black Theme Go Launcher EX': '285', 'Complete Spanish Movies': '11656', 'With Helper Pro Pill Reminder': '358', 'LG BT Reader Plus': '2992', 'Axe Throw: Flip Champ Axes Champion Throwing Games': '1', 'Barbie Life™': '133117', 'Bluetooth Control BT->uC FREE': '67', 'Helper for CS:GO': '208', 'GollerCepte Live Score': '9992', 'CT Abdomen Pelvis': '36', 'CP Brown English-Telugu Dictionary': '8', 'Santa Fe VIP Tours': '1', 'DK Live - Sports Play by Play': '255', 'Ambient CX': '0', 'Analog Clock AW Plus-7': '725', 'Mini for Facebook lite': '260', 'USAA Mobile': '100997', 'Download Accelerator Plus': '43677', 'Xceed - Clubs, DJs, Festivals & Tickets': '399', 'WiFi Monitor Pro - analyzer of Wi-Fi networks': '85', 'CL Reader for Craigslist(For sale, jobs, rental..)': '61', 'GolfLogix GPS + Putt Breaks': '11085', 'Wallpapers DAF CF Trucks': '1', 'Windguru Lite': '9307', 'CXmodel-ufo': '19', 'NinJump': '421000', 'A41 WatchFace for Android Wear Smart Watch': '231', 'N Launcher Pro - Nougat 7.0': '2538', 'Redfin Real Estate': '36857', 'Pet Vet Dr - Animals Hospital': '11748', 'Meu Cartão BV': '15057', 'FOX 5 DC': '1440', 'Safe Ag Systems™': '3', 'IHSS Help': '10', 'EF/VR – VR Tours of EF Schools': '17', 'Earn Money BD': '103', 'Badoo - Free Chat & Dating App': '3781770', 'Block Gun 3D: Haunted Hollow': '16282', \"Texas Hold'em EV Calculator\": '6', 'GITZ.bz': '4', 'GRE Tutor': '275', 'Butterfly Live Wallpaper': '35771', 'ZenUI Help': '136874', 'Blood Injection : ER Emergency Doctor ER injection': '246', 'TAMAGO Monsters Returns': '104583', 'PrimeDelivery': '3', 'The Guardian': '247992', 'Do it (Tomorrow)': '26452', 'Pixel Gun 3D: Survival shooter & Battle Royale': '4487182', 'Qserve EU MDR First Aid': '2', 'Melior NUI - Material CM Theme': '1873', 'Bt Notifier -Smartwatch notice': '632', 'Spreaker Podcast Radio': '17703', 'Best DP And Video Status 2018 For Whatsapp': '91', 'Differential Dx': '8', 'Cars: Lightning League': '58795', 'Cookbook Recipes': '46539', 'Speedcheck': '48979', 'Alzashop.com': '32014', 'LINE Camera - Photo editor': '1517395', 'LBB - Find New & Unique Things To Do Around You': '3874', 'CP Trivia': '5', 'Baseball Boy!': '148177', 'Advanced Task Killer': '577059', 'Dumb Ways to Die 2: The Games': '1671658', 'Teenage Chat & Dating': '5', \"Narrator's Voice\": '564387', 'Banfield Pet Health Tracker': '1747', \"Santa's Monster Shootout DX\": '4', 'EV Finder': '29', 'Simulator Brawl Box for BS': '168', 'play2prep: ACT, SAT prep': '3692', 'Buscapé - Offers and discounts': '108592', 'A-B repeater': '32', 'Themes DAF CF 85 Trucks': '2', 'Ek-yatri: Travel where you Belong': '0', 'Bubble Shooter DX AdFree': '1', 'All C Programs': '2387', 'Basket Manager 2018 Pro': '84', 'Women\"s Health Tips(Breast,Face,Body,weight lose)': '2509', 'Across Age DX': '5964', 'FollowMyHealth®': '73118', 'Water Surfer Racing In Moto': '2233', 'Flight Simulator X 2016 Free': '44636', 'AK Phone': '9', 'Free live weather on screen': '15370', 'Hafizi Quran 15 lines per page': '55011', 'Messenger – Text and Video Chat for Free': '56646578', 'Handbreit by a.w.niemeyer': '21', 'WPSApp': '95080', 'Hole19: Golf GPS App, Rangefinder & Scorecard': '6106', 'Riptide GP: Renegade': '4328', 'chat live chat': '24', 'NB|AZ Mobile Banking': '463', 'bpresso PRO': '515', 'Nick': '123322', 'European Union Flag LWP': '3', 'cluster.dk': '49', 'Boom Beach': '5591653', 'SB · FN 1870 Mobile Banking': '139', 'Safe Notes - Secure Ad-free notepad': '3362', 'Textgram - write on photos': '295237', 'Easy Hotspot Ad Free': '2', 'My baby Phone': '9293', 'Mermaid Princess Pre K Games': '19', 'Innovative: Learn 34 Languages': '14206', 'Kiamichi EC': '7', 'CP Plus Showcase': '236', 'Navi Radiography Pro': '11', 'Princess Coloring Book': '9779', 'Blogger': '138026', \"Flo's CH Boss Timer\": '163', 'PORTABLE SOCCER DX Lite': '15068', 'Hi-Smart AC': '32', 'Resume Maker - Creator': '740', 'CT-Stream Player': '84', 'NetApp CE': '0', 'Dating White Girls': '0', 'BC Pizza': '3', 'Diabetes mellitus (DM) from zero to hero': '18', 'Pocket AC': '130', 'Offroad Police Car DE': '9149', 'Blood Pressure Diary': '47', 'Dp for girls': '175', \"CA World '17\": '7', 'AJ and Alyssa': '0', 'South Florida AA Meetings': '10', 'SofaScore Live Score': '221722', 'BC Liquor Stores': '492', 'CW TV': '367', 'Trello': '72513', 'BK News Channel': '277', 'CV EXAMPLES': '423', 'My Little Pony Rainbow Runners': '33785', 'Whoowasit? - Best kids game!': '248', 'ALPHA - Artificial Intelligence': '51', 'Super Dancer VN': '24312', 'tv-ec': '1', 'Wells Fargo Daily Change': '283', 'WICShopper': '3023', 'EP Music': '0', 'Golf GPS Rangefinder: Golf Pad': '13098', 'Stream - Live Video Community': '6388', 'DB Stay Connected': '17', 'Economic Times : Market News Go Edition': '39', 'Mahjong': '33983', 'Candy Pop Story': '12948', 'Hondata Mobile': '334', 'Out There Chronicles - Ep. 2': '144', 'Crew - Free Messaging and Scheduling': '4159', 'Circle Colors Pack-FN Theme': '6', 'Results for FL Lottery': '146', 'FlirtChat - ♥Free Dating/Flirting App♥': '2433', 'Mr. Number-Block calls & spam': '177263', 'Revita.bg': '10', 'CE KISIO': '1', 'payermonstationnement.fr': '38', 'Dr. Dominoes': '2700', 'LALALAB prints your photos, photobooks and magnets': '50424', 'RST - Sale of cars on the PCT': '250', 'Investigation Discovery GO': '12216', 'Note FE Theme And Launcher For Samsung Galaxy': '7', 'Learn SQL': '19277', 'Benefit Extras Mobile App': '3', 'BV Taxi - Driver': '1', 'Like A Boss': '17069', 'DF@realtime': '24', 'J Balvin Piano Tiles': '6', 'Crackle - Free TV & Movies': '388089', 'US Army Training Courses Game': '27130', 'Google I/O 2018': '22401', 'Bixby Button Remapper - bxActions Pro / Coffee': '319', 'Toronto FC': '144', 'Shadow Fight 2 Special Edition': '10440', \"Davis's Drug Guide for Nurses\": '572', \"Five Nights at Freddy's 3\": '27856', 'CL Mobile Pro - Classifieds for Craigslist': '1288', 'Bike Computer - GPS Cycling Tracker': '12029', 'The Weather Channel: Rain Forecast & Storm Alerts': '1558437', 'OLX - Buy and Sell': '857923', 'S Launcher for Galaxy TouchWiz': '11244', 'CP ToolBox': '70', 'Niche: College, K-12, and Neighborhood Search': '42', 'AB Mobile App': '2105', 'Smart Launcher theme b. gold': '291', 'Rolling G Sky': '2065', 'Light X - Icon Pack': '252', 'Sudoku Master': '58387', 'DX Alerts': '22', 'Cy-Reader': '17', 'Fisher-Price® Smart Connect™': '422', 'All Football - Latest News & Videos': '152867', 'BA Accesible': '31', 'Booking.com Travel Deals': '1830388', 'DW': '0', 'CG Wallpapers': '11', 'Avios for Android': '862', 'Tiny Scanner - PDF Scanner App': '286897', 'Zoosk Dating App: Meet Singles': '516917', 'EC Mover': '5', 'Duaa Ek Ibaadat': '122', 'Esporte Interativo - Notícias e Resultados Ao Vivo': '4600', 'Moodpath - Depression & Anxiety Test': '6035', 'ColorFul - Adult Coloring Book': '50725', 'Endomondo - Running & Walking': '559262', 'AZ Practice Test & Questions': '13', 'myMetro': '26189', 'Garden Fruit Legend': '4289', 'TextNow - free text + calls': '441189', 'Sworkit Kids - Fitness Meets Fun': '9856', 'Free resume builder CV maker templates PDF formats': '9555', 'Discovery Church Florida': '40', 'SuperBikers 2': '6200', 'MegaNDS (NDS Emulator)': '2218', 'Transport DK': '204', 'Hojiboy Tojiboyev Life Hacks': '15', 'Age of AI: War Strategy': '71', 'Cursive Writing Wizard - Handwriting': '3745', 'Rivals at War: Firefight': '344819', 'GKPB FP Online Church': '32', 'OpenVPN Connect – Fast & Safe SSL VPN Client': '154578', 'Doctor On Demand': '18674', 'Toy Blast': '1889582', 'Bible': '2440695', 'Tennis News and Scores': '101', 'Quiz DC': '33', 'DINO HUNTER: DEADLY SHORES': '1381820', 'Xposed Wi-Fi-Pwd': '1042', 'SuperLivePro': '46353', 'DH Mariage': '0', 'Powershop AU': '498', 'Tricky Bike Stunt Rider DX': '16', 'Silence Premium Do Not Disturb': '3356', 'BW Map mobile': '57', 'Baritastic - Bariatric Tracker': '4318', 'Princess Palace: Royal Pony': '11442', 'TattooSupplies.eu': '31', 'CA Case Management': '16', 'Visualmed': '0', 'The Voice, sing and connect': '405824', 'Live DV': '16', 'Strike! Ten Pin Bowling': '18584', 'Rainfall radar - weather': '26941', 'BigOven Recipes, Meal Planner, Grocery List & More': '31986', 'Young Speeches': '2221', 'Safe365 – Cell Phone GPS Locator For Your Family': '11501', 'Técnico Legislativo Câmara Legislativa DF': '1', 'Free Live Talk-Video Call': '158', 'DN Blog': '20', 'Best New Ringtones 2018 Free 🔥 For Android™': '3014', 'bX Thailand Simple Market Price and Alert': '8', 'Farming Simulator 18': '18125', 'LateRooms: Find Hotel Deals': '2419', 'UC Browser Mini -Tiny Fast Private & Secure': '3648765', 'Solo Locker (DIY Locker)': '474439', 'Glide - Video Chat Messenger': '350154', 'Cx File Explorer': '175', 'Hornet - Gay Social Network': '163679', 'Bar-B-Q Recipes': '18', 'Counter Terrorist Attack': '145931', 'M3-X5-X6-M-İ3-İ8 RACİNG 2018': '596', 'Discovery Insure': '1911', 'Hello Kitty Nail Salon': '369378', 'Big Fish Casino – Play Slots & Vegas Games': '382100', 'Carros Rebaixados BR': '20691', 'Nur təfsiri 1-ci cild': '15', 'Zalo – Video Call': '1042170', 'Météociel': '29344', 'Snap Cat Face Camera': '5855', 'Surely You Quest - Magiswords': '43314', 'BL 女性向け恋愛ゲーム◆俺プリクロス': '3379', 'EP Cloud': '9', \"You're an Anime\": '2', 'Beast of Lycan Isle CE': '2683', 'Truck Driver Cargo': '257531', 'Sky People (SPI): A secure blind date through authentication by Seoul National University': '894', 'Random Video Chat App With Strangers': '3', 'Transenger – Ts Dating and Chat for Free': '8', 'Room Creator Interior Design': '59660', 'Color Call - Caller Screen, LED Flash': '29485', 'Frontline Terrorist Battle Shoot: Free FPS Shooter': '9183', 'FK Fotbal Třinec': '0', 'Grand Gangsters 3D': '401643', 'Resume Builder - Free CV Maker & Premium Templates': '770', 'iSwipe Phone X': '58366', 'Valentines love color by number-Pixel art coloring': '767', 'Radio BN': '53', 'FE Mix - Jokes - Status - Wallpaper': '3', 'Cypress College Library': '0', 'ECナビ×シュフー': '576', 'DN Prasad': '0', 'AE Bingo: Offline Bingo Games': '61746', 'EC Tax': '8', 'Nick Jr. - Shows & Games': '8968', 'Dresses Ideas & Fashions +3000': '473', 'BibApp TU BS': '16', \"BJ's Express Scan\": '69', 'Apps Ads Detector': '315', 'Super Hearing Super Ear Amplifier': '21', 'CJ Camcorder': '3', 'Google Slides': '244567', 'Sniper 3D Gun Shooter: Free Shooting Games - FPS': '7674252', 'The FN HP pistol explained': '1', 'BlackJack 21 Pro': '26744', '英漢字典 EC Dictionary': '55408', 'AJ RETAILS': '9', 'DIRECTV for Tablets': '24123', 'DG Surveyor': '5', 'Perfect Piano': '828489', 'Monitor Your Weight': '126017', 'CN Summer Challenge': '985', 'Masha and the Bear- House Cleaning Games for Girls': '0', 'My Truck': '247', '24 megapixel hd camera': '802', 'BN Pro RobotoXL-b HD Text': '86', 'Supermarket – Game for Kids': '112080', 'OLX Uganda Sell Buy Cellphones': '4977', 'Ike - To-Do List, Task List': '6320', 'Paramedic Meds': '163', 'My Claro Peru': '11200', 'CV Examples 2018': '625', 'E! News': '15443', 'Siren Ringtones': '42190', 'HD Camera Ultra': '462152', 'Mircules DX Cluster Lite': '51', 'CM Transfer - Share any files with friends nearby': '71740', 'Shopee - No. 1 Online Shopping': '94294', 'Bubble Shooter 2': '23043', 'CM FILE MANAGER Pro': '2359', 'Romantic Love Photo Frames': '18918', 'C3-C4-PİCASSO-ELYSEE RACİNG': '12', 'Socrative Teacher': '1239', 'Easy Recipes': '2707', 'AT&T Digital Life': '10067', 'Boston University Alumni': '5', 'Muzy - Share photos & collages': '70189', 'Schulman B.V.': '6', 'GPS Navigation & Offline Maps Sygic': '1421884', 'VMate Lite - Funny Short Videos Social Network': '903', 'Chrome Dev': '63576', 'Authy 2-Factor Authentication': '15070', 'Offroad Pickup Truck F': '4551', \"Sam's Club: Wholesale Shopping & Instant Savings\": '45362', 'Angry Birds Rio': '2610680', 'CX Summit': '1', 'Council Voting Calculator': '33', 'LG Health': '20098', 'M-Sight Pro': '30', \"Sotheby's International Realty\": '894', 'DG Monitor': '1', \"Bo's Bedtime Story\": '13', 'Modern Counter 3: FPS Multiplayers battlegro 3': '17', 'NeuroNation - Focus and Brain Training': '248555', 'Nedbank Money': '6076', 'My Nexus for CS:S & CS:GO': '783', 'U of I Community Credit Union': '52', 'MegaN64 (N64 Emulator)': '877576', 'My CU - Caucasus University': '48', 'Lock Screen': '41137', 'Parallel Space - Multiple accounts & Two face': '3062845', 'BW-Go Free': '547', 'Talking Babsy Baby: Baby Games': '140995', 'Garmin Connect™': '232153', 'BlitzWolf Shutter - BW Shutter': '333', 'Study AP World History': '513', 'Talkie - Wi-Fi Calling, Chats, File Sharing': '4838', 'ACCDB MDB DB Manager Pro - Editor for MS Access': '19', \"Children's cartoons (Mithu-Mina-Raju)\": '279', 'ZenUI Keyboard – Emoji, Theme': '537554', 'Good house to buy a house': '491', 'Brick Breaker BR': '7', 'THE aMAZEing Labyrinth': '1615', 'Car Racing game for Kids - Beepzz Dogs 🐕': '131', 'Speed Camera Detector - Traffic & Speed Alert': '138', 'Android P 9.0': '12', 'Unit Converter': '85387', 'Blur': '9013', 'Ada - Your Health Guide': '87418', 'Educational Games 4 Kids': '11618', 'Home tips and advice': '10', 'Haystack TV: Local & World News - Free': '3684', 'Axe Champs! Wars': '8', '- Free Comics - Comic Apps': '115', 'SilverSingles: The 50+ Dating App': '149', 'Manga Rock - Best Manga Reader': '238970', 'Sumine side dish - dish recipe side dish': '82', 'Carrier Air Conditioner': '362', 'AP European History: Practice Tests and Flashcards': '7', \"Five Nights at Freddy's 4\": '21266', 'F & M Mobile Banking': '43', 'File Commander - File Manager/Explorer': '758590', 'Learn Spanish - Español': '32346', 'WhatsApp Messenger': '69119316', 'Run on Earth': '577', 'Best DP and Status': '93', 'Alif Ba Ta Song - Arabic Kids': '227', 'Heart of Vegas™ Slots – Free Slot Casino Games': '264282', '1LINE – One Line with One Touch': '214878', 'Shabad Gurubani Punjabi mp3 free - Ek Onkar Satnam': '5', 'VeinSeek': '79', '211:CK': '8', 'SHAREit - Transfer & Share': '7790693', 'Tiny Archers': '80678', 'PatientPORTAL by InteliChart': '1', 'Adult Glitter Color by Number Book - Sandbox Pages': '8918', 'Robocar X Ray': '3432', 'Angry Birds 2': '3883589', 'Yatra - Flights, Hotels, Bus, Trains & Cabs': '251037', 'Kristian Hla Bu': '238', 'CK Active': '0', 'Snapseed': '823109', 'PeopleTV - Watch Celebrity News': '2223', 'CCP DZ : Fill out a check | Number in letters DZD': '642', 'StartPage Private Search': '10198', 'Woodland AH': '0', 'Rоhi.af': '46', 'Knife&Axe Throwing': '440', 'Trading 212 - Forex, Stocks, CFDs': '37580', 'MetaTrader 4': '260547', 'IV Go（get IV for Pokemon）': '132282', 'Zdravei.BG': '6', 'MCRAFT AR - EDITOR': '131', 'Family GPS Tracker and Chat + Baby Monitor Online': '9073', 'UBA Mobile Banking': '12185', 'الفاتحون Conquerors': '108130', 'DK Quiz': '1628', 'FK Jonava': '1', \"Hey AJ! It's Bedtime!\": '1', 'Fines of the State Traffic Safety Inspectorate are official: inspection, payment of fines': '116986', 'Weather –Simple weather forecast': '40606', 'Clinical Pharmacology': '0', 'Archos File Manager': '2131', 'CWT To Go': '20313', 'ES File Explorer/Manager PRO': '81614', 'Mad Day - Truck Distance Game': '29270', 'EF Staff': '0', 'MC.Fitting': '130', 'Monster Truck Stunt 3D 2019': '367', 'Qapital - Save Small. Live Large': '8662', 'Alba Heaven - Alvarez Job Portal Services': '8941', 'WiFi Tether Router': '5599', 'Dermatology Atlas (Colored & Illustrative)': '3', 'Be the Manager 2016 (football)': '4330', 'HOTEL DEALS': '1609', 'TUTORIAL CT SCAN CARDIAC': '1', 'New Holland Agriculture T5 EC': '12', 'Talking Husky Dog': '26545', 'Financial Calculator Pro EF': '634', 'GPS Speedometer and Odometer': '15865', 'SAT Test': '2363', '100+ C Programs': '20', 'BC iptv player': '8', 'The Home Depot': '44071', 'CG Patwari Exam': '28', 'Fast Racing Car Simulator': '8482', 'Weill Cornell Medicine': '0', 'Jeppesen CR Flight Computer': '3', 'Heart mill': '4631', 'DYPSOET': '8', 'CF GeneE': '16', 'M Launcher -Marshmallow 6.0': '37234', 'Bu Hangi Firma?': '8', 'Message AI - Write Better Messages (Free)': '3', 'BM Online OEC Verification': '783', 'CG Districts': '14', 'Brilliant Quotes: Life, Love, Family & Motivation': '67186', 'CE Broker': '190', 'Keep My Notes - Notepad & Memo': '122424', 'Real Airplane Flight Simulator: Pilot Games': '21735', 'EZ Pass': '15', 'Selfie Camera': '17934', 'DW Spectrum™ IP VMS': '102', 'Learn CT Scan Of Head': '10', 'Runtastic Sleep Better: Sleep Cycle & Smart Alarm': '111465', 'Red Transporte DF': '11100', 'Used car search Goo net whole car Go to net': '5414', 'Futbol24': '31908', 'Homes.com 🏠 For Sale, Rent': '6000', 'CS Interview FAQs': '99', 'iCluster - The DX-Cluster database': '0', 'BG Guide': '3', 'AW': '0', 'BK Murli Dictionary (H to E)': '106', 'Br video editing': '1', 'Volvo CE Insider': '45', 'FutureNet your social app': '2093', 'Ultimate Calculator for CR': '7389', 'Calls & Text by Mo+': '83239', 'Color CL': '2', 'DB for Fallout Shelter': '3323', 'CT Sessions': '62', 'Official Matsumoto Kiyoshi application': '3031', 'Radiology CT Viewer': '35', 'HondaLink EV': '44', 'ezETC (ETC balance inquiry, meter trial, real-time traffic)': '38846', 'Business Calendar 2': '102594', 'Dr. Driving': '4972230', 'Room Painting Ideas': '4450', 'EO Forum': '0', 'Ek Do Teen Song Videos - Baaghi 2 Video Songs': '2', 'CB NFC Pendant': '0', 'EB Kit': '4', 'Home Workout - No Equipment': '432160', 'FJ Final Join , Circles Game': '32', 'Toca Life: Hospital': '3528', 'Wi-Fi Networks': '115', 'VZ Navigator for Tablets': '285', 'Girls Online Talk - Free Text and Video Chat': '791', 'Jewels Crush- Match 3 Puzzle': '14774', 'English to Urdu Dictionary': '4620', \"O'Route Orienteering\": '6', 'TickTick: To Do List with Reminder, Day Planner': '25370', 'Fat Burning Workout - Home Weight lose': '706', 'Guide for DB Xenoverse 2': '121', 'TOSHIBA Smart AC': '60', 'DG Phone Call Task Switcher': '43', 'AE Fishing Hunter': '14', 'Opera News - Trending news and videos': '51684', 'EF Classroom': '190', 'AO Surgery Reference': '2570', 'Flow Free': '1295625', 'Theme for Android 7.0': '0', 'AD - Nieuws, Sport, Regio & Entertainment': '10369', 'Tech CU Card Manager': '2', 'Cube Z (Pixel Zombies)': '41444', 'AU Results 2017 Auzone': '762', 'Flashlight': '162335', 'Super DK vs Kong Brother Advanced Free Classic': '66', 'Fingerprint Lock Screen Prank': '10786', 'AW Toolbox': '3', 'Ideal Weight, BMI Calculator': '112384', 'Relax Rain ~ Rain Sounds': '118034', 'Coloring Book at Five Nights': '532', 'CK SKILLZ': '0', 'CricQuick': '17', 'MUTV - Manchester United TV': '4549', 'Photo Editor by Aviary': '1490732', 'Florida Travel Guide - TOURIAS': '80', 'Shopkick: Free Gift Cards, Shop Rewards & Deals': '213735', 'INTERACTIVE CALCULUS PRO': '0', 'Q-See QT View': '7357', 'RGN CI-Control': '0', 'AK 47 Lock Screen': '5', 'Houlihan Lawrence': '33', 'BL Taxi': '124', 'CP Surprise': '2548', 'Sports DV': '86', 'QR Code Reader': '495971', 'Cat Sim Online: Play with Cats': '137198', 'Redbox': '115033', \"Culver's\": '1638', 'Bazar.af': '13', 'Bloomberg Professional': '3334', 'Comboios de Portugal': '1147', 'Hungry Shark World': '1243017', 'CD Padel Mora': '1', 'DK Murali': '65', 'Loved by King Bs': '5546', 'Magisto Video Editor & Maker': '960726', '日本AV历史': '215', 'Draw a Stickman: EPIC Free': '210317', 'EG Classroom Decimals™': '2', 'Accounting Quiz (AQ) Malaysia': '25', 'Dolphin Browser - Fast, Private & Adblock🐬': '2511130', 'Used cars for sale - Trovit': '52530', 'BF-Calc': '428', 'Ez Screen Recorder (no ad)': '8696', 'Upgrade for Android DU Master': '12993', 'Casino AZ/Talking Stick Resort': '201', 'PlacarTv Futebol Ao Vivo': '2063', 'DIRECTV': '235486', 'Startupticker.ch News, Events': '4', 'Beck & Bo: Toddler First Words': '41', '7 minute abs workout - Daily Ab Workout': '527', 'Grim Soul: Dark Fantasy Survival': '189773', 'Cluster CF': '10', 'Toppen af Danmark': '8', 'Episode - Choose Your Story': '1842381', 'Lie Detector Prank': '80313', 'Live Chat - Free Video Talk': '14', 'BH Açaí': '3', 'Anime et Manga Amino en Français': '3782', 'high cholesterol levels': '0', 'TEKKEN™': '147791', 'Ad Detector': '208', 'FO BOULANGER': '10', 'European War 6: 1804': '1330', 'BS player remote': '54', 'G-Pix [Android P] Dark EMUI 8/5 THEME': '169', 'Unit Converter Pro': '12718', 'Fruit Boom': '17753', 'Lakeside AG Moultrie': '3', 'Squeezy CF': '0', 'Home & Shopping - Only in apps. 10% off + 10% off': '42750', '3G/4G Config Dz': '2058', 'Al Quran Audio (Full 30 Juz)': '7878', 'OurTime Dating for Singles 50+': '2519', 'Dungeon Quest': '244039', 'Nasty Goats': '45579', 'Doctor Pets': '23060', 'DY Fitness': '0', 'AT&T Navigator: Maps, Traffic': '32862', 'Fayr - Co-Parenting Simplified': '16', 'Wallpapers FN F2000': '0', 'Survival Mobile:10,000 BC': '7441', 'Au Mobile: Audition Chính Hiệu': '85278', 'AB Crush Match 3': '96', 'TouchPal Purple Butterfly Theme': '7435', 'DH-Security Camera': '3', 'Sniper Killer Shooter': '119368', 'Candy Crush Saga': '22430188', 'Bacterial vaginosis Treatment - Sexual disease': '2', 'Period Tracker Clue: Period and Ovulation Tracker': '570242', 'BK Suraj bhai': '9', 'News Republic': '479594', 'BringGo AU & NZ': '440', 'PLAYBULB X': '2160', 'Design Home': '539931', 'Classic Calculator': '85659', 'Downvids Helper - One touch DW': '197', 'Facebook Pages Manager': '1279800', 'My Earthquake Alerts - US & Worldwide Earthquakes': '3471', 'H*nest Meditation': '145', 'Blinkist - Nonfiction Books': '16103', 'Google Handwriting Input': '94427', 'E*TRADE Mobile': '10658', 'ChatVideo Meet new people': '63986', 'Spine- The dating app': '5', 'The NBC App - Watch Live TV and Full Episodes': '58104', 'Guide for R Programming': '0', 'Canon CameraWindow': '12204', 'Trell: An app for Explorers | Best Wanderlust App': '8004', 'tutti.ch - Free Classifieds': '9950', 'Dragon X Adventure: Warrior Z': '8537', 'Nights at Cube Pizzeria 3D – 4': '7728', 'bgtime.tv': '694', 'DO YOU KNOW THE WAY Soundboard': '1007', 'CD-Zing': '70', 'The SCP Foundation DB fr nn5n': '114', 'G Guide Program Guide (SOFTBANK EMOBILE WILLCOM version)': '2689', 'Listen to the story~The Story of the Fairy Tales': '69', 'HTC Transfer Tool': '40907', 'SolMail - All-in-One email app': '23707', 'Black White Interracial Dating - Interracial Match': '537', 'EA SPORTS UFC®': '2371338', 'Otto DM': '0', 'Little Eye Surgery Simulator - ER Doctor Game': '12', 'Dotti EU': '15', 'DramaFever: Stream Asian Drama Shows & Movies': '155234', 'Jungle Marble Blast': '18985', 'CP Cloud': '3', 'Today Calendar 2017': '16349', 'Offroad Cruiser': '42432', 'RAR': '669901', 'bp Magazine for Bipolar': '5', 'BS Match Maker Premium': '3', 'Oklahoma Ag Co-op Council': '0', 'Jax Sheriff (FL)': '53', 'eP Finder': '0', 'Crypto Tracker by BitScreener': '396', 'DJ Electro Mix Pad': '53301', 'Offline Maps & Navigation': '193364', 'Learn English Words Free': '172640', 'Skin Disease': '1', 'I Know Stuff': '214923', 'Kids Corner: Interactive Tales and Games for kids': '6404', 'Lullaby Add-on for Sleep as Android': '2057', 'Wisepilot for XPERIA™': '21443', 'Penn State Health OnDemand': '0', 'School scientific calculator fx 500 es plus 500 ms': '1553', 'HD Jigsaw Volvo FH Trucks': '2', 'Farming Simulator 14': '530904', 'Draw with FP sDraw': '3268', 'Account Class-11 Solutions (D K Goel)': '663', 'I am Millionaire - Richest guy in the town': '126', 'Moto Voice': '33216', 'myChevrolet': '6747', 'HTC Sense Input - ES': '3509', 'Sayers AH': '0', 'Dash Tag - Fun Endless Runner!': '6750', 'DY TECHNICAL GYAN': '2', 'EY Events Switzerland': '1', 'TMJ4.com - WTMJ-TV Milwaukee': '728', 'EP Calipers': '4', 'bz Basellandschaftliche News': '33', 'InfantRisk Center HCP': '41', 'The Messenger App': '4919', 'EI!': '0', 'Wi-Fi Visualizer': '132', 'Taha Al Junaid Quran Mp3': '518', 'CB On Mobile': '901', 'Emoji Keyboard - Cute Emoji,GIF, Sticker, Emoticon': '114851', 'FD Shift Calendar Widget': '981', 'Alumni BJ': '2', 'Guardians of Ancora': '969', 'Dinosaur Simulator: Dino World': '26649', 'AJ AUTO': '0', 'FP Market': '24', 'MyChart': '19473', 'YouCam Makeup - Magic Selfie Makeovers': '3337956', 'The ClubHouse CR': '5', 'White Noise Lite': '57634', 'WiFi Overview 360': '15693', 'CJ Apps': '0', 'FH App': '27', 'VIP Backgammon Free : Play Backgammon Online': '389', 'EY India CFO Insights': '37', 'Madden NFL Football': '1455952', 'Omlet Arcade - Stream, Meet, Play': '169965', 'Beauty Makeup Snappy Collage Photo Editor - Lidow': '420973', 'Hungry Girl Diet Bk. Companion': '4', 'LINE WEBTOON - Free Comics': '1013944', 'Ad-free Triangle Solver': '118', 'DM Buddy » Learn Digital Marketing': '3', 'Border Ag & Energy': '0', 'XCOM: TBG': '2294', 'NYTimes - Latest News': '63647', 'PakWheels: Buy & Sell Cars': '15168', 'Candy Day': '11716', 'Dictionary - Merriam-Webster': '454412', 'Superhero Doctor 3 ER Surgery': '2801', 'BlueJeans for Android': '1058', 'Debonairs Pizza': '3320', 'Hadith du jour': '276', 'CarMax – Cars for Sale: Search Used Car Inventory': '21777', 'Bet Master Pro Soccer Predictions': '328', 'How to draw Ladybug and Cat Noir': '564', 'A.J. Green Wallpapers 4 Fans': '0', 'LightX Photo Editor & Photo Effects': '259450', 'Florida Keys': '92', 'OnePlus Gallery': '5555', 'All Mental disorders': '453', 'Just a Line - Draw Anywhere, with AR': '1152', 'Anti Mosquito simulation': '74', 'Arizona Statutes, ARS (AZ Law)': '9', 'Hollywood U: Rising Stars': '233588', 'B-52 Spirits of Glory Deluxe': '12', 'I am rich (Most expensive app)': '129', 'ePay.bg': '2017', 'SmartCircle Remote DS': '2', 'All Types DP & Status Maker': '16', 'Golfshot: Golf GPS + Tee Times': '7543', 'Cp Calculator for Evolution:GO': '124', 'Photo Studio': '477831', 'FR Plus 1.6': '4', 'Calvin Klein Petite Dresses': '0', 'FP Boss': '1', 'Wifi BT Scanner': '2', 'BS-Mobile': '1', 'Skyscanner': '481546', 'Toca Kitchen 2': '1014846', 'Qarabağ FK': '9', 'Geometry Dash Lite': '6181640', 'Netspend Skylight ONE': '1098', 'Major Mayhem': '520962', 'Photo Lock App - Hide Pictures & Videos': '29203', 'Law of Creation: A Playable Manga': '13118', 'Propertyfinder': '1506', 'ABTO CY-ET1': '1', 'Backgammon NJ for Android': '1644', 'Dictionary - WordWeb': '124970', 'Bricks n Balls': '30253', 'Ba Financial Calculator plus': '31', 'Kiddopia - Preschool Learning Games': '64', 'Mediatek SmartDevice': '11187', 'Sai Baba - Sabka Malik Ek': '42', 'Bx-WiFi-GI': '0', 'Quick PDF Scanner + OCR FREE': '80805', 'L.POINT - 엘포인트 [ 포인트, 멤버십, 적립, 사용, 모바일 카드, 쿠폰, 롯데]': '45224', 'Greater London A-Z 2016': '40', 'Facebook Face to Face Events': '4518', 'Newton Mail - Email App for Gmail, Outlook, IMAP': '122595', 'Clash of Axe: Flippy Lumberjack Action X': '6', 'Hyundai CX Conference': '0', 'CA Latam Partners': '0', 'Special Forces Group 2': '1432809', 'DCUO|CR Calculator Pro': '82', 'Chicken Invaders 3': '52390', 'FD Fitness': '3', 'Dairy Queen': '742', 'Bitcoin & Cryptocurrency - Bx': '11', 'Latest DP and Status Pro 2018': '19', 'Learn HTML': '61749', 'Chakra Cleansing': '539', 'CA Speakers Free': '74', 'US DV Lottery 2019': '14', '20 Minuten (CH)': '14153', 'Pixel Draw - Number Art Coloring Book': '967', 'AY EMLAK': '8', 'Clover Dating App': '11633', 'AirWatch Agent': '20973', 'BROTHER IN WARS: GUNNER CITY WARLORDS': '8649', 'MiniInTheBox Online Shopping': '34171', 'Meditate OM': '19074', 'EliteSingles – Dating for Single Professionals': '5377', 'Chess and Mate': '359', 'Florida Travel Guide': '11', 'My baby firework': '4976', 'CT-Guide & Positioning': '6', 'Little Teddy Bear Colouring Book Game': '85', 'Dark Infusion Substratum Theme for Android N & O': '133', 'AW TeamUp': '9', 'Q Cat Live Wallpaper': '4383', 'Insightly CRM': '1383', 'Loop - Caribbean Local News': '4332', 'IndiaMART: Search Products, Buy, Sell & Trade': '207372', 'Funny videos for whatsapp': '3066', 'CDL Practice Test 2018 Edition': '7774', 'CJ the REALTOR': '1', 'Baby Panda Musical Genius': '3346', 'OpenGL ES CapsViewer': '78', 'Disc Label Print': '262', 'Knights N Squires': '148826', 'Modern Counter Global Strike 3D V2': '368', 'Grand Theft Auto V: The Manual': '182103', 'Resume PDF Maker / CV Builder': '2147', 'Calculator': '57', 'Portable Wi-Fi hotspot Free': '1711', 'City light CM Locker Theme': '6271', 'The Vikings': '15806', 'DoorDash - Food Delivery': '104504', 'AJ Academy: Amazing Animals': '1564', 'DB Browser': '236', 'Superbrothers Sword & Sworcery': '11023', 'Bowmasters': '1536349', 'Baby Names': '86', 'TETRIS': '199808', 'Amazon for Tablets': '141613', 'The Gang Sniper V. Pocket Edition.': '6121', 'Five Nights at Pizzeria': '1976', 'Marathi DP - status and message,jokes,Video app': '694', 'DP & Status': '1922', 'Service CU Mobile Banking': '6208', 'Game of Thrones: Conquest™': '90218', 'Moven - Smart Finances': '861', 'FamilySearch Tree': '17506', 'DreamTrips': '9971', 'theScore: Live Sports Scores, News, Stats & Videos': '133833', 'Ex Quotes': '129', 'Kawaii Easy Drawing : How to draw Step by Step': '34327', 'Jetpack Joyride': '4638163', 'Blidz - Hunt Free Deals On Trending Items!': '1659', 'auto fines': '31433', 'Applock': '4934130', 'TerraGenesis - Space Colony': '38957', 'M+': '198', 'JStock - Stock Market, Portfolio & News': '11066', 'Wattpad 📖 Free Books': '2915189', '11st': '48732', 'DS App Manager': '14', 'Z PIVOT': '0', 'BU Questrom Launch': '3', 'Ice Crush 2018 - A new Puzzle Matching Adventure': '15403', 'PitchBlack S - Samsung Substratum Theme “For Oreo”': '90', 'বাংলাflix': '1111', 'ERres- Emergency Medicine': '45', 'STADE.CD': '0', 'Harkins Theatres': '1511', 'Bits Watch Face': '6205', 'Lux Home Decorating Room Games': '1518', 'Adult Color by Number Book - Paint Mandala Pages': '997', 'AP Mobile 104': '0', 'Blur Image - DSLR focus effect': '38055', 'AOL - News, Mail & Video': '62465', 'STARZ': '88185', 'ARuler - AR Ruler app, Measure tools': '1602', 'Šmelina .cz inzeráty inzerce': '117', 'Calculator - free calculator, multi calculator app': '25592', 'Fort Myers FL': '0', 'Cъновник BG': '13', 'AR Toys: Playground Sandbox | Remote Car': '153', 'BW Switch': '1', 'Cards Casino:Video Poker & BJ': '325', 'Pocket RxTx Pro': '253', 'Virtual Cigarette Smoking (prank)': '29838', 'Food Calorie Calculator': '1324', 'Sabbath School 4': '2871', 'Learn to Speak English': '33646', 'Emoji Android L Keyboard': '11535', 'DN Managed Mobility App': '0', 'J-UFO': '339', 'BTS j-hope LINE Launcher theme': '934', 'Holy Quran Mehmet Emin Ay': '649', 'Diseño de columnas NTC - RSEE 2017': '6', 'White Noise Baby': '10544', 'Cars Coloring Pages': '1090', 'FK Vojvodina': '5', 'Porch DV': '5', 'SketchBook - draw and paint': '256664', 'R File Manager': '17', 'Můj T-Mobile Business': '10490', 'Adobe Illustrator Draw': '65766', 'Lake Michigan CU Mobile': '732', 'Watch Face BW Inter': '112', 'A.J. Styles HD Wallpapers 2018': '1', 'House party - live chat': '1', 'A Better Camera': '76484', 'The T Factor': '48', 'FANDOM for: GTA': '39038', 'BGCN TV': '4334', 'AT&T U-verse': '38606', 'SVT Play': '11549', 'C Programming': '22251', 'CB Mobile Biz': '3', 'Bu Hangi Youtuber ?': '31', 'FQ Magazine': '1', 'MLB At Bat': '82883', 'CA Technologies': '1', 'Identity V': '109263', 'Solar System AR ( ARCore )': '211', 'Do Not Disturb': '6120', 'Random Video Chat': '3', \"AV Anthony's\": '0', 'Theme For Galaxy Note FE': '0', 'Guide (for X-MEN)': '586', 'Resume Maker:Free CV Maker,Templates Builder': '715', 'PAY DT': '0', 'BN DB1 App': '2', 'HTC Sense Input - EN': '24175', 'CP Calculator': '187', 'LinkedIn Learning: Online Courses to Learn Skills': '7973', 'Wireless BP': '30', 'Nubank': '130582', 'Sydney FC Official App': '57', 'Make a burger king': '125', 'PGA TOUR LIVE': '1845', 'CX Capture': '1', 'APUS File Manager (Explorer)': '498894', 'RPG End of Aspiration F': '20368', 'Family Locator - GPS Tracker': '726074', 'I am rich VIP': '411', 'F N Bail Bonds': '4', 'zulily - Shop Daily Deals in Fashion and Home': '28560', 'Mass Effect: Andromeda APEX HQ': '4490', 'PHARMAGUIDE (DZ)': '131', 'Samsung TV AV Guide 2016': '27', 'BK Video Status': '13', 'K-pop Music': '369', 'Be Stronger': '787', 'My Little Pony: Harmony Quest': '148405', 'Ludo Family Dice Game': '3593', 'The DL Hughley Show': '23', 'MTV': '35279', 'Agenda EF': '79', 'Kenmore Smart AC': '71', 'Living Room Decorating Ideas': '4465', 'usgang.ch': '492', 'CX-17WIFI': '49', 'FK Željezničar Izzy': '119', 'BQ Camera': '2526', 'Google My Business': '70991', 'Workout Tracker & Gym Trainer - Fitness Log Book': '5420', 'EM Launcher for EMUI': '3175', 'Regal Cinemas': '32732', 'Iqiyi (for tablet)': '12764', 'Theme Android P for LG G7 & V35': '5', 'Al Quran Free - القرآن (Islam)': '1777', 'Betul Ke Bohong Eh?': '601', 'Ludo Dz': '17', 'Jewels Star: OZ adventure': '21892', 'Best Buy': '186116', 'Planner Pro-Personal Organizer': '10270', 'Ay Yıldız - Xperia Live Theme': '0', 'hum app': '10218', 'Mackolik Live Results': '188834', 'SAT Flashcards: Prep & Vocabulary': '2277', 'Ninja Dash - Ronin Jump RPG': '8508', 'Lean EQ': '6', 'TAMAGO': '42515', 'Free coupons and vouchers': '4', 'Interracial Match Dating App': '143', 'EZ Video Download for Facebook': '34079', 'Samsung Smart Switch Mobile': '146913', 'Harry Potter: Hogwarts Mystery': '1107310', 'Wunderlist: To-Do List & Tasks': '404617', 'Delivery Club-food delivery: pizza, sushi, burger, salad': '151080', 'How To Color Disney Princess - Coloring Pages': '591', 'DW Contacts & Phone & Dialer': '21186', 'Plug-in app (System AC)': '126', 'Hotels.com: Book Hotel Rooms & Find Vacation Deals': '260133', 'Kidjo TV Kids Have Fun & Learn': '732', 'South Park: Phone Destroyer™': '288835', 'Pink Color for Facebook': '5285', 'Hypertension High blood pressure': '292', 'Ost. Zombies Cast - New Music and Lyrics': '1', 'Top Eleven 2018 - Be a Soccer Manager': '3451011', 'Quora': '313633', 'FC Red Bull Salzburg App': '1526', 'trivago: Hotels & Travel': '219848', 'Destroy Gunners Σ': '10786', 'EH kontrollrakendus': '43', 'R-EU-READY': '13', 'Speed Booster - Ram, Battery & Game Speed Booster': '85079', 'FC BARCELONA EVENTS': '6', 'DaBang - Rental Homes in Korea': '23013', 'বাংলা টিভি প্রো BD Bangla TV': '193', 'Brilliant Distinctions®': '78', 'DG Hair': '0', 'Ecobank Mobile Banking': '12073', 'Blood Pressure': '33033', 'BT Notifier': '2794', 'Barcelona Wallpaper HD': '93', 'Teen Patti by BL Games': '496', \"Qu'est ce qui est jaune et qui attend ?\": '10', \"Ali Baba's Farm Tutorial Kids Games\": '36', 'Interactive NPC DM Tool': '5', \"Miller's Bar B-Q\": '0', 'Basket Manager 2017 Free': '2710', 'ab': '10', 'Anime Mod for BM': '0', 'DK Hair Design': '0', 'Mcqueen Coloring pages': '65', 'Eating Show - Food BJ': '103', 'DC Universe Online Map': '1186', 'AJ Cam': '44', 'The Walking Dead: Road to Survival': '522466', 'Extreme Super Car Driving 3D': '23104', 'Experiment Z - Zombie': '229329', 'DB Transport': '179', 'cg guruji': '170', 'Prom MakeUp Tutorial': '104', 'To-U - free EV public charging': '75', 'Park Limousine: Realistic Limo Parking Simulator': '4', 'File Manager -- Take Command of Your Files Easily': '127223', 'FE Connect Fhoton': '0', 'Pregnancy & Baby Tracker': '48286', 'OFF-ROAD SIMULATOR 4x4 : REAL': '109', 'Kolkata News:Anandbazar Patrika,ei samay&AllRating': '10', 'DH News': '81', 'Hotspot Shield Free VPN Proxy & Wi-Fi Security': '1116393', '350 Diy Room Decor Ideas': '27', 'Dz Dinars Numbers to letters': '2807', 'Cash App': '34428', 'dekoreko-dz': '16', 'Turbo Download Manager (and Browser)': '32879', 'Room planner: Interior & Floorplan Design for IKEA': '4281', 'HD Themes Volvo FH Trucks': '40', 'Radio K - KUOM': '39', 'Mind Games Pro': '15301', 'SONIC Drive-In': '19373', 'DB Customer Connect': '100', 'BN Habitat - Property Experts - Buy | Sell | Rent': '0', 'EF Mentor: Words': '403', 'EF Sidekick': '36', 'Candy Crush Soda Saga': '6199095', 'Q7 SmartWatch': '94', 'CM FILE MANAGER': '953790', 'Online Chat Girls Meet': '18', \"What's Up, Snoopy? - Peanuts\": '773', 'Card Wars - Adventure Time': '129603', 'DTPay': '18', 'Wrestling Revolution 3D': '989344', 'Painel EJ SSH - INTERNET GRÁTIS': '10', 'BM speed test': '1', 'Schlaumeier': '0', 'Voxer Walkie Talkie Messenger': '230564', 'DM Storage (for twitter)': '6', 'bX Hot Articles by Ex Libris': '42', 'CE-STRONG': '0', 'Freitas Auctioneer Official': '100', 'Dating for 50 plus Mature Singles – FINALLY': '13049', 'Angry Birds Match': '227401', 'WWE': '736864', 'Blogaway for Android (Blogger)': '4253', 'tinyCam Monitor FREE': '65914', 'CQ ESPM': '2', 'Signal Info': '424', 'Boomerang from Instagram': '928720', 'HTC Weather': '22154', 'BSc Ag Entrance Preparation': '138', 'IQ Test': '1623', 'Exchange Bank - EB Mobile': '8', 'Eyes - The Scary Horror Game Adventure': '499483', 'Hily: Dating, Chat, Match, Meet & Hook up': '2560', 'FD VR Cardboard Featured 360 Videos': '76', 'Eat Fit - Diet and Health Free': '2469', '5 Minute Clinical Consult 2019 - #1 for 25 years': '33', \"Dr. Panda & Toto's Treehouse\": '3397', 'SW Battlefront Companion': '93870', 'myQ': '3642', 'Gangster City Auto Theft': '350', 'Socratic - Math Answers & Homework Help': '37862', 'BN Bank Mobilbank': '72', 'Mobile TV': '10939', 'BA Calculator': '22', 'Capitec Remote Banking': '20672', 'BG Burger': '1', 'C Programs and Reference': '873', 'AVG AntiVirus 2018 for Android Security': '6207063', 'Simple EV Calc': '105', 'AV Phone': '4', 'Gangstar Vegas - mafia game': '4830407', 'Looper!': '48256', 'CB Mobile Access': '57', 'Brilliant': '41185', 'NBA LIVE Mobile Basketball': '1690802', 'Hideman VPN': '88675', 'T-Mobile Tuesdays': '53144', 'Cozi Family Organizer': '56713', 'RocketDial Dialer & Contacts': '32254', 'The 5th Stand': '1697', 'Podcast App: Free & Offline Podcasts by Player FM': '66407', 'AppFinder by AppTap': '2221', 'Foothills CP': '4', 'FP Click sound changer': '178', 'Ingress': '391325', 'ZOOKEEPER DX TouchEdition': '3195', 'Inches to Centimeters': '949', 'Deep Sleep and Relax Hypnosis': '4852', 'CW Nuclear': '15', 'News 8 San Diego': '1137', 'BestCam Selfie-selfie, beauty camera, photo editor': '1739', 'BetterMe: Weight Loss Workouts': '14709', 'Sago Mini Friends': '13155', 'Company Kitchen Inventory': '3', 'MB Notifications for FB (Free)': '3047', 'EJ Elite Prospects League': '3', 'Talking Pictures: Autism, CP': '22', \"Don't Panic with Andrew J.\": '124', 'AX Window': '0', 'FD VR Theater - for Youtube VR': '4585', 'Route Z': '24697', 'AutoCAD - DWG Viewer & Editor': '145088', 'Call Blocker': '188841', 'BF 3d View Wallpapers': '4', 'FK (FlightKid)': '2', 'Google AdSense': '52677', 'Verify - Receipts & Expenses': '413', 'Choose SuperHero Quize Marvel | DC': '3', 'Offroad Car G': '64884', 'MexiRoomies - roomies, mexico, df, apt, house room': '2', 'Southland CU': '109', 'Mozart Baby Sleep': '107', 'FO Bixby': '5', 'Bingo by IGG: Top Bingo+Slots!': '183343', 'X Launcher: With OS11 Style Theme & Control Center': '5754', 'New CL 2ne1 Wallpaper KPOP live': '0', 'Download All Files': '120494', 'BZ Straußenführer': '291', 'Breaking News, Local news, Attacks and Alerts Free': '2543', 'My Ooredoo Algeria': '3606', 'SportsManias Fantasy Team News': '4057', 'ARY NEWS URDU': '1071', 'Healthy Recipes Free': '1077', 'Tumblr': '2955326', 'CG Shikshak Mitan': '295', 'CT-ART 4.0 (Chess Tactics 1200-2400 ELO)': '8191', 'Fuel Rewards® program': '32433', 'EU Charter': '33', 'Vegas Crime Simulator': '721646', 'Hero Fighter X': '24210', 'All Type Ac Repair & Services': '45', 'White Classic Petite Watch Theme for DW': '2', 'DS Vision': '0', 'Star Wars ™: DIRTY': '38207', 'FP Transportation': '1', 'Cute Questions BF': '3', 'Tattoo Name On My Photo Editor': '44829', 'Google Duo - High Quality Video Calls': '2083237', 'Wondershare PowerCam': '329160', 'DT Technologies': '0', 'Microsoft Translator': '209696', 'Southwest Airlines': '24781', 'MAPS.ME – Offline Map and Travel Navigation': '932870', 'Hashtags For Likes.co': '420', 'CBS News': '23641', 'CW Ringtone (Morse Code generator)': '0', 'Dragon Sim Online: Be A Dragon': '111741', 'Santa Panda Bubble Christmas': '101', 'Q Remote Control': '4264', 'GoAction': '1522', 'TurboScan: scan documents and receipts in PDF': '11442', 'Study Checker': '3816', 'O Shopping': '671', 'Trip by Skyscanner - City & Travel Guide': '5150', 'RadPad: Apartment Finder App': '6896', 'Best Design CD Ideas': '0', 'Amazon Shopping': '909226', 'Last Shelter: Survival': '93033', 'Cake Shop - Kids Cooking': '30668', 'Google Ads': '29331', 'ADWLauncher 1 EX': '28728', 'Kim Bu Youtuber?': '11', 'Darkness Rises': '456474', 'Arto: f.infrared photo': '41', 'Zombie Avengers:(Dreamsky)Stickman War Z': '13604', 'CX Elevated': '0', 'CX Carrier Lite': '0', 'WebComics': '33783', 'BiggerCity: Chat for gay bears, chubs & chasers': '923', 'Barcelona News - Sportfusion': '382', 'Maricopa AH': '0', 'AJ Blue Icon Pack': '4', 'Marvel and DC Wallpapers': '249', 'PMHNP-BC Pocket Prep': '112', 'CQ Electrical Group': '0', 'Trulia Real Estate & Rentals': '175293', \"Domino's Pizza USA\": '1032935', 'Go': '89', 'Masha and The Bear Jam Day Match 3 games for kids': '50060', 'Cardio-FR': '67', 'TRANSFORMERS: Earth Wars': '256219', 'Wallpapers Volvo FH 16 Trucks': '13', 'EF Parеnts': '435', 'JusTalk - Free Video Calls and Fun Video Chat': '191032', 'Yazdani Cd Center EllahAbad Official App': '8', 'Tutorials for R Programming Offline': '2', 'Cr Aviation Academy': '7', 'Ay Telekom Oim': '6', 'CY Digital Net': '3', 'Open in WhatsApp (click to chat)': '12121', 'Dailyhunt (Newshunt) - Latest News, Viral Videos': '948198', 'Cooking in the Kitchen': '217736', 'Pocket U ASW': '93', 'My CG': '0', 'Launcher Oreo 8.1': '13466', 'B.M.Snowboard Free': '9765', 'My Study Life - School Planner': '47847', 'Subway Terminator: Smarter Subway': '70556', 'HDFC Bank MobileBanking': '208463', 'Smart AppLock (App Protect)': '137562', 'Flightradar24 Flight Tracker': '171889', 'Ek Kauwa Pyasa Tha': '35', 'BK Photography': '20', 'NBC Sports Gold': '3017', 'Elevator Simulator Lift EM ALL': '2941', 'Mega Photo': '44941', 'DC Comics Amino': '117', 'Bluetooth Pair': '1960', 'Insight Timer - Free Meditation App': '20161', 'BT Mobile': '22', 'ATC Unico BS': '10', 'Noot-Noot-er!': '74', 'Etta Homes': '220', 'Eurosport': '121003', 'Bacterial Vaginosis Symptoms': '698', 'Math Tricks': '342918', 'CK Shop': '13', 'Pencil Sketch Drawing': '136', 'CreditWise from Capital One': '26587', 'Company Kitchen': '81', 'Ez iCam': '7300', 'Traffic Racer': '5387781', 'Pluto TV - It’s Free TV': '28948', 'BM Physiotherapy Clinic': '3', 'HipChat - Chat Built for Teams': '5868', 'AK-47 guns Sounds': '2', 'LiveScore: Live Sport Updates': '283662', 'Running Weight Loss Walking Jogging Hiking FITAPP': '20812', 'Android P Rotation': '502', 'Call Recorder': '48', 'Neighborhoods & Apartments': '2042', 'Galaxy at War Online': '65119', 'BN Inscript Improved Keyboard': '0', 'WithstandZ - Zombie Survival!': '121612', 'ck-modelcars-UK Shop': '69', 'ABC News - US & World News': '18976', 'No.Color – Color by Number': '23474', 'Amleen Ey': '0', 'FD VR Video Player - (Stored)': '751', 'Real Casino:Slot,Keno,BJ,Poker': '341', 'Wallpapers New AK 47 Assault Rifle Guns Arms': '0', 'The Sims™ FreePlay': '931595', 'DraftKings - Daily Fantasy Sports': '50017', 'Ringdroid': '326232', 'myHomework Student Planner': '28392', 'infirmiers': '125', 'Bualuang mBanking': '48445', 'English translation from Bengali': '527', 'Turbo FAST': '1329192', 'EO LAC': '0', 'Colors of white in Urdu': '36', 'Cb browser': '5', 'Wifi Mingle': '0', 'PK and DK Audio App': '2', 'Launcher Theme for LG K10 2018': '649', 'China Town Auto Theft 2': '364', 'CL-App': '6', 'Kids Mode': '2469', 'VAN NIAN 2018 - Vietnamese Calendar': '37', 'Video Editor Music,Cut,No Crop': '2163282', 'Megatramp - a Story of Success!': '322976', 'The Team - Live Sport: football, tennis, rugby ..': '112725', 'Creative Destruction': '201426', 'Top BR Chaya Songs': '0', 'JustDating': '13440', 'PAC-MAN': '685981', 'Call Control - Call Blocker': '93825', 'Plastic Surgery Surgeon Simulator Er Doctor Games': '3482', 'Bad Piggies': '1168959', 'FOX Sports: Live Streaming, Scores & News': '28895', 'Can Knockdown': '155649', 'Pedometer - Step Counter Free & Calorie Burner': '31139', 'Dr. Panda Restaurant 3': '11126', 'NFP 2018': '8', 'Fake Call From Wengie Prank': '352', 'DC Super Hero Girls™': '43090', \"Please Don't Touch Anything 3D\": '146', 'Manga-FR - Anime Vostfr': '291', 'FE Mechanical Engineering Prep': '2', 'Legion of Heroes': '143087', 'Runtastic Mountain Bike GPS Tracker': '50679', 'BC MVA Fines': '5', 'Toddler Learning Games - Little Kids Games': '731', 'Booking Revolution': '140883', 'Arizona Trail': '65', 'Best CG Photography': '1', 'Heroes of Dragon Age': '70389', 'TI-84 CE Graphing Calculator Manual TI 84': '1', 'BS Generator': '5', 'DX Spots Free': '46', 'SDA Sabbath School Quarterly': '14773', 'Standard Bank / Stanbic Bank': '15247', 'The Rules of Golf': '926', 'CD JUANITO': '6', 'Photo Editor 2018': '134', 'Mercari: The Selling App': '101883', 'Digit Save Money Automatically': '8188', 'Weather Radar Widget': '18194', 'Coupon Mob - Discount Coupons': '2', 'APUS Booster - Space Cleaner & Booster': '1048766', 'My Talking Tom': '14892469', 'I am Rich': '180', 'FindLoving': '24', 'Florida map': '11', 'Scoompa Video - Slideshow Maker and Video Editor': '559931', 'Fiesta by Tango - Find, Meet and Make New Friends': '112223', 'Dinosaurs Coloring Pages': '390', 'MEGA': '549973', 'Smart Air Conditioner': '4786', 'Car Parking Crane N Drifting': '106', 'BJ Foods': '3', 'CB Mobile GA': '1', 'Amex Mobile': '24729', 'EW PDF': '0', 'EzCalculator': '1657', 'Anna.K Tarot': '17', 'Extreme Rally Championship': '129', 'SavingStar - Grocery Coupons': '31519', 'Bunny Skater': '139432', 'Avaya CX': '21', 'FG Wallet': '9', 'Bolt - EV Charging Service': '9', 'Download Manager Pro FREE': '637', 'DG Video Editor': '486', 'Cy Messenger': '4', 'PAC-MAN CE DX': '1692', 'Aqw&3d Design Notes Manager': '11', 'How to Write CV': '244', 'Al Quran : EAlim - Translations & MP3 Offline': '96419', 'Firefighters First CU': '495', 'Instagram': '66577446', 'Dr. Splorchy Presents Space Heroes': '18', 'EP RSS Reader': '4', 'Debra Care Conference': '0', 'UPS Mobile': '23243', 'Central Bank and Trust Co.': '65', \"that's lit\": '1115', 'Name days': '3089', 'Threema': '51110', 'Antenna Tool Premium': '14', 'Current debit card and app made for teens': '685', 'Metro name iD': '27800', 'The Grand Wars: San Andreas': '29990', 'Ultimate Watch 2 watch face': '285', 'The Aether: Life as a God': '1407', 'daskal.eu': '5', 'OBJECTIFINFOS.CD': '2', 'Fashion Girls Dress up Makeup': '115', 'Outdoor Movies BC': '7', \"AJ Men's Grooming\": '2', 'Dr Dre - Beatmaker': '146', 'DP Status 2017': '302', 'English with Lingualeo': '254519', 'DS': '15', 'Beauty Makeup – Photo Makeover': '21730', 'AR Sport Cars': '284', 'Find&Save - Local Shopping': '4602', 'Girly Lock Screen Wallpaper with Quotes': '32458', 'Sic Bo (Tai Xiu) - Multiplayer Casino': '152', 'Roll the Ball® - slide puzzle': '1385093', 'EF Teacher': '16', '500 AP World History Questions': '7', 'REI Co-op Mastercard': '320', 'The World Ends With You': '4108', 'EL NORTE': '2436', 'NativeScript Developer Day EU': '2', 'Calcium Pro': '77', 'GATE 21 years CS Papers(2011-2018 Solved)': '1', 'Gas Station': '1288', 'Deck Simulator for CR': '202', 'B.Z. Live-Ticker': '114', 'AC - Tips & News for Android™': '23292', 'Gayvox - Gay Lesbian Bi Dating': '3640', 'Refreshing app Free application that can use deal coupons': '10741', 'SugarSync': '16420', 'Abs workout 7 minutes': '37224', 'BZ Berner Oberländer': '64', 'G-Switch 2': '12683', 'EG CrossPad': '3', 'WiFi Baby Monitor - NannyCam': '29867', 'Greeting Cards & Wishes': '17350', 'FreePrints – Free Photos Delivered': '109500', 'EJ messenger': '1', 'My baby Piano': '17941', 'Wireless news': '6066', 'The Divine Feminine App: the DF App': '8', 'v-view': '309', 'CR-Red': '561', 'PhotoDirector Photo Editor App': '714340', 'CD Ready': '52', 'NASCAR MOBILE': '80900', 'Social network all in one 2018': '1403', 'BIG Launcher': '881', 'BL Community Icon Pack': '289', 'photo keypad lockscreen': '225544', 'Math Quiz Free: Grades K,1,2,3': '159', 'FK Zemun': '3', 'Profile Tracker - Who Viewed My Facebook Profile': '37090', 'Blood Domination - BL Game': '415', 'Anti-virus Dr.Web Light': '1094094', 'Weight Watchers Mobile': '270294', 'Fresh News': '2207', 'Thai Handwriting': '3168', 'Flip the Gun - Simulator Game': '195558', 'Them Bombs: co-op board game play with 2-4 friends': '8038', 'BaBe - Read News': '355921', 'EC - Encumbrance Search - telangana state': '45', 'VAT check CY': '0', 'Arizona Mobile': '285', 'To': '22', 'Bilingual Dictionary Audio App': '68', 'C B Patel Health Club': '5', 'BH Patrole': '27', 'Ruler': '27180', 'Coloring & Learn': '12753', 'CX-95WIFI': '6', 'CF Life': '4', 'FN Web Radio': '0', 'HotelTonight: Book amazing deals at great hotels': '57573', 'NEW - Read Newspaper, News 24h': '158196', 'EZ Financial Calculator': '32', 'N-Com Wizard': '960', 'U Camera : Phone 6s OS 9 style': '2158', 'Iron Blade': '161637', 'ES Billing System (Offline App)': '1', 'Music for Youtube - Tube Music BG, Red+': '47', 'CW Bluetooth SPP': '3', 'EZ Display': '280', 'foody Cyprus - online ordering': '214', 'ASUS Cover for ZenFone 2': '43960', 'Free WiFi Connect': '167229', 'Supervision service': '2155', 'Couchsurfing Travel App': '61776', 'iReadMe': '8', 'Da Fit': '1151', 'Audio Murli Glossary For BK': '39', 'Al Jazeera English': '24456', 'm, cm, mm to yard, feet, inch converter tool': '246', 'imo beta free calls and text': '659395', 'DW Tech Tools': '1', 'H Pack': '9412', 'Rivals at War: 2084': '174127', 'Educationboard Results BD': '983', 'ONEC DZ': '40', 'Chest Calculator for CR': '14754', 'Free Hypnosis': '4303', 'Space Coast CU Mobile': '922', 'Dr D K Olukoya': '0', 'MyLifeOrganized: To-Do List': '4441', 'AC Troubleshooter': '147', 'H Band': '214', 'DW فارسی By dw-arab.com': '11', 'X Launcher Pro - IOS Style Theme & Control Center': '1216', 'AF Hydro': '136', 'OS-X EMUI 4/5/8 THEME': '916', 'Parkinson Exercices FR': '3', 'Gunship Modern Combat 3D': '3247', 'Real Racing 3': '354454', 'Fuel Calculator for EY': '32', 'ipsy: Makeup, Beauty, and Tips': '49790', 'Sport.pl LIVE': '21733', 'EG SIM CARD (EGSIMCARD, 이지심카드)': '322', 'Casper Ssinema': '1261', 'Manga Master - Best manga & comic reader': '24005', 'Yongqing fast search': '1437', 'Android P Wallpapers': '53', 'EV Connect': '25', 'ZipRealty Real Estate & Homes': '3937', 'BW Fuhlenbrock': '4', '7 Nights at Pixel Pizzeria - 2': '23168', 'Anime Manga Coloring Book': '5035', 'Freeme Launcher—Stylish Theme': '2828', 'Tennis Livescore Widget': '361', 'Scientific Calculator Free': '16395', 'dr.fone - Recovery & Transfer wirelessly & Backup': '23347', 'Dragon Ball Wallpaper - Ringtones': '73', 'ReadEra – free ebook reader': '47303', 'SHUTTLLS CQ - Connect Ride Go': '0', 'Time Recording - Timesheet App': '23393', 'Fate GO Ap Counter': '70', 'Best DP and Status - All Type DP & Status': '1', 'Pedometer, Step Counter & Weight Loss Tracker App': '548021', 'Chess Free': '23772', 'Registered Dietitian Pocket Prep': '283', 'BP Scanner Prank': '157', 'Trane Interactive Smart AC': '48', 'Math games for kids : times tables training': '630', 'Quiz: Logo game': '306764', 'Voxel - 3D Color by Number & Pixel Coloring Book': '62561', 'صور حرف H': '13', 'HungerStation': '22513', 'G-Homa': '777', 'Zappos – Shoe shopping made simple': '44588', 'Home Pony 2': '20977', 'Bixby Button Remapper - bxActions': '13064', 'Rolly Vortex': '98123', 'HD Camera for Android': '351255', 'TownWiFi | Wi-Fi Everywhere': '2372', 'Yaoi Ooku: Distorted Love': '2614', 'Dream EZ': '107', '17th Edition Cable Sizer': '47', 'Learn R - Programming Concepts': '6', 'Be Like Bro - Compilation': '146', 'Learn C++': '73404', 'Power Widget': '928', 'think Comics': '1006', 'CF Riga': '12', 'happn – Local dating app': '1118201', 'Discover Mobile': '87951', 'Scary Video Maker': '9296', 'Táxi Nacional BR': '88', 'BusyBox Pro': '8114', 'Burnley FC': '195', 'App vault': '25094', 'FHR 5-Tier 2.0': '2', 'BL Carrier': '0', 'BV Smart': '28', 'BG+Phone Backup': '16', 'Block Puzzle': '59907', 'DB FahrtProfi': '1', 'Frigo Magic: Easy recipe idea and anti-waste': '2473', 'Sniper Traning for CS GO': '655', 'Castle Clash: Heroes of the Empire US': '4578890', 'Feeder.co': '77', 'Tik Tok - including musical.ly': '5637451', 'BS MAPS': '6', 'myGrow': '84', 'Real Estate sale & rent Trovit': '65913', 'Sam.BN': '83', 'NOMISMA.com.cy by FMW': '3', 'AC Remote Control': '472', 'Retro City Rampage DX': '416', 'BN Pro Percent White HD Text': '45', 'BakaReader EX': '8894', \"Let's Poke The Egg\": '9051', 'DC Metro': '59', 'DK Childcare Centers': '0', '📏 Smart Ruler ↔️ cm/inch measuring for homework!': '19', 'My love': '163997', 'CT and XR Dose Calculator': '3', 'Lumosity: #1 Brain Games & Cognitive Training App': '215301', 'Zepp Golf Swing Analyzer': '2020', 'Horses Live Wallpaper': '28806', 'Evernote – Organizer, Planner for Notes & Memos': '1488397', '365Scores - Live Scores': '666521', 'Robot Fighting Games™ - Real Boxing Champions 3D': '30', 'Bus Rush: Subway Edition': '753043', 'EU RCD Guide': '0', 'DEM DZ': '2', 'Siyaha Dz': '289', 'Jodel - The Hyperlocal App': '76480', \"What's Your Story?™ ft Charmed\": '39661', 'Messaging+ SMS, MMS Free': '28238', 'The Church at CW': '2', 'All-In-One Toolbox: Cleaner, Booster, App Manager': '536926', 'Nose Doctor X: Booger Mania': '37584', \"Wowkwis aq Ka'qaquj\": '1', 'Beautiful Widgets Pro': '97890', 'e-Boks.dk': '6752', 'Ratings by Consumer Reports': '3420', 'The Cube': '70226', 'IBM Micromedex Drug Info': '206', 'Walking for Weight Loss - Walk Tracker': '644', '뽕티비 - 개인방송, 인터넷방송, BJ방송': '414', 'My EU': '4', 'EU Flags Live Wallpaper': '444', 'FK Sileks': '0', 'CX North America': '10', 'Al-Moazin Lite (Prayer Times)': '284670', 'JW Caleb y Sofia': '5227', 'FN Cam': '181', 'Zombie War Z : Hero Survival Rules': '1987', 'LEGO Batman: DC Super Heroes': '2557', 'FK Liepaja': '4', 'European War 5:Empire': '9513', 'English to Hindi Dictionary': '71328', 'JAL (Domestic and international flights)': '2277', 'Car Search For Craigslist CL Free': '5', 'CVRIA': '68', 'Diabetes & Diet Tracker': '395', 'Daily Ab Workout - Core & Abs Fitness Exercises': '44939', 'Software Update': '8259', 'C-E Federal Credit Union': '1', 'Ben 10: Alien Experience': '82005', 'DIY On A Budget': '114', 'Simple - Better Banking': '7731', 'Instant Ba-dum-tss': '13', 'Hot Bhojpuri Video Song 2018 - Free Movies': '447', 'Lifeguard Beach Rescue ER Emergency Hospital Games': '519', 'Ai-Ball AV Recorder': '90', 'NBA JAM by EA SPORTS™': '56444', 'Fruit Ninja Classic': '85468', 'CI Staff App': '0', 'CL REPL': '47', 'EZ Ag Mobile': '19', 'DP Creator for WhatsApp': '4813', 'Fast Scanner : Free PDF Scan': '103755', 'ZiraatBank BH': '58', 'ONScripter Plus (Ad Free)': '100', \"Modcloth – Unique Indie Women's Fashion & Style\": '5121', 'R Programming Language': '39', 'F-Sim Space Shuttle': '5427', 'EURES - Your Job in Europe': '358', 'CL 2ne1 Wallpaper KPOP Fans All': '0', 'Forest Crossing AH': '0', 'Cacique CF': '19', 'Lynda - Online Training Videos': '8599', '9th stage': '454', 'busuu: Learn Languages - Spanish, English & More': '207294', 'LINE Launcher': '733838', 'Kernel Manager for Franco Kernel ✨': '12700', 'Zaatar w Zeit': '205', 'BL Banking DES': '3', 'DG Mobile': '59', 'Photo frame': '859', 'GUNSHIP BATTLE: Helicopter 3D': '2151039', 'Wendy’s – Food and Offers': '6512', 'BT Find Address for Bluetooth': '8', 'I am Bread': '630', 'CONNECT: The Mobile CX Summit': '0', 'Analog and Digital Clock AW-7': '202', 'Texas Hold’em Poker + | Social': '4416', 'Viking CB Radios': '6', 'Tunisian Dinar: Exchange rate': '625', 'ER Doctor City Emergency - Surgery City Doc FREE': '1909', 'AVG Cleaner – Speed, Battery & Memory Booster': '1188154', 'Keyboard Theme Gate Flat BW': '75', 'Block Puzzle : Night in Egypt': '276', 'Register.ca Mobile': '0', 'EI SmartMiles': '9', 'Traffic Sniper Counter Attack': '5339', 'BP Tracker-Symptoms & Solution': '34', 'V Made': '241', 'Super P Launcher for Android P 9.0 launcher, theme': '2026', 'Bx Thailand Alert (Bitcoin)': '3', 'BitTorrent®- Torrent Downloads': '641219', 'CL-Customer Care': '2', 'BF 4 Guns': '1542', 'Blood Pressure Tracker': '11', 'CS-Touch': '337', 'Allegiant': '5572', 'iKeyboard - emoji, emoticons': '624924', 'metroZONE': '47497', 'AR Remote Car': '1354', 'Foot Surgery Hospital Simulator: ER Doctor Games': '314', 'AY Recorder - Screen Recorder, Live, Video Editor': '12', 'TETRIS Blitz': '201631', 'AK 47 Guns Wallpaper': '322', 'Barbers.BH': '2', 'iSmart DV': '5692', 'Miami Crime Vice Town': '154519', 'Painting Lulu DC Super Friends': '7', 'AllTrails: Hiking, Running & Mountain Bike Trails': '16943', 'EG Mantenimiento': '1', 'Cameringo Lite. Filters Camera': '140917', 'Co-op CRS': '581', 'BN PERKS™': '0', 'Elevate - Brain Training Games': '248912', 'GO Contacts EX Black & Grey': '21', 'Global Shop': '0', 'Merge Dragons!': '214819', 'Horn, free country requirements': '37186', 'Words (188 Category)': '54', 'Wuwu & Co.': '9', \"Tom's Love Letters\": '705805', 'Dz Camera': '1', 'Klara weather': '36900', 'Diário Escola Mestres EF': '11', 'Open Sesame - Touch Free Control': '197', 'BW Mobilbanking für Smartphone und Tablet': '2048', 'Koi Live Wallpaper': '14026', 'TheFork - Restaurants booking and special offers': '37517', 'Ba ba black sheep offline Video': '20', 'Bu Hangi Ünlü?': '1', 'News: DW Hausa': '9', 'DR.MEEP': '54', 'Dr. ES PV Calculator': '19', 'MOMOLAND BBoom BBoom': '2580', 'Shopular: Coupons, Weekly Ads & Shopping Deals': '57920', 'Beacon Baptist Jupiter, FL': '14', \"Guns'n'Glory Heroes Premium\": '923', \"PewDiePie's Tuber Simulator\": '1499466', 'CP Calculator - Poke Go Calc': '7', 'RT 516 VET': '0', 'Simple Photo BG Changer': '1', 'Ag PhD Field Guide': '114', 'B&W Photo Filter Editor': '205', 'DRAGON QUEST VI': '3358', 'AZ Mobile Gizmo': '16', 'Dr. Cares - Pet Rescue 911 🐶': '14432', 'Instant Buttons: The Best Soundboard': '157322', 'BW COMPANY FINDER': '48', 'Wii U Simulator': '1178', 'GO SMS Pro - Messenger, Free Themes, Emoji': '2876500', 'Hambo': '125578', 'B612 - Beauty & Filter Camera': '5282578', 'Tie - Always be happy': '964', 'E-NUM': '10374', 'CR Blue Icon Pack': '323', 'POCKET BOOK CT ABDOMEN': '0', 'Pocket Little Pony': '47576', 'Fit the Fat 2': '35746', 'Auction Wars : Storage King': '29062', 'Bu Hangi Dizi ?': '14', 'Masha and the Bear: Climb Racing and Car Games': '2200', 'FH Kufstein App': '9', 'FK Dukla Prague': '0', 'Meetup': '79130', 'Arrhythmias and Dysrhythmias': '3', 'Roll Call News': '24', 'Monash Uni Low FODMAP Diet': '1135', 'Ultimate Clash Royale Tracker': '92010', 'Remote for Samsung TV & BluRay Players (Read Desc)': '1988', 'ParaTek Ai Speech generator': '448', 'Marble - Temple Quest': '42053', 'EF Academy': '4', 'B R COACHINGS': '1', 'Sci-Fi Sounds and Ringtones': '128', 'Las Vegas Lights FC': '10', 'Trovami se ci riesci': '11', 'BF Scale Health Fitness Tool': '19', \"Dunkin' Donuts\": '68270', 'FH Wallet': '0', 'Join R, Community Engagement': '144', 'KineMaster – Pro Video Editor': '1013867', 'Adblock Fast': '9914', 'パーリーゲイツ公式通販｜EJ STYLE（イージェイスタイル）': '1', 'Bh Public School': '2', 'Fashion in Vogue': '1797', 'BI Mobile Banking': '180', 'Watch Face Swiss AJ-6': '21', 'BH - Fitness & Nutrition': '0', 'DG - Digital Coupons - Free Coupon and Discount': '38', 'BS Where Am I': '9', 'EP Research Service': '14', \"Wrecker's Revenge - Gumball\": '2263', 'Height Converter feet-inch cm': '498', 'CG BILASPUR CARNIVAL': '59', 'DB Pickles': '5', 'CX Network': '0', 'Touch Racing 2 - Mini RC Race': '41867', 'Z Camera': '142', 'Palavras la cq': '783', 'Learn English Daily': '7881', 'Moto Z Market': '605', 'FP Разбитый дисплей': '922', 'Visual Voicemail by MetroPCS': '16129', 'C++ Programming': '11904', 'HelloTalk — Chat, Speak & Learn Foreign Languages': '84311', '8fit Workouts & Meal Planner': '115721', 'CBRadioTab': '127', 'CX_WiFiUFO': '818', 'BBWCupid - BBW Dating App': '241', 'Punch em': '2208', 'Triceratops - Dino Robot': '3032', 'St. Petersburg, FL - weather and more': '0', 'V for Voodoo': '16876', 'Skip-Bo™ Free': '46801', 'CJ SO COOL': '145', 'Sky News': '30287', 'Lose It! - Calorie Counter': '69395', 'Emmanuella Funny Videos 2018': '314', 'Vienna U-Bahn': '139', 'CR-V Service Manual': '12', 'Pinoy Kid Song Ako ay may Lobo': '23', 'Bedouin Rivals': '79826', 'F-Secure SENSE': '57', 'PTI Flex Maker, Photo Frame Editor & Songs 2018': '99', 'waut.ch!': '10', 'League18': '14123', 'Co-op Connections': '8', 'BJ Memo Widget': '616', 'FE Connect Drive-Tech': '0', 'FK Dedinje BGD': '36', 'BL Portfolio': '4', 'Pizza Hut': '321134', '1800 Contacts - Lens Store': '23160', 'e-Anatomy': '1545', 'Lunar Calendar': '484', 'BombSquad Remote': '13304', 'Radio Javan': '46916', 'Movies by Flixster, with Rotten Tomatoes': '653008', 'IF YOU TO EU PEGO': '3', 'CU: UPI Payments, Chat & Call': '693', 'All Star Of CW': '0', 'OB-GYN USMLE Stp2 CK 300 Q & A': '34', 'CKZ ORIGINS': '219821', 'MCQ CE IT': '22', 'Shoot M-16 vs AK-47 : realistic weapon simulator': '2', 'Lookout Security & Antivirus': '951413', 'Bukalapak - Buy and Sell Online': '662287', 'DK TEL Dialer': '0', 'GUN ZOMBIE': '243121', 'Club Factory Everything, Unbeaten Price': '244141', 'DU Antivirus Security - Applock & Privacy Guard': '436615', 'Frontback - Social Photos': '19446', 'BLOOD & GLORY: IMMORTALS': '101762', 'Spring flowers theme couleurs d t space': '1', 'My Tele2': '158679', 'Can Your Pet? : Returns - Teen': '45370', 'CS Interview Questions (TechQ)': '33', 'Dungeon Boss – Strategy RPG': '218881', 'GPS Map Free': '33782', 'Recognise Foot': '9', 'Kiss Me! Lip Kissing Test': '191', 'TN Patta Chitta EC Info': '1611', 'FP Notebook': '410', 'BZ Vesper-App': '60', 'AC WIFI': '41', 'Learn Math with el Chavo': '840', 'Dr. Safety - Antivirus, Booster, Cleaner, AppLock': '372553', 'Build a Bridge!': '263454', 'TV.AE': '109', 'Servidor Privado de CR y CoC - Light Royale': '3106', 'English Persian Dictionary': '26875', 'Zombies, Run! 5k Training (Free)': '267', 'Shopee: No.1 Belanja Online': '609186', 'AW CAMERA': '2', 'Walk with Map My Walk': '144050', 'dv Prompter': '321', 'CNN Breaking US & World News': '293080', 'DG TV': '3', 'BL info': '98', '[Substratum] M5 Theme': '16', 'K-Chiing VPN (Free)': '43', \"B'H BURGER HEIM\": '0', 'Be U Salons Hair-Beauty Deals In Delhi & Bangalore': '889', 'Eyes Makeup Beauty Tips': '30', 'Rádio DF FM': '24', 'Daily K-Talk': '264', 'H&M': '41941', 'BookBaby - Baby Development': '1002', 'EasyBib: Citation Generator': '1405', 'EC QR': '0', 'OurHome – chores, rewards, groceries and calendar': '3146', 'Monticello AH': '0', 'Access Point Browser': '25', 'Be you GO Launcher Theme': '1580', 'Florida State Gameday': '1566', \"Mad Dash Fo' Cash\": '14', 'AT&T THANKS®': '2445', \"COOKING MAMA Let's Cook!\": '528917', 'FlashLight HD LED Pro': '4928', 'Digital Tourist BH Itinerary': '19', 'DP Display Pictures Life Quotes Motivational GM': '39', 'Florida Cooling Supply HVAC': '6', 'Alex Fuel Calculator for EK': '19', 'Mali J': '185', 'Jorte Calendar & Organizer': '198051', '98point6': '47', 'Cyborg AX-001': '0', 'EG': '3', 'Sleep as Android: Sleep cycle tracker, smart alarm': '246201', 'dB Sound Meter': '29', 'FC Zenit official Android app': '5675', 'DT Simple Interval Timer': '10', 'BF Combat: Genesis': '3322', 'Muscle Trigger Point Anatomy': '1361', 'Florida Wildflowers': '5', 'Workflow Approvals App AX 2012': '2', 'ZArchiver': '337242', 'Pyaar Ek Dhoka': '18', 'WoW AH Tracker': '33', 'Henry Danger Crime Warp': '9626', 'Mee-EW': '0', 'DRAGON QUEST': '9659', 'W-History Standalone': '38', 'Boomerang': '13519', 'Google Korean Input': '74819', 'HBO NOW: Stream TV & Movies': '61230', 'eBay Kleinanzeigen for Germany': '318142', 'ExDialer PRO Key': '5474', 'PINKFONG Baby Shark': '10852', 'Recipes of Prophetic Medicine for free': '2084', 'aCalendar - Android Phone': '80119', 'USMLE CK Clinical Knowledge Flashcards 2018 Ed': '0', \"BJ's Bingo & Gaming Casino\": '501', 'BQ Partners': '0', 'Snapchat': '17015352', 'CW Mobile': '3', 'Survival Run with Bear Grylls': '128579', 'Flight & Hotel Booking App - ixigo': '45562', 'CB Hair Png - New Hair Png For CB Editing': '26', 'Sirens Fashion Style Game': '2282', 'IDM for Facebook ★ Downloader': '1905', 'SCM FPS Status': '123', 'California Cameras - Traffic': '305', 'Dr. Chess': '97209', 'Menstrual Calendar Premium': '4207', 'Six Pack Abs Photo Editor': '5967', 'Fatal Raid - No.1 Mobile FPS': '56496', 'ASUS SuperNote': '26559', 'Al-Quran Al-Muallim': '199', 'CZ-USA': '11', 'Tetrobot and Co.': '709', 'CV Creator': '31', 'CX-60': '19', 'Inquiry Fines and Debits of Vehicles': '2680', 'MX Player': '6474672', 'AY Sing': '111', 'Masha and The Bear': '39779', 'Runtastic Running App & Mile Tracker': '827653', 'Sommelier.BG': '0', 'T. Rowe Price Personal® App': '1057', 'ASUS Gallery': '125259', 'B-BLE(BLE4.0 Scan)': '159', \"bd's Mongolian Grill\": '120', 'CY.SEND Online Top Up': '191', 'EZ-Builder Mobile': '51', 'EF Jumper': '4', 'Casa de Bolsa Bx+ Móvil': '5', 'CK 初一 十五': '294', 'Pro 2018 - Series A and B': '101455', 'Ghost In Photo': '28429', 'Kids Animals Jigsaw Puzzles 😄': '51895', 'FL Bankers': '0', 'Wallpapers AK 74M': '0', 'Block! Hexa Puzzle™': '472247', 'ZERO Lock Screen': '75336', 'NewsDog - Latest News, Breaking News, Local News': '291901', 'Bsc Agri Notes': '301', 'FC Barcelona Official Keyboard': '5229', 'Instabridge - Free WiFi Passwords and Hotspots': '211308', 'Berlin Subway – BVG U-Bahn & S-Bahn map and routes': '509', 'Y! Mobile menu': '9', 'Oracle BI Mobile': '282', 'FK Železiarne Podbrezová': '0', 'TorrDroid - Torrent Downloader': '59632', 'FVD - Free Video Downloader': '327914', 'AC Air condition Troubleshoot,Repair,Maintenance': '27', 'BF Movies Fun': '63', 'CA Lottery Official App': '7000', 'Cover Camera for FB': '742', 'Chronolink DX Lite': '2', 'AW Tozer Devotionals - Daily': '8', 'BP World Energy': '25', 'Breastfeeding Tracker Baby Log': '6', 'boattheory.ch Full 2018': '54', 'World Newspapers': '185884', 'I Am Innocent': '208501', 'ES Themes -- Classic Theme': '77609', 'New Calendar': '25985', 'APOEL FC': '688', 'LEGO® Friends': '854', '【Miku AR Camera】Mikuture': '36268', 'YEBIS OpenGL ES 3.0 Tech Demo': '380', 'CI 174 Gray Icon Pack': '1', 'Kitchen Island Ideas': '515', 'Google Sheets': '496399', 'video player for android': '351168', 'EL AL Flights': '1563', 'Squid - Take Notes & Markup PDFs': '37204', 'Granny': '1138239', 'AR Dragon Pet': '0', 'Zombie Catchers': '990796', 'AH! Soundboard': '11', 'EH National Mobile Banking': '0', 'Itau bank': '957973', 'Asteroids 3D live wallpaper': '157495', 'BZ Langenthaler Tagblatt': '22', 'BBVA Compass Banking': '5905', 'FD VR Player - for Youtube 3D': '2378', 'Supermarket Cashier Kids Games': '32416', 'Prana Breath: Calm & Meditate': '31665', \"Blackpink as if it's your last\": '831', '4 Paws PH': '1', 'Alipay': '42497', 'Be My Princess': '3103', 'Zen Leaf': '1', \"Guns'n'Glory\": '89947', 'WiFi Access Point (hotspot)': '684', 'Pet Lovers Dating': '0', 'Encumbrance Certificate - (Obsolete)': '184', 'Pi Dark [substratum]': '189', 'SMS Park': '3617', 'Animal Planet GO': '2442', 'Alt-C': '499', 'DraStic DS Emulator': '87766', 'Sabka Malik Ek Sai': '17', \"Al'Quran Bahasa Indonesia\": '361780', 'JailBase - Arrests + Mugshots': '17240', 'CT Scan Generations': '6', 'Gmail': '4604483', 'Breweries (CZ/SK)': '1740', 'OMG Gross Zit - Date Nightmare': '70105', 'Clean My House – Chore To Do List, Task Scheduler': '661', 'Nordstrom': '2278', 'Eve Period Tracker - Love, Sex & Relationships App': '20326', 'Elite Commando Shooting War': '14', 'The Daily BJ': '38', 'English speaking texts': '1619', 'DF-View': '0', 'Treasure Hunt Hidden Objects Adventure Game': '1231', 'Gormey: Find Best Restaurants': '34', 'Sago Mini Big City': '8', 'PhotoFrame for Synology DS': '1', 'Square Point of Sale - POS': '95912', 'CS': '5', 'Rope Hero 3': '45871', 'BT One Phone Mobile App': '33', 'Sound Meter': '88993', 'Training course: Learn Nursing': '0', 'EU WHO War': '0', 'Univision NOW - Live TV and On Demand': '22998', 'WatchESPN': '288809', 'Free CV Creator': '37', 'Sid Story': '28510', 'Baby Panda’s Juice Shop': '19230', 'Hangouts': '3419513', 'Stickman Legends: Shadow Wars': '38419', 'SKencar': '4806', 'meStudying: AP English Lit': '1', 'Anonymous caller detection': '161', 'Keyboard ManMan': '121304', 'Footej Camera': '13258', 'Axe Wallpaper': '9', 'Fast like a Fox': '104389', 'Shoot! DX - lights for FREE': '4', 'Free E B Garamond Cool Font': '410', 'Food Network': '7823', 'Mobile Strike': '903392', 'Sonic the Hedgehog™ Classic': '125652', 'CP HAPPS - Pittsburgh Events': '85', 'EF First': '0', 'Abs workout - 21 Day Fitness Challenge': '18604', 'Fossil Q Legacy': '680', 'FINAL FANTASY DIMENSIONS': '8450', 'Iraq love chat': '14', 'Free Adblocker Browser - Adblock & Popup Blocker': '152470', 'Deck Heroes: Legacy': '466495', 'Texas Holdem Poker Pro': '114479', 'Storm Radar: Tornado Tracker & Hurricane Alerts': '89868', 'Urbanspoon Restaurant Reviews': '35560', 'Racing in Car 2': '234589', 'BURGER KING® MOBILE APP': '19221', 'Rainbow Camera': '3871', 'Hunting Safari 3D': '36183', 'San Andreas City : Auto Theft Car gangster': '923', \"Michael's AG Sound Board\": '0', 'The postal bank': '36718', 'wetter.com - Weather and Radar': '189313', 'iBiznes24 mobile': '38', 'My Ag Report': '1', 'EK Carevec': '1', 'C J Academy': '0', 'Screen Lock - with Fingerprint Simulator': '338449', 'PhotoScan by Google Photos': '61990', 'HSL - Tickets, route planner and information': '256', 'Kate Mobile for VK': '540930', 'Clash of Kings : The King Of Fighters version': '2233681', 'Theme fo Oppo A30 Wallpaper & Icon': '7', 'Four In A Line': '22191', 'EC - AP & Telangana': '10', 'DG Users': '8', 'Union League': '939', 'Zooper Widget': '30498', 'EO SA Benefits': '0', 'Interactive CT & MRI Anat.Lite': '534', 'BMX Boy': '839206', 'F-Secure SAFE': '9433', 'SwiftKey Keyboard': '2764964', 'FVD Ad-Free': '1774', 'UFC': '30840', 'Ruler & Area Measurement (cm, inch)': '10', 'Camera V7 24 Megapixel': '2480', 'Q-See Plus': '32', 'Jigsaw Volvo FH 16 Trucks': '5', 'Bird Sounds & Bird Ringtones for Free 2018': '130', 'DQ Events': '41', 'European Union Simulator': '688', 'Heavy Bus Simulator': '252006', 'Ready4 SAT (Prep4 SAT)': '13612', 'F-Stop Gallery Pro': '1302', 'BL 1-Click Camera': '4', \"Hey AJ! It's Saturday!\": '12', 'BL 1-Click Camera - Free': '52', 'Motorola Alert': '24199', 'CE Genius Nurses Edition': '0', 'Fantasy Squad W': '2142', 'Je Parle ANGLAIS - Apprendre l’anglais Audio cours': '499', 'Live Chat - Free Video Chat Rooms': '20', 'Tastely': '611136', 'Colorfy: Coloring Book for Adults - Free': '787177', 'Ultimate F1 Racing Championship': '284', 'The EU Relocation Programme': '27', 'Funny Jokes': '2505', 'Alachua County Sheriff FL': '5', 'JEFIT Workout Tracker, Weight Lifting, Gym Log App': '60096', 'DV Car Service': '10', 'Doll House Design & Decoration 2: Girls House Game': '2338', 'Cl-app!': '41', 'Goku Wallpaper Art': '6342', 'BF 3d Images': '19', 'Map and Router Badge': '3652', 'Body scanner (prank)': '16063', 'Ck Coif': '0', 'Official QR Code® Reader \"Q\"': '3031', 'CT Checkout': '1', 'Auto Background Changer': '35188', 'BC Highways - Road Conditions': '382', 'My Talking Pet': '6238', 'Bihar Land Records - RoR and EB Quick Pay': '8', 'Loteria BR': '0', 'Robots Vs Zombies: Transform To Race And Fight': '278', 'Zombie Frontier': '326689', 'MedStar eVisit': '20', 'Be the Expert in Phlebotomy - Professional Nursing': '0', 'Dr. Muscle': '87', 'Artificial Intelligence': '339', 'BW Smart': '50', 'ACTIVEON CX & CX GOLD': '439', 'Operate Now: Hospital': '254861', 'Pin-fo': '19', 'POLARIS 2MFG': '1228', 'AI Today : Artificial Intelligence News & AI 101': '43', 'Super Sport Car Simulator': '58553', 'Vivid Seats – Event Tickets': '8232', 'Best Fiends - Free Puzzle Game': '1480189', 'EZ Wifi Notification': '260', 'Mod GTA V for MCPE': '4288', \"What's Up\": '23453', 'ZOOM Cloud Meetings': '31614', 'BU Library': '4', 'Axetatic - Axe Throwing Game': '29', 'Advanced Download Manager Pro': '6505', 'Paint By Number': '807', 'JustSayHi- Dating App. Chat & Meet Singles Nearby': '5152', 'orderin.bm': '0', 'Paint Space AR': '17', 'chomp SMS': '335646', 'Bulgarian French Dictionary Fr': '603', 'G-NetReport Pro': '0', 'Funny Jokes Photos': '39', 'Makeup Editor -Beauty Photo Editor & Selfie Camera': '3378', 'Mind Map AR, Augmented Reality ARCore Mind Mapping': '29', 'DR TV': '6716', 'BR Classified': '0', 'How To Draw Food': '845', 'English Bite': '268', '10 WPM Amateur ham radio CW Morse code trainer': '10', 'A&W Restaurants': '14', 'No. Color - Color by Number, Number Coloring': '269194', 'Amazing Fart Sounds': '28136', 'Beauty Tips - Beauty Tips in Sinhala': '75', 'Memes Button': '5968', 'EZ-ELD Update': '14', 'Jigsaw Puzzles AK 74M': '0', 'Bejeweled Stars: Free Match 3': '85484', 'BD Internet Packages (Updated)': '474', 'Can Knockdown 3': '349503', 'ForecaWeather': '18425', 'Candy simply-Fi': '2390', 'Reddit: Social News, Trending Memes & Funny Videos': '697212', 'P XPERIA Theme™ | PURPLE - Design For SONY 🎨': '3', 'iSniper 3D Arctic Warfare': '35572', 'Updates for Samsung - Android Update Versions': '80368', 'JetBlue': '24281', '3D Color by Number: Voxel, Unicorn, Pixel Art 3D': '2017', 'Delicious Recipes': '129737', 'CM Flashlight (Compass, SOS)': '166367', 'Xero Accounting Software': '2111', 'BN Pro Play-b HD Text': '34', 'Burn Your Fat With Me! FG': '38487', 'Fix Deposit Calculator (FD)': '7', 'Ghostery Privacy Browser': '13100', 'Cytus II': '16851', 'DK Online': '21', 'BBVA Spain': '36746', '3D Bowling': '1076243', 'SeriesGuide – Show & Movie Manager': '64448', 'HD Camera - Quick Snap Photo & Video': '21841', 'D.W Bien Être': '0', 'Wallpapers Toyota FJ Cruiser': '78', 'Hidden Camera Detector': '167', 'YouTube': '25655305', 'Ultimate Fighter Z': '180', \"Five Nights at Freddy's: SL\": '16162', 'Diligan CD VR': '1', 'Discovery K!ds Play! Español': '11263', 'QuestionPro - CX': '1', 'Cymera Camera- Photo Editor, Filter,Collage,Layout': '2418165', 'Daniel Tiger for Parents': '247', 'Myth Defense 2: DF': '17108', 'Baby Sleep: White noise lullabies for newborns': '62386', 'Flashlight X': '20418', 'Learners Test Free: AU Driver Knowledge Test (DKT)': '623', 'Valmet CI Tool': '1', 'Microsoft Word': '2084126', 'NQ Mobile Security & Antivirus': '427185', 'NoteToDo. Notes. To do list': '57449', 'Online Soccer Manager (OSM)': '1312936', 'Hero Hunters': '70747', 'Ag PhD Soils': '3', 'EMI Calculator | FD Calculator | RD calculator': '106', 'ASUS Calling Screen': '102451', 'My Cancer Coach': '44', 'Notes : Colorful Notepad Note,To Do,Reminder,Memo': '10484', 'Internet Speed Meter Lite': '410303', 'J-Novel Club': '162', 'EG | Explore Folegandros': '0', '360 Security - Free Antivirus, Booster, Cleaner': '16771865', 'Dt. Jyothi Srinivas': '18', 'Oral-B App': '14210', 'DC Rider': '258', 'FREEDOME VPN Unlimited anonymous Wifi Security': '39833', 'GT-R R35 Drift Simulator': '1852', 'CI MOBI': '108', 'High-Speed Camera (GIF,Burst)': '78140', 'FE Chemical Engineering Exam Prep': '2', 'UP EB Bill Payment & Details': '3', 'ADS-B Driver': '2', 'Antenna Tool': '522', 'Learn English with Wlingua': '314300', 'Camera FV-5': '16320', 'Nuke Em All': '2714', 'CP-Care Mobile': '1', 'taxi.eu': '1865', 'Clock L': '2852', 'ClassDojo': '148550', 'Wifi Analyzer': '335115', 'Top Themes Volvo FH Trucks': '9', 'Laftel - Watching and Announcing Snooping, Streaming': '4895', 'Ay Sabz Gunbad Waly': '4', 'Glam Doll Salon - Chic Fashion': '93898', 'My C Spire': '376', 'Neuvaines et prières au Coeur Sacré de Jésus': '17', 'AV Tools': '631', 'magicApp Calling & Messaging': '207712', 'ASOS': '181823', 'The Visitor: Ep.1 - Kitty Cat Carnage': '3017', 'Live Radio BD': '69', 'School of Dragons': '530792', 'P Theme for Android™ P 9.0 Style Launcher': '216', 'ER Assist': '3', 'EMT PASS': '51', 'Ey Sey Storytime រឿងនិទានតាឥសី': '1327', 'Yelp: Food, Shopping, Services Nearby': '397422', 'EZ game screen recorder with audio 1080P': '40', 'RadRevision: Anatomy on CT': '568', 'Kill Shot Bravo: Sniper FPS': '579519', 'Toddler Kids Puzzles PUZZINGO': '14014', 'Black Social': '22', 'EHS Dongsen Shopping': '3656', 'HDWallpaper DK': '0', 'BEBONCOOL GAMEPAD V1.0': '404', 'DM AirDisk HDD': '4', 'NetSpend Prepaid': '15993', 'Rage Fight of Streets - Beat Em Up Game': '1489', 'Tiny Defense': '29387', '30 Day Ab Challenge FREE': '48253', 'Kimbrough AH': '5', 'Language Therapy: Aphasia': '10', 'Maps & GPS Navigation OsmAnd+': '15209', 'Talking Ginger 2': '702975', 'Entel': '16168', 'Real Estate, Car, Shopping and Others': '568273', 'L.A. Crime Stories 2 Mad City Crime': '3946', 'Dormi - Baby Monitor': '11760', 'AB Repeat Player': '1628', 'Strava Training: Track Running, Cycling & Swimming': '328469', 'Morse Decoder for Ham Radio': '166', 'Force LTE Only': '10426', '4x4 Jeep Racer': '7279', 'Amazon Kindle': '814151', 'MiAI (Artificial Intelligence) Assistant': '3', 'Leghe Fantagazzetta': '79464', 'TNEB Quick Pay Easy': '28', 'GTS-M': '38', 'Animal Hunting: Sniper Shooting': '0', 'Crunchyroll - Everything Anime': '310095', 'BJ & Jamie': '13', 'MK eCatalog': '6676', 'Smart Air Conditioner(CAC)': '409', 'Live 4D Results ! (MY & SG)': '116079', 'Curio Quest': '59152', 'BD Attendance': '93', 'Adobe Fill & Sign: Easy PDF Form Filler': '11402', 'Learn English with Phrases': '5695', 'Servidor Privado CR y CoC - Royale Servers PRO': '55', 'Strawberry Shortcake Ice Cream Island': '32200', 'Overcomers CF - GA': '7', 'Super Jabber Jump': '85882', \"Kohl's: Scan, Shop, Pay & Save\": '79261', 'Catholic La Bu Zo Kam': '23', 'Chick-fil-A': '28009', 'ZenUI Themes – Stylish Themes': '47393', 'DX Gashacon Sword for Ex-Aid Henshin': '17', 'Art Drawing Ideas': '227', 'dz NEWS Algerie': '2318', 'AZ Browser. Private & Download': '1520', 'BAMMS for BM 1Park': '7', 'AND CO': '175', 'EP Gem Hunter': '79', 'AL Voice Recorder': '4832', 'Passenger rights': '442', 'Discovery K!ds Play!': '19388', 'Bubble Witch 2 Saga': '2838064', 'Co-Dependents Anonymous': '0', 'FO STELIA Méaulte': '2', 'Two Nights at jumpscare': '596', 'Emo Ads Blocker Browser': '1555', 'Crazy Wheels': '121082', 'DB Streckenagent': '4569', 'BV Aventure': '0', 'REG - Check the regnumber, find information about Swedish vehicles': '3971', 'Shoot`Em Down: Shooting game': '7972', 'BN Pro RobotoXL HD Text': '15', 'iOBD2-CF': '5', 'AX Player -Nougat Video Player': '15765', 'Opera Browser: Fast and Secure': '2473795', 'MOD-MASTER for Minecraft PE (Pocket Edition) Free': '271908', 'Au Pair Legend': '28', 'love sms good morning': '10', 'BT One Mobile secure access': '54', 'DX Simulation Belt for Decade henshin': '64', 'Memorado - Brain Games': '56897', 'DF Glue Board': '1', 'Hovercraft Racer': '218', 'Love Nikki-Dress UP Queen': '212524', 'Telemundo Now': '8674', 'ap,wifi testing,iperf,ping,android,Bluetooth,tcp': '3', 'Quran for Android': '497826', 'EY eMentor': '5', 'Convert degree Celsius to Fahrenheit or °F to °C': '51', 'SuperCity: Build a Story': '98324', 'bitcoin exchange bx thailand': '19', 'BX Diff - Crypto Coins Checker': '83', 'BK Arogyam Task Track': '8', 'Russian Dating & Chat for Russian speaking RusDate': '1059', 'Mandala Coloring Book': '4326', 'Moto Suggestions ™': '308', 'European Solidarity Corps': '9', 'Speeding Joyride & Car Meet App': '3', 'PJ Masks: Moonlight Heroes': '87045', 'Grindr - Gay chat': '284795', 'Love Sticker': '33177', 'Blackjack': '52199', 'Vote 4 DC': '46', 'Wallpapers AK 47 Guns': '37', 'Doomsday Preppers™': '137167', 'CX Ram Booster': '12', 'FIFA Soccer': '3909032', 'Rope Hero Return of a Legend': '9951', 'Fox News – Breaking News, Live Video & News Alerts': '249919', 'EU FP7 SAM': '0', 'World Travel Guide by Triposo': '6012', 'Read it easy for BK': '1', 'My Space - Employment Center': '67000', 'Webull - Stock Quotes & Free Stock Trading': '34861', 'AP World History: Practice Tests and Flashcards': '21', 'Check Your Visitors on FB ?': '40', 'Superheroes, Marvel, DC, Comics, TV, Movies News': '34', 'Bomber Friends': '776730', 'Commonwealth CU Go Mobile': '231', 'Zillow: Find Houses for Sale & Apartments for Rent': '417907', 'CB Frequencies FREE!': '364', '5 Nights at Cube Pizzeria City': '2691', 'Weather Live Pro': '17493', 'Talking Ben the Dog': '1633682', 'Learn English with Aco': '75112', 'Wishbone - Compare Anything': '51569', 'Hola Launcher- Theme,Wallpaper': '3277209', 'Emerge EV App (eBike App)': '26', 'BD All Results': '205', 'Full Code - Emergency Medicine Simulation': '0', 'Cardi B Live Stream Video Chat - Prank': '28', 'Full Screen Caller ID': '104990', 'HEAD TRAUMA CT EVALUATION': '18', 'Krypton by krypt.co': '38', 'Crazy ER Open Heart Surgery Simulator': '2936', 'ADP Mobile Solutions': '85185', 'My baby firework (Remove ad)': '30', 'TracFone My Account': '20769', 'Helix Jump': '1500999', 'G-Download Manager': '802', 'LG Hi-Fi Plus Manager': '154', 'BH Bikes Premium': '26', 'Stupid Zombies': '464900', 'Motocross Mayhem': '35171', 'BTNotification': '15665', 'ai.type Free Emoji Keyboard': '647844', 'AX Video Player': '569', 'Solid Explorer File Manager': '67523', 'TuenMun BM': '6', 'Castle Defense : Invasion': '1484', 'Van Nien 2018 - Lich Van su & Lich Am': '3829', 'Super Ear Super Hearing': '122', '2048(AI)': '20', 'Pacifica - Stress & Anxiety': '10253', 'ES App Locker': '32207', 'Combat BF: Black Ops 3': '7699', 'DHgate-Shop Wholesale Prices': '104068', 'Once Upon a Tower': '37139', 'DJ Mix Effects Simulator': '5997', 'Zlax.io Zombs Luv Ax': '6344', 'SAMSUNG RETAILMODE 2018': '6', 'Bible with EGW Comments': '3776', 'Only 30 days in English, the guideline is guaranteed': '1065', 'Lose Belly Fat in 30 Days - Flat Stomach': '38098', 'Selfie With Champion AJ Style': '2', 'AY Recruitment': '1', 'm>notes notepad': '184', 'CQ-Alert': '3', 'BD TYCOON': '16', \"Five Nights at Flappy's\": '4041', 'Girls hairstyles 2018': '62', 'Rugby AU': '17', 'Miami crime simulator': '254518', 'Patron DB': '64', 'Angelo Rules - Crazy day': '108336', 'ADW Launcher 2': '181399', 'Walmart MoneyCard': '6148', 'Multi Surgery ER Emergency Hospital : Doctor Game': '227', 'Planet O - Icon Pack': '354', 'Tagged - Meet, Chat & Dating': '486830', 'Jewels Legend - Match 3 Puzzle': '280098', 'Block Buddy': '15', 'homegate.ch': '2543', 'Robin - AI Voice Assistant': '55313', 'AG Contacts, Premium edition': '88', 'Formula DRIFT': '169', 'EG CrossPad - ASPECT4': '4', 'Bhuiyan Land Records Chhattisgarh (CG)': '12', 'Snapp': '37937', 'DZ Register': '0', 'Run with Map My Run': '183669', 'My Airtel-Online Recharge, Pay Bill, Wallet, UPI': '1498393', 'Train Racing Games 3D 2 Player': '192374', 'Snake VS Block': '422244', 'Disney Princess Palace Pets': '60097', 'live Point': '54', 'My Child from eDziecko.pl': '1025', 'Eternium': '1506783', 'bz Basel E-Paper': '72', 'MailChimp - Email, Marketing Automation': '5448', 'Guess The Emoji': '76627', 'Best Applock - Locker & No Ads': '10672', 'Dr. Driving 2': '358633', 'Alarmy (Sleep If U Can) - Pro': '10249', 'CP Creepypasta': '128', 'DW Uninstall Applications': '0', 'Scanning under clothes (prank)': '1443', 'AC & TV, DVD, Set Top Box - Remote control IR': '3632', 'au': '9126', 'Naruto & Boruto FR': '7', 'EY TaxChat': '44', 'RadarNow!': '54090', 'CZ-Help': '2', 'Google Calendar': '858230', 'The House of Da Vinci': '12400', 'ck-modelcars Shop': '118', 'Chapters: Interactive Stories': '73539', '哈哈姆特不EY': '239', 'Strætó.is': '742', 'CA CS Network': '160', 'Koi Free Live Wallpaper': '290241', 'Order & Chaos 2: 3D MMO RPG': '242722', 'C Locker Pro': '1531', 'Food-Aw - Order Food Online in Aruba': '1', 'OmniMedix Medical Calculator': '25', 'Traditional Chinese Medicine Fangfang Liangfang Daquan - Practical and ancient Chinese medicine and old prescriptions for the treatment of various incurable diseases': '1', 'MY LITTLE PONY: Magic Princess': '1309728', 'Power Booster - Junk Cleaner & CPU Cooler & Boost': '9653', 'Scratch Logo Quiz. Challenging brain puzzle': '152102', 'Dr. Panda Town: Vacation': '10366', 'KISW 99.9 FM SEATTLE': '1469', 'Fruit Cube Blast': '9199', 'EC music dictionary': '20', 'AI Face Beauty Analysis - IntelliFace (Free)': '40', 'Coupon Sherpa': '7793', 'CP Federal Mobile': '180', 'DB TOS - Pocket Helper': '265', 'Salah Widget (DK+Malmo)': '532', 'U by BB&T': '16600', 'Grand Stickman Cover V': '1744', 'G Theme 2 for LG V30, LG G6': '25', 'Tickets SDA 2018 and Exam from the State Traffic Safety Inspectorate with Drom.ru': '10479', 'PDF Viewer & Book Reader': '40437', 'Accounting App - Zoho Books': '3079', 'Pediatric Emergency Guide': '0', 'WGT Golf Game by Topgolf': '148083', 'Microsoft OneNote': '480643', 'Chef - Recipes & Cooking': '32405', 'AW Training': '11', 'Color Touch Effects': '167652', 'Summit Medical Video Visits': '0', 'EY EMEIA Diversity & Inclusion': '4', 'Stand O’Food® (Full)': '925', 'Subway Simulator 3D': '25489', 'yHomework - Math Solver': '50771', 'Bullshit! (Free)': '45', 'Tickets SDA 2019 + Exam RF': '7021', 'NDS Emulator - For Android 6': '14002', 'Fake Call - Fake Caller ID': '154668', 'HISTORY: Watch TV Show Full Episodes & Specials': '33387', 'ePN Cashback AliExpress': '19212', 'Browsery by Barnes & Noble': '146', 'CV Samples 2018': '34', 'FK Mladost Lucani': '0', 'Teach Me Anatomy': '9945', 'Ah Ha Block': '2', 'DV KING 4K': '3', 'Heroes of Order & Chaos': '690148', 'AV Buddy Free': '25', 'Birmingham City FC': '191', 'Learn Java': '52743', 'iDates - Chats, Flirts, Dating, Love & Relations': '13890', 'FK Rad': '1', 'Bible KJV': '42729', 'AF-STROKE': '5', 'CG 3D Model Viewer: view 3D models interactively': '0', 'Diary with lock password': '179139', 'dB Sound Level Meter': '203', 'Nancy Drew Codes and Clues': '154', 'Mini for fb lite': '710', 'OE TRACKER CE Attendance App': '16', 'AC Remote for Daikin - NOW FREE': '383', 'gCMOB': '7935', 'Yaoi Novels - Shounen ai Book&fiction': '304', '[ROOT] X Privacy Installer': '12147', 'EZ-GUI Ground Station': '3696', 'Smoke Effect Photo Maker - Smoke Editor': '178', 'BankNordik': '28', 'MEGA MAN MOBILE': '267', 'AZ Rockets': '162', 'join.me - Simple Meetings': '6989', 'The Game of Life': '18652', 'Key Ring: Cards Coupon & Sales': '42871', 'Galaxies of Hope': '2', 'CW Studio ®': '9', 'CE SODEXO PASS FRANCE': '0', 'EU FTL Calculator': '60', 'DB Welt - Die Zeitung der DB': '145', 'Golden Dictionary (FR-AR)': '5775', 'Power Rangers: Legacy Wars': '264755', '850 Sports News Digest': '539', \"Lettre et demande d'emploi\": '302', 'BQ Llicència': '18', 'English for Everyone': '429', 'AQ Aspergers Test': '265', 'BAMMS for BM SQ': '2', 'AE Gun Ball: arcade ball games': '8581', 'Once - Quality Matches Every day': '222888', 'Analog Clock AW-7 PRO': '40', 'Plugin:AOT v5.0': '4034', 'CampGladiator': '293', 'U get - Wireless Speed Test': '26', 'S.O.L : Stone of Life EX': '171220', 'IKEA Store': '25515', '3D Live Neon Weed Launcher': '1724', 'DN Reader': '18', 'Latin Dating': '0', 'Co Checker': '12', 'Ag Across America': '0', 'Photo Background Changer 2018 - Blur Background': '34079', 'Avakin Life - 3D virtual world': '1275373', 'Crazy Colors: Bubbles Matching': '3063', 'GO Launcher EX UI5.0 theme': '111634', 'Trivia Crack': '6427773', 'FK Events': '0', 'Microsoft Remote Desktop': '97702', 'Harley Quinn wallpapers HD': '192', 'FK Sūduva Marijampolė': '2', 'Video Caller Id': '15287', 'Quran for All (Al-Huda Int.)': '6696', 'Aura Hair Group BC': '0', 'Vidroid.com.br': '49', 'Universal AC Remote Control': '40934', 'DiskDigger photo recovery': '227798', 'imo free video calls and chat': '4785988', 'FL State Parks Guide': '871', 'DL Calculator': '177', 'CQ Hotels': '15', 'CT - DTC Lookup': '41', 'Shadow Fight 2': '10981850', 'AMC Theatres': '44550', 'DT future1 cam': '1', 'Media Sosial TNI AU': '88', 'Qeek for Instagram - Zoom profile insta DP': '12111', 'ES Solar': '3', 'AJ-COMICS': '0', 'Sic Bo': '1', 'Glanceable Ap Watch Face': '0', 'Chrome Beta': '228794', 'Weather by WeatherBug: Forecast, Radar & Alerts': '981995', 'Myjob@BM': '1', 'Gun Mod: Guns in Minecraft PE': '33812', 'LEGO® TV': '17250', 'G-NetTrack Pro': '255', 'Parallel U - App Cloner, Duals APP, tarallel': '3315', 'Calorie Counter - MyNetDiary': '27439', 'ChefTap Recipes & Grocery List': '9066', 'Aj. Vallbona': '0', 'GearBest Online Shopping': '245104', 'FP VoiceBot': '17', 'DL Hughley': '12', 'Red Hands – 2-Player Games': '93608', 'Shutterfly: Free Prints, Photo Books, Cards, Gifts': '98717', 'Keyboard - wallpapers , photos': '55525', 'EF Spelling Bee': '2', 'Cryptocurrency Trading - How To Trade Crypto': '1', 'MultiMessage for FB Messenger': '182', 'Battle of Zombies: Clans War': '488039', 'Visuelles Wörterbuch Audio-App': '192', 'EO App. SelfCompassion to you': '1', 'Fantasy theme dark bw black building': '41', 'CP RACING 2 FREE': '4607', 'CJ Poker Odds Calculator': '207', 'Ci - Logistics Group': '1', 'XCOM®: Enemy Within': '13752', 'Sweet Baby Girl - Dream House and Play Time': '95537', 'Jamaa Amino for Animal Jam': '3873', 'Wolves Live Wallpaper': '10401', 'Dr. Parker : Parking Simulator': '14253', 'Cádiz CB Gades': '1', 'IMDb Movies & TV': '501498', 'Truck Driving Test Class 3 BC': '1', 'How Old am I?': '4635', 'DG-App': '1', 'Ah! Coins': '256', 'Austria Wien FK - Fussball - Inoffizielle App': '2', 'FD Calculator (EMI, SIP, RD & Loan Eligilibility)': '104', 'Yummly Recipes & Shopping List': '91359', 'ES Summer Chill Theme for Free': '940', 'Math games for kids : times tables - AB Math': '2371', 'San Dimas AH': '0', 'Number Counting games for toddler preschool kids': '1024', 'Flipp - Weekly Shopping': '85858', 'BG Torneos': '7', 'Love Calendar - Couple Sharing Calendar & CoupleDay': '14', 'Q Avatar (Avatar Maker)': '2012', 'AJ Wallpapers': '0', 'US DV Lottery 2020 Apply': '41', 'Permit Test Connecticut CT DMV': '186', 'Simple Habit Meditation': '11689', 'Start the Hunt for the Lost Treasure': '302', 'Moment': '19583', 'DS-L4 Viewer': '13', 'Event Manager - AllEvents.in': '120', 'FK Bregalnica Štip': '0', 'Pregnancy Week By Week': '78825', 'Diary with lock': '815893', 'Blossom Blast Saga': '1125438', 'TN Patta /Chitta /EC New': '5', \"Baba Yaad Hai?(BK's)\": '160', 'SH Script Runner': '334', 'Samsung Calculator': '9602', '1. FC Köln App': '2019', 'DV-2019 Results': '158', 'Final Fantasy XV: A New Empire': '484981', 'BJ TIKET': '3', 'SMS AI Bot': '89', 'Google Play Movies & TV': '906384', 'Free Dating Hook Up Messenger': '1157', 'Sona - Nær við allastaðni': '31', 'TelaDoc': '6', 'EI App 2': '0', 'Go-Go-Goat! Free Game': '66740', 'Bingo Party - Free Bingo Games': '155694', 'BI Office': '76', 'Expert C Programming - Learn C Coding Easily': '77', 'Cal - Google Calendar + Widget': '86172', 'Nose Surgery ER Simulator Lite': '269', 'My Teacher - Classroom Play': '155276', 'AAS-IN-ASIA 2018': '3', 'Hide Something - Photo, Video': '225103', 'Running Distance Tracker +': '77777', 'Microsoft OneDrive': '1038306', 'Job Search by ZipRecruiter': '148945', 'SarashpazPapion (Cooking with Chef Bowls)': '1250', 'Masha and the Bear Child Games': '288606', 'Chatime AB Rewards': '9', 'Step By Step Eyes Makeup Tutorial': '74', 'Herpes Dating: 1,000K+ Singles': '738', \"Traps n' Gemstones\": '413', 'Latest 2018 Home Designs': '174', 'Alabama Road Trips': '71', 'Perfect Viewer': '51981', 'QUI EST CE ?': '7', 'YouCam Perfect - Selfie Photo Editor': '1579343', 'music (CG)': '0', '7 Minute Workout': '399009', 'Gun Strike Shoot': '94761', 'FQ India': '0', 'El Pollo Loco - Loco Rewards': '848', 'Turbo AI™ - Personal assistant': '91', 'Female Daily': '4354', 'DU Security': '4847', 'be Produbanco': '967', 'MyAV Remote for Denon & Marantz AV Receivers': '250', 'FP-safe': '0', 'Calendar+ Schedule Planner App': '8985', 'Android P Style Icon Pack': '1', 'Ebook Reader': '85842', 'Extreme Coupon Finder': '11798', 'Eat24 Food Delivery & Takeout': '40116', 'DC All Access': '12639', 'Beautiful Widgets Free': '25037', 'Blood Pressure Companion': '178', 'Vlogger Go Viral - Tuber Game': '1304467', 'el': '32405', 'La La-Shop Designer Brands Street': '5123', 'WiFi-o-Matic': '736', 'Geometry Dash Meltdown': '1591129', 'Dino War: Rise of Beasts': '18996', 'CJ Browser - Fast & Private': '5', 'EY Expenses': '0', 'Weapon stripping 3D': '23971', 'Myth Defense 2: DF Platinum': '1764', 'Mali 7 - Actualités au Mali': '697', 'EO Global': '13', 'DM EVOLUTION': '450', 'BG Editor': '0', 'Sun Rise Free Live Wallpaper': '86481', 'QR & Barcode Scanner BX PRO': '4', 'BDCast - Bangla Live TV,Radio': '7461', 'Asphalt 8: Airborne': '8389714', 'f.lux (preview, root-only)': '5559', 'Mingle2 - Free Online Dating & Singles Chat Rooms': '37053', 'Oracle CX Cloud Mobile': '48', 'C4droid - C/C++ compiler & IDE': '2890', 'DT Practice': '6', 'Naidunia: MP News & CG News': '2746', 'Visual Anatomy 2': '576', 'B&H Kids AR': '286', 'My Vodacom SA': '25021', 'BT Share It': '12', 'Arabic Alphabets': '34', 'CHRONO TRIGGER (Upgrade Ver.)': '11250', 'Mahila Vashikaran(Ek rat me)-Hindi': '0', 'CompTIA Exam Training': '3053', 'Code on the egg': '146', 'BV Forest': '0', 'Nero AirBurn': '1008', 'Dragon Nest M': '11872', 'Super Car F. Mod for MCPE': '214', 'Yahoo Weather': '1312037', 'Medical ID - In Case of Emergency (ICE)': '717', 'Easy Cv maker 2018': '88', 'AI Sight': '43', 'Barclays US for Android': '6998', 'Dungeons and Dragons DM Tools': '50', 'Katalogen.ax': '1', 'Compass': '286454', 'MARVEL Avengers Academy': '304106', 'Barcelona Calendar': '670', 'My Diet Coach - Weight Loss Motivation & Tracker': '141163', 'Frequencies Free': '382', 'ES File Explorer': '278', 'Slendrina X': '12736', 'CJ Gospel Hour': '7', 'Live Camera Viewer ★ World Webcam & IP Cam Streams': '64164', 'Rande.cz': '398', 'Digoo·Cloud': '543', 'Polaris Office - Word, Docs, Sheets, Slide, PDF': '549900', 'CV-Library Job Search': '6997', 'Amazon Prime Video': '411683', 'Lanterns: The Harvest Festival': '185', 'Yandex.Transport': '126282', '2Do - Reminders, To-do List & Notes': '4649', 'KudaGo - things to do in NY': '4298', 'AP Planner': '45', 'DU GIF Maker: GIF Maker, Video to GIF & GIF Editor': '7605', 'PumpUp — Fitness Community': '49479', 'Guia Bike DF': '29', 'Opera Mini browser beta': '401530', 'Best Hairstyles step by step': '45452', 'Check Vehicle Tax': '295', 'Mummatikabalkuragi': '69', 'iFish BC': '25', 'University of Florida': '168', '10,000 Quotes DB (Premium)': '70', 'FD VR Player - for 360 Youtube': '100', 'Manga Zero - Japanese cartoon and comic reader': '15194', 'AE City Jump': '804', 'AK47 Assault Rifle': '54', 'GCash - Buy Load, Pay Bills, Send Money': '25508', 'i miss you quotes and photos': '0', 'British Columbia Transit Info': '0', 'Vigo Video': '1615596', 'Super Dancer': '91667', 'BU Syllabus': '38', 'Hill Climb Racing 2': '2750645', 'Best Ovulation Tracker Fertility Calendar App Glow': '56145', 'T-Mobile': '482630', 'PulsePoint Respond': '7837', 'DG Fitness': '6', 'Deep Sleep Battery Saver': '22032', 'Hide App, Private Dating, Safe Chat - PrivacyHider': '35206', 'Twitch: Livestream Multiplayer Games & Esports': '2133296', '3D Color Pixel by Number - Sandbox Art Coloring': '1518', 'Nike': '67071', 'Idle Heroes': '417197', 'The CJ Rubric': '5', 'Ei-ij Spelling Dutch': '20', 'Sweet Camera - Selfie Filters, Beauty Camera': '233039', 'Analog BW - Camera filter effect foto film retouch': '2', 'bk Group Mobile': '1', 'Glitter Color By Number - Glitter Number Coloring': '1380', 'AF Johannesburg': '3', 'Water Garden Live Wallpaper': '66453', 'Bike 3D Configurator': '34062', 'Advanced Download Manager': '569727', 'Fitbit Coach': '28951', 'FREE Stock Market Trading Tips': '714', 'Talking Tom Cat': '1838090', 'DW Espanol': '0', 'Todoist: To-do lists for task management & errands': '155999', 'EC-Contractors': '0', 'Thuuz Sports': '5517', 'weather HD': '1546', 'BH Táxi': '91', 'BW-GnuGo': '64', 'BI APP': '2', 'The Fish Master!': '15763', 'Virtual Boyfriend Chat': '407', 'My College Bookstore': '661', 'FREE VIDEO CHAT - LIVE VIDEO AND TEXT CHAT': '84', 'University of Alabama': '302', 'Golden telegram': '374', 'AK Math Coach': '283', 'Hercules CP Mobile': '20', 'Chispa, the Dating App for Latino, Latina Singles': '4195', 'FK Spartak Subotica': '0', 'BK Formula Calculator': '6', \"Educational Children's Songs\": '163', 'HOW TO ASK A GIRL OUT': '0', 'BG Television': '3', 'Motorola FM Radio': '54815', 'Dr Bk Sachin bhai': '19', 'Chatting - Free chat, random chat, boyfriend, girlfriend': '2506', 'LED Flashlight': '207706', 'O Launcher 8.0 for Android™ O Oreo Launcher': '11393', \"Eat Right Diet (by Dt Shreya's Family Diet Clinic)\": '0', 'DW Witness': '6', 'El Chavo': '751', 'Infinity Dungeon VIP': '21804', 'Koch Morse Trainer Pro': '94', 'Flash Light on Call & SMS': '25438', 'FH® Cost Lookup / FH® CCSalud': '30', 'Marked by King Bs': '70335', 'BI-LO Rx': '77', 'VivaVideo - Video Editor & Photo Movie': '9879473', 'MetaTrader 5': '42410', 'Angry Birds Blast': '253115', 'Backgrounds HD (Wallpapers)': '2390185', 'Galaxy Attack: Alien Shooter': '506593', 'BS Battery+': '269', 'Clearwater, FL - weather and more': '0', 'BG Score': '64', 'AZ Immune Related AEManagement': '3', 'AU Mobile Indonesia': '16521', 'CE AR LOG': '0', 'Neon Glow C - Icon Pack': '557', 'British Columbia Tourist Places (Guide)': '1', 'Mobile Legends: Bang Bang': '8219586', 'Interactive CT and MRI Anatomy': '35', 'Mu Elite BR': '30', 'German Vocabulary Trainer': '1218', 'Amadeus GR & CY': '4', 'Ag-Pro Companies': '0', 'OptoDrum': '10', 'Escape the Prison Room': '113183', 'ec.tv': '0', 'Honkai Impact 3rd': '59017', 'What is my IP address': '4228', 'Tennis Temple - Live Scores': '5305', 'Flashlight Ultimate': '16936', 'BeWild Free Dating & Chat App': '1999', 'V LIVE - Star Live App': '397147', 'DB BAHN': '4', 'Kariyer.net': '45964', 'BV': '3', 'Lady adviser (beauty, health)': '30', 'Message AI - Write Better Messages': '0', 'EB Mobile': '1172', 'THE KING OF FIGHTERS-A 2012(F)': '406511', 'BD tools': '21', 'DH-UFO': '1', 'Find a Way: Addictive Puzzle': '39480', 'Quiz TRUE or FALSE': '2464', 'BR Chat Bot': '16', 'BD Live Call': '7', 'efootwear.eu - online store': '928', 'DEER HUNTER RELOADED': '314774', \"CJ's Coffee Cafe\": '6', 'CR Monitor': '1', 'Kaspersky Mobile Antivirus: AppLock & Web Security': '2598579', 'Chess of Blades (BL/Yaoi Game) (No VA)': '4', 'FJ 4x4 Cruiser Snow Driving': '1619', 'EU Flags Free Live Wallpaper': '730', 'EC Calgary': '6', 'Comic Es - Shojo manga / love comics free of charge ♪ ♪': '2181', 'DK Studio Barbershop': '8', 'Classic FC 64 IN 1': '1749', 'Learn Japanese, Korean, Chinese Offline & Free': '133136', 'Dr. Pixel: Pill mania Classic': '2419', 'ENCHANT U': '83977', 'Alphabet A-Z': '306', 'Texas Holdem Poker': '127831', 'DV 2019 - EDV Photo & Form': '314', 'Volume Slider Like Android P Volume Control': '1129', 'FaceApp': '346681', 'The Holy Rosary': '56197', 'Z Day: Hearts of Heroes': '5894', '[verify-U] VideoIdent': '83', 'Business Mitra (BM)': '13', 'EW Neuron Scan': '1', 'AJ Player': '18', 'Live 3D Neon Blue Love Heart Keyboard Theme': '6626', 'K Health': '290', 'SLANGY-Perfect BK World Theme': '1', 'CABLE SIZE CALCULATOR BS 7671': '333', 'Rento - Dice Board Game Online': '205830', 'Battle Gems (AdventureQuest)': '48427', 'Easy Voice Recorder': '205191', '4Eternity EO': '0', 'El Falı': '36968', 'GroupMe': '330761', 'Bitdefender Antivirus Free': '78629', 'CJ: Strike Back': '29330', 'Boomerang Make and Race': '281448', 'Bathroom Decorating Ideas': '2427', 'Viva Decora - Decoration, Photos, Architecture, House': '3167', 'WiFi Action Camera': '551', 'Ultimate Control BT': '14', 'BTS J-Hope Wallpaper HD for KPOP Fans': '4', 'Mi Remote controller - for TV, STB, AC and more': '114340', 'BJ - Confidential': '0', 'Need for Speed™ No Limits': '3344300', 'Bubble Shooter': '59843', 'CONTRACT KILLER: ZOMBIES (NR)': '206602', 'DCUO|CR Calculator Lite': '182', 'Motorola Gallery': '121916', 'Fun Kid Racing - Motocross': '59768', 'EI Calculator': '8', 'Flashlight - Torch LED Light': '192661', 'CX-40': '2', 'Dinosaur War': '157997', 'Ohio State Fair 4-H': '4', 'Florida Tech Mobile': '87', 'Acorn TV: World-class TV from Britain and Beyond': '493', 'Restart Navigator': '1403', 'AJ Styles Wallpaper 2018 - AJ Styles HD Wallpaper': '18', 'MSN Sports - Scores & Schedule': '35394', 'Pino chess': '61', 'Aviary Effects: Classic': '67007', 'REPUVE': '356', 'Sherbourne AH': '1', 'American Girls Mobile Numbers': '5', 'Learn Artificial Intelligence': '27', 'FN': '14', 'Corporate B.S. Generator': '0', 'Tuner - gStrings Free': '214265', 'CZ-52 pistol explained': '0', 'CYANOGEN GO Launcher EX Theme': '60298', 'DU Launcher - Boost Your Phone': '67707', 'codeSpark Academy & The Foos': '4522', 'Pinkalicious Party': '2', 'BJ-FPV': '16', 'Access Point Finder': '22', 'NerdWallet: Personal Finance, Credit Score & Cash': '2417', 'BOO! - Next Generation Messenger': '20675', 'IZ2UUF Morse Koch CW': '649', 'EV Charging': '8', 'Grow Stone Online : 2d pixel RPG, MMORPG game': '84389', 'SUBWAY®': '21381', 'DB Train Simulator': '6514', 'SwingAid - Level up Golf': '752', '🔥 Football Wallpapers 4K | Full HD Backgrounds 😍': '11661', 'MommyMeds': '45', 'ConvertPad - Unit Converter': '90831', 'A Call From Santa Claus!': '3720', 'Dr. D.K. Olukoya Sermons': '1', 'Map Callouts for CS:GO': '211', 'Bluebird by American Express': '15703', 'Ay': '11', 'EH Autolink': '1', 'Nighty Night Circus': '382', 'AMC': '20843', 'Chenoweth AH': '1', 'Vudu Movies & TV': '58082', 'Meu Calendário CP': '37', '.R': '259', 'American Muscle Car Race': '129', 'Bayview Hill AH': '0', 'Caviar - Food Delivery': '3755', 'Google Translate': '5745093', 'Discord - Chat for Gamers': '305347', 'Gokarting.dk': '13', 'Sonic Dash': '3778921', 'BI-LO': '43', 'Hot or Not - Find someone right now': '305737', 'GirlTalk.dk': '3', 'Anthem BC Anywhere': '496', 'CG Daily News': '65', 'Counter Attack - Multiplayer FPS': '112565', 'Vigo Lite': '10291', 'Obbligo o Verità? PRO': '4', 'Wolf of the BF:Commando MOBILE': '32', 'HuffPost - News': '78154', 'PIO bv App': '2', 'OMEGA Black UI Theme - CM 12+': '12', 'We Bare Bears Match3 Repairs': '39153', 'Classical music for baby': '1940', 'Hemnet': '4087', \"Lep's World 🍀\": '696019', 'HTC Help': '8342', 'Poker Pro.Fr': '5442', 'Official AL Fishing & Hunting': '1291', 'EZ File Manager(Root Explorer)': '626', 'ALL-IN-ONE PACKAGE TRACKING': '167406', 'Facebook Creator': '3895', 'EF App': '8', 'Amino: Communities and Chats': '1264084', 'The Hunt for the Lost Treasure': '7148', 'DM Talk New': '3', 'Visage Lab – face retouch': '49523', 'FP FCU': '48', 'Nasihat - Chalo ae Pyaara': '557', 'REV Robotic Enhance Vehicles': '2558', 'Rope Superhero Unlimited': '6735', 'CF.lumen': '4901', 'TunnelBear VPN': '139480', 'PJ Masks: HQ': '13731', 'EP Radio': '3', 'F05WatchFace for Android Wear': '127', 'Be Like Bill - Maker': '18', 'Hotel Insanity': '3816', 'The CW TN app 2018': '54', 'ClanHQ': '560', 'ÖBB Scotty': '12572', 'X-Plane to GPS': '161', 'Thyroid Nodules': '0', 'Holy Knight EN': '26202', 'Az Content': '24', 'CL Pro App for Craigslist': '119', 'Toca Builders': '3328', 'JotterPad - Writer, Screenplay, Novel': '57904', 'Dz kayas': '0', 'Maher EL Mouaikly - Offline': '166', 'SenseView BT Zephyr Sensor': '37', 'Day Night Live Wallpaper (All)': '4856', 'Grubhub: Food Delivery': '155944', 'BN Pro Arial Legacy Text': '83', 'Aab e Hayat Full Novel': '1476', 'Gun Club Armory': '55014', 'Sat-Fi': '97', 'AT&T Smart Limits℠': '2300', 'Stickers for Imo, fb, whatsapp': '214', 'HomeAway Vacation Rentals': '30403', 'TrueMoney Wallet': '199684', 'Despegar.com Hotels and Flights': '150932', 'DZ Puzzle': '14', 'How it Works: FN SCAR assault rifle': '44', 'Kids Balloon Pop Game Free 🎈': '38021', 'ELMO EV Charging': '14', 'FK Viktoria Žižkov': '0', 'Newsroom: News Worth Sharing': '201737', 'Tom Loves Angela': '1111915', 'Pocket Mortys': '174215', 'The List': '66', 'Capital One® Mobile': '510401', 'issuu - Read Magazines, Catalogs, Newspapers.': '74425', 'delivery.com: Order Food, Alcohol & Laundry': '1920', \"Ghouls'n Ghosts MOBILE\": '168', 'Funny Pics': '9941', 'Halloween Sandbox Number Coloring- Color By Number': '289', 'EY Belgium Inhouse Day 2018': '0', 'Ibotta: Cash Back Savings, Rewards & Coupons App': '315908', 'CX-41': '1', 'CY Konum': '1', 'EC Security': '13', 'Quadratic Equation Solver with Steps and Graphs': '513', 'B R Telco FCU Mobile Banking': '413', 'Digital Falak': '3408', 'HD Mickey Minnie Wallpapers': '118', 'LA Stories 4 New Order Sandbox 2018': '17453', 'Christella VoiceUp': '38', 'Android P Home KLWP': '0', 'Facebook Local': '4751', '【Ranobbe complete free】 Novelba - Free app that you can read and write novels': '1330', 'Ah !': '3', 'Big Q Car Service': '75', 'Ice Cream Jump': '141363', 'AK Interactive': '734', 'DigiCal Calendar Agenda': '133573', 'AdClear Ad blocker for Samsung': '1586', '2048 BTS J Hope KPop Puzzle Game': '17', 'Mirrativ: Live Stream Any App': '17955', 'Summer Camp Island AR': '740', 'Camping RV Caravan Parking 3D': '5290', 'SMS Sender - sluzba.cz': '12', 'BF CG View Wallpapers': '13', 'Google Drive': '2731211', '30 Day AB Challenge - Lumowell': '793', 'HTC Sense Input - BG': '218', 'Mafia City': '168717', 'BGKontakti Bayern BG Kontakti': '32', 'Skywatch BL': '15', 'CB VIDEO VISION': '13', 'Economic Times : Market News': '93708', 'CW Deposit': '4', 'I am extremely Rich': '41', 'Money Lover: Expense Tracker, Budget Planner': '126447', 'Golden Dictionary (EN-AR)': '51269', 'PBS KIDS Video': '36214', 'Commando Adventure Assassin': '51067', 'MEGOGO - Cinema and TV': '175528', 'Tips & Tricks Dynamics AX 365': '1', 'YouCamp EU': '39', 'OnePlus Icon Pack - Square': '229', 'Learn JavaScript': '25183', 'Movie Downloader Torrent : Az Torrent': '70', 'Pink Water Sakura Keyboard Theme': '1465', 'Badische Zeitung': '262', 'Pyaterochka': '8412', 'DYPhyzio-Physiology Forum': '4', 'BQ Scan': '18', 'C Programming Zone': '1218', 'Florida Lottery Results': '763', 'Runkeeper - GPS Track Run Walk': '501144', 'AW Browser with Chrome Custom Tabs': '9', 'Touch DV': '1', 'DM Collection': '3', 'MakeupPlus - Your Own Virtual Makeup Artist': '758780', 'VITEK EH DVR Viewer (Pro)': '78', 'Gainesville Bus Tracker': '63', 'AX Timesheets App for Dynamics': '0', 'My Little Work – Garage': '560', 'Soviet Military Maps Free': '21589', 'News24': '30693', 'SayHi Chat, Meet New People': '423138', 'RTVBN': '533', 'CP Channel': '7', 'FOSSIL Q: DESIGN YOUR DIAL': '985', 'Geometry Dash World': '760628', 'AP Biology Study Guide + Quiz': '105', 'AV Tools Pro': '35', \"Klart.se - Sweden's best weather\": '7623', 'GMX Mail': '258556', 'Meritrust CU Mobile Banking': '3661', 'Adivina el Emoji': '2536', 'Unity CF': '5', 'Coast To Coast AM Insider': '4581', 'Flim Af Somali Hindi Fanproj': '12', 'Thomas & Friends: Delivery': '28737', 'Eternal Light AG': '30', 'Galaxy Live Wallpaper': '58052', 'QC': '4', 'Hum Ek Hain 2.02': '2', 'BD Online Shop': '63', 'muzmatch: Muslim & Arab Singles, Marriage & Dating': '5168', 'Path': '1520959', 'LEADS FA': '31', 'Baby Care & Tracker': '319', 'Yandex Browser with Protect': '1237135', 'Sleep Sounds': '51227', 'Infinite Painter': '36815', 'Mesure CI': '9', 'Bank of America Mobile Banking': '341090', 'Pocket GMAT Math': '656', 'BBM - Free Calls & Messages': '12843436', 'BF Abstract 3d Pictures': '72', 'MbH BM': '1', 'TED': '181961', 'Stickman Warriors Heroes 2': '13714', \"Cooking Madness - A Chef's Restaurant Games\": '358817', 'BG Sports News': '41', 'PORTABLE SOCCER DX': '552', 'Daily Ab Workout': '2901', 'Angry Birds Go!': '3846378', 'PlayStation App': '613059', 'GO Weather EX Theme White': '8723', 'Royale Tournaments': '2420', 'Sketch - Draw & Paint': '215644', 'Belo Horizonte Map offline': '11', 'Strawberry Shortcake BerryRush': '525552', 'Cooking Channel': '1033', 'HOLSTON EC': '7', 'CEHQ - CE Credits for Nurses': '12', 'ETERNITY WARRIORS 2': '568391', 'A Word A Day': '2398', 'Vi Trainer': '124', 'DS-82 form': '1', 'My Little Princess : Stores': '169', 'The Pursuit of God': '6', 'CV Maker for Job Applications:Photo Resume Builder': '114', 'DS-Admin': '1', 'AH-1 Viper Cobra Ops - helicopter flight simulator': '1088', 'DX Simulation for Double Dx Henshin Belt 2018': '33', 'DN Diamonds': '4', 'Zap-Map: EV charging points UK': '181', 'CD CHOICE TUBE': '10', 'Frozen Free Fall': '1574546', 'NSE Mobile Trading': '13868', 'I Am Rich Pro': '201', 'SBB Mobile': '20605', 'INTERACTIVE CALCULUS FOR MATHS AND PHYSICS': '53', 'Waze - GPS, Maps, Traffic Alerts & Live Navigation': '7232629', 'Resume App': '11310', 'Ay Yıldız Duvar Kağıtları': '3', 'Arrayanes EC': '2', \"Madagascar Surf n' Slides Free\": '48929', 'Shiver: Moonlit Grove CE': '3433', 'Bank FD Interest Calculator': '166', 'mail.com mail': '44706', 'Rage Z: Multiplayer Zombie FPS Online Shooter': '11258', 'Battery Doctor-Battery Life Saver & Battery Cooler': '8190074', 'LokLok: Draw on a Lock Screen': '14766', 'BR Ambedkar Biography & Quotes': '156', 'Fo File Manager': '1916', 'BS TRACK CLIENT': '0', 'Security Camera CZ': '137', 'InstaSize Photo Filters & Collage Editor': '811714', 'Google Photos': '10859051', 'Gaode Map': '13275', 'UM BP Track': '1', 'I Am Wizard': '1493', 'Business Calendar Pro': '27135', 'Dictionary.com: Find Definitions for English Words': '899010', 'RPG ブレイジング ソウルズ アクセレイト': '159', 'EG Tax Service': '1', 'FD VR - Virtual 3D Web Browser': '729', 'Supermarket Manager: Cashier Simulator Kids Games': '15489', 'ATI Cargoes and Transportation': '4162', 'Oggy': '49971', 'CE HPJM 69': '2', 'Ultimate Tennis': '183004', 'Elemental Knights R Platinum': '2925', 'CM Launcher Default Theme': '3989', 'Ek Onkar': '107', 'DB Ultra Saiyan Battle': '33', 'Zombie Death Shooter': '17372', 'Rescue Robots Survival Games': '27557', 'Cardi B Wallpaper': '253', 'mySugr: the blood sugar tracker made just for you': '21189', 'Asiimov Skin - CS GO Icon Pack': '26', 'Guns of Boom - Online Shooter': '1226514', 'OnTrack Diabetes': '6079', 'Best Auto Call Recorder Free': '7', 'Nigeria News NAIJ.com': '37882', 'Figment AR': '22', 'Email TypeApp - Mail App': '183374', 'Crisis Action: 2018 NO.1 FPS': '807226', 'Arabic Alphabet Alif Ba Ta Wooden Blocks': '66', 'CZ Kompas': '2', 'Throw Knife': '291', 'Chase Mobile': '1374549', 'Air Transat CinePlus B': '83', 'Mobizen Screen Recorder - Record, Capture, Edit': '1827212', '2017 BN SM Sales Conference': '2', 'Thomas & Friends: Race On!': '29319', 'Sam.BN Pro': '11', 'Archie Comics': '5084', 'Cash, Inc. Money Clicker Game & Business Adventure': '549720', 'All Social Networks': '22650', 'Favorite Soviet cartoons': '63', 'WannaMeet – Dating & Chat App': '6701', 'FRONTLINE COMMANDO': '1351833', 'Out There Chronicles - Ep. 1': '1516', 'Zomato - Restaurant Finder and Food Delivery App': '511420', 'Soccer FC': '6289', 'Deaf - Hearing chat device H': '9', 'Driving Zone': '51791', 'CF-Bench': '2132', 'Black Wallpaper, AMOLED, Dark Background: Darkify': '51357', 'BI News': '22', 'EO KOREA': '0', 'FJ-link': '1', 'Reindeer VPN - Proxy VPN': '7339', 'my face': '1054', 'DB Busradar NRW': '78', 'Gods Wars Ex : Vampire': '1550', 'Messenger Messenger': '38826', 'DB Tools': '37', 'PokerStars Play: Free Texas Holdem Poker Game': '14989', 'CVS Caremark': '3707', 'My Theme Park: RollerCoaster & Water Park Tycoon': '128', 'Blitzer.de': '65590', 'Shrimp skin shopping: spend less, buy better': '106798', 'Low Blood Pressure Symptoms': '28', 'Device Info Ex Live Wallpaper': '2645', 'Cookpad': '131569', 'senior easy phone': '168', 'My Android Device S/W & H/W': '681', 'Wallpapers FN Five seven': '0', \"I Can't Wake Up!\": '963', 'OvuView: Ovulation and Fertility': '40296', 'DQ Texas': '336', 'GO Weather - Widget, Theme, Wallpaper, Efficient': '1422858', 'Word Link': '216675', 'Camera Pro': '7479', 'Training schedule - AllUniver': '702', 'VidPlay': '3546', 'Haircut Tutorials/Haircut Videos': '38', 'BS Chopper': '0', 'Telegram X': '70616', 'Angry Birds Evolution': '384602', 'Extreme Match': '696', 'dB: Sound Meter Pro': '31', 'Beach Volleyball 3D': '43191', 'Br Browser': '29', 'EZ Launcher': '18926', 'PhotoFunia': '316378', 'Remote for Onkyo AV Receivers & Smart TV/Blu-Ray': '701', 'Jetting for Honda CR dirt bike': '7', 'QR BARCODE SCANNER': '169369', 'Dr. Panda Restaurant 2': '3725', 'Sticker Market: Emoji keyboard': '303', 'AE Jewels': '960', 'Java Editor CR': '434', 'Essential Resources': '237', 'RPG Dragon Lapis': '13492', 'Meslek Lisesi YGS Ek Puan': '11', 'Moto Photo Editor': '3492', 'FG Finder': '154', 'Ziggo GO': '29690', 'Simpli CT': '4', 'Ek Biladi Jadi Video Song': '3', 'The green alien dance': '6979', 'CB Bank Mobile Banking': '1308', 'BF games': '262', 'BS Tractor': '3', \"Poker Equity Calculator Pro for No Limit Hold'em\": '21', 'High-Powered Flashlight': '429580', 'G-NetWiFi Pro': '6', 'LivingSocial - Local Deals': '28523', 'ZenUI Launcher': '1141545', 'Dr.Slender Ep 1 Guide (Eng)': '454', 'Messenger Kids – Safer Messaging and Video Chat': '3478', 'Financial Calculator India': '13819', 'AC Remote for Midea - NOW FREE': '448', 'Treasure Defense': '3527', 'Munchery: Chef Crafted Fresh Food Delivered': '464', 'DS video': '12443', 'Ax 3 Domaines': '12', 'KIM KARDASHIAN: HOLLYWOOD': '1017408', 'Share G - Images Sharing - Wallpapers App': '120', 'Metal Detector Pro 2015': '1166', 'Banorte Movil': '111632', 'Standard Chartered Mobile (BW)': '96', 'Mas Akıllı Ev': '13', 'Ab Workouts': '27501', 'FE Civil Engineering Exam Prep': '9', 'Hitwe - meet people and chat': '243950', 'Coupons.com – Grocery Coupons & Cash Back Savings': '24953', 'POF Free Dating App': '1175815', 'w UN map': '23164', 'Farm Heroes Saga': '7615646', 'H Band 2.0': '4031', 'Angry Birds POP Bubble Shooter': '596628', 'What was I in my Past Life': '7453', 'Fancy Pants Adventures': '55952', 'Ek Kahani Aisi Bhi Season 2 - The Horror Story': '28', 'EY Divest': '0', 'Manga Mania - Best online manga reader': '757', 'Photo Designer - Write your name with shapes': '3632', 'FK Jelgava': '0', 'Ag Weather Tools': '0', 'EZ Quran': '595', 'DEAD TARGET: FPS Zombie Apocalypse Survival Games': '1468638', 'Basics of Orthopaedics': '1', 'Ak Parti Yardım Toplama': '0', 'AB Blast Match 3': '111', '100 Doors of Revenge': '105766', 'Tafsiir Quraan MP3 Af Soomaali Quraanka Kariimka': '7', 'Cheat Codes for GTA V': '589', 'WiFi Automatic': '10595', 'Fountain Live Wallpaper HD – Dubai Wallpaper 3D': '1', 'mon guide au bank populaire -infos et instructions': '4', 'Driving School 3D 2017': '5075', 'AK 47 Live Wallpaper': '585', 'Financial Calculator BA Chien.': '23', 'EZCast – Cast Media to TV': '32112', 'Google Analytics': '78662', 'Android Auto - Maps, Media, Messaging & Voice': '271920', 'BeFunky Photo Editor Pro': '4724', 'Drift Legends': '33788', 'Stats Royale for Clash Royale': '68226', 'Titanic App - Feminist Dating Application': '120', 'Guess the song of J Balvin': '28', 'FunnyPixels - Color by number Sandbox': '1977', 'Rejoin Your Ex': '0', 'Relax Meditation: Sleep with Sleep Sounds': '26540', 'Calculator - free calculator ,multi calculator app': '1236', 'EZ View': '287', 'DashClock Widget': '62301', 'BEST CAR SOUNDS': '348', 'Digi-TV.ch': '62', 'Planning Center Services': '5157', 'Bar BQ Night Middlesbrough': '0', 'MORTAL KOMBAT X': '3039889', 'Extreme- Personal Voice Assistant': '25627', 'PlugShare': '4501', 'Akinator': '1805398', 'palmPEDi: Pediatric Tape': '66', 'HBO GO: Stream with TV Package': '87734', 'Skiplagged — Exclusive Flights & Hotels': '10035', 'DIY Crafts Cds': '209', 'LineStar for FanDuel': '1539', 'Where Am I? GPS Loc': '68', 'Axe Champ': '141', 'AW Reader: news & apps [Dutch]': '1948', \"Dr. Cares - Amy's Pet Clinic 🐈 🐕\": '3580', 'Toy Guitar with songs for kids': '1369', 'Bu Nedir ?': '0', 'Cestovné poriadky CP': '2681', 'BD CRICKET LIVE': '1238', 'Talabat: Food Delivery': '116403', 'Doctor X - ER On Wheels': '12781', 'C Examples': '1002', 'Dr. McDougall Mobile Cookbook': '76', 'Step Counter - Calorie Counter': '1577', 'Cochrane Library': '3', 'Masha and the Bear: Good Night!': '29155', 'Eh Bee Wallpapers HD': '4', 'Knightfall™ AR': '254', 'Cute Dolphin Keyboard': '237', 'Anime Love Story Games: ✨Shadowtime✨': '198480', 'AF Nutrition - Integratori': '6', 'EvAk Smart Home': '14', 'SportLook': '1283', 'Hairstyles step by step': '4369', 'BU Calculator': '69', 'Tiger Live Wallpaper': '77724', 'BN Pro LcdD HD Text': '50', 'Tic Tac Toe': '6007', 'Bell and Wyson Camera BW Pix +': '8', 'Sleep as Microsoft Band Add-On': '28', 'Pujie Black Watch Face for Android Wear OS': '7264', 'HotSpot Tethering Free/WiFi AP': '478', 'AK-47 Sounds': '656', 'P Launcher Theme For Android™ 9.0': '213', 'Guide for CS:GO': '16459', 'DV-2019 UK/British': '166', 'Gods by Night': '104', 'Clean My Android': '101163', 'The birth': '1084945', 'Battery Calibration': '134412', 'AE Sudoku': '2171', 'Dosecast - Medication Reminder': '4107', 'Map of Cyprus offline': '470', 'Alopec - Online Shipping System': '1240', 'Neuvaine au Saint-Esprit': '57', 'BP Service': '0', 'Avast Wi-Fi Finder': '37277', '3D Holograms Joke': '31596', 'go41cx': '171', 'AB Match': '9', 'Dragon Hills': '354373', 'Yeled EI': '0', 'ER Heart Surgery - Emergency Simulator Game': '429', 'CS Guns Shoot': '433', 'Hungry Hearts Diner: A Tale of Star-Crossed Souls': '46253', 'Used Cars and Trucks for Sale': '17057', 'Reading Race 1b: sh, ch words': '2', 'BP Toolbox': '32', 'Color Flashlight': '472904', 'AdventureQuest 3D MMO': '22667', 'AC Remote For LG': '1298', 'Policy And FD Manager': '20', 'NBC News': '63020', 'Hide N Seek : Mini Game': '4719', 'Dungeon Keeper': '69574', 'Angelcare AH': '0', 'Audiobooks from Audible': '568922', 'ZEDGE™ Ringtones & Wallpapers': '6466641', 'Timetable': '40209', 'CJmall': '18253', 'BP Journal - Blood Pressure Diary': '6', 'AirWatch Inbox': '8346', 'Lire avec Sami et Julie': '569', 'DEER HUNTER CHALLENGE': '38767', 'Hand Doctor Games ER Surgery Simulator': '120', 'Poteau BA': '3', 'Popeyes® App': '61', 'LOCX Applock Lock Apps & Photo': '208543', 'CX-42': '0', \"Woody's Bar-B-Q\": '3', 'Your rank CS:GO': '4946', 'Millionaire Match: Rich Singles Dating App': '853', 'Luxury Car Simulator': '35989', 'AJ Gray Dark Icon Pack': '2', 'Kpop Music Quiz (K-pop Game)': '6418', 'CH info': '45', 'Speedtest by Ookla': '1028794', 'Square InPic - Photo Editor & Collage Maker': '635846', 'Eat Fast Prepare \"Without Internet\"': '4925', 'WPS Office - Word, Docs, PDF, Note, Slide & Sheet': '1508137', 'HD Camera': '49680', 'Facebook Lite': '8606259', 'Repair Hyundai Santa Fe': '22', 'codeEazy - C/C++/JAVA': '130', 'AE FreeCell': '358', 'King of Avalon: Dragon Warfare': '306652', 'To-Do Calendar Planner': '30291', 'Teladoc Member': '2094', 'EY Digi India Personal Tax': '2', 'Tee and Mo Bath Time Free': '418', 'R Bank': '90', 'DJ Music Pad': '35121', 'Ebenezer AH': '4', 'AI Benchmark': '97', 'Security & Privacy': '212', 'POGO Games': '32600', 'Displaying You VR': '1', 'Tapatalk - 100,000+ Forums': '285820', 'U Guard': '245', 'EG SIM CARD (EGSIMCARD)': '105', 'HTC Sense Input-CA': '124', 'AG Fast Service Automotive': '5', 'Kairo XP (for HD Widgets)': '1591', 'Jungle book-The Great Escape': '2362', 'OpenCV Manager': '12657', 'Candy Bomb': '42145', 'LG AC Smart Diagnosis': '377', 'DisneyNOW – TV Shows & Games': '82499', 'Lite Messenger for Facebook Lite': '108', 'OO Launcher for Android O 8.0 Oreo™ Launcher': '14832', 'Pixel Art: Color by Number Game': '1125566', 'AJ Gray Icon Pack': '5', 'BU School of Public Health': '0', 'video player': '26421', 'Fate/Grand Order (English)': '16601', 'DU Browser—Browse fast & fun': '1133539', 'IHOP®': '441', \"Where's My Water? Free\": '1372013', '+Download 4 Instagram Twitter': '40467', 'TrainPal EU- Book German Train Tickets': '1', 'Vehicle Case Checker BD': '29', 'Blood Pressure(BP) Report Lite': '91', 'Color Changer Pro [root]': '69', 'Apartment, Home Rental Search: Realtor.com Rentals': '10117', 'Crack Attack': '31970', 'Lovely Cute Pink Kitty Cat Keyboard Theme': '2267', 'CS Browser | #1 & BEST BROWSER': '52', 'CE Smart': '3', \"Rock N' Cash Casino Slots -Free Vegas Slot Games\": '6187', 'FaceQ': '591411', 'Free Radar Detector': '15680', 'Toca Mystery House': '96', 'Yes day': '10055521', 'BL File Explorer': '1', 'BT Camera': '1307', 'SurfEasy Secure Android VPN': '273283', \"Don't Hug Me I'm So Scared\": '901', 'X Back - Icon Pack': '56', 'Tips Microsoft Dynamics Ax': '1', 'Seattle Sounders FC': '974', \"SH-02J Owner's Manual (Android 8.0)\": '2', 'GollerCepte 1903': '25172', 'FiSwitch': '615', 'BN Pro Battery Level-White': '21', 'Winter Wonderland': '1287', 'How it works: AK-74N': '1031', 'Seen': '118285', 'DS get': '71852', 'Hard Time (Prison Sim)': '275843', 'Ulysse Speedometer Pro': '4140', 'DS Helpdesk Plus': '21', 'ES Disk Analyzer - Storage Space': '5867', 'Mad Skills Motocross': '32522', 'Homestyler Interior Design & Decorating Ideas': '78298', 'Tomb of the Mask': '55380', 'AE 3D MOTOR :Racing Games Free': '74902', 'My Photo Keyboard': '56114', '12 Step Meditations & Sober Prayers AA NA AL-ANON': '759', 'Vault-Hide SMS,Pics & Videos,App Lock,Cloud backup': '984451', 'Dr.Android Repair Master 2017': '1205', 'Heirs & Graces': '125', 'Ayat - Al Quran': '173394', 'AR effect': '79792', 'Next Launcher 3D Bold-CF Theme': '175', 'DG UPnP Player Free': '39', 'Candy Crush Jelly Saga': '1300619', 'Jigsaw Puzzles Volvo FH Trucks': '3', 'CBS Sports App - Scores, News, Stats & Watch Live': '91035', 'Octo U: Your driving companion': '331', 'Tattoo Color By Number Draw Book Page Pixel Art': '309', 'Aw Restaurant': '4', 'Calculate My IQ': '44', 'CW Seed': '16391', 'Cops N Robbers 2': '63680', 'HD Video Player': '1551', 'EF Catalogues · Kataloge': '15', 'learn c in hindi': '109', 'Pink Silver Bow Keyboard Theme': '1120', 'Sanu Ek Pal Chain Song Videos - RAID Movie Songs': '11', 'Wallpapers AK 12': '0', 'Fabulous: Motivate Me! Meditate, Relax, Sleep': '205299', 'i-share AF/KLM (AFKL ishare)': '2', 'Servers Ultimate Pack B': '668', 'myAT&T': '80847', 'DM HiDisk': '54', 'MyVodafone (India) - Online Recharge & Pay Bills': '1092367', 'Z Origins - (Z The Game)': '4421', 'Hello Stars': '101686', 'My baby Game (Balloon POP!)': '3614', 'FK Crvena Zvezda Izzy': '1456', 'Mom Doctor ER Emergency Family Game': '173', 'AQ wisdom +': '0', 'Neon Blue Gaming Wallpaper&Theme fo Lenovo K8 Note': '7', 'Radial-G : Infinity': '517', \"Lep's World 2 🍀🍀\": '798522', 'Cy-Fair FCU Mobile Banking': '439', 'AC Mobile Control': '1450', 'Avast Cleanup & Boost, Phone Cleaner, Optimizer': '648380', 'Axe Knight': '52', 'Square DP For Whatsapp': '67', 'Sandbox - Color by Number Coloring Pages': '412744', 'WEB.DE Mail': '226541', 'Real Gangster Crime': '285814', 'Sahadan Live Scores': '63938', 'BW SmartLife': '0', 'CD - Teach me ABC English L1': '2', 'ChatBot AI Talking Girl': '3597', 'Burger King Italia': '4160', 'MIX by Camera360': '111066', 'Pint - FN Theme': '6', 'Sway Medical': '3', 'Mad Libs': '8126', 'ElejaOnline DF': '0', '4K VIDEO PLAYER ULTRA HD': '20', 'Talking Tom Cat 2': '3213548', 'do': '1073', 'Shooting King': '257724', 'FitConsole': '219', 'Meme Generator Free': '303394', 'CT Abdomen': '7', 'Learn Top 300 English Words': '61600', 'She Will Be Loved Lyrics': '2', 'AJ Turquoise Dark Icon Pack': '0', 'DU Battery Saver - Battery Charger & Battery Life': '13479633', 'RIV-BM FPV': '0', 'Holl & Co Barbers': '12', 'File Manager': '739329', 'Public Service CU Mobile': '314', 'pixiv': '86956', 'Pink Diamond Princess Keyboard Theme': '10796', 'Truck Chat & CB for Truckers': '89', 'UFO-CQ': '1', 'BU Bison Nation': '4', 'All Football GO- Live Score, Games': '1981', 'BTS V LINE Launcher theme': '3283', 'Sportractive GPS Running Cycling Distance Tracker': '48276', 'TOEFL Prep & Practice from Magoosh': '756', 'Sygic Truck GPS Navigation': '18294', 'Al-Muhaffiz': '2319', 'Bc Vod': '1', 'Deaf World DW': '298', 'GO SMS PRO EMOJI PLUGIN': '84779', 'Hair saloon - Spa salon': '38473', 'DM airdisk Pro': '11', 'EZ PZ RPG': '70903', 'T Uploader': '75', 'Antivirus & Mobile Security': '351267', 'vide-greniers.org': '5839', 'Scarf Fashion Designer': '16637', 'Tango - Live Video Broadcast': '3806669', 'Aj.Petra': '5', 'dB Meter - measure sound & noise level in Decibel': '154', 'BZWBK24 mobile': '64983', 'Mint: Budget, Bills, Finance': '129305', 'DU Privacy-hide apps、sms、file': '21762', 'Tech CU Mobile Banking': '853', 'lifebox': '56403', 'AT&T DriveMode': '8465', 'BT MeetMe with Dolby Voice': '437', 'Yahoo Sports - scores, stats, news, & highlights': '32386', 'GPS Traffic Speedcam Route Planner by ViaMichelin': '63920', 'Dragon B.Z Wallpapers': '0', 'Test Server SMS FA': '0', '2ndLine - Second Phone Number': '15880', 'Four In A Line Free': '133195', 'Puzzle for CS:GO': '247', 'All AJK Board Matric Fa Fsc Results': '0', 'JoJo Siwa Top Hits Music': '0', 'WhatsFake Pro (Ad free)': '204', 'Daily Horoscope': '407589', 'Baby Food - Homemade Recipes': '44', 'The League': '837', 'Trailer Addict Movie Trailers': '2646', 'Stylish Fonts': '153176', 'Simple Blood Pressure log': '31', 'EF Lens Simulator': '2', 'Al-Quran 30 Juz free copies': '12322', 'D. H. Lawrence Poems FREE': '13', 'Subway Surfers': '27725352', 'Dolphin and fish coloring book': '2249', 'AAFP': '63', 'Toy Truck Rally 3D': '301895', 'ScreenMeet. Easy Phone Meeting': '624', 'GUYZ - Gay Chat & Gay Dating': '41269', 'Graffiti Letters (A-Z)': '386', 'New: CL-150': '4', 'PRIMATURE.CD': '6', 'Nucleus Smart': '20', 'AZ REMOTE CONTROL': '149', 'C-SPAN Radio': '608', 'Attack the Light': '19209', 'Telstra': '4260', 'Batmobile™ R/C Controller': '452', 'DZ Mobile Market': '59', 'ColorNote Notepad Notes': '2401017', 'Zombie Sniper 3D III': '8122', \"Rope'n'Fly 4\": '234606', 'U Pull It Auto Dismantler': '71', 'Jenga® AR': '53', 'Wave Z Live Wallpaper': '63699', 'I am Rich Premium Plus': '459', 'Pixgram- video photo slideshow': '93726', 'Wallpapers Volvo FH Truck': '4', 'Prism Pay Bills, Track Money, Personal Finance': '16961', 'USE Credit Union Mobile': '964', 'Nyan Cat: Lost In Space': '371318', 'Candy selfie - photo editor, live filter camera': '53421', 'CB-Mobile Banking': '96', 'Diabetes Connect': '4027', 'FlexRelease CX': '4', 'OptumRx': '1838', 'HealtheLife': '190', 'EU Whoiswho': '0', 'Six Pack in 30 Days - Abs Workout': '272337', 'wikiHow: how to do anything': '43088', 'Tenh Ey': '0', 'Calorie Counter - EasyFit free': '50294', 'Nokia mobile support': '12215', 'APN Settings': '3743', 'FD CANNECT': '1', \"Five Nights at Freddy's\": '100805', 'CP Connect 2.0': '0', 'EMT Review Plus': '199', 'Girls Craft: Exploration': '130689', 'DN - Diário de Notícias': '794', 'Free Foreclosure Real Estate Search by USHUD.com': '287', 'Pick-a-Paint': '242', 'GasBuddy: Find Cheap Gas': '751551', 'Air conditioner remote control': '29854', 'Results for CT Lottery': '86', 'Undertale AU Amino': '5369', 'DU Emoji Keyboard（Simeji）': '19234', 'See U - Random video chat, video chat': '568', 'Rainbow - Journal & Activities': '6668', 'Phone': '45483', 'LocaToWeb - Live GPS tracking': '200', 'My Little Pony: Story Creator': '11002', 'Redwood CU v3.1.0': '480', 'HD Camera - silent shutter': '26530', 'VIVA BH': '2055', 'Reuters News': '13169', 'My Location: GPS Maps, Share & Save Places': '29768', 'My CW': '1', 'FG Mobile': '130', 'First Federal Bank of Florida': '133', 'National Rail Enquiries': '18857', 'Remote for Sony TV & Sony Blu-Ray Players MyAV': '3491', 'SHADOWGUN LEGENDS': '100609', 'BN Pro ArialXL Legacy Text': '142', 'Patient Portal': '66', 'Dungeon Legends - PvP Action MMO RPG Co-op Games': '102215', 'PhotoLayers〜Superimpose,Eraser': '81219', 'MYCU TX Mobile Banking': '4', 'Exército Brasileiro': '1730', 'Verdant EI': '0', 'BaconReader for Reddit': '103074', 'Alchemy Classic Ad Free': '20178', 'Endless Numbers': '2952', 'DW Arabic By dw-arab.com': '386', 'BN Pro White Text': '50', 'P XPERIA Theme™ | Design For SONY 🎨': '147', 'Browser 4G': '192948', 'Sleep as Android Unlock': '23966', 'HTC Sense Input-BG': '198', 'Messenger Pro': '13762', 'Ek Qissa He Quran Se (Qurani Waqiyat)': '4', 'YouTube TV - Watch & Record Live TV': '38517', 'Speed Camera Radar': '54034', 'The DJ - Match with People': '0', 'Seeking Alpha': '22808', 'most expensive app (H)': '6', 'Friday: Smart Personal Assistant': '2087', 'AP® Guide': '3', 'Kids Doctor ER Emergency Rescue Kids Hospital Game': '515', 'Who viewed my fb profile pro★★': '6396', 'BH Connect': '0', 'Texas HoldEm Poker Deluxe (BR)': '1418', 'Clean Master- Space Cleaner & Antivirus': '42916526', 'BN Whitening Shoppe Ph': '2', 'Lexus Tech BH Service Pro': '0', 'Wedding Countdown Widget': '7376', 'Ulta Beauty': '42050', 'Digg': '6105', 'CBS - Full Episodes & Live TV': '92058', 'Dio Fa Cose': '35', 'BC Mobile Intro - Americas': '0', 'Dr. Unblock': '3847', 'ES Chromecast plugin': '23859', 'WFLA News Channel 8 - Tampa FL': '133', 'BR Video Player': '46', 'B@dL!bs Lite': '10', 'MPS CL': '1', 'U Launcher Lite – FREE Live Cool Themes, Hide Apps': '87510', 'bm-Events': '0', 'Dare EMS Protocols': '0', 'FK Vozdovac': '1', 'Microsoft Edge': '27187', 'Learn Music Notes': '143', 'Ad Remove Plugin for App2SD': '66', 'Check Lottery Tickets - Florida': '27', 'Pronunciation and know the name of the caller from his number': '2167', 'DIY cd rom ideas': '5', 'Market Update Helper': '20145', 'CT Lottery': '271', 'Learn English for beginners': '1929', 'Beach Buggy Blitz': '640974', 'Louis CK': '244', 'Pyaar Ek Dhoka hai Game - Anti Valentines': '8', 'Bonjour 2017 Abidjan CI ❤❤❤❤❤': '235', 'BL IP-Camera': '15', 'love': '42677', 'Clue': '19922', 'CA Speakers': '12', 'Questland: Turn Based RPG': '31134', 'Satellite AR': '9636', 'BA VPN - Free Unlimited VPN': '181', 'EB Events': '97', 'Contents Provider(C.P.)Explorer': '1', 'FK Čukarički': '0', 'Czech Public Transport IDOS': '26014', 'D.N. College Meerut': '0', 'Brandon Lakes AH': '5', 'Fruit Ninja®': '5091448', 'FC Browser - Focus Privacy Browser': '26', 'Urban Car Simulator': '23292', 'SegPlay Mobile Paint by Number': '1478', 'CM AppLock Fingerprint 2018': '1264', 'Chat Anónimo Gratis Español CG': '69', 'BN Pro Black Text': '18', 'Foods Co': '199', 'Binaural Beats Therapy': '13724', 'Sketchfab': '906', 'Master for Minecraft(Pocket Edition)-Mod Launcher': '2674051', 'NetClient CS': '125', 'AI with Python Tutorial': '8', 'Barbie™ Fashion Closet': '68286', 'Puzzle Alarm Clock ⏰': '32111', 'LineStar For DK': '1387', 'CI Capital - Dynamic': '4', 'Villains vs Superheroes': '128', 'N Launcher: Nougat Theme': '128', 'POCKET ATLAS CARDIAC MRI AND CT': '0', \"Baldur's Gate: Enhanced Edition\": '20101', 'Fifa World Cup 2018: Photo Frame Editor & DP Maker': '666', 'Fashion Pony Girls Dress Up Makeup Game': '256', 'LEGO® DC Mighty Micros': '139545', 'Guardian Hunter: SuperBrawlRPG': '364013', 'Camera51 - a smarter camera': '29707', 'Family Guy The Quest for Stuff': '995002', 'ER Injection Simulator: Blood Test Doctor Hospital': '3263', 'Grim Tales: The Wishes CE': '4923', 'Em Fuga Brasil': '1317', 'Disney Heroes: Battle Mode': '102107', 'Digi Dex for DW Next Order @PS4': '155', 'Adventure Time Game Wizard': '4107', 'Creative Ideas - DIY & Craft': '5208', 'EXO-L Amino for EXO Fans': '5677', 'mySharpBranded CI Test': '0', 'Relaxing Sounds': '4642', 'Maps CU': '256', 'EO Hotels': '4', 'BJ Bridge Free (2018)': '20', '中国語 AQリスニング': '21', 'BeautyPlus - Easy Photo Editor & Selfie Camera': '3158151', 'BM FlexCheck': '2', 'MomentCam Cartoons & Stickers': '1260143', 'Map My Fitness Workout Trainer': '38343', 'Yoga - Track Yoga': '7976', 'NY mobilbank DK - Danske Bank': '851', 'N-Back': '413', 'Bomb and Nade Timer for CS:GO': '85', 'Random Love (BF)': '3', 'iPlayIT for YouTube VR Player': '5879', 'view.com.au - Buy, Rent or Research Real Estate': '212', 'DS Creator 2.0': '2', 'Marcus Theatres': '2639', 'Walk Freely (Ec Shlire)': '62', 'CS Browser Beta': '125', 'R M Lock Screen': '399', 'Tracks': '623', 'Coupons for Burger King': '41', 'New YAHTZEE® With Buddies Dice Game': '42079', 'Sensenuts eI': '0', 'HTC Mail': '6572', 'Photo Frames': '28578', 'BP-Tech': '12', 'Quotes': '58', 'Learn alif ba ta': '23', 'Fan App for Reading FC': '9', 'Workout Trainer: fitness coach': '100406', 'CP Clicker': '251', 'XX HD Video downloader-Free Video Downloader': '7624', 'EO Mumbai': '0', 'Fulham FC': '401', 'Blackjack aj Poker': '8', 'Elif Ba Oyunu': '26', 'HD Camera - Best Cam with filters & panorama': '38953', 'FG Rockstar': '1', 'I’m Expecting - Pregnancy App': '71269', 'Arena of Valor: 5v5 Arena Game': '438911', 'osmino Wi-Fi: free WiFi': '134203', 'Ai File Viewer': '66', 'BZ Reminder': '41625', 'Bi-Tank': '12', 'GO CP Evolution Calculator': '5', 'Météo Algérie DZ': '1238', 'DC HSEMA': '38', 'DRAGON QUEST III': '1661', 'AH of Rocky Hill': '0', 'Selfie Photo Editor': '11677', 'GRE Flashcards': '13791', 'TN e Sevai TN EB Bill Patta Citta EC Birth All Hub': '23', 'LEGO® Juniors Create & Cruise': '673203', 'Sporting CP Keyboard Theme': '45', 'San Andreas: Gang Crime V': '2399', 'Mercado Libre: Find your favorite brands': '3860225', 'Manga Books': '7326', 'PDF Reader - Scan、Edit & Share': '54520', 'Age Calculator': '24265', 'Mutual - LDS Dating': '1439', 'Video Downloader for FB : Video Download with Link': '1060', 'edp re:dy': '172', 'EY Catalyst Reader': '1', 'Chest CT Sectional Walker': '2', 'CL-Phlebotomist': '19', 'Deaf Interpreter': '24', 'BD Internet Package Activator': '13', 'EK Platinum': '52', 'Call of Duty®: Heroes': '1604146', 'Family Savings CU Mobile': '323', 'ScriptSave WellRx Rx Discounts': '700', 'Couch to 5K by RunDouble': '15674', 'I Am Rich': '217', 'Sad hair without net': '20', 'EF Smart English': '150', 'Video Editor,Crop Video,Movie Video,Music,Effects': '53006', 'Chemin (fr)': '44', 'DT Freight': '0', 'Local Services ads by Google': '7', 'Dr. Panda Supermarket': '1357', 'Learn 50 languages': '55256', 'ConnectLine': '253', 'DM 24/7': '7', 'Poynt': '26665', 'List iptv FR': '1', 'La Fe de Jesus': '8', 'ESPN Fantasy Sports': '176487', 'Bus Driver 3D: Hill Station': '31705', 'Du Chinese – Mandarin Lessons': '3390', 'AndStream - Streaming Download': '38607', 'EC Fairgrounds': '3', 'Western Union US - Send Money Transfers Quickly': '80904', 'Howlr': '105', 'Recycling Cy': '47', 'Simple x3DS Emulator - BETA': '0', 'Faceoff DP Battle App': '38', 'BF Family user': '8', 'FN model 1900 pistol explained': '0', 'Faster for Facebook Lite': '24456', 'G-Switch 3': '3656', 'DW Security': '6', 'chicken song': '434', 'Learn English Vocabulary - 6,000 Words': '205914', 'Ad Blocker for SayHi': '4', 'BL Kennedy Theme': '279', 'BAC DZ Questionnaire': '38', 'BL PowerPoint Remote': '33', 'SharedCare™ Co-parenting': '23', 'FQ METER': '17', 'Tinder': '2789775', 'QR Code Pro': '5865', 'I am Rich Plus': '856', 'R Quick Reference Big Data': '6', 'StyleSeat': '20304', '30WPM Amateur ham radio Koch CW Morse code trainer': '1', 'Podcast Addict': '413999', 'FD Mobile': '53', 'DW Learn German - A1, A2, B1 and placement test': '902', 'AP Calculus BC: Practice Tests and Flashcards': '5', 'Wind & Weather Meter for Ag': '3', 'FCB Connect - FC Barcelona': '795', 'BJ Grand Salon Mobile App': '1', 'BP Log lite': '3', 'Ace Screen Recorder w facecam': '2447', 'BG Blurry HD Wallpapers': '1', 'Energenie EG-PM1W Setup Wizard': '17', 'Q Avatar Pro': '4', 'EZ Web Video Cast | Chromecast': '1276', 'Decay: The Mare - Ep.1 (Trial)': '5291', 'AC-BL': '0', 'Lust in Terror Manor - The Truth Unveiled | Otome': '355', 'RoboPad++': '77', 'EY ATL Fuel Calculator': '15', 'FD VR - Virtual Photo Gallery': '179', 'Ariana News AF': '20', 'EVA - Menstrual calendar and fertility': '25', 'CF Talenti': '4', 'Navigator PRO - GPS Navigation with Offline Maps': '892', 'Digital Alarm Clock': '118439', 'Remote Link (PC Remote)': '87055', 'Doodle Jump': '1083571', 'Wallpapers Bus Scania Irizar K': '35', 'CM Browser - Ad Blocker , Fast Download , Privacy': '2265084', 'Offroad G-Class 2018': '7715', 'My Little Pony AR Guide': '7993', 'Xtreme Racing 2018 - Jeep & 4x4 off road simulator': '2178', 'Daily Manga - Comic & Webtoon': '1462', 'LA Times: Your California News': '3311', 'Beauty Selfie Camera': '2225', 'BTS V Kim Taehyung Wallpapers Kpop HD New': '51', 'EP McGuffey Primer': '0', 'DMR BrandMeister Tool': '78', 'Wikipedia': '577550', 'Boston AH': '1', 'Cossack Dictionary (DN)': '7', 'Video chat live advices': '0', 'Cambridge English FC': '761', 'CX-37': '13', 'Crazy Doctor': '267636', 'Dance On Mobile': '23609', 'QuickBooks Accounting: Invoicing & Expenses': '23175', 'EB Cash Collections': '1', 'Heart Surgery Emergency Doctor': '2248', 'Offline Jízdní řády CG Transit': '7314', 'BV Sridhara Maharaj': '8', 'DG Report Reminder': '195', 'Fruits Bomb': '74695', 'Z-Empire: Dead Strike': '99', 'MYTO CZ': '30', 'RRIMS FO': '2', 'Stocard - Rewards Cards Wallet': '284725', 'BBW Dating & Plus Size Chat': '12633', 'Sonic CD Classic': '26138', 'Piano Kids - Music & Songs': '46741', 'Rádio Sol Nascente DF': '12', 'FlexBook': '104', 'FR Tides': '1195', 'DZ Popup Video Player': '83', 'Petals 3D live wallpaper': '112479', 'Lamp detector': '5', 'Abdominal CT Sectional Walker': '2', 'The grand theft V Wallpaper': '87', 'AJ Official': '31', 'Yandex.Shell (Launcher+Dialer)': '87300', 'DN Employee': '1', 'AH Lake Villa': '3', 'Lottery Ticket Checker - Florida Results & Lotto': '3', 'Pacify (Android P theme) - Theme for Xperia™': '1', 'VidStatus app - Status Videos & Status Downloader': '25562', 'ASCCP Mobile': '63', 'Mirror - Zoom & Exposure -': '32090', 'Chegg Study - Homework Help': '14700', 'AK 47 Assault Rifle Wallpapers': '1', 'أحداث وحقائق | خبر عاجل في اخبار العالم': '311', 'Dialer theme G Black Gold': '33', 'Street Panorama View': '40225', 'SweetLand — Family Board Game': '38', 'AG test': '3', 'Fr. Mike Schmitz Audio Teachings': '4', 'Lionel Messi Wallpapers': '950', 'Text Free: WiFi Calling App': '83488', 'YouTube Studio': '436921', 'Total AV': '617', 'DM AirDisk NAS': '0', 'Grenada Co-operative Bank': '137', 'Sanford Guide:Antimicrobial Rx': '1388', 'Meet, chat & date. Free dating app - Chocolate app': '8661', 'IndiGo': '48082', 'BD Dialer': '29', 'C Launcher: Themes, Wallpapers, DIY, Smart, Clean': '901110', 'Litnet - E-books': '7831', \"French to English Speaking - Apprendre l' Anglais\": '4251', 'Red Ball 4': '1432447', 'General culture': '26', 'Word Search': '344585', 'DW VMAX': '843', 'Youper - AI Therapy': '2014', 'DN Premium Hookah Lounge': '1', 'Speech Therapy: K': '2', 'AP Series Solution Pro': '0', 'Dan the Man: Action Platformer': '528550', 'cm, mm to inch, feet converter tool': '176', 'AY Oakmont': '0', 'DN Driver': '0', 'Currency Exchange DZ': '4', 'BT Satmeter': '0', 'EU Mobile Money Partenaire Commercial': '70', 'I am rich': '3547', 'EF-myHR': '26', 'FK Macva Sabac': '3', 'CV Engineer - Free Resume Maker & CV Templates': '213', 'Gainesville Florida Police Department': '4', 'When Will You Get Married': '2', \"Don't Starve: Pocket Edition\": '17988', 'EG Movi': '40', 'EG Player': '1', 'First Tech Federal CU': '4290', 'Groovebook Photo Books & Gifts': '21159', 'Lock Screen - DU Locker & Lock screen wallpaper': '5174', 'Metal Soldiers 2': '153649', 'AT&T Mobile Transfer': '22775', 'Who': '2451093', 'EU Life Explorer': '2', 'iFORA BP': '18', 'MelifeCam-M': '81', 'R+F PULSE': '58', 'Tropical Financial CU': '1231', 'Messenger Lite: Free Calls & Messages': '1429038', 'df-Vegetable': '0', 'XOS - Launcher,Theme,Wallpaper': '49657', 'BJJ Roadmap by Stephan Kesting': '969', 'Next Portuguese(BR) Langpack': '1320', 'BT Dating -Find your match, help cupid, be social': '158', 'V Bucks ProTips New': '594', 'CI On The Go': '2', 'Hot Wheels: Race Off': '520654', 'AC Remote for Carrier - NOW FREE': '163', 'abeoCoder': '83', 'KPS CHAUHAN DY/DX': '37', 'Lily & Leo - Crazy Circus Day': '8091', 'HAL-9000 - FN Theme': '159', 'EU GDPR RiskCalc': '1', 'Google Chrome: Fast & Secure': '9643041', '10 Best Foods for You': '2490', 'BELONG Beating Cancer Together': '623', 'pretty Easy privacy p≡p': '21', 'My Ex Girlfriend Comes Back': '3258', 'Beauty Rental Shop': '11480', 'Eu sou Rico': '0', 'Box': '159872', 'CE Airbus': '0', 'AppBrain Ad Detector': '9221', 'Wayfair - Shop All Things Home': '20247', 'CT-REMOTE': '19', 'Dungeon Hunter Champions: Epic Online Action RPG': '26307', 'Yahoo Fantasy Sports - #1 Rated Fantasy App': '277939', 'Launcher': '102923', 'GO Security－AntiVirus, AppLock, Booster': '1251479', '95Live -SG#1 Live Streaming App': '4954', 'Mix Virtual DJ 2018': '2925', 'DX Glow - Clock Widget': '5', 'Selfie Camera: Beauty Camera, Photo Editor,Collage': '31985', 'EXO-L': '67410', 'Strange Hero: Future Battle': '88901', 'Puppy Shooting an AK-47: Platformer Zombie Game': '21', 'Multiple Videos at Same Time': '4706', 'Emergency Brain CT': '2', 'Coomotaxi BH': '94', 'Glam - Premium Dating App': '23170', 'EG India': '3', 'White Noise ~ Sleeping Sounds': '4427', \"CJ Wilson's ZoomZoomnation\": '4', 'Wifi Inspector': '63712', 'Cartoon Network Match Land': '21979', 'Klix.ba': '3647', 'The Societe Generale App': '31218', 'Solid Explorer Classic': '49794', 'RC Monster Truck - Offroad Driving Simulator': '38448', 'Lost Journey (Dreamsky)': '32344', 'Car Parking Game 3D - Real City Driving Challenge': '187892', 'Azar': '1092337', \"HAWK – Force of an Arcade Shooter. Shoot 'em up\": '190274', 'Calvary.ch App': '10', 'Fairy Kingdom: World of Magic and Farming': '129542', 'Q*bert: Rebooted': '13788', 'Color by Disney': '5706', \"Bee'ah Employee App\": '4', 'Number Therapy': '0', 'C.B. Shop': '19', 'Cache Cleaner-DU Speed Booster (booster & cleaner)': '12759815', 'PHONE for Google Voice & GTalk': '72065', 'CZ-Cyberon Voice Commander': '131', 'Buttocks and Abdomen': '465', 'EY Tax Briefing': '3', 'Transfer': '31804', 'CF SPOT': '0', 'E.U. Trademark Search Tool': '0', 'Super ABC! Learning games for kids! Preschool apps': '20267', 'FK Oleksandria': '0', 'Dr. Battery - Fast Charger - Super Cleaner 2018': '101738', 'db Meter - sound level meter with data logging': '0', 'Gogo Vision (Biz Av)': '11', 'Car Driving Simulator Citroen': '174', 'CrossFire: Legends': '144040', 'Robbery Bob': '617732', 'DZ PROMOS - Promotions & Sale Alerts in Algeria': '331', 'Blood Glucose Tracker': '9612', 'EF English Live Business Tablet': '279', 'Koran Read &MP3 30 Juz Offline': '29551', 'Clarksburg AH': '1', 'Fr. Daoud Lamei': '22', 'Dragon BZ Super Wallpapers': '12', 'Be My Eyes - Helping the blind': '8418', 'Kids Paint Free - Drawing Fun': '121', 'Vital Tones EI Pro': '2', 'Castlight Mobile': '529', 'Trimble DL': '133', 'Job CV Maker & Portfolio Maker': '593', 'Surprise Eggs': '81543', 'Driving Suv Toyota Car Simulator': '187', 'Scoreboard FR': '3', 'EV Trip Optimizer for Tesla': '46', 'AW - free video calls and chat': '7317', 'Wi-Fi settings shortcut': '479', 'Tennis 24 - tennis live scores': '990', 'Ew, the small alien': '5', 'At home - rental · real estate · room finding application such as apartment · apartment': '2496', 'Bacterial Vaginosis 🇺🇸': '1', 'Adventure Xpress': '24775', 'EU IP Codes': '2', 'Top Soccer Manager': '199739', 'DN Advanced Service Coder': '0', 'MARKET FO': '0', 'R Programming Language (Paperset 2) MCQ Quiz': '0', 'Calcy IV': '36557', 'Exam Result BD': '2', 'Q Link Wireless Zone': '2194', 'APE Weather ( Live Forecast)': '20008', 'Crime Wars S. Andreas': '5785', 'Leica CL': '8', 'OpenGL-ES Info': '249', 'Trimble Ag Mobile': '85', 'Dr. 2048': '1985', 'VLC for Android': '1032076', 'Ditto CP Calculator GO': '34', 'CL e-bank': '210', 'J.ME Fly': '28', 'Wifi Test': '8671', 'DP Battle': '132', 'Faster Social for Facebook': '1236', 'Videos downloader for Facebook:fast fb video saver': '20', 'B L Enterprises': '2', 'DN Sync': '56', 'SCI-Ex': '8', 'Gun AK 47': '3', 'news.com.au': '1', 'T-Mobile Content Transfer': '370', 'FH School': '4', 'iFORA BM': '3', 'La Poupée du Voyant': '265', 'Radiological Anatomy For FRCR1': '12', 'Girls Live Chat - Free Text & Video Chat': '110', 'Birdays - Birthday reminder': '2153', 'Dx Ludo': '215', 'Inst Download - Video & Photo': '148715', 'Fallout Shelter': '2721923', 'AMBW Dating App: Asian Men Black Women Interracial': '2', 'EyeCloud': '1267', 'Spinal Cord Surgery Doctor: Operation ER surgery': '52', 'EU Mobile Money': '460', 'GO Notifier': '124346', 'The Visitor: Ep.2 - Sleepover Slaughter': '5731', 'Invoice & Time Tracking - Zoho': '5800', 'Cool Reader': '246315', 'Psiphon Pro - The Internet Freedom VPN': '298041', 'Simple Recipes': '3803', 'Convert Coordinates DM to DMS': '15', 'Monitor My BP': '0', 'English Communication - Learn English for Chinese (Learn English for Chinese)': '2544', 'CompTIA A+ Pocket Prep': '1311', 'DM airdisk': '11', 'Anime Avatar Creator: Make Your Own Avatar': '10944', 'CG JOKES - Copy & Share': '31', 'Dude Perfect 2': '401648', 'Mad Skills BMX 2': '29940', 'MediaFire': '71432', 'BV Rando': '0', 'CD Music': '1', 'Read books online': '91615', 'Name Art DP - Focus n Filter Text 2018': '132', 'Love Signal: D-Mate': '1895', 'Dino in City-Dinosaur N Police': '10035', 'MyWoundDoctor - Provider': '0', 'Mobile Number Tracker': '19758', 'RT News (Russia Today)': '56524', 'Offroad drive : 4x4 driving game': '2071', 'Hiya - Caller ID & Block': '177703', 'Tasker': '43045', 'Axe Clicker': '10446', 'CR Calculator': '297', 'Masha and the Bear. Games for kids': '6231', 'Fly Delta': '27560', 'Endress+Hauser Operations': '234', 'Ice Crush 10.000 B.C.': '31', \"One Night at Golden Freddy's\": '2717', 'Citizens Bank Mobile Banking': '15192', 'Le Fe de Jesus': '3', 'Nemours CareConnect': '65', 'Virtual Assistant DataBot: Artificial Intelligence': '80927', 'BN Pro Roboto-b Neon HD Text': '30', 'Fantasy Football': '50179', 'Super Doctor 2 - My Newborn Baby ER Injection': '54', 'Garden Coloring Book': '13791', 'SportCAM': '427', 'edX - Online Courses by Harvard, MIT & more': '32381', 'Alfa-Bank (Alfa-Bank)': '44545', 'realestate.com.au - Buy, Rent & Sell Property': '14657', 'Learn R Language Easy Way': '17', '5 Minute Ab Workouts': '2067', 'Permit Test FL Florida DHSMV': '246', 'CV Maker': '114', 'Remote | Fire TV | Android TV | KODI | CetusPlay': '15911', 'Gas Prices (Germany only)': '805', 'Top #5 Bσσkie in AU': '0', 'AG Screen Recorder': '7', 'Santa Fe FCU Mobile Banking': '12', 'Flexiroam X': '875', 'Uber': '4928420', 'Familial Hypercholesterolaemia': '0', 'Wrinkles and rejuvenation': '182', 'DC Comics': '25673', 'STUCOR - AU': '1827', 'BZ-Digital': '4', 'لعبة تقدر تربح DZ': '238', 'Pocket Yoga': '2107', 'Lotto Results - Mega Millions Powerball Lottery US': '14221', 'OBJECTIVE': '19738', 'My Talking Angela': '9883367', 'Mobile C [ C/C++ Compiler ]': '4624', 'Etihad Airways': '3674', 'Talking Boyfriend': '1073', 'Coupons for Dairy Queen': '42', 'AK Booster': '71', 'Ghost Detector': '35337', 'Classic Words Solo': '135739', 'War and Order': '224514', 'Slickdeals: Coupons & Shopping': '33599', 'DENVER ACTION CAM 3': '66', 'Ag PhD Deficiencies': '20', 'Google Arts & Culture': '24137', 'Clash of Clans': '44893888', 'CL Pebble Apps': '67', 'BT Position Sender - Bluetooth Position Sender': '0', 'México City D.F News': '2', 'Morse Player': '12', 'ivi - movies and TV shows in HD': '684116', 'Mu.F.O.': '2', 'Learn To Draw Glow Princess': '3323', 'Motocross Motorbike Simulator Offroad': '51366', 'Priceline Hotel Deals, Rental Cars & Flights': '48930', 'Safe Wi-Fi': '32', 'Greek Bible FP (Audio)': '5', 'Board Game Stats: Play tracking for tabletop games': '275', 'JH Blood Pressure Monitor': '9', 'TravelPirates': '43054', 'Dr. Panda Art Class': '1013', 'OTOME of Ikemen cafe': '1318', 'AMM Events & CPD': '5', 'Block City Wars + skins export': '762706', 'Drink-O-Tron The Drinking Game': '140', 'Receipt Hog - Receipts to Cash': '72596', 'Peers.TV: broadcast TV channels First, Match TV, TNT ...': '141980', 'Al Quran Al karim': '41608', 'Color By Number - Sandbox Pixel Coloring Book': '24557', 'DF BugMeNot': '7', 'Zoo For Preschool Kids 3-9 Years': '76', 'DM Die Roller 9000': '0', 'StubHub - Tickets to Sports, Concerts & Events': '26089', 'Eb & flow Yoga Studio': '0', 'TappyToon Comics & Webtoons': '4205', 'Blurfoto : Auto blur photo background & DSLR focus': '2215', 'EUROBANK CY': '30', 'Access Point Names': '138', 'Elifba Quran Learning Game': '1424', 'OK cashbag [point of pleasure]': '33264', 'Depths of Betrayal CE (Full)': '363', 'Dynavix - Navigation, Maps, Traffic data & Cameras': '1688', 'Legit Check App by Ch Daniel': '66', 'Pinterest': '4305441', 'gps tracker cg': '0', 'EP Chain Reaction': '249', 'Brightest LED Flashlight': '60571', 'Banana Kong': '3452530', 'AE Spider Solitaire': '17263', 'DZ Fly Algérie Horaire Vols': '114', 'Stickman and Axe': '69', 'Super Doctor 1-Pregnant Mom ER Surgery Simulator': '290', 'Frequencies': '11', 'X Browser': '142', 'ET Markets : NSE & BSE India': '24980', 'Discover Color': '364', 'Guess the Class 🔥 AQW': '57', 'Restaurant Inspections - FL': '143', 'Smart Wi-Fi Hotspot PRO': '197', 'BI Barcode Scanner': '0', 'Super Slime Blitz - Gumball': '5395', 'Picture Grid Builder': '33439', 'H!LooK - Dating': '46', 'WeFi - Free Fast WiFi Connect & Find Wi-Fi Map': '13469', 'Arizona DMV Permit Test - AZ': '109', 'Ghost Snap AR Horror Survival': '898', 'Journey - Diary, Journal': '50338', 'N+ News Bulgaria': '2', 'SMS Au revoir': '17', 'Denis Brogniart - AH !': '2931', 'FR: My Secret Pets! ': '785', 'Human Anatomy Atlas 2018: Complete 3D Human Body': '2923', 'EU Data Protection': '29', 'Radarbot Free: Speed Camera Detector & Speedometer': '44348', 'BJ Toys': '55', 'Free Cam Girls - Live Webcam': '35', 'Big Days - Events Countdown': '39724', 'Sentin Information Map': '2909', 'HTC Service － DLNA': '3484', 'R. Physics Puzzle Game': '5369', 'SKOUT - Meet, Chat, Go Live': '1064076', 'eChallan Andhra Pradesh (AP)': '5', 'Eyeliner step by step 2018': '18', 'Epson iPrint': '108169', 'BG Monitor Diabetes Pro': '87', 'Florida DMV Permit Test -Fl': '87', 'Detect-O-Gromit (D.O.G 2)': '45', 'Trulia Mortgage Calculators': '81', 'HD Video Download for Facebook': '20755', 'BG Middle East': '1', 'FRONTLINE COMMANDO: D-DAY': '1736105', 'Single Parent Meet #1 Dating': '2593', 'Intesa Sanpaolo Mobile': '35518', 'Weather & Clock Widget for Android': '2371543', 'Bridge-C - Get More Storage': '24', 'Lord Fairfax EMS Council': '0', 'Daddyhunt: Gay Dating': '6450', 'DSLR Photography Training apps': '675', 'Pregnancy Calculator and Tracker app': '69126', 'DS Companion': '0', 'Luxy Pro- Elite Dating Single': '742', 'COPD GOLD 2017': '5', 'Moto Display': '18239', '24/7 BZ Reis': '421', 'DG OFF - 100% Free Coupons & Deals': '1', 'sustainability@BU': '10', 'BC Camera': '5', 'iLocker X - iOS11 Lockscreen with HD Wallpapers': '1714', 'CE Intelligence': '0', 'Block Battles: Heroes at War - Multiplayer PVP': '6698', 'HumorCast - Authentic Weather': '6495', 'House app: beautiful everyday ~': '2669', 'Meet4U - Chat, Love, Singles!': '40039', 'Samsung Video Library': '25922', 'Free Blood Pressure': '7', 'Checkout 51: Grocery coupons': '52896', 'All Events in City': '3782', 'Virtual DJ Sound Mixer': '4010', 'Florida Map offline': '8', 'Masha and the Bear. Educational Games': '46369', 'CALCU™ Stylish Calculator Free': '152692', 'Photo Collage Maker': '751766', 'YouTube Kids': '470713', 'Toon Blast': '1351771', 'Flame - درب عقلك يوميا': '56065', 'Mahalaxmi Dindarshika 2018': '25427', 'Automagic * Automation': '1947', 'Shoot Em Down Free': '2850', 'Muscle Premium - Human Anatomy, Kinesiology, Bones': '168', 'BMX Boy Bike Stunt Rider Game': '299', 'The Grand Way': '1995', 'Draw Color by Number - Sandbox Pixel Art': '34279', 'Soccer Board Tactics': '6231', 'Fitness Dance for Zum.ba Workout Exercise': '287', 'Fandom: Five Nights at Freddys': '17945', 'Mirk V Launcher Theme': '292', 'Betting Tips / Sports Tips by CG Tipster': '315', 'Dead Zombie Evil Killer:Axe': '71', 'DQ Akses': '0', 'HD Video Player - Video & MP3 Player | AV Player |': '22', 'Fresh EBT - Food Stamp Balance': '19870', 'Marvel Unlimited': '22551', 'Basic Strategy Training BJ 21': '0', 'CA Service Management': '91', 'HauteLook': '7193', 'Cover Fire: offline shooting games for free': '725897', 'Dr. Rocket': '42182', 'Palace Pets in Whisker Haven': '47213', 'Bitcoin BX Thailand': '120', 'Super Ear': '3498', 'PROFESSOR SEE-BA LINGUAGENS E SUAS TECNOLOGIAS': '0', 'English for beginners': '9321', 'Funny Alarm Clock Ringtones': '15633', 'Assemblr - Create 3D Models (Sandbox AR)': '1745', 'TouchNote: Cards & Gifts': '19232', 'Pedometer': '400592', 'Málaga CF Wallpapers 4 Fans': '2', 'XXX DISTILLERY': '509', 'M-acceleration 3D Car Racing': '1202', 'Case Simulator Hero for CS:GO': '14604', 'L!FE Premium Training': '2', 'Formula Cartoon All Stars': '1213', 'World at War: WW2 Strategy MMO': '107765', 'Samsung Health': '480208', 'Magic Tiles 3': '592504', \"Five Nights at Freddy's 4 Demo\": '889425', 'Bk Usha behn': '10', 'AP Biology Prep: Practice Tests, Flashcards': '87', 'ABC Preschool Free': '27572', 'Fr Ignacio Outreach': '52', 'Nights Keeper (do not disturb)': '16426', 'Google Fit - Fitness Tracking': '249855', 'CP Parquet': '2', 'My Movies Pro - Movie & TV Collection Library': '6477', 'Denis Brogniart - AH 2 !': '4', 'VZ Navigator for Galaxy S4': '2750', 'Dead Target Zombie Shooting US Sniper Killer Squad': '240', 'Hitman GO': '84114', 'Ek Vote': '43', 'Ay Mohabbat Teri Khatir Novel': '27', 'Free Professional Resume Builder, CV, Cover Letter': '831', 'Skull Widget BW': '4', 'Dollar General - Digital Coupons, Ads And More': '16678', 'AJ+ Beta': '0', 'Dress Up RagazzA13 DX': '13', 'AdventureQuest Dragons': '10114', 'Meet24 - Love, Chat, Singles': '57083', 'Bullet Force': '634159', 'TripIt: Travel Organizer': '49190', 'Video.Guru - Video Maker': '36969', 'Z App': '405', 'DH UFO': '4', 'CE BF': '0', 'Jewels classic Prince': '47644', 'Z City': '3976', 'CQ Key': '0', 'Daum Mail - Next Mail': '41420', '7 Weeks - Habit & Goal Tracker': '6011', 'Dreamland Arcade - Steven Universe': '6386', 'No.Draw - Colors by Number 2018': '235906', 'Portable Wi-Fi hotspot Premium': '481', 'FL Racing Manager 2018 Lite': '1338', 'Fuzzy Seasons: Animal Forest': '12137', 'Fon WiFi App – WiFi Connect': '222', 'Be My Princess: PARTY': '9443', '5-Minute Clinical Consult': '84', 'Block Gun 3D: Ghost Ops': '142693', 'C.S. Lewis Daily Quotes': '75', 'CF Invest': '11', 'Docs To Go™ Free Office Suite': '217730', 'cPro Marketplace: Buy. Sell. Rent. Date. Jobs.': '385764', 'BK Gold App': '4', 'Zowi App': '516', 'Candy Smash': '11436', 'Super Funny Ringtones 2018 🔔': '1703', 'Electric Car Charging Points: Ev charger Stations': '8', 'Tickets + PDA 2018 Exam': '197136', 'EGW Writings': '24278', 'Nova Launcher': '1121805', 'Hopper - Watch & Book Flights': '52029', 'QuickShortcutMaker': '41000', 'BD Field Force': '41', 'Photo Frame': '74476', 'Good&Co: Career match tests': '26572', 'Cartoon Wars 3': '137674', 'Firefox Browser fast & private': '3075118', 'Pocket': '256680', 'Best Western e-Concierge Hotel': '41', 'PIO bv Transport App': '0', 'cm to inches | centimeters to inches conversion': '52', 'SAP BW Tutorial': '11', 'DRAGON QUEST V': '1667', 'Hole.io': '145353', 'Tap N Pay': '253', 'Hulu: Stream TV, Movies & more': '319777', 'CNY Slots : Gong Xi Fa Cai 发财机': '33', 'FidMe Loyalty Cards & Deals at Grocery Supermarket': '33758', 'Wallpapers HD, 4K Backgrounds': '273994', 'Afterlight': '50893', 'Portal AR - Step Into Scotland': '25', 'Arabic Alif Ba Ta For Kids': '226', 'Block Strike': '947515', \"Teacher's Gradebook - Additio\": '3241', 'Make your Be Like Bill': '78', 'AZ Camera - Manual Pro Cam': '2332', 'HD Wallpapers Volvo FH Trucks': '4', 'DW Amharic by AudioNow Digital': '322', 'El Dorado App': '221', 'tökr': '17', 'Photo Collage - Layout Editor': '285788', 'Dr. Gomoku': '85317', 'Learn Body Parts in English': '7243', 'Theatre of the Absurd CE(Full)': '1143', 'TeeTime.cz': '1641', 'CB Background - Free HD Wallpaper Images': '4538', 'Izneo, Read Manga, Comics & BD': '1476', 'DJMAX TECHNIKA Q - Music Game': '21107', 'Music - Mp3 Player': '259605', 'Cute wallpapers & kawaii backgrounds images': '4724', 'Dine In CT - Food Delivery': '4', 'DW Contacts widget': '56', 'Thrive CF': '6', 'Brica BPRO5 AE': '4726', 'Simple Notepad': '12321', 'Houzz Interior Design Ideas': '353813', 'EU Flag Live Wallpaper': '19', \"Jump'N'Shoot Attack\": '155', 'AE Blackjack': '1417', 'WhatsVPN - Unlimited Free VPN': '24985', 'Grabo.bg': '8175', 'Anthem Anywhere': '2657', 'Draw a Stickman: EPIC 2 Free': '213340', 'CamScanner - Phone PDF Creator': '1502622', 'West Central Ag': '3', 'Book of AK-47': '6', 'Math Games for Pre-K - Grade 4': '28', 'CppDroid - C/C++ IDE': '29980', 'Methods of teeth whitening': '257', 'SOLEM AG': '1', 'Gun Shoot War Q': '26893', 'Themes DAF CF Trucks': '2', 'Mupen64+AE FREE (N64 Emulator)': '41759', 'FH WiFiCam': '201', 'Local Weather Forecast & Visual Widget': '3478', 'BBMoji - Your personalized BBM Stickers': '8827', 'သိင်္ Astrology - Min Thein Kha BayDin': '2225', 'Kingdoms at War: Hardcore PVP': '34898', 'Doorstep EU': '67', 'FE CREDIT - TET VUI': '125', 'FORUM Credit Union CU Online': '196', 'Synd e-Passbook': '9400', 'AT&T Call Protect': '6454', 'FreedomPop Diagnostics': '452', 'Advanced EX for FIAT': '138', 'EP Kalkulator el. energije': '13', 'Test de Inteligencia CI': '21', 'Saiyan Of CW': '5', 'Az Video Status': '13', 'U+Box': '24517', 'B-L Animal Hospital': '1', 'Grab Driver': '301413', 'VH1': '27424', 'Mopar Drag N Brag': '30630', 'HTC Sense Input-LV': '59', 'My Horse': '1333338', 'EXOGEN Connects (US)': '0', 'Micro Fi': '39', 'LOVOO': '852455', 'Web Browser ( Fast & Secure Web Explorer)': '2508', 'FRANCE 24': '47069', 'Job CV Maker-Portfolio Maker , Resume Maker': '139', 'Permit Test AZ Arizona MVD DOT': '227', 'JNews DZ - Algerian Newspapers': '146', 'VisualCV Resume Builder': '2555', 'N Launcher - Nougat 7.0': '32597', 'Axe Champion': '21', 'Open Camera': '116880', 'Homesnap Real Estate & Rentals': '3834', 'League of Gamers - Be an E-Sports Legend!': '68072', 'Jurassic World™ Alive': '309176', 'Bg Radios - Bulgarian radio stations online': '8', 'BK Formula Calculator 2': '4', 'Disciple Maker’s (DM) Lab': '3', 'Bubble Shooter Space': '4355', 'Chronolink DX': '7', 'Messenger L SMS, MMS': '6263', \"DR Sebi's Alkaline List\": '68', 'J Dark Ice Substratum Theme': '164', 'DF 司機': '9', 'Mike V: Skateboard Party PRO': '2506', 'Be Fabulous PHOTO BOOTH': '560', 'aCalendar+ Calendar & Tasks': '26919', 'Predator Calls for Hunting AU': '27', 'Aviary Stickers: Free Pack': '126862', 'My Emma :)': '245839', 'Bodyworks DW': '0', 'The Noise-O-Meter': '1699', 'Download Manager For Android Free': '593', 'Third Eye': '19877', 'Ain Arabic Kids Alif Ba ta': '0', 'Dp for Facebook': '56', 'Dp For WhatsApp': '1623', 'DK Primrose for KLWP': '0', 'Angry Birds Friends': '829753', 'Apk Installer': '7750', 'Inside Out Thought Bubbles': '623398', 'EP Spotter': '9', 'AS - News and sports results.': '20879', 'BT Controller': '4374', 'BG Cricket': '6', 'DW Missed call cleaner patch': '65', 'Makeup Videos': '9', 'Homework Planner': '2525', 'All Info about Cg': '15', 'Cisco Webex Meetings': '108741', 'Sabbath School': '28237', 'Battle Result Predictor for CR': '7063', 'Eyewitness Travel Phrase Book': '10', 'Postings (Craigslist Search App)': '151095', 'J Touch': '2176', 'Starbucks': '455496', 'Equestria Amino for MLP': '8369', 'Pixlr-o-matic': '180697', 'FH Dortmund FB4': '40', 'CT Brain Interpretation': '3', 'Ambulance Rescue Simulator 17': '6669', 'Family convenience store FamilyMart': '9663', '420 BZ Budeze Delivery': '2', 'Texas HoldEm Poker Deluxe': '396090', 'H letter images': '17', 'KBA-EZ Health Guide': '4', 'Foursquare City Guide': '483960', \"Guns'n'Glory Zombies Premium\": '313', 'Elmo Calls by Sesame Street': '6903', 'Abs Training-Burn belly fat': '2071', 'Nedir Bu ?': '0', 'English Conversation Courses': '22165', 'Airway Ex - Intubate. Anesthetize. Train.': '123', 'Smart TV Remote': '81747', 'BlackJack -21 Casino Card Game': '2066', 'BeyondMenu Food Delivery': '51543', 'My Days - Ovulation Calendar & Period Tracker ™': '93691', 'Arrowhead AH App': '3', 'AE Solitaire': '1776', 'Cloud DX Connected Health': '6', 'English To Shona Dictionary': '60', 'Lab Values + Medical Reference': '133', 'IHG®: Hotel Deals & Rewards': '18622', 'AKASO DV': '99', 'SMHI Weather': '11297', 'Free Panda Radio Music': '418', 'CJ WOW SHOP': '2099', 'P9 Launcher - Android™ 9.0 P Launcher Style': '1162', 'How To Get Your Ex Back Fast': '22', 'Dashlane Free Password Manager': '73695', 'Norton Security and Antivirus': '1170641', 'Battlefield™ Companion': '263907', 'T-Mobile DIGITS': '1820', 'CD COMET': '12', 'Free Wi-fi HotspoT': '382', 'DP and Status': '623', '2018Emoji Keyboard 😂 Emoticons Lite -sticker&gif': '115773', 'Grand Theft Auto: San Andreas': '348962', 'BA SALES': '0', 'Spanish English Translator': '87919', 'LEGO® Friends: Heartlake Rush': '23671', 'BH Mission Playbook': '0', 'Calculator L': '2965', 'California Cop Assist CA Cop': '5', 'DG Coupon': '668', 'Raytheon F-16 EW 360 VR': '6', 'AZ Plugin 2 (newest)': '11087', \"CD Roma's\": '2', 'EF Universe: Endless Battle': '5', 'EO Network': '13', 'EZ Utilities Extension': '33', 'FG VOC': '6', 'Race the Traffic Moto': '270687', 'Kids Learn Languages by Mondly': '2078', 'G-REMOTE': '30', 'INFAMY RO': '2167', 'Jaumo Dating, Flirt & Live Video': '900064', 'TAXLANDIA': '141', 'BC Slots - The Lost Reels FREE': '209', 'BW eServices': '1', 'Voice Changer': '138050', 'EML UPnP-AV Control Point': '78', 'Dr Driving Racer': '183', 'Homescapes': '3093932', 'Anti Adware': '18751', 'Security Master - Antivirus, VPN, AppLock, Booster': '24900999', 'Noticias DF': '2', 'AP Manager': '177', 'cronometer (ad free)': '1075', 'British Columbia License': '14', 'Low Poly – Puzzle art game': '23063', \"Get 'Em\": '7904', 'Fr Daoud Lamei': '2036', 'Combat Strike CS 🔫 Counter Terrorist Attack FPS💣': '1019', 'Blagues et Histoires Drôles': '859', 'Dragon BZ Wallpapers HD': '5', 'Keep Trainer - Workout Trainer & Fitness Coach': '14810', 'Morse Machine for Ham Radio': '341', 'CE-SETRAM l’Appli': '0', 'My Day - Countdown Calendar \\U0001f5d3️': '49147', 'Meet U - Get Friends for Snapchat, Kik & Instagram': '4435', 'MJX H': '126', 'Asphalt Xtreme: Rally Racing': '567984', 'AD - News, Sports, Region & Entertainment': '10382', 'Piano Tiles 2™': '8118880', '9GAG: Funny Gifs, Pics, Memes & Videos for IGTV': '1450632', 'BQ Scanner': '2', 'BJ Bridge Standard American 2018': '1', 'iFunny :)': '503757', 'FINAL FANTASY V': '15924', '[EF]ShoutBox': '3', 'DP Photo Editor': '88', \"Poker Live! 3D Texas Hold'em\": '6143', 'Video Status': '6685', 'Majestic Cinema CI': '45', 'Files To SD Card Pro': '994', 'Business Intelligence & Data': '7', 'CB Trader': '11', 'Egg': '72', 'Digital Clock : Simple, Tiny, Ad-free Desk Clock.': '317', 'FK Teplice': '2', 'Soul Mate': '0', 'Wallpapers FN FAL Light Automatic Rifle': '0', 'FlipaClip - Cartoon animation': '194216', 'FJ 4x4 Cruiser Offroad Driving': '3543', '2017 EMRA Antibiotic Guide': '12', 'Battery Notifier Pro BT': '1363', 'Patook - make platonic friends': '3677', 'HON. B.J. ACS COLLEGE ALE': '3', 'Asahi Shimbun Digital': '735', 'Dude Perfect': '97', 'iHoroscope - 2018 Daily Horoscope & Astrology': '398307', 'OpenRice': '14952', 'AE Garage': '64', 'Animated Photo Editor': '203', 'Secure Folder': '14760', 'Voice Tables - no internet': '970', 'Zombie Defense': '275048', 'Cops N Robbers': '37789'}\n"
     ]
    },
    {
     "data": {
      "text/plain": [
       "9659"
      ]
     },
     "execution_count": 7,
     "metadata": {},
     "output_type": "execute_result"
    }
   ],
   "source": [
    "reviews_max = {}\n",
    "\n",
    "for app in android_apps:\n",
    "    name = app[0]\n",
    "    n_reviews = app[3]\n",
    "    if name in reviews_max and reviews_max[name] < n_reviews:\n",
    "        reviews_max[name] = n_reviews\n",
    "        \n",
    "    elif name not in reviews_max:\n",
    "        reviews_max[name] = n_reviews\n",
    "        \n",
    "print(reviews_max)\n",
    "len(reviews_max)"
   ]
  },
  {
   "cell_type": "markdown",
   "metadata": {},
   "source": [
    "In one of the previous code cells, we found that there are 1,181 cases where an app occurs more than once, so the length of our dictionary (of unique apps) should be equal to the difference between the length of our data set and 1,181."
   ]
  },
  {
   "cell_type": "code",
   "execution_count": 8,
   "metadata": {
    "collapsed": false
   },
   "outputs": [
    {
     "name": "stdout",
     "output_type": "stream",
     "text": [
      "Expected length: 9659\n",
      "Actual length: 9659\n"
     ]
    }
   ],
   "source": [
    "print('Expected length:', len(android_apps) - 1181)\n",
    "print('Actual length:', len(reviews_max))"
   ]
  },
  {
   "cell_type": "markdown",
   "metadata": {},
   "source": [
    "By using the dictionary created above, we are now going to remove duplicated rows. \n",
    "Let's start it by creating two empty lists: android_clean (which will store our new cleaned data set) and already_added (which will store app names)."
   ]
  },
  {
   "cell_type": "code",
   "execution_count": 9,
   "metadata": {
    "collapsed": false
   },
   "outputs": [],
   "source": [
    "android_clean = []\n",
    "already_added = []\n",
    "\n",
    "for app in android_apps:\n",
    "    name = app[0]\n",
    "    n_reviews = app[3]\n",
    "    \n",
    "    if (n_reviews == reviews_max[name]) and (name not in already_added):\n",
    "        android_clean.append(app)\n",
    "        already_added.append(name)\n",
    "        "
   ]
  },
  {
   "cell_type": "markdown",
   "metadata": {},
   "source": [
    "In the code above:\n",
    "\n",
    "- We looped through the Google Play data set and isolated the name of apps (name) and apps reviews (n_reviews).\n",
    "\n",
    "- We added the current row (app) to the android_clean list and the app name (name) to the already_clean list if:\n",
    " - The number of reviews of the current app coincides with the number of reviews of that app in the reviews_max dictionary; and\n",
    " - The name of the app is not already in the already_added list. **We need to add this supplementary condition for those cases where the highest number of reviews of duplicate apps is the same for more than one entry (for example, the Box app has three entries, and the number of reviews is the same). If we just check for reviews_max[name] == n_reviews, we'll still end up with duplicate entries for some apps."
   ]
  },
  {
   "cell_type": "markdown",
   "metadata": {},
   "source": [
    "Let's now explore our cleaned data set. The data set should have 9659 rows."
   ]
  },
  {
   "cell_type": "code",
   "execution_count": 10,
   "metadata": {
    "collapsed": false
   },
   "outputs": [
    {
     "name": "stdout",
     "output_type": "stream",
     "text": [
      "['Photo Editor & Candy Camera & Grid & ScrapBook', 'ART_AND_DESIGN', '4.1', '159', '19M', '10,000+', 'Free', '0', 'Everyone', 'Art & Design', 'January 7, 2018', '1.0.0', '4.0.3 and up']\n",
      "\n",
      "\n",
      "Number of rows:  9659\n",
      "Number of columns:  13\n",
      "['U Launcher Lite – FREE Live Cool Themes, Hide Apps', 'ART_AND_DESIGN', '4.7', '87510', '8.7M', '5,000,000+', 'Free', '0', 'Everyone', 'Art & Design', 'August 1, 2018', '1.2.4', '4.0.3 and up']\n",
      "\n",
      "\n",
      "Number of rows:  9659\n",
      "Number of columns:  13\n",
      "['Sketch - Draw & Paint', 'ART_AND_DESIGN', '4.5', '215644', '25M', '50,000,000+', 'Free', '0', 'Teen', 'Art & Design', 'June 8, 2018', 'Varies with device', '4.2 and up']\n",
      "\n",
      "\n",
      "Number of rows:  9659\n",
      "Number of columns:  13\n"
     ]
    }
   ],
   "source": [
    "explore_data(android_clean, 0, 3, rows_and_columns = True)"
   ]
  },
  {
   "cell_type": "markdown",
   "metadata": {},
   "source": [
    "By exploring the Google Play data set, we see that we have 9659 number of rows, just as we expected. "
   ]
  },
  {
   "cell_type": "markdown",
   "metadata": {},
   "source": [
    "### Removing Non-English Apps\n",
    "\n",
    "#### Part One\n",
    "\n",
    "Since we are a company that only builds apps that are directed toward an English-speaking audience, we want to detect only English apps and analyze them. One way to do this is to remove each app whose name contains a symbol that is not commonly used in English text — English text usually includes letters from the English alphabet, numbers composed of digits from 0 to 9, punctuation marks (., !, ?, ;, etc.), and other symbols (+, *, /, etc.).\n",
    "\n",
    "All these characters that are specific to English texts are encoded using the ASCII standard. Each ASCII character has a corresponding number between 0 and 127 associated with it, and we can take advantage of that to build a function that checks an app name and tells us whether it contains non-ASCII characters. "
   ]
  },
  {
   "cell_type": "code",
   "execution_count": 11,
   "metadata": {
    "collapsed": false
   },
   "outputs": [],
   "source": [
    "def check_app_name(app_name):\n",
    "    for character in app_name:\n",
    "        if ord(character) > 127:\n",
    "            return False\n",
    "        \n",
    "    return True"
   ]
  },
  {
   "cell_type": "code",
   "execution_count": 12,
   "metadata": {
    "collapsed": false
   },
   "outputs": [
    {
     "name": "stdout",
     "output_type": "stream",
     "text": [
      "True\n",
      "False\n",
      "False\n",
      "False\n"
     ]
    }
   ],
   "source": [
    "print(check_app_name('Instagram'))\n",
    "print(check_app_name('爱奇艺PPS -《欢乐颂2》电视剧热播'))\n",
    "print(check_app_name('Docs To Go™ Free Office Suite'))\n",
    "print(check_app_name('Instachat 😜'))"
   ]
  },
  {
   "cell_type": "markdown",
   "metadata": {},
   "source": [
    "In the output above, we see that our function couldn't correctly identify certain English app names like Docs To Go™ Free Office Suite and Instachat 😜.  This is because of emojis and characters like ™ fall outside the ASCII standard.\n",
    "\n",
    "Now, we want to minimize the impact of valuable data loss, so we'll make a function that will remove an app if its name has more than three characters with corresponding numbers falling outside the ASCII range."
   ]
  },
  {
   "cell_type": "code",
   "execution_count": 13,
   "metadata": {
    "collapsed": true
   },
   "outputs": [],
   "source": [
    "def check_app_name(app_name):\n",
    "    non_ascii = 0\n",
    "    \n",
    "    for character in app_name:\n",
    "        if ord(character) > 127:\n",
    "            non_ascii += 1 \n",
    "            \n",
    "    if non_ascii <= 3:\n",
    "        return True\n",
    "    else:\n",
    "        return False "
   ]
  },
  {
   "cell_type": "code",
   "execution_count": 14,
   "metadata": {
    "collapsed": false
   },
   "outputs": [
    {
     "name": "stdout",
     "output_type": "stream",
     "text": [
      "True\n",
      "True\n",
      "False\n"
     ]
    }
   ],
   "source": [
    "print(check_app_name('Docs To Go™ Free Office Suite'))\n",
    "print(check_app_name('Instachat 😜'))\n",
    "print(check_app_name('爱奇艺PPS -《欢乐颂2》电视剧热播'))"
   ]
  },
  {
   "cell_type": "markdown",
   "metadata": {},
   "source": [
    "This function is still not perfect but at this point of analyze it seem good enough."
   ]
  },
  {
   "cell_type": "markdown",
   "metadata": {},
   "source": [
    "#### Part Two"
   ]
  },
  {
   "cell_type": "markdown",
   "metadata": {},
   "source": [
    "Below we are going to filter out non-English apps from both data sets with check_app_name function. If an app name is identified as English, we'll append the whole row to a separate list."
   ]
  },
  {
   "cell_type": "code",
   "execution_count": 15,
   "metadata": {
    "collapsed": false
   },
   "outputs": [],
   "source": [
    "english_android = []\n",
    "english_iOS = []\n",
    "\n",
    "for row in android_clean:\n",
    "    name = row[0]\n",
    "    if check_app_name(name):\n",
    "        english_android.append(row)\n",
    "        \n",
    "for row in iOS_apps:\n",
    "    name = row[1]\n",
    "    if check_app_name(name):\n",
    "        english_iOS.append(row)\n"
   ]
  },
  {
   "cell_type": "code",
   "execution_count": 16,
   "metadata": {
    "collapsed": false
   },
   "outputs": [
    {
     "name": "stdout",
     "output_type": "stream",
     "text": [
      "['Photo Editor & Candy Camera & Grid & ScrapBook', 'ART_AND_DESIGN', '4.1', '159', '19M', '10,000+', 'Free', '0', 'Everyone', 'Art & Design', 'January 7, 2018', '1.0.0', '4.0.3 and up']\n",
      "\n",
      "\n",
      "Number of rows:  9614\n",
      "Number of columns:  13\n",
      "['U Launcher Lite – FREE Live Cool Themes, Hide Apps', 'ART_AND_DESIGN', '4.7', '87510', '8.7M', '5,000,000+', 'Free', '0', 'Everyone', 'Art & Design', 'August 1, 2018', '1.2.4', '4.0.3 and up']\n",
      "\n",
      "\n",
      "Number of rows:  9614\n",
      "Number of columns:  13\n",
      "['Sketch - Draw & Paint', 'ART_AND_DESIGN', '4.5', '215644', '25M', '50,000,000+', 'Free', '0', 'Teen', 'Art & Design', 'June 8, 2018', 'Varies with device', '4.2 and up']\n",
      "\n",
      "\n",
      "Number of rows:  9614\n",
      "Number of columns:  13\n",
      "['Pixel Draw - Number Art Coloring Book', 'ART_AND_DESIGN', '4.3', '967', '2.8M', '100,000+', 'Free', '0', 'Everyone', 'Art & Design;Creativity', 'June 20, 2018', '1.1', '4.4 and up']\n",
      "\n",
      "\n",
      "Number of rows:  9614\n",
      "Number of columns:  13\n",
      "['Paper flowers instructions', 'ART_AND_DESIGN', '4.4', '167', '5.6M', '50,000+', 'Free', '0', 'Everyone', 'Art & Design', 'March 26, 2017', '1.0', '2.3 and up']\n",
      "\n",
      "\n",
      "Number of rows:  9614\n",
      "Number of columns:  13\n",
      "['284882215', 'Facebook', '389879808', 'USD', '0.0', '2974676', '212', '3.5', '3.5', '95.0', '4+', 'Social Networking', '37', '1', '29', '1']\n",
      "\n",
      "\n",
      "Number of rows:  6183\n",
      "Number of columns:  16\n",
      "['389801252', 'Instagram', '113954816', 'USD', '0.0', '2161558', '1289', '4.5', '4.0', '10.23', '12+', 'Photo & Video', '37', '0', '29', '1']\n",
      "\n",
      "\n",
      "Number of rows:  6183\n",
      "Number of columns:  16\n",
      "['529479190', 'Clash of Clans', '116476928', 'USD', '0.0', '2130805', '579', '4.5', '4.5', '9.24.12', '9+', 'Games', '38', '5', '18', '1']\n",
      "\n",
      "\n",
      "Number of rows:  6183\n",
      "Number of columns:  16\n",
      "['420009108', 'Temple Run', '65921024', 'USD', '0.0', '1724546', '3842', '4.5', '4.0', '1.6.2', '9+', 'Games', '40', '5', '1', '1']\n",
      "\n",
      "\n",
      "Number of rows:  6183\n",
      "Number of columns:  16\n",
      "['284035177', 'Pandora - Music & Radio', '130242560', 'USD', '0.0', '1126879', '3594', '4.0', '4.5', '8.4.1', '12+', 'Music', '37', '4', '1', '1']\n",
      "\n",
      "\n",
      "Number of rows:  6183\n",
      "Number of columns:  16\n"
     ]
    }
   ],
   "source": [
    "explore_data(english_android, 0, 5, True)\n",
    "explore_data(english_iOS, 0, 5, True)"
   ]
  },
  {
   "cell_type": "markdown",
   "metadata": {},
   "source": [
    "We left with 9614 Android apps and 6183 iOS apps."
   ]
  },
  {
   "cell_type": "markdown",
   "metadata": {},
   "source": [
    "### Isolating the Free Apps\n",
    "\n",
    "How we mentioned before, our company only builds apps that are free to download and install. Our data sets contain both, free and non-free apps, and we'll need to isolate only the free apps for our analysis.\n",
    "\n",
    "This step is our last step in the data cleaning process."
   ]
  },
  {
   "cell_type": "code",
   "execution_count": 17,
   "metadata": {
    "collapsed": false
   },
   "outputs": [],
   "source": [
    "free_android_apps = []\n",
    "non_free_android_apps = []\n",
    "free_iOS_apps = []\n",
    "non_free_iOS_apps = []\n",
    "\n",
    "for row in english_android:\n",
    "    price = row[7]\n",
    "    if price == '0':\n",
    "        free_android_apps.append(row)\n",
    "    else:\n",
    "        non_free_android_apps.append(row)\n",
    "        \n",
    "for row in english_iOS:\n",
    "    price = row[4]\n",
    "    if price == '0.0':\n",
    "        free_iOS_apps.append(row)\n",
    "    else:\n",
    "        non_free_iOS_apps.append(row)\n",
    "        "
   ]
  },
  {
   "cell_type": "code",
   "execution_count": 18,
   "metadata": {
    "collapsed": false
   },
   "outputs": [
    {
     "name": "stdout",
     "output_type": "stream",
     "text": [
      "8862\n",
      "3222\n"
     ]
    }
   ],
   "source": [
    "print(len(free_android_apps))\n",
    "print(len(free_iOS_apps))"
   ]
  },
  {
   "cell_type": "markdown",
   "metadata": {},
   "source": [
    "We've left with 8862 apps from the Google Play data set and with 3222 apps from the App data set. This should be enough for our analysis."
   ]
  },
  {
   "cell_type": "markdown",
   "metadata": {},
   "source": [
    "## Data Analysis"
   ]
  },
  {
   "cell_type": "markdown",
   "metadata": {},
   "source": [
    "### Most Common Apps by Genre\n",
    "\n",
    "#### Part One\n",
    "\n",
    "As we mentioned in the introduction, we aim to determine the kinds of apps that are likely to attract more users because our revenue is highly influenced by the number of people using our apps.\n",
    "\n",
    "To minimize risks and overhead, our validation strategy for an app idea is comprised of three steps:\n",
    "\n",
    "- Build a minimal Android version of the app, and add it to Google Play.\n",
    "- If the app has a good response from users, we develop it further.\n",
    "- If the app is profitable after six months, we build an iOS version of the app and add it to the App Store.\n",
    "\n",
    "Because our end goal is to add the app on both Google Play and the App Store, we need to find app profiles that are successful in both markets.\n",
    "\n",
    "Let's begin the analysis by getting a sense of what are the most common genres for each market. For this, we'll need to build frequency tables for the prime_genre column of the App data set, and the Genres and Category columns of the Google Play data set."
   ]
  },
  {
   "cell_type": "markdown",
   "metadata": {},
   "source": [
    "#### Part Two\n",
    "\n",
    "We'll build two functions which we can use to analyze the frequency tables:\n",
    "\n",
    "- One function to generate frequency tables that show percentages\n",
    "- Another function that we can use to display the percentages in a descending order"
   ]
  },
  {
   "cell_type": "code",
   "execution_count": 19,
   "metadata": {
    "collapsed": true
   },
   "outputs": [],
   "source": [
    "def freq_table(dataset, index):\n",
    "    table_frequency = {}\n",
    "    total = 0\n",
    "    \n",
    "    for row in dataset:\n",
    "        total += 1\n",
    "        value = row[index]\n",
    "        if value in table_frequency:\n",
    "            table_frequency[value] += 1\n",
    "        else:\n",
    "            table_frequency[value] = 1\n",
    "            \n",
    "    table_percentage = {}\n",
    "    for key in table_frequency:\n",
    "        percentage = (table_frequency[key] / total) * 100\n",
    "        table_percentage[key] = percentage\n",
    "        \n",
    "    return table_percentage\n",
    "\n",
    "def display_table_in_order(dataset, index):\n",
    "    table = freq_table(dataset, index)\n",
    "    percentage_display = []\n",
    "    \n",
    "    for key in table:\n",
    "        key_val_as_tuple = (table[key], key)\n",
    "        percentage_display.append(key_val_as_tuple)\n",
    "        \n",
    "    table_sorted = sorted(percentage_display, reverse = True)\n",
    "    for entry in table_sorted:\n",
    "        print(entry[1], ':', entry[0])\n",
    "        \n",
    "        "
   ]
  },
  {
   "cell_type": "markdown",
   "metadata": {},
   "source": [
    "#### Part Three\n",
    "\n",
    "Let's start by examining the frequency table for the prime_genre column of the App Store data set. "
   ]
  },
  {
   "cell_type": "code",
   "execution_count": 20,
   "metadata": {
    "collapsed": false
   },
   "outputs": [
    {
     "name": "stdout",
     "output_type": "stream",
     "text": [
      "Games : 58.16263190564867\n",
      "Entertainment : 7.883302296710118\n",
      "Photo & Video : 4.9658597144630665\n",
      "Education : 3.662321539416512\n",
      "Social Networking : 3.2898820608317814\n",
      "Shopping : 2.60707635009311\n",
      "Utilities : 2.5139664804469275\n",
      "Sports : 2.1415270018621975\n",
      "Music : 2.0484171322160147\n",
      "Health & Fitness : 2.0173805090006205\n",
      "Productivity : 1.7380509000620732\n",
      "Lifestyle : 1.5828677839851024\n",
      "News : 1.3345747982619491\n",
      "Travel : 1.2414649286157666\n",
      "Finance : 1.1173184357541899\n",
      "Weather : 0.8690254500310366\n",
      "Food & Drink : 0.8069522036002483\n",
      "Reference : 0.5586592178770949\n",
      "Business : 0.5276225946617008\n",
      "Book : 0.4345127250155183\n",
      "Navigation : 0.186219739292365\n",
      "Medical : 0.186219739292365\n",
      "Catalogs : 0.12414649286157665\n"
     ]
    }
   ],
   "source": [
    "display_table_in_order(free_iOS_apps, -5)"
   ]
  },
  {
   "cell_type": "markdown",
   "metadata": {},
   "source": [
    "As we see, the App Store has 58% game apps. Entertainment apps are close to 8%, followed by photo and video apps, which are close to 5%. Only 3.66% of apps are built for education, followed by apps for social networking, which has a 3.2% amount of our data set. \n",
    "\n",
    "The general impression is that App Store (at least the part containing free English apps) is dominated by apps that are designed for fun (games, entertainment, photo and video, social networking, sports, music, etc.), while apps with practical purposes (education, shopping, utilities, productivity, lifestyle, finance, etc.) are rarer. However, the fact that fun apps are the most numerous doesn't also imply that they also have the greatest number of users — the demand might not be the same as the offer.\n",
    "\n",
    "Let's continue by examining the Genres and Category columns of the Google Play data set (two columns which seem to be related)."
   ]
  },
  {
   "cell_type": "code",
   "execution_count": 21,
   "metadata": {
    "collapsed": false
   },
   "outputs": [
    {
     "name": "stdout",
     "output_type": "stream",
     "text": [
      "FAMILY : 18.934777702550214\n",
      "GAME : 9.693071541412774\n",
      "TOOLS : 8.451816745655607\n",
      "BUSINESS : 4.5926427443015125\n",
      "LIFESTYLE : 3.9043105393816293\n",
      "PRODUCTIVITY : 3.8930264048747465\n",
      "FINANCE : 3.7011961182577298\n",
      "MEDICAL : 3.5206499661475967\n",
      "SPORTS : 3.39652448657188\n",
      "PERSONALIZATION : 3.3175355450236967\n",
      "COMMUNICATION : 3.238546603475513\n",
      "HEALTH_AND_FITNESS : 3.080568720379147\n",
      "PHOTOGRAPHY : 2.945159106296547\n",
      "NEWS_AND_MAGAZINES : 2.798465357707064\n",
      "SOCIAL : 2.663055743624464\n",
      "TRAVEL_AND_LOCAL : 2.335815842924848\n",
      "SHOPPING : 2.2455427668697814\n",
      "BOOKS_AND_REFERENCE : 2.143985556307831\n",
      "DATING : 1.8618821936357481\n",
      "VIDEO_PLAYERS : 1.7941773865944481\n",
      "MAPS_AND_NAVIGATION : 1.399232678853532\n",
      "FOOD_AND_DRINK : 1.2412547957571656\n",
      "EDUCATION : 1.1735499887158656\n",
      "ENTERTAINMENT : 0.9591514330850823\n",
      "LIBRARIES_AND_DEMO : 0.9365831640713158\n",
      "AUTO_AND_VEHICLES : 0.9252990295644324\n",
      "HOUSE_AND_HOME : 0.8237418190024826\n",
      "WEATHER : 0.8011735499887158\n",
      "EVENTS : 0.7109004739336493\n",
      "PARENTING : 0.6544798013992327\n",
      "ART_AND_DESIGN : 0.6431956668923494\n",
      "COMICS : 0.6206273978785828\n",
      "BEAUTY : 0.598059128864816\n"
     ]
    }
   ],
   "source": [
    "display_table_in_order(free_android_apps, 1) #Category"
   ]
  },
  {
   "cell_type": "markdown",
   "metadata": {},
   "source": [
    "The situation seems to be a little different in the Google Play data set: there are not that many apps designed for fun, and it seems that a good number of apps are designed for practical purposes (family, tools, business, lifestyle, productivity, etc.). But if we continue with the research, we'll see that the family category means mostly games for kids. \n",
    "\n",
    "Even so, practical apps seem to have a better representation in the Google Play Store compared to the App Store.\n",
    "\n",
    "Let's continue our exploration of the Genres column. "
   ]
  },
  {
   "cell_type": "code",
   "execution_count": 22,
   "metadata": {
    "collapsed": false
   },
   "outputs": [
    {
     "name": "stdout",
     "output_type": "stream",
     "text": [
      "Tools : 8.440532611148726\n",
      "Entertainment : 6.070864364703228\n",
      "Education : 5.348679756262695\n",
      "Business : 4.5926427443015125\n",
      "Productivity : 3.8930264048747465\n",
      "Lifestyle : 3.8930264048747465\n",
      "Finance : 3.7011961182577298\n",
      "Medical : 3.5206499661475967\n",
      "Sports : 3.4642292936131795\n",
      "Personalization : 3.3175355450236967\n",
      "Communication : 3.238546603475513\n",
      "Action : 3.1031369893929135\n",
      "Health & Fitness : 3.080568720379147\n",
      "Photography : 2.945159106296547\n",
      "News & Magazines : 2.798465357707064\n",
      "Social : 2.663055743624464\n",
      "Travel & Local : 2.324531708417964\n",
      "Shopping : 2.2455427668697814\n",
      "Books & Reference : 2.143985556307831\n",
      "Simulation : 2.0424283457458814\n",
      "Dating : 1.8618821936357481\n",
      "Arcade : 1.8505980591288649\n",
      "Video Players & Editors : 1.7716091175806816\n",
      "Casual : 1.7490408485669149\n",
      "Maps & Navigation : 1.399232678853532\n",
      "Food & Drink : 1.2412547957571656\n",
      "Puzzle : 1.128413450688332\n",
      "Racing : 0.9930038366057323\n",
      "Role Playing : 0.9365831640713158\n",
      "Libraries & Demo : 0.9365831640713158\n",
      "Auto & Vehicles : 0.9252990295644324\n",
      "Strategy : 0.9140148950575491\n",
      "House & Home : 0.8237418190024826\n",
      "Weather : 0.8011735499887158\n",
      "Events : 0.7109004739336493\n",
      "Adventure : 0.6770480704129994\n",
      "Comics : 0.6093432633716994\n",
      "Beauty : 0.598059128864816\n",
      "Art & Design : 0.598059128864816\n",
      "Parenting : 0.49650191830286616\n",
      "Card : 0.4400812457684496\n",
      "Casino : 0.4287971112615662\n",
      "Trivia : 0.41751297675468296\n",
      "Educational;Education : 0.3949447077409162\n",
      "Educational : 0.3723764387271496\n",
      "Board : 0.3723764387271496\n",
      "Education;Education : 0.3385240352064997\n",
      "Word : 0.2595350936583164\n",
      "Casual;Pretend Play : 0.23696682464454977\n",
      "Music : 0.2031144211238998\n",
      "Puzzle;Brain Games : 0.18054615211013314\n",
      "Racing;Action & Adventure : 0.16926201760324985\n",
      "Entertainment;Music & Video : 0.16926201760324985\n",
      "Casual;Brain Games : 0.13540961408259986\n",
      "Casual;Action & Adventure : 0.13540961408259986\n",
      "Arcade;Action & Adventure : 0.12412547957571654\n",
      "Action;Action & Adventure : 0.1015572105619499\n",
      "Educational;Pretend Play : 0.09027307605506657\n",
      "Board;Brain Games : 0.09027307605506657\n",
      "Simulation;Action & Adventure : 0.07898894154818326\n",
      "Parenting;Education : 0.07898894154818326\n",
      "Entertainment;Brain Games : 0.07898894154818326\n",
      "Parenting;Music & Video : 0.06770480704129993\n",
      "Educational;Brain Games : 0.06770480704129993\n",
      "Casual;Creativity : 0.06770480704129993\n",
      "Art & Design;Creativity : 0.06770480704129993\n",
      "Education;Pretend Play : 0.056420672534416606\n",
      "Role Playing;Pretend Play : 0.045136538027533285\n",
      "Education;Creativity : 0.045136538027533285\n",
      "Role Playing;Action & Adventure : 0.033852403520649964\n",
      "Puzzle;Action & Adventure : 0.033852403520649964\n",
      "Entertainment;Creativity : 0.033852403520649964\n",
      "Entertainment;Action & Adventure : 0.033852403520649964\n",
      "Educational;Creativity : 0.033852403520649964\n",
      "Educational;Action & Adventure : 0.033852403520649964\n",
      "Education;Music & Video : 0.033852403520649964\n",
      "Education;Brain Games : 0.033852403520649964\n",
      "Education;Action & Adventure : 0.033852403520649964\n",
      "Adventure;Action & Adventure : 0.033852403520649964\n",
      "Video Players & Editors;Music & Video : 0.022568269013766643\n",
      "Sports;Action & Adventure : 0.022568269013766643\n",
      "Simulation;Pretend Play : 0.022568269013766643\n",
      "Puzzle;Creativity : 0.022568269013766643\n",
      "Music;Music & Video : 0.022568269013766643\n",
      "Entertainment;Pretend Play : 0.022568269013766643\n",
      "Casual;Education : 0.022568269013766643\n",
      "Board;Action & Adventure : 0.022568269013766643\n",
      "Video Players & Editors;Creativity : 0.011284134506883321\n",
      "Trivia;Education : 0.011284134506883321\n",
      "Travel & Local;Action & Adventure : 0.011284134506883321\n",
      "Tools;Education : 0.011284134506883321\n",
      "Strategy;Education : 0.011284134506883321\n",
      "Strategy;Creativity : 0.011284134506883321\n",
      "Strategy;Action & Adventure : 0.011284134506883321\n",
      "Simulation;Education : 0.011284134506883321\n",
      "Role Playing;Brain Games : 0.011284134506883321\n",
      "Racing;Pretend Play : 0.011284134506883321\n",
      "Puzzle;Education : 0.011284134506883321\n",
      "Parenting;Brain Games : 0.011284134506883321\n",
      "Music & Audio;Music & Video : 0.011284134506883321\n",
      "Lifestyle;Pretend Play : 0.011284134506883321\n",
      "Lifestyle;Education : 0.011284134506883321\n",
      "Health & Fitness;Education : 0.011284134506883321\n",
      "Health & Fitness;Action & Adventure : 0.011284134506883321\n",
      "Entertainment;Education : 0.011284134506883321\n",
      "Communication;Creativity : 0.011284134506883321\n",
      "Comics;Creativity : 0.011284134506883321\n",
      "Casual;Music & Video : 0.011284134506883321\n",
      "Card;Brain Games : 0.011284134506883321\n",
      "Card;Action & Adventure : 0.011284134506883321\n",
      "Books & Reference;Education : 0.011284134506883321\n",
      "Art & Design;Pretend Play : 0.011284134506883321\n",
      "Art & Design;Action & Adventure : 0.011284134506883321\n",
      "Arcade;Pretend Play : 0.011284134506883321\n",
      "Adventure;Education : 0.011284134506883321\n"
     ]
    }
   ],
   "source": [
    "display_table_in_order(free_android_apps, -4)"
   ]
  },
  {
   "cell_type": "markdown",
   "metadata": {
    "collapsed": true
   },
   "source": [
    "Analyzing Genres column in the Google Play data set, we can see a similar situation as in the Category column. The highest percentages go to practical apps. Going further with the analysis, we couldn't see the clear difference between Category and Genres columns. Since we're now looking for a bigger picture, we'll only work with the Category column moving forward.\n",
    "\n",
    "Up to this point, we found that the App Store is dominated by apps designed for fun, while Google Play shows a more balanced landscape of both practical and for-fun apps. Now we'd like to get an idea about the kind of apps that have most users.\n"
   ]
  },
  {
   "cell_type": "markdown",
   "metadata": {
    "collapsed": true
   },
   "source": [
    "### Most Popular Apps by Genre on the App Store"
   ]
  },
  {
   "cell_type": "code",
   "execution_count": 23,
   "metadata": {
    "collapsed": false
   },
   "outputs": [
    {
     "name": "stdout",
     "output_type": "stream",
     "text": [
      "Business : 7491.117647058823\n",
      "Social Networking : 71548.34905660378\n",
      "Health & Fitness : 23298.015384615384\n",
      "Medical : 612.0\n",
      "Weather : 52279.892857142855\n",
      "Education : 7003.983050847458\n",
      "Book : 39758.5\n",
      "Shopping : 26919.690476190477\n",
      "Utilities : 18684.456790123455\n",
      "Sports : 23008.898550724636\n",
      "Finance : 31467.944444444445\n",
      "Photo & Video : 28441.54375\n",
      "Productivity : 21028.410714285714\n",
      "Lifestyle : 16485.764705882353\n",
      "Music : 57326.530303030304\n",
      "Food & Drink : 33333.92307692308\n",
      "News : 21248.023255813954\n",
      "Travel : 28243.8\n",
      "Games : 22788.6696905016\n",
      "Navigation : 86090.33333333333\n",
      "Reference : 74942.11111111111\n",
      "Catalogs : 4004.0\n",
      "Entertainment : 14029.830708661417\n"
     ]
    }
   ],
   "source": [
    "freq_genre_iOS = freq_table(free_iOS_apps, -5)\n",
    "\n",
    "for genre in freq_genre_iOS:\n",
    "    total = 0   #this variable will store the sum of user ratings specific to each genre\n",
    "    len_genre = 0 #this variable will store the number of apps in each genre\n",
    "    for app in free_iOS_apps:\n",
    "        genre_app = app[-5]\n",
    "        if genre_app == genre:\n",
    "            n_ratings = float(app[5])\n",
    "            total += n_ratings\n",
    "            len_genre += 1\n",
    "            \n",
    "    avg_ratings = total / len_genre\n",
    "    print(genre, ':', avg_ratings)\n",
    "    \n",
    "            "
   ]
  },
  {
   "cell_type": "markdown",
   "metadata": {},
   "source": [
    "We see that genres with the most users are: Navigation (86090.3), Reference (74942.1) and Social Networking (71548.3). \n",
    "\n",
    "Let's proceed with further analysis."
   ]
  },
  {
   "cell_type": "code",
   "execution_count": 24,
   "metadata": {
    "collapsed": false,
    "scrolled": true
   },
   "outputs": [
    {
     "name": "stdout",
     "output_type": "stream",
     "text": [
      "Waze - GPS Navigation, Maps & Real-time Traffic : 345046\n",
      "Google Maps - Navigation & Transit : 154911\n",
      "Geocaching® : 12811\n",
      "CoPilot GPS – Car Navigation & Offline Maps : 3582\n",
      "ImmobilienScout24: Real Estate Search in Germany : 187\n",
      "Railway Route Search : 5\n"
     ]
    }
   ],
   "source": [
    "for app in free_iOS_apps:\n",
    "    if app[-5] == 'Navigation':\n",
    "        print(app[1], ':', app[5]) #print name and number of ratings"
   ]
  },
  {
   "cell_type": "markdown",
   "metadata": {},
   "source": [
    "The average number of navigation apps is heavily influenced by a few giants like Waze and Google Maps. "
   ]
  },
  {
   "cell_type": "code",
   "execution_count": 25,
   "metadata": {
    "collapsed": false
   },
   "outputs": [
    {
     "name": "stdout",
     "output_type": "stream",
     "text": [
      "Bible : 985920\n",
      "Dictionary.com Dictionary & Thesaurus : 200047\n",
      "Dictionary.com Dictionary & Thesaurus for iPad : 54175\n",
      "Google Translate : 26786\n",
      "Muslim Pro: Ramadan 2017 Prayer Times, Azan, Quran : 18418\n",
      "New Furniture Mods - Pocket Wiki & Game Tools for Minecraft PC Edition : 17588\n",
      "Merriam-Webster Dictionary : 16849\n",
      "Night Sky : 12122\n",
      "City Maps for Minecraft PE - The Best Maps for Minecraft Pocket Edition (MCPE) : 8535\n",
      "LUCKY BLOCK MOD ™ for Minecraft PC Edition - The Best Pocket Wiki & Mods Installer Tools : 4693\n",
      "GUNS MODS for Minecraft PC Edition - Mods Tools : 1497\n",
      "Guides for Pokémon GO - Pokemon GO News and Cheats : 826\n",
      "WWDC : 762\n",
      "Horror Maps for Minecraft PE - Download The Scariest Maps for Minecraft Pocket Edition (MCPE) Free : 718\n",
      "VPN Express : 14\n",
      "Real Bike Traffic Rider Virtual Reality Glasses : 8\n",
      "教えて!goo : 0\n",
      "Jishokun-Japanese English Dictionary & Translator : 0\n"
     ]
    }
   ],
   "source": [
    "for app in free_iOS_apps:\n",
    "    if app[-5] == 'Reference':\n",
    "        print(app[1], ':', app[5])"
   ]
  },
  {
   "cell_type": "markdown",
   "metadata": {},
   "source": [
    "Reference apps have a bit more potential. Our company could take another popular book and turn it into an app. In this app, we could add an audio version of the book, quizzes about that book, some daily quotes from the book, etc."
   ]
  },
  {
   "cell_type": "code",
   "execution_count": 26,
   "metadata": {
    "collapsed": false
   },
   "outputs": [
    {
     "name": "stdout",
     "output_type": "stream",
     "text": [
      "Facebook : 2974676\n",
      "Pinterest : 1061624\n",
      "Skype for iPhone : 373519\n",
      "Messenger : 351466\n",
      "Tumblr : 334293\n",
      "WhatsApp Messenger : 287589\n",
      "Kik : 260965\n",
      "ooVoo – Free Video Call, Text and Voice : 177501\n",
      "TextNow - Unlimited Text + Calls : 164963\n",
      "Viber Messenger – Text & Call : 164249\n",
      "Followers - Social Analytics For Instagram : 112778\n",
      "MeetMe - Chat and Meet New People : 97072\n",
      "We Heart It - Fashion, wallpapers, quotes, tattoos : 90414\n",
      "InsTrack for Instagram - Analytics Plus More : 85535\n",
      "Tango - Free Video Call, Voice and Chat : 75412\n",
      "LinkedIn : 71856\n",
      "Match™ - #1 Dating App. : 60659\n",
      "Skype for iPad : 60163\n",
      "POF - Best Dating App for Conversations : 52642\n",
      "Timehop : 49510\n",
      "Find My Family, Friends & iPhone - Life360 Locator : 43877\n",
      "Whisper - Share, Express, Meet : 39819\n",
      "Hangouts : 36404\n",
      "LINE PLAY - Your Avatar World : 34677\n",
      "WeChat : 34584\n",
      "Badoo - Meet New People, Chat, Socialize. : 34428\n",
      "Followers + for Instagram - Follower Analytics : 28633\n",
      "GroupMe : 28260\n",
      "Marco Polo Video Walkie Talkie : 27662\n",
      "Miitomo : 23965\n",
      "SimSimi : 23530\n",
      "Grindr - Gay and same sex guys chat, meet and date : 23201\n",
      "Wishbone - Compare Anything : 20649\n",
      "imo video calls and chat : 18841\n",
      "After School - Funny Anonymous School News : 18482\n",
      "Quick Reposter - Repost, Regram and Reshare Photos : 17694\n",
      "Weibo HD : 16772\n",
      "Repost for Instagram : 15185\n",
      "Live.me – Live Video Chat & Make Friends Nearby : 14724\n",
      "Nextdoor : 14402\n",
      "Followers Analytics for Instagram - InstaReport : 13914\n",
      "YouNow: Live Stream Video Chat : 12079\n",
      "FollowMeter for Instagram - Followers Tracking : 11976\n",
      "LINE : 11437\n",
      "eHarmony™ Dating App - Meet Singles : 11124\n",
      "Discord - Chat for Gamers : 9152\n",
      "QQ : 9109\n",
      "Telegram Messenger : 7573\n",
      "Weibo : 7265\n",
      "Periscope - Live Video Streaming Around the World : 6062\n",
      "Chat for Whatsapp - iPad Version : 5060\n",
      "QQ HD : 5058\n",
      "Followers Analysis Tool For Instagram App Free : 4253\n",
      "live.ly - live video streaming : 4145\n",
      "Houseparty - Group Video Chat : 3991\n",
      "SOMA Messenger : 3232\n",
      "Monkey : 3060\n",
      "Down To Lunch : 2535\n",
      "Flinch - Video Chat Staring Contest : 2134\n",
      "Highrise - Your Avatar Community : 2011\n",
      "LOVOO - Dating Chat : 1985\n",
      "PlayStation®Messages : 1918\n",
      "BOO! - Video chat camera with filters & stickers : 1805\n",
      "Qzone : 1649\n",
      "Chatous - Chat with new people : 1609\n",
      "Kiwi - Q&A : 1538\n",
      "GhostCodes - a discovery app for Snapchat : 1313\n",
      "Jodel : 1193\n",
      "FireChat : 1037\n",
      "Google Duo - simple video calling : 1033\n",
      "Fiesta by Tango - Chat & Meet New People : 885\n",
      "Google Allo — smart messaging : 862\n",
      "Peach — share vividly : 727\n",
      "Hey! VINA - Where Women Meet New Friends : 719\n",
      "Battlefield™ Companion : 689\n",
      "All Devices for WhatsApp - Messenger for iPad : 682\n",
      "Chat for Pokemon Go - GoChat : 500\n",
      "IAmNaughty – Dating App to Meet New People Online : 463\n",
      "Qzone HD : 458\n",
      "Zenly - Locate your friends in realtime : 427\n",
      "League of Legends Friends : 420\n",
      "豆瓣 : 407\n",
      "Candid - Speak Your Mind Freely : 398\n",
      "知乎 : 397\n",
      "Selfeo : 366\n",
      "Fake-A-Location Free ™ : 354\n",
      "Popcorn Buzz - Free Group Calls : 281\n",
      "Fam — Group video calling for iMessage : 279\n",
      "QQ International : 274\n",
      "Ameba : 269\n",
      "SoundCloud Pulse: for creators : 240\n",
      "Tantan : 235\n",
      "Cougar Dating & Life Style App for Mature Women : 213\n",
      "Rawr Messenger - Dab your chat : 180\n",
      "WhenToPost: Best Time to Post Photos for Instagram : 158\n",
      "Inke—Broadcast an amazing life : 147\n",
      "Mustknow - anonymous video Q&A : 53\n",
      "CTFxCmoji : 39\n",
      "Lobi : 36\n",
      "Chain: Collaborate On MyVideo Story/Group Video : 35\n",
      "botman - Real time video chat : 7\n",
      "BestieBox : 0\n",
      "MATCH ON LINE chat : 0\n",
      "niconico ch : 0\n",
      "LINE BLOG : 0\n",
      "bit-tube - Live Stream Video Chat : 0\n"
     ]
    }
   ],
   "source": [
    "for app in free_iOS_apps:\n",
    "    if app[-5] == 'Social Networking':\n",
    "        print(app[1], ':', app[5])"
   ]
  },
  {
   "cell_type": "markdown",
   "metadata": {},
   "source": [
    "Situation is similar as in navigation genre."
   ]
  },
  {
   "cell_type": "code",
   "execution_count": 27,
   "metadata": {
    "collapsed": false,
    "scrolled": true
   },
   "outputs": [
    {
     "name": "stdout",
     "output_type": "stream",
     "text": [
      "Evernote - stay organized : 161065\n",
      "Gmail - email by Google: secure, fast & organized : 135962\n",
      "iTranslate - Language Translator & Dictionary : 123215\n",
      "Yahoo Mail - Keeps You Organized! : 113709\n",
      "Google Docs : 64259\n",
      "Google Drive - free online storage : 59255\n",
      "Dropbox : 49578\n",
      "Microsoft Word : 47999\n",
      "Microsoft OneNote : 39638\n",
      "Microsoft Outlook - email and calendar : 32807\n",
      "Hotspot Shield Free VPN Proxy & Wi-Fi Privacy : 32499\n",
      "Documents 6 - File manager, PDF reader and browser : 29110\n",
      "Google Sheets : 24602\n",
      "Microsoft Excel : 24430\n",
      "Inbox by Gmail : 21561\n",
      "T-Mobile : 19977\n",
      "Paper by FiftyThree - Sketch, Diagram, Take Notes : 18219\n",
      "MyScript Calculator - Handwriting calculator : 16555\n",
      "VPN Proxy Master - Unlimited WiFi security VPN : 13674\n",
      "Microsoft OneDrive – File & photo cloud storage : 12797\n",
      "Ever - Capture Your Memories : 12755\n",
      "Speak & Translate － Voice and Text Translator : 12062\n",
      "Tayasui Sketches : 11505\n",
      "Drawing Desk - Draw, Paint, Doodle & Sketch board : 11040\n",
      "Microsoft PowerPoint : 10939\n",
      "Email - Fast & Secure mail for Gmail iCloud Yahoo : 10778\n",
      "Google Slides : 9920\n",
      "HP All-in-One Printer Remote : 9819\n",
      "Google Calendar – Make the most of every day : 7656\n",
      "Verizon Cloud : 6482\n",
      "Free VPN HexaTech - Unlimited VPN Proxy for iPhone : 5934\n",
      "Productive habits & daily goals tracker : 4736\n",
      "Adobe Spark Video, Animated Videos in minutes : 4302\n",
      "Adobe Illustrator Draw : 3215\n",
      "Concepts - Sketch, Design, Illustrate : 3101\n",
      "Trello : 2793\n",
      "Adobe Spark Page — Create Stunning Web Pages : 2528\n",
      "Workflow: Powerful Automation Made Simple : 1498\n",
      "ATracker - Daily Task and Time Tracking : 1114\n",
      "Bear : 891\n",
      "Family Organizer - Calendar Planner : 828\n",
      "Fingerprint Login: PassKey Password & Apps Lock : 718\n",
      "360云盘 : 437\n",
      "Mail Master by NetEase : 361\n",
      "Content Transf : 299\n",
      "HOUND Voice Search & Assistant : 297\n",
      "AutoScout24 - mobile used & new car market : 220\n",
      "WEB.DE Mail : 168\n",
      "GMX Mail : 102\n",
      "MetaMoJi Note Lite : 93\n",
      "Infinite Painter : 65\n",
      "Jottit : 14\n",
      "Free QR Code Reader simply to scan a QR Code : 10\n",
      "Official QR Code reader \"Q\" - QR app. - : 0\n",
      "Digiposte + : 0\n",
      "BarcodeReader「ICONIT」 : 0\n",
      "\n",
      "\n",
      "Kindle – Read eBooks, Magazines & Textbooks : 252076\n",
      "Audible – audio books, original series & podcasts : 105274\n",
      "Color Therapy Adult Coloring Book for Adults : 84062\n",
      "OverDrive – Library eBooks and Audiobooks : 65450\n",
      "HOOKED - Chat Stories : 47829\n",
      "BookShout: Read eBooks & Track Your Reading Goals : 879\n",
      "Dr. Seuss Treasury — 50 best kids books : 451\n",
      "Green Riding Hood : 392\n",
      "Weirdwood Manor : 197\n",
      "MangaZERO - comic reader : 9\n",
      "ikouhoushi : 0\n",
      "MangaTiara - love comic reader : 0\n",
      "謎解き : 0\n",
      "謎解き2016 : 0\n"
     ]
    }
   ],
   "source": [
    "for app in free_iOS_apps:\n",
    "    if app[-5] == 'Productivity':\n",
    "        print(app[1], ':', app[5])\n",
    "        \n",
    "print('\\n')\n",
    "\n",
    "for app in free_iOS_apps:\n",
    "    if app[-5] == 'Book':\n",
    "        print(app[1], ':', app[5])"
   ]
  },
  {
   "cell_type": "markdown",
   "metadata": {},
   "source": [
    "In the productivity genre, the situation is similar to social networking and navigation apps.\n",
    "\n",
    "In book apps, we could do something. We could turn on some popular children's books or picture books in apps. In these apps, we could add music and sounds effects (with an option on and off), page bookmarks with child's favorite book or character, an option to correct children's spelling if they read aloud, etc."
   ]
  },
  {
   "cell_type": "markdown",
   "metadata": {},
   "source": [
    "### Most Popular Apps by Genre on Google Play"
   ]
  },
  {
   "cell_type": "markdown",
   "metadata": {
    "collapsed": true
   },
   "source": [
    "In the Google Play data set, we already have a column with the number of users (Installs column), so we should be able to get a clear picture of genre popularity. Still, the install numbers don't seem precise enough - most values are open-ended (100+, 1,000+, 100,000+)."
   ]
  },
  {
   "cell_type": "code",
   "execution_count": 28,
   "metadata": {
    "collapsed": false
   },
   "outputs": [
    {
     "name": "stdout",
     "output_type": "stream",
     "text": [
      "1,000,000+ : 15.741367637102236\n",
      "100,000+ : 11.554953735048521\n",
      "10,000,000+ : 10.516813360415256\n",
      "10,000+ : 10.200857594222523\n",
      "1,000+ : 8.395396073121193\n",
      "100+ : 6.917174452719477\n",
      "5,000,000+ : 6.838185511171294\n",
      "500,000+ : 5.574362446400361\n",
      "50,000+ : 4.773188896411646\n",
      "5,000+ : 4.513653802753328\n",
      "10+ : 3.5432182351613632\n",
      "500+ : 3.2498307379823967\n",
      "50,000,000+ : 2.2906793048973144\n",
      "100,000,000+ : 2.1214172872940646\n",
      "50+ : 1.9183028661701647\n",
      "5+ : 0.7898894154818324\n",
      "1+ : 0.5077860528097494\n",
      "500,000,000+ : 0.2708192281651997\n",
      "1,000,000,000+ : 0.22568269013766643\n",
      "0+ : 0.045136538027533285\n",
      "0 : 0.011284134506883321\n"
     ]
    }
   ],
   "source": [
    "display_table_in_order(free_android_apps, 5)"
   ]
  },
  {
   "cell_type": "markdown",
   "metadata": {},
   "source": [
    "For our analysis, we don't need so precise data since we only want to find out which app genres attract the most users. So we are going to keep these install numbers and consider that an app with 100,000 installs has 100,000 users, an app with 1,000,000 installs has 1,000,000 users, and so on.\n",
    "\n",
    "To perform computations, we'll need to convert each number of installation from string to float. This means that we need to remove the commas and the plus characters, otherwise, the conversion will fail and raise an error. In the next step, we'll do that, where we'll also compute the average number of installs for each genre."
   ]
  },
  {
   "cell_type": "code",
   "execution_count": 29,
   "metadata": {
    "collapsed": false
   },
   "outputs": [
    {
     "name": "stdout",
     "output_type": "stream",
     "text": [
      "SPORTS , 3638640.1428571427\n",
      "DATING , 854028.8303030303\n",
      "FAMILY , 3694276.334922527\n",
      "PHOTOGRAPHY , 17805627.643678162\n",
      "LIBRARIES_AND_DEMO , 638503.734939759\n",
      "EDUCATION , 1820673.076923077\n",
      "TOOLS , 10682301.033377837\n",
      "PERSONALIZATION , 5201482.6122448975\n",
      "VIDEO_PLAYERS , 24727872.452830188\n",
      "PARENTING , 542603.6206896552\n",
      "ART_AND_DESIGN , 1986335.0877192982\n",
      "GAME , 15560965.599534342\n",
      "ENTERTAINMENT , 11640705.88235294\n",
      "HEALTH_AND_FITNESS , 4188821.9853479853\n",
      "COMICS , 817657.2727272727\n",
      "AUTO_AND_VEHICLES , 647317.8170731707\n",
      "SOCIAL , 23253652.127118643\n",
      "NEWS_AND_MAGAZINES , 9549178.467741935\n",
      "COMMUNICATION , 38456119.167247385\n",
      "BOOKS_AND_REFERENCE , 8767811.894736841\n",
      "MAPS_AND_NAVIGATION , 4056941.7741935486\n",
      "HOUSE_AND_HOME , 1331540.5616438356\n",
      "FINANCE , 1387692.475609756\n",
      "TRAVEL_AND_LOCAL , 13984077.710144928\n",
      "FOOD_AND_DRINK , 1924897.7363636363\n",
      "EVENTS , 253542.22222222222\n",
      "BEAUTY , 513151.88679245283\n",
      "SHOPPING , 7036877.311557789\n",
      "LIFESTYLE , 1437816.2687861272\n",
      "WEATHER , 5074486.197183099\n",
      "MEDICAL , 120616.48717948717\n",
      "BUSINESS , 1712290.1474201474\n",
      "PRODUCTIVITY , 16787331.344927534\n"
     ]
    }
   ],
   "source": [
    "freq_category_android = freq_table(free_android_apps, 1)\n",
    "\n",
    "for category in freq_category_android:\n",
    "    total = 0 #this variable will store the sum of installs specific to each genre\n",
    "    len_category = 0 #this variable will store the number of apps specific to each genre\n",
    "    for app in free_android_apps:\n",
    "        category_app = app[1]\n",
    "        if category_app == category:\n",
    "            n_installs = app[5]\n",
    "            n_installs = n_installs.replace('+', '')\n",
    "            n_installs = n_installs.replace(',', '')\n",
    "            convert_n_installs = float(n_installs)\n",
    "            total += convert_n_installs\n",
    "            len_category += 1\n",
    "            \n",
    "    avg_installs = total / len_category\n",
    "    print(category, ',', avg_installs)"
   ]
  },
  {
   "cell_type": "markdown",
   "metadata": {
    "collapsed": true
   },
   "source": [
    "On average, communication apps have the most installs. In the following order, we are going to analyze this genre."
   ]
  },
  {
   "cell_type": "code",
   "execution_count": 30,
   "metadata": {
    "collapsed": false
   },
   "outputs": [
    {
     "name": "stdout",
     "output_type": "stream",
     "text": [
      "WhatsApp Messenger : 1,000,000,000+\n",
      "imo beta free calls and text : 100,000,000+\n",
      "Android Messages : 100,000,000+\n",
      "Google Duo - High Quality Video Calls : 500,000,000+\n",
      "Messenger – Text and Video Chat for Free : 1,000,000,000+\n",
      "imo free video calls and chat : 500,000,000+\n",
      "Skype - free IM & video calls : 1,000,000,000+\n",
      "Who : 100,000,000+\n",
      "GO SMS Pro - Messenger, Free Themes, Emoji : 100,000,000+\n",
      "LINE: Free Calls & Messages : 500,000,000+\n",
      "Google Chrome: Fast & Secure : 1,000,000,000+\n",
      "Firefox Browser fast & private : 100,000,000+\n",
      "UC Browser - Fast Download Private & Secure : 500,000,000+\n",
      "Gmail : 1,000,000,000+\n",
      "Hangouts : 1,000,000,000+\n",
      "Messenger Lite: Free Calls & Messages : 100,000,000+\n",
      "Kik : 100,000,000+\n",
      "KakaoTalk: Free Calls & Text : 100,000,000+\n",
      "Opera Mini - fast web browser : 100,000,000+\n",
      "Opera Browser: Fast and Secure : 100,000,000+\n",
      "Telegram : 100,000,000+\n",
      "Truecaller: Caller ID, SMS spam blocking & Dialer : 100,000,000+\n",
      "UC Browser Mini -Tiny Fast Private & Secure : 100,000,000+\n",
      "Viber Messenger : 500,000,000+\n",
      "WeChat : 100,000,000+\n",
      "Yahoo Mail – Stay Organized : 100,000,000+\n",
      "BBM - Free Calls & Messages : 100,000,000+\n"
     ]
    }
   ],
   "source": [
    "for app in free_android_apps:\n",
    "    if app[1] == 'COMMUNICATION' and (app[5] == '1,000,000,000+'\n",
    "                                    or app[5] == '500,000,000+'\n",
    "                                    or app[5] == '100,000,000+'):\n",
    "        print(app[0], ':', app[5])"
   ]
  },
  {
   "cell_type": "markdown",
   "metadata": {},
   "source": [
    "The communication apps are dominated by a few giants who are hard to compete against. Also, this genre seems to be more popular than it really is. If we remove apps which have more than 100.000 installs, the average number would reduce ten times:"
   ]
  },
  {
   "cell_type": "code",
   "execution_count": 31,
   "metadata": {
    "collapsed": false
   },
   "outputs": [
    {
     "data": {
      "text/plain": [
       "3603485.3884615386"
      ]
     },
     "execution_count": 31,
     "metadata": {},
     "output_type": "execute_result"
    }
   ],
   "source": [
    "under_100_mil = []\n",
    "\n",
    "for app in free_android_apps:\n",
    "    n_installs = app[5]\n",
    "    n_installs = n_installs.replace(',', '')\n",
    "    n_installs = n_installs.replace('+', '')\n",
    "    if (app[1] == 'COMMUNICATION') and (float(n_installs) < 100000000):\n",
    "        under_100_mil.append(float(n_installs))\n",
    "        \n",
    "sum(under_100_mil) / len(under_100_mil)"
   ]
  },
  {
   "cell_type": "markdown",
   "metadata": {},
   "source": [
    "The situation is similar in the social, productivity and video players genres.\n",
    "\n",
    "Genre, who has a lot of installations and potential for deeper analyses, is book and references. The game genre seems pretty popular, but previously we found that this part of the market seems a bit saturated, so we'd like to come up with a different app recommendation if it's possible. \n",
    "\n",
    "Let's now look at the book and references genre:"
   ]
  },
  {
   "cell_type": "code",
   "execution_count": 32,
   "metadata": {
    "collapsed": false
   },
   "outputs": [
    {
     "name": "stdout",
     "output_type": "stream",
     "text": [
      "E-Book Read - Read Book for free : 50,000+\n",
      "Download free book with green book : 100,000+\n",
      "Wikipedia : 10,000,000+\n",
      "Cool Reader : 10,000,000+\n",
      "Free Panda Radio Music : 100,000+\n",
      "Book store : 1,000,000+\n",
      "FBReader: Favorite Book Reader : 10,000,000+\n",
      "English Grammar Complete Handbook : 500,000+\n",
      "Free Books - Spirit Fanfiction and Stories : 1,000,000+\n",
      "Google Play Books : 1,000,000,000+\n",
      "AlReader -any text book reader : 5,000,000+\n",
      "Offline English Dictionary : 100,000+\n",
      "Offline: English to Tagalog Dictionary : 500,000+\n",
      "FamilySearch Tree : 1,000,000+\n",
      "Cloud of Books : 1,000,000+\n",
      "Recipes of Prophetic Medicine for free : 500,000+\n",
      "ReadEra – free ebook reader : 1,000,000+\n",
      "Anonymous caller detection : 10,000+\n",
      "Ebook Reader : 5,000,000+\n",
      "Litnet - E-books : 100,000+\n",
      "Read books online : 5,000,000+\n",
      "English to Urdu Dictionary : 500,000+\n",
      "eBoox: book reader fb2 epub zip : 1,000,000+\n",
      "English Persian Dictionary : 500,000+\n",
      "Flybook : 500,000+\n",
      "All Maths Formulas : 1,000,000+\n",
      "Ancestry : 5,000,000+\n",
      "HTC Help : 10,000,000+\n",
      "English translation from Bengali : 100,000+\n",
      "Pdf Book Download - Read Pdf Book : 100,000+\n",
      "Free Book Reader : 100,000+\n",
      "eBoox new: Reader for fb2 epub zip books : 50,000+\n",
      "Only 30 days in English, the guideline is guaranteed : 500,000+\n",
      "Moon+ Reader : 10,000,000+\n",
      "SH-02J Owner's Manual (Android 8.0) : 50,000+\n",
      "English-Myanmar Dictionary : 1,000,000+\n",
      "Golden Dictionary (EN-AR) : 1,000,000+\n",
      "All Language Translator Free : 1,000,000+\n",
      "Azpen eReader : 500,000+\n",
      "URBANO V 02 instruction manual : 100,000+\n",
      "Bible : 100,000,000+\n",
      "C Programs and Reference : 50,000+\n",
      "C Offline Tutorial : 1,000+\n",
      "C Programs Handbook : 50,000+\n",
      "Amazon Kindle : 100,000,000+\n",
      "Aab e Hayat Full Novel : 100,000+\n",
      "Aldiko Book Reader : 10,000,000+\n",
      "Google I/O 2018 : 500,000+\n",
      "R Language Reference Guide : 10,000+\n",
      "Learn R Programming Full : 5,000+\n",
      "R Programing Offline Tutorial : 1,000+\n",
      "Guide for R Programming : 5+\n",
      "Learn R Programming : 10+\n",
      "R Quick Reference Big Data : 1,000+\n",
      "V Made : 100,000+\n",
      "Wattpad 📖 Free Books : 100,000,000+\n",
      "Dictionary - WordWeb : 5,000,000+\n",
      "Guide (for X-MEN) : 100,000+\n",
      "AC Air condition Troubleshoot,Repair,Maintenance : 5,000+\n",
      "AE Bulletins : 1,000+\n",
      "Ae Allah na Dai (Rasa) : 10,000+\n",
      "50000 Free eBooks & Free AudioBooks : 5,000,000+\n",
      "Ag PhD Field Guide : 10,000+\n",
      "Ag PhD Deficiencies : 10,000+\n",
      "Ag PhD Planting Population Calculator : 1,000+\n",
      "Ag PhD Soybean Diseases : 1,000+\n",
      "Fertilizer Removal By Crop : 50,000+\n",
      "A-J Media Vault : 50+\n",
      "Al-Quran (Free) : 10,000,000+\n",
      "Al Quran (Tafsir & by Word) : 500,000+\n",
      "Al Quran Indonesia : 10,000,000+\n",
      "Al'Quran Bahasa Indonesia : 10,000,000+\n",
      "Al Quran Al karim : 1,000,000+\n",
      "Al-Muhaffiz : 50,000+\n",
      "Al Quran : EAlim - Translations & MP3 Offline : 5,000,000+\n",
      "Al-Quran 30 Juz free copies : 500,000+\n",
      "Koran Read &MP3 30 Juz Offline : 1,000,000+\n",
      "Hafizi Quran 15 lines per page : 1,000,000+\n",
      "Quran for Android : 10,000,000+\n",
      "Surah Al-Waqiah : 100,000+\n",
      "Hisnul Al Muslim - Hisn Invocations & Adhkaar : 100,000+\n",
      "Satellite AR : 1,000,000+\n",
      "Audiobooks from Audible : 100,000,000+\n",
      "Kinot & Eichah for Tisha B'Av : 10,000+\n",
      "AW Tozer Devotionals - Daily : 5,000+\n",
      "Tozer Devotional -Series 1 : 1,000+\n",
      "The Pursuit of God : 1,000+\n",
      "AY Sing : 5,000+\n",
      "Ay Hasnain k Nana Milad Naat : 10,000+\n",
      "Ay Mohabbat Teri Khatir Novel : 10,000+\n",
      "Arizona Statutes, ARS (AZ Law) : 1,000+\n",
      "Oxford A-Z of English Usage : 1,000,000+\n",
      "BD Fishpedia : 1,000+\n",
      "BD All Sim Offer : 10,000+\n",
      "Youboox - Livres, BD et magazines : 500,000+\n",
      "B&H Kids AR : 10,000+\n",
      "B y H Niños ES : 5,000+\n",
      "Dictionary.com: Find Definitions for English Words : 10,000,000+\n",
      "English Dictionary - Offline : 10,000,000+\n",
      "Bible KJV : 5,000,000+\n",
      "Borneo Bible, BM Bible : 10,000+\n",
      "MOD Black for BM : 100+\n",
      "BM Box : 1,000+\n",
      "Anime Mod for BM : 100+\n",
      "NOOK: Read eBooks & Magazines : 10,000,000+\n",
      "NOOK Audiobooks : 500,000+\n",
      "NOOK App for NOOK Devices : 500,000+\n",
      "Browsery by Barnes & Noble : 5,000+\n",
      "bp e-store : 1,000+\n",
      "Brilliant Quotes: Life, Love, Family & Motivation : 1,000,000+\n",
      "BR Ambedkar Biography & Quotes : 10,000+\n",
      "BU Alsace : 100+\n",
      "Catholic La Bu Zo Kam : 500+\n",
      "Khrifa Hla Bu (Solfa) : 10+\n",
      "Kristian Hla Bu : 10,000+\n",
      "SA HLA BU : 1,000+\n",
      "Learn SAP BW : 500+\n",
      "Learn SAP BW on HANA : 500+\n",
      "CA Laws 2018 (California Laws and Codes) : 5,000+\n",
      "Bootable Methods(USB-CD-DVD) : 10,000+\n",
      "cloudLibrary : 100,000+\n",
      "SDA Collegiate Quarterly : 500+\n",
      "Sabbath School : 100,000+\n",
      "Cypress College Library : 100+\n",
      "Stats Royale for Clash Royale : 1,000,000+\n",
      "GATE 21 years CS Papers(2011-2018 Solved) : 50+\n",
      "Learn CT Scan Of Head : 5,000+\n",
      "Easy Cv maker 2018 : 10,000+\n",
      "How to Write CV : 100,000+\n",
      "CW Nuclear : 1,000+\n",
      "CY Spray nozzle : 10+\n",
      "BibleRead En Cy Zh Yue : 5+\n",
      "CZ-Help : 5+\n",
      "Modlitební knížka CZ : 500+\n",
      "Guide for DB Xenoverse : 10,000+\n",
      "Guide for DB Xenoverse 2 : 10,000+\n",
      "Guide for IMS DB : 10+\n",
      "DC HSEMA : 5,000+\n",
      "DC Public Library : 1,000+\n",
      "Painting Lulu DC Super Friends : 1,000+\n",
      "Dictionary : 10,000,000+\n",
      "Fix Error Google Playstore : 1,000+\n",
      "D. H. Lawrence Poems FREE : 1,000+\n",
      "Bilingual Dictionary Audio App : 5,000+\n",
      "DM Screen : 10,000+\n",
      "wikiHow: how to do anything : 1,000,000+\n",
      "Dr. Doug's Tips : 1,000+\n",
      "Bible du Semeur-BDS (French) : 50,000+\n",
      "La citadelle du musulman : 50,000+\n",
      "DV 2019 Entry Guide : 10,000+\n",
      "DV 2019 - EDV Photo & Form : 50,000+\n",
      "DV 2018 Winners Guide : 1,000+\n",
      "EB Annual Meetings : 1,000+\n",
      "EC - AP & Telangana : 5,000+\n",
      "TN Patta Citta & EC : 10,000+\n",
      "AP Stamps and Registration : 10,000+\n",
      "CompactiMa EC pH Calibration : 100+\n",
      "EGW Writings 2 : 100,000+\n",
      "EGW Writings : 1,000,000+\n",
      "Bible with EGW Comments : 100,000+\n",
      "My Little Pony AR Guide : 1,000,000+\n",
      "SDA Sabbath School Quarterly : 500,000+\n",
      "Duaa Ek Ibaadat : 5,000+\n",
      "Spanish English Translator : 10,000,000+\n",
      "Dictionary - Merriam-Webster : 10,000,000+\n",
      "JW Library : 10,000,000+\n",
      "Oxford Dictionary of English : Free : 10,000,000+\n",
      "English Hindi Dictionary : 10,000,000+\n",
      "English to Hindi Dictionary : 5,000,000+\n",
      "EP Research Service : 1,000+\n",
      "Hymnes et Louanges : 100,000+\n",
      "EU Charter : 1,000+\n",
      "EU Data Protection : 1,000+\n",
      "EU IP Codes : 100+\n",
      "EW PDF : 5+\n",
      "BakaReader EX : 100,000+\n",
      "EZ Quran : 50,000+\n",
      "FA Part 1 & 2 Past Papers Solved Free – Offline : 5,000+\n",
      "La Fe de Jesus : 1,000+\n",
      "La Fe de Jesús : 500+\n",
      "Le Fe de Jesus : 500+\n",
      "Florida - Pocket Brainbook : 1,000+\n",
      "Florida Statutes (FL Code) : 1,000+\n",
      "English To Shona Dictionary : 10,000+\n",
      "Greek Bible FP (Audio) : 1,000+\n",
      "Golden Dictionary (FR-AR) : 500,000+\n",
      "Fanfic-FR : 5,000+\n",
      "Bulgarian French Dictionary Fr : 10,000+\n",
      "Chemin (fr) : 1,000+\n",
      "The SCP Foundation DB fr nn5n : 1,000+\n"
     ]
    }
   ],
   "source": [
    "for app in free_android_apps:\n",
    "    if app[1] == 'BOOKS_AND_REFERENCE':\n",
    "        print(app[0], ':', app[5])"
   ]
  },
  {
   "cell_type": "markdown",
   "metadata": {
    "collapsed": true
   },
   "source": [
    "In the books and reference genre, we see that we have a wide range of apps. We have dictionary apps, apps for online reading, apps for learning, etc. It seems there's still a small number of extremely popular apps that skew the average:"
   ]
  },
  {
   "cell_type": "code",
   "execution_count": 33,
   "metadata": {
    "collapsed": false
   },
   "outputs": [
    {
     "name": "stdout",
     "output_type": "stream",
     "text": [
      "Google Play Books : 1,000,000,000+\n",
      "Bible : 100,000,000+\n",
      "Amazon Kindle : 100,000,000+\n",
      "Wattpad 📖 Free Books : 100,000,000+\n",
      "Audiobooks from Audible : 100,000,000+\n"
     ]
    }
   ],
   "source": [
    "for app in free_android_apps:\n",
    "    if (app[1] == 'BOOKS_AND_REFERENCE') and (app[5] == '1,000,000,000+'\n",
    "                                        or app[5] == '500,000,000+'\n",
    "                                        or app[5] == '100,000,000+'):\n",
    "        print(app[0], ':', app[5])\n",
    "    "
   ]
  },
  {
   "cell_type": "markdown",
   "metadata": {},
   "source": [
    "There are only a few very popular apps, so this market still has potential. Let's try to get some app ideas based on the kind of apps that are somewhere in the middle in terms of popularity (between 1,000,000 and 100,000,000 downloads):"
   ]
  },
  {
   "cell_type": "code",
   "execution_count": 34,
   "metadata": {
    "collapsed": false
   },
   "outputs": [
    {
     "name": "stdout",
     "output_type": "stream",
     "text": [
      "Wikipedia : 10,000,000+\n",
      "Cool Reader : 10,000,000+\n",
      "Book store : 1,000,000+\n",
      "FBReader: Favorite Book Reader : 10,000,000+\n",
      "Free Books - Spirit Fanfiction and Stories : 1,000,000+\n",
      "AlReader -any text book reader : 5,000,000+\n",
      "FamilySearch Tree : 1,000,000+\n",
      "Cloud of Books : 1,000,000+\n",
      "ReadEra – free ebook reader : 1,000,000+\n",
      "Ebook Reader : 5,000,000+\n",
      "Read books online : 5,000,000+\n",
      "eBoox: book reader fb2 epub zip : 1,000,000+\n",
      "All Maths Formulas : 1,000,000+\n",
      "Ancestry : 5,000,000+\n",
      "HTC Help : 10,000,000+\n",
      "Moon+ Reader : 10,000,000+\n",
      "English-Myanmar Dictionary : 1,000,000+\n",
      "Golden Dictionary (EN-AR) : 1,000,000+\n",
      "All Language Translator Free : 1,000,000+\n",
      "Aldiko Book Reader : 10,000,000+\n",
      "Dictionary - WordWeb : 5,000,000+\n",
      "50000 Free eBooks & Free AudioBooks : 5,000,000+\n",
      "Al-Quran (Free) : 10,000,000+\n",
      "Al Quran Indonesia : 10,000,000+\n",
      "Al'Quran Bahasa Indonesia : 10,000,000+\n",
      "Al Quran Al karim : 1,000,000+\n",
      "Al Quran : EAlim - Translations & MP3 Offline : 5,000,000+\n",
      "Koran Read &MP3 30 Juz Offline : 1,000,000+\n",
      "Hafizi Quran 15 lines per page : 1,000,000+\n",
      "Quran for Android : 10,000,000+\n",
      "Satellite AR : 1,000,000+\n",
      "Oxford A-Z of English Usage : 1,000,000+\n",
      "Dictionary.com: Find Definitions for English Words : 10,000,000+\n",
      "English Dictionary - Offline : 10,000,000+\n",
      "Bible KJV : 5,000,000+\n",
      "NOOK: Read eBooks & Magazines : 10,000,000+\n",
      "Brilliant Quotes: Life, Love, Family & Motivation : 1,000,000+\n",
      "Stats Royale for Clash Royale : 1,000,000+\n",
      "Dictionary : 10,000,000+\n",
      "wikiHow: how to do anything : 1,000,000+\n",
      "EGW Writings : 1,000,000+\n",
      "My Little Pony AR Guide : 1,000,000+\n",
      "Spanish English Translator : 10,000,000+\n",
      "Dictionary - Merriam-Webster : 10,000,000+\n",
      "JW Library : 10,000,000+\n",
      "Oxford Dictionary of English : Free : 10,000,000+\n",
      "English Hindi Dictionary : 10,000,000+\n",
      "English to Hindi Dictionary : 5,000,000+\n"
     ]
    }
   ],
   "source": [
    "for app in free_android_apps:\n",
    "    if (app[1] == 'BOOKS_AND_REFERENCE') and (app[5] == '1,000,000+'\n",
    "                                        or app[5] == '5,000,000+'\n",
    "                                        or app[5] == '10,000,000+'\n",
    "                                        or app[5] == '50,000,000+'):\n",
    "        print(app[0], ':', app[5])"
   ]
  },
  {
   "cell_type": "markdown",
   "metadata": {},
   "source": [
    "The type of apps that are in the middle of popularity are dictionary apps, various collections of libraries and apps for reading books, so it's probably not a good idea to build similar apps since there'll be some significant competition.\n",
    "\n",
    "We also notice there are quite a few apps built around the book Quran and Bible, which suggests that building an app around a popular book can be profitable. But, since there are a few apps that offer a collection of libraries, we could build an app that, besides that, add some special features. We could add some daily quotes from that book, the audio version of that book, etc.\n",
    "\n",
    "There is also a popular app with stats for game Clash Royale so we could build an app with stats for other popular games."
   ]
  },
  {
   "cell_type": "markdown",
   "metadata": {},
   "source": [
    "## Conclusion"
   ]
  },
  {
   "cell_type": "markdown",
   "metadata": {},
   "source": [
    "In this project, we analyzed data from the https://bit.ly/2LIiuDO (App Store data set) and https://bit.ly/2sXyzPt (Google Play data set) intending to recommend an app profile that can be profitable for our company in both markets.\n",
    "\n",
    "We came to a conclusion to turn a popular book into an app, and besides that, add some special features. This could be some daily quotes from that book, an audio version of that book, quizzes, etc. If we turn some popular children's books or picture books in apps, we could add music and sounds effects, page bookmarks with the child's favourite book and character, an option to correct children's spelling if they read aloud, etc.\n",
    "\n",
    "Since in both data sets, in book and reference genres, we have some apps connected to games, we can try with building an app with stats for some popular game (this app is very popular in Google Play Store)."
   ]
  }
 ],
 "metadata": {
  "kernelspec": {
   "display_name": "Python 3",
   "language": "python",
   "name": "python3"
  },
  "language_info": {
   "codemirror_mode": {
    "name": "ipython",
    "version": 3
   },
   "file_extension": ".py",
   "mimetype": "text/x-python",
   "name": "python",
   "nbconvert_exporter": "python",
   "pygments_lexer": "ipython3",
   "version": "3.4.3"
  }
 },
 "nbformat": 4,
 "nbformat_minor": 2
}
